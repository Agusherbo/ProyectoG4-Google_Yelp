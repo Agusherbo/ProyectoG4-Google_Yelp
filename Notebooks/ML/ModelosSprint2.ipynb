{
 "cells": [
  {
   "cell_type": "code",
   "execution_count": 2,
   "metadata": {},
   "outputs": [],
   "source": [
    "import pandas as pd\n",
    "\n",
    "data = pd.read_parquet('modelo_regresion.parquet')\n"
   ]
  },
  {
   "cell_type": "code",
   "execution_count": 3,
   "metadata": {},
   "outputs": [
    {
     "data": {
      "text/html": [
       "<div>\n",
       "<style scoped>\n",
       "    .dataframe tbody tr th:only-of-type {\n",
       "        vertical-align: middle;\n",
       "    }\n",
       "\n",
       "    .dataframe tbody tr th {\n",
       "        vertical-align: top;\n",
       "    }\n",
       "\n",
       "    .dataframe thead th {\n",
       "        text-align: right;\n",
       "    }\n",
       "</style>\n",
       "<table border=\"1\" class=\"dataframe\">\n",
       "  <thead>\n",
       "    <tr style=\"text-align: right;\">\n",
       "      <th></th>\n",
       "      <th>business_id</th>\n",
       "      <th>business_name</th>\n",
       "      <th>city</th>\n",
       "      <th>latitude</th>\n",
       "      <th>longitude</th>\n",
       "      <th>business_rating</th>\n",
       "      <th>review_text</th>\n",
       "      <th>review_stars</th>\n",
       "      <th>review_date</th>\n",
       "      <th>gmap_id</th>\n",
       "    </tr>\n",
       "  </thead>\n",
       "  <tbody>\n",
       "    <tr>\n",
       "      <th>0</th>\n",
       "      <td>aNtKyc2rr-uK5cqzY9TVQQ</td>\n",
       "      <td>Chipotle Mexican Grill</td>\n",
       "      <td>Largo</td>\n",
       "      <td>27.894167</td>\n",
       "      <td>-82.779866</td>\n",
       "      <td>3.0</td>\n",
       "      <td>The New Chipotle Mexican Grill conveniently lo...</td>\n",
       "      <td>4</td>\n",
       "      <td>2017-08-30</td>\n",
       "      <td>None</td>\n",
       "    </tr>\n",
       "    <tr>\n",
       "      <th>1</th>\n",
       "      <td>aNtKyc2rr-uK5cqzY9TVQQ</td>\n",
       "      <td>Chipotle Mexican Grill</td>\n",
       "      <td>Largo</td>\n",
       "      <td>27.894167</td>\n",
       "      <td>-82.779866</td>\n",
       "      <td>3.0</td>\n",
       "      <td>I am a chipotle enthusiast but from the first ...</td>\n",
       "      <td>5</td>\n",
       "      <td>2018-01-18</td>\n",
       "      <td>None</td>\n",
       "    </tr>\n",
       "    <tr>\n",
       "      <th>2</th>\n",
       "      <td>aNtKyc2rr-uK5cqzY9TVQQ</td>\n",
       "      <td>Chipotle Mexican Grill</td>\n",
       "      <td>Largo</td>\n",
       "      <td>27.894167</td>\n",
       "      <td>-82.779866</td>\n",
       "      <td>3.0</td>\n",
       "      <td>Went into this location about an hour before t...</td>\n",
       "      <td>5</td>\n",
       "      <td>2018-09-08</td>\n",
       "      <td>None</td>\n",
       "    </tr>\n",
       "    <tr>\n",
       "      <th>3</th>\n",
       "      <td>aNtKyc2rr-uK5cqzY9TVQQ</td>\n",
       "      <td>Chipotle Mexican Grill</td>\n",
       "      <td>Largo</td>\n",
       "      <td>27.894167</td>\n",
       "      <td>-82.779866</td>\n",
       "      <td>3.0</td>\n",
       "      <td>I come to this chipotle often and it's one of ...</td>\n",
       "      <td>5</td>\n",
       "      <td>2019-06-24</td>\n",
       "      <td>None</td>\n",
       "    </tr>\n",
       "    <tr>\n",
       "      <th>4</th>\n",
       "      <td>aNtKyc2rr-uK5cqzY9TVQQ</td>\n",
       "      <td>Chipotle Mexican Grill</td>\n",
       "      <td>Largo</td>\n",
       "      <td>27.894167</td>\n",
       "      <td>-82.779866</td>\n",
       "      <td>3.0</td>\n",
       "      <td>The food is good, as per usual at any Chipotle...</td>\n",
       "      <td>2</td>\n",
       "      <td>2018-06-20</td>\n",
       "      <td>None</td>\n",
       "    </tr>\n",
       "    <tr>\n",
       "      <th>...</th>\n",
       "      <td>...</td>\n",
       "      <td>...</td>\n",
       "      <td>...</td>\n",
       "      <td>...</td>\n",
       "      <td>...</td>\n",
       "      <td>...</td>\n",
       "      <td>...</td>\n",
       "      <td>...</td>\n",
       "      <td>...</td>\n",
       "      <td>...</td>\n",
       "    </tr>\n",
       "    <tr>\n",
       "      <th>61892</th>\n",
       "      <td>None</td>\n",
       "      <td>Taco Bus Miami</td>\n",
       "      <td>Miami</td>\n",
       "      <td>25.760594</td>\n",
       "      <td>-80.409314</td>\n",
       "      <td>4.1</td>\n",
       "      <td>None</td>\n",
       "      <td>1</td>\n",
       "      <td>2020-04-01</td>\n",
       "      <td>0x88d9bf290ee132e7:0x771f3f6950e264db</td>\n",
       "    </tr>\n",
       "    <tr>\n",
       "      <th>61893</th>\n",
       "      <td>None</td>\n",
       "      <td>Taco Bus Miami</td>\n",
       "      <td>Miami</td>\n",
       "      <td>25.760594</td>\n",
       "      <td>-80.409314</td>\n",
       "      <td>4.1</td>\n",
       "      <td>None</td>\n",
       "      <td>5</td>\n",
       "      <td>2021-03-31</td>\n",
       "      <td>0x88d9bf290ee132e7:0x771f3f6950e264db</td>\n",
       "    </tr>\n",
       "    <tr>\n",
       "      <th>61894</th>\n",
       "      <td>None</td>\n",
       "      <td>Taco Bus Miami</td>\n",
       "      <td>Miami</td>\n",
       "      <td>25.760594</td>\n",
       "      <td>-80.409314</td>\n",
       "      <td>4.1</td>\n",
       "      <td>None</td>\n",
       "      <td>5</td>\n",
       "      <td>2020-09-14</td>\n",
       "      <td>0x88d9bf290ee132e7:0x771f3f6950e264db</td>\n",
       "    </tr>\n",
       "    <tr>\n",
       "      <th>61895</th>\n",
       "      <td>None</td>\n",
       "      <td>Taco Bus Miami</td>\n",
       "      <td>Miami</td>\n",
       "      <td>25.760594</td>\n",
       "      <td>-80.409314</td>\n",
       "      <td>4.1</td>\n",
       "      <td>None</td>\n",
       "      <td>5</td>\n",
       "      <td>2020-09-28</td>\n",
       "      <td>0x88d9bf290ee132e7:0x771f3f6950e264db</td>\n",
       "    </tr>\n",
       "    <tr>\n",
       "      <th>61896</th>\n",
       "      <td>None</td>\n",
       "      <td>Taco Bus Miami</td>\n",
       "      <td>Miami</td>\n",
       "      <td>25.760594</td>\n",
       "      <td>-80.409314</td>\n",
       "      <td>4.1</td>\n",
       "      <td>None</td>\n",
       "      <td>4</td>\n",
       "      <td>2021-03-23</td>\n",
       "      <td>0x88d9bf290ee132e7:0x771f3f6950e264db</td>\n",
       "    </tr>\n",
       "  </tbody>\n",
       "</table>\n",
       "<p>61897 rows × 10 columns</p>\n",
       "</div>"
      ],
      "text/plain": [
       "                  business_id           business_name   city   latitude  \\\n",
       "0      aNtKyc2rr-uK5cqzY9TVQQ  Chipotle Mexican Grill  Largo  27.894167   \n",
       "1      aNtKyc2rr-uK5cqzY9TVQQ  Chipotle Mexican Grill  Largo  27.894167   \n",
       "2      aNtKyc2rr-uK5cqzY9TVQQ  Chipotle Mexican Grill  Largo  27.894167   \n",
       "3      aNtKyc2rr-uK5cqzY9TVQQ  Chipotle Mexican Grill  Largo  27.894167   \n",
       "4      aNtKyc2rr-uK5cqzY9TVQQ  Chipotle Mexican Grill  Largo  27.894167   \n",
       "...                       ...                     ...    ...        ...   \n",
       "61892                    None          Taco Bus Miami  Miami  25.760594   \n",
       "61893                    None          Taco Bus Miami  Miami  25.760594   \n",
       "61894                    None          Taco Bus Miami  Miami  25.760594   \n",
       "61895                    None          Taco Bus Miami  Miami  25.760594   \n",
       "61896                    None          Taco Bus Miami  Miami  25.760594   \n",
       "\n",
       "       longitude  business_rating  \\\n",
       "0     -82.779866              3.0   \n",
       "1     -82.779866              3.0   \n",
       "2     -82.779866              3.0   \n",
       "3     -82.779866              3.0   \n",
       "4     -82.779866              3.0   \n",
       "...          ...              ...   \n",
       "61892 -80.409314              4.1   \n",
       "61893 -80.409314              4.1   \n",
       "61894 -80.409314              4.1   \n",
       "61895 -80.409314              4.1   \n",
       "61896 -80.409314              4.1   \n",
       "\n",
       "                                             review_text  review_stars  \\\n",
       "0      The New Chipotle Mexican Grill conveniently lo...             4   \n",
       "1      I am a chipotle enthusiast but from the first ...             5   \n",
       "2      Went into this location about an hour before t...             5   \n",
       "3      I come to this chipotle often and it's one of ...             5   \n",
       "4      The food is good, as per usual at any Chipotle...             2   \n",
       "...                                                  ...           ...   \n",
       "61892                                               None             1   \n",
       "61893                                               None             5   \n",
       "61894                                               None             5   \n",
       "61895                                               None             5   \n",
       "61896                                               None             4   \n",
       "\n",
       "      review_date                                gmap_id  \n",
       "0      2017-08-30                                   None  \n",
       "1      2018-01-18                                   None  \n",
       "2      2018-09-08                                   None  \n",
       "3      2019-06-24                                   None  \n",
       "4      2018-06-20                                   None  \n",
       "...           ...                                    ...  \n",
       "61892  2020-04-01  0x88d9bf290ee132e7:0x771f3f6950e264db  \n",
       "61893  2021-03-31  0x88d9bf290ee132e7:0x771f3f6950e264db  \n",
       "61894  2020-09-14  0x88d9bf290ee132e7:0x771f3f6950e264db  \n",
       "61895  2020-09-28  0x88d9bf290ee132e7:0x771f3f6950e264db  \n",
       "61896  2021-03-23  0x88d9bf290ee132e7:0x771f3f6950e264db  \n",
       "\n",
       "[61897 rows x 10 columns]"
      ]
     },
     "execution_count": 3,
     "metadata": {},
     "output_type": "execute_result"
    }
   ],
   "source": [
    "data"
   ]
  },
  {
   "cell_type": "markdown",
   "metadata": {},
   "source": [
    "## REGRESION LINEAL CON RANDOM FOREST \n",
    "*Este modelo puede ser usado para predecir el business_rating de un restaurante Taco Bell basado en la fecha de la reseña y la ciudad. Podría ser útil para anticipar cómo podría ser la calificación en los próximos años y así planificar estrategias para mejorar la calidad del servicio o tomar decisiones de expansión.*"
   ]
  },
  {
   "cell_type": "code",
   "execution_count": 197,
   "metadata": {},
   "outputs": [
    {
     "name": "stdout",
     "output_type": "stream",
     "text": [
      "Mean Squared Error: 0.18875514185720832\n"
     ]
    }
   ],
   "source": [
    "import pandas as pd\n",
    "from sklearn.model_selection import train_test_split\n",
    "from sklearn.ensemble import RandomForestRegressor\n",
    "from sklearn.metrics import mean_squared_error\n",
    "from sklearn.preprocessing import OneHotEncoder\n",
    "\n",
    "# Cargar los datos desde el archivo parquet\n",
    "data = pd.read_parquet('modelo_regresion.parquet')\n",
    "\n",
    "# Convertir la columna review_date a formato numérico\n",
    "data['review_date'] = pd.to_datetime(data['review_date']).dt.strftime('%Y%m%d').astype(int)\n",
    "\n",
    "# Filtrar los datos para los restaurantes Taco Bell\n",
    "taco_bell_data = data[data['business_name'].str.contains('Taco Bell', case=False)]\n",
    "\n",
    "# Seleccionar las características y la variable objetivo\n",
    "features = ['review_date', 'city']\n",
    "target = 'business_rating'\n",
    "\n",
    "# Codificar la columna 'city' utilizando one-hot encoding\n",
    "encoder = OneHotEncoder(handle_unknown='ignore')\n",
    "city_encoded = encoder.fit_transform(taco_bell_data[['city']])\n",
    "\n",
    "# Convertir el resultado de one-hot encoding a un DataFrame\n",
    "city_encoded_df = pd.DataFrame(city_encoded.toarray(), columns=encoder.get_feature_names_out(['city']))\n",
    "\n",
    "# Concatenar las características codificadas con las otras características\n",
    "taco_bell_data_encoded = pd.concat([taco_bell_data[['review_date']].reset_index(drop=True), city_encoded_df], axis=1)\n",
    "\n",
    "# Dividir los datos en conjunto de entrenamiento y conjunto de prueba\n",
    "X_train, X_test, y_train, y_test = train_test_split(taco_bell_data_encoded, taco_bell_data[target], test_size=0.2, random_state=42)\n",
    "\n",
    "# Crear el modelo de regresión de bosque aleatorio\n",
    "model = RandomForestRegressor(random_state=42)\n",
    "model.fit(X_train, y_train)\n",
    "\n",
    "# Realizar predicciones en el conjunto de prueba\n",
    "y_pred = model.predict(X_test)\n",
    "\n",
    "# Calcular el error cuadrático medio\n",
    "mse = mean_squared_error(y_test, y_pred)\n",
    "print(\"Mean Squared Error:\", mse)"
   ]
  },
  {
   "cell_type": "code",
   "execution_count": 198,
   "metadata": {},
   "outputs": [
    {
     "name": "stdout",
     "output_type": "stream",
     "text": [
      "Predicted business_rating for Taco Bell in the next years:\n",
      "Year 2023: 2.21\n",
      "Year 2024: 2.21\n",
      "Year 2025: 1.71\n"
     ]
    }
   ],
   "source": [
    "# Ejemplo de uso: predecir el business_rating para Taco Bell en los próximos años\n",
    "new_data = pd.DataFrame({'review_date': [20230101, 20240101, 20250101], 'city': ['Miami', 'Orlando', 'Tampa']})\n",
    "\n",
    "# Codificar la columna 'city' del nuevo conjunto de datos utilizando el mismo encoder\n",
    "new_city_encoded = encoder.transform(new_data[['city']])\n",
    "\n",
    "# Convertir el resultado de one-hot encoding a un DataFrame\n",
    "new_city_encoded_df = pd.DataFrame(new_city_encoded.toarray(), columns=encoder.get_feature_names_out(['city']))\n",
    "\n",
    "# Concatenar las características codificadas con la columna 'review_date'\n",
    "new_data_encoded = pd.concat([new_data[['review_date']], new_city_encoded_df], axis=1)\n",
    "\n",
    "# Asegurarse de que las columnas del nuevo conjunto de datos coincidan con las del conjunto de entrenamiento\n",
    "missing_cols = set(X_train.columns) - set(new_data_encoded.columns)\n",
    "for c in missing_cols:\n",
    "    new_data_encoded[c] = 0\n",
    "new_data_encoded = new_data_encoded[X_train.columns]\n",
    "\n",
    "# Realizar predicciones con el modelo\n",
    "new_predictions = model.predict(new_data_encoded)\n",
    "\n",
    "print(\"Predicted business_rating for Taco Bell in the next years:\")\n",
    "for year, prediction in zip([2023, 2024, 2025], new_predictions):\n",
    "    print(f\"Year {year}: {prediction}\")\n"
   ]
  },
  {
   "cell_type": "code",
   "execution_count": 155,
   "metadata": {},
   "outputs": [
    {
     "data": {
      "text/html": [
       "<div>\n",
       "<style scoped>\n",
       "    .dataframe tbody tr th:only-of-type {\n",
       "        vertical-align: middle;\n",
       "    }\n",
       "\n",
       "    .dataframe tbody tr th {\n",
       "        vertical-align: top;\n",
       "    }\n",
       "\n",
       "    .dataframe thead th {\n",
       "        text-align: right;\n",
       "    }\n",
       "</style>\n",
       "<table border=\"1\" class=\"dataframe\">\n",
       "  <thead>\n",
       "    <tr style=\"text-align: right;\">\n",
       "      <th></th>\n",
       "      <th>business_id</th>\n",
       "      <th>business_name</th>\n",
       "      <th>city</th>\n",
       "      <th>latitude</th>\n",
       "      <th>longitude</th>\n",
       "      <th>business_rating</th>\n",
       "      <th>review_text</th>\n",
       "      <th>review_stars</th>\n",
       "      <th>review_date</th>\n",
       "      <th>gmap_id</th>\n",
       "    </tr>\n",
       "  </thead>\n",
       "  <tbody>\n",
       "    <tr>\n",
       "      <th>232</th>\n",
       "      <td>H2nFgEFitRk7ltE8IRH0xA</td>\n",
       "      <td>Taco Bell</td>\n",
       "      <td>Tampa</td>\n",
       "      <td>27.944918</td>\n",
       "      <td>-82.523213</td>\n",
       "      <td>2.5</td>\n",
       "      <td>This Taco Bell lives up to the standards that ...</td>\n",
       "      <td>5</td>\n",
       "      <td>2017-05-26</td>\n",
       "      <td>None</td>\n",
       "    </tr>\n",
       "    <tr>\n",
       "      <th>233</th>\n",
       "      <td>H2nFgEFitRk7ltE8IRH0xA</td>\n",
       "      <td>Taco Bell</td>\n",
       "      <td>Tampa</td>\n",
       "      <td>27.944918</td>\n",
       "      <td>-82.523213</td>\n",
       "      <td>2.5</td>\n",
       "      <td>It's Taco Bell. It's crap food, terrible servi...</td>\n",
       "      <td>1</td>\n",
       "      <td>2018-01-01</td>\n",
       "      <td>None</td>\n",
       "    </tr>\n",
       "    <tr>\n",
       "      <th>234</th>\n",
       "      <td>H2nFgEFitRk7ltE8IRH0xA</td>\n",
       "      <td>Taco Bell</td>\n",
       "      <td>Tampa</td>\n",
       "      <td>27.944918</td>\n",
       "      <td>-82.523213</td>\n",
       "      <td>2.5</td>\n",
       "      <td>Was staying at hotel across street, got in lat...</td>\n",
       "      <td>1</td>\n",
       "      <td>2018-05-13</td>\n",
       "      <td>None</td>\n",
       "    </tr>\n",
       "    <tr>\n",
       "      <th>235</th>\n",
       "      <td>H2nFgEFitRk7ltE8IRH0xA</td>\n",
       "      <td>Taco Bell</td>\n",
       "      <td>Tampa</td>\n",
       "      <td>27.944918</td>\n",
       "      <td>-82.523213</td>\n",
       "      <td>2.5</td>\n",
       "      <td>Now I see why this location has such terrible ...</td>\n",
       "      <td>1</td>\n",
       "      <td>2018-07-03</td>\n",
       "      <td>None</td>\n",
       "    </tr>\n",
       "    <tr>\n",
       "      <th>236</th>\n",
       "      <td>H2nFgEFitRk7ltE8IRH0xA</td>\n",
       "      <td>Taco Bell</td>\n",
       "      <td>Tampa</td>\n",
       "      <td>27.944918</td>\n",
       "      <td>-82.523213</td>\n",
       "      <td>2.5</td>\n",
       "      <td>Waited 45 minutes at the drive thru, surely em...</td>\n",
       "      <td>1</td>\n",
       "      <td>2017-12-27</td>\n",
       "      <td>None</td>\n",
       "    </tr>\n",
       "    <tr>\n",
       "      <th>...</th>\n",
       "      <td>...</td>\n",
       "      <td>...</td>\n",
       "      <td>...</td>\n",
       "      <td>...</td>\n",
       "      <td>...</td>\n",
       "      <td>...</td>\n",
       "      <td>...</td>\n",
       "      <td>...</td>\n",
       "      <td>...</td>\n",
       "      <td>...</td>\n",
       "    </tr>\n",
       "    <tr>\n",
       "      <th>42533</th>\n",
       "      <td>3Vax2SswY9_5KSZoCJLyIA</td>\n",
       "      <td>Taco Bell</td>\n",
       "      <td>Tampa</td>\n",
       "      <td>28.025578</td>\n",
       "      <td>-82.561893</td>\n",
       "      <td>2.0</td>\n",
       "      <td>Every. Single. Time. The food is so sloppy tha...</td>\n",
       "      <td>1</td>\n",
       "      <td>2020-01-09</td>\n",
       "      <td>None</td>\n",
       "    </tr>\n",
       "    <tr>\n",
       "      <th>42534</th>\n",
       "      <td>3Vax2SswY9_5KSZoCJLyIA</td>\n",
       "      <td>Taco Bell</td>\n",
       "      <td>Tampa</td>\n",
       "      <td>28.025578</td>\n",
       "      <td>-82.561893</td>\n",
       "      <td>2.0</td>\n",
       "      <td>maybe it's because i'm pregnant but i'm obsess...</td>\n",
       "      <td>5</td>\n",
       "      <td>2020-06-11</td>\n",
       "      <td>None</td>\n",
       "    </tr>\n",
       "    <tr>\n",
       "      <th>42535</th>\n",
       "      <td>3Vax2SswY9_5KSZoCJLyIA</td>\n",
       "      <td>Taco Bell</td>\n",
       "      <td>Tampa</td>\n",
       "      <td>28.025578</td>\n",
       "      <td>-82.561893</td>\n",
       "      <td>2.0</td>\n",
       "      <td>Awful.. the blonde at the drive through is obn...</td>\n",
       "      <td>1</td>\n",
       "      <td>2017-12-13</td>\n",
       "      <td>None</td>\n",
       "    </tr>\n",
       "    <tr>\n",
       "      <th>42536</th>\n",
       "      <td>3Vax2SswY9_5KSZoCJLyIA</td>\n",
       "      <td>Taco Bell</td>\n",
       "      <td>Tampa</td>\n",
       "      <td>28.025578</td>\n",
       "      <td>-82.561893</td>\n",
       "      <td>2.0</td>\n",
       "      <td>I made a huge mistake stopping here.  Taco Bel...</td>\n",
       "      <td>1</td>\n",
       "      <td>2021-12-29</td>\n",
       "      <td>None</td>\n",
       "    </tr>\n",
       "    <tr>\n",
       "      <th>42537</th>\n",
       "      <td>3Vax2SswY9_5KSZoCJLyIA</td>\n",
       "      <td>Taco Bell</td>\n",
       "      <td>Tampa</td>\n",
       "      <td>28.025578</td>\n",
       "      <td>-82.561893</td>\n",
       "      <td>2.0</td>\n",
       "      <td>Been let down so many times by this location, ...</td>\n",
       "      <td>1</td>\n",
       "      <td>2020-12-08</td>\n",
       "      <td>None</td>\n",
       "    </tr>\n",
       "  </tbody>\n",
       "</table>\n",
       "<p>203 rows × 10 columns</p>\n",
       "</div>"
      ],
      "text/plain": [
       "                  business_id business_name   city   latitude  longitude  \\\n",
       "232    H2nFgEFitRk7ltE8IRH0xA     Taco Bell  Tampa  27.944918 -82.523213   \n",
       "233    H2nFgEFitRk7ltE8IRH0xA     Taco Bell  Tampa  27.944918 -82.523213   \n",
       "234    H2nFgEFitRk7ltE8IRH0xA     Taco Bell  Tampa  27.944918 -82.523213   \n",
       "235    H2nFgEFitRk7ltE8IRH0xA     Taco Bell  Tampa  27.944918 -82.523213   \n",
       "236    H2nFgEFitRk7ltE8IRH0xA     Taco Bell  Tampa  27.944918 -82.523213   \n",
       "...                       ...           ...    ...        ...        ...   \n",
       "42533  3Vax2SswY9_5KSZoCJLyIA     Taco Bell  Tampa  28.025578 -82.561893   \n",
       "42534  3Vax2SswY9_5KSZoCJLyIA     Taco Bell  Tampa  28.025578 -82.561893   \n",
       "42535  3Vax2SswY9_5KSZoCJLyIA     Taco Bell  Tampa  28.025578 -82.561893   \n",
       "42536  3Vax2SswY9_5KSZoCJLyIA     Taco Bell  Tampa  28.025578 -82.561893   \n",
       "42537  3Vax2SswY9_5KSZoCJLyIA     Taco Bell  Tampa  28.025578 -82.561893   \n",
       "\n",
       "       business_rating                                        review_text  \\\n",
       "232                2.5  This Taco Bell lives up to the standards that ...   \n",
       "233                2.5  It's Taco Bell. It's crap food, terrible servi...   \n",
       "234                2.5  Was staying at hotel across street, got in lat...   \n",
       "235                2.5  Now I see why this location has such terrible ...   \n",
       "236                2.5  Waited 45 minutes at the drive thru, surely em...   \n",
       "...                ...                                                ...   \n",
       "42533              2.0  Every. Single. Time. The food is so sloppy tha...   \n",
       "42534              2.0  maybe it's because i'm pregnant but i'm obsess...   \n",
       "42535              2.0  Awful.. the blonde at the drive through is obn...   \n",
       "42536              2.0  I made a huge mistake stopping here.  Taco Bel...   \n",
       "42537              2.0  Been let down so many times by this location, ...   \n",
       "\n",
       "       review_stars review_date gmap_id  \n",
       "232               5  2017-05-26    None  \n",
       "233               1  2018-01-01    None  \n",
       "234               1  2018-05-13    None  \n",
       "235               1  2018-07-03    None  \n",
       "236               1  2017-12-27    None  \n",
       "...             ...         ...     ...  \n",
       "42533             1  2020-01-09    None  \n",
       "42534             5  2020-06-11    None  \n",
       "42535             1  2017-12-13    None  \n",
       "42536             1  2021-12-29    None  \n",
       "42537             1  2020-12-08    None  \n",
       "\n",
       "[203 rows x 10 columns]"
      ]
     },
     "execution_count": 155,
     "metadata": {},
     "output_type": "execute_result"
    }
   ],
   "source": [
    "#mostrar todos los business_name que tengan taco bell en su nombre y que pertenezcan a la city Tampa\n",
    "data[(data['business_name'].str.contains('Taco Bell')) & (data['city'] == 'Tampa')]"
   ]
  },
  {
   "cell_type": "code",
   "execution_count": 180,
   "metadata": {},
   "outputs": [
    {
     "data": {
      "text/plain": [
       "2.799644830307814"
      ]
     },
     "execution_count": 180,
     "metadata": {},
     "output_type": "execute_result"
    }
   ],
   "source": [
    "#el promedio de business_rating para todos los business_name que sean Taco Bell\n",
    "data[data['business_name'].str.contains('Taco Bell')]['business_rating'].mean()\n"
   ]
  },
  {
   "cell_type": "code",
   "execution_count": 181,
   "metadata": {},
   "outputs": [
    {
     "data": {
      "text/plain": [
       "3.942029547024241"
      ]
     },
     "execution_count": 181,
     "metadata": {},
     "output_type": "execute_result"
    }
   ],
   "source": [
    "#el promedio de business_rating para todos los business_name que no sean Taco Bell\n",
    "data[~data['business_name'].str.contains('Taco Bell')]['business_rating'].mean()\n",
    "\n",
    "#La competencia esta teniendo mejor rating que Taco Bell\n"
   ]
  },
  {
   "cell_type": "code",
   "execution_count": 60,
   "metadata": {},
   "outputs": [
    {
     "data": {
      "text/plain": [
       "business_id         object\n",
       "business_name       object\n",
       "city                object\n",
       "latitude           float64\n",
       "longitude          float64\n",
       "business_rating    float64\n",
       "review_text         object\n",
       "review_stars         int64\n",
       "review_date         object\n",
       "gmap_id             object\n",
       "dtype: object"
      ]
     },
     "execution_count": 60,
     "metadata": {},
     "output_type": "execute_result"
    }
   ],
   "source": [
    "#tipo de dato en cada columna\n",
    "data.dtypes\n"
   ]
  },
  {
   "cell_type": "markdown",
   "metadata": {},
   "source": [
    "## REGRESION LINEAL CON RANDOM FOREST (adiocional con latitud y longitud)\n",
    "*El propósito del modelo es predecir la calificación (business_rating) de un restaurante en función de la fecha de la reseña, la latitud y la longitud. Esto puede ayudar a identificar tendencias y factores que influyen en las calificaciones, permitiendo a los dueños de restaurantes tomar medidas proactivas para mejorar las calificaciones.*"
   ]
  },
  {
   "cell_type": "code",
   "execution_count": 116,
   "metadata": {},
   "outputs": [],
   "source": [
    "import pandas as pd\n",
    "from sklearn.ensemble import RandomForestRegressor\n",
    "from sklearn.model_selection import train_test_split\n",
    "from sklearn.metrics import mean_squared_error\n"
   ]
  },
  {
   "cell_type": "code",
   "execution_count": 123,
   "metadata": {},
   "outputs": [],
   "source": [
    "# Cargar los datos desde el archivo parquet\n",
    "data = pd.read_parquet('modelo_regresion.parquet')\n",
    "\n",
    "# Convertir la columna review_date a formato numérico\n",
    "data['review_date'] = pd.to_datetime(data['review_date']).dt.strftime('%Y%m%d').astype(int)\n",
    "\n",
    "# Filtrar los datos solo para los locales de Taco Bell\n",
    "taco_bell_data = data[data['business_name'] == 'Taco Bell']"
   ]
  },
  {
   "cell_type": "code",
   "execution_count": 124,
   "metadata": {},
   "outputs": [
    {
     "name": "stdout",
     "output_type": "stream",
     "text": [
      "Mean Squared Error: 0.7369314128110381\n"
     ]
    }
   ],
   "source": [
    "# Seleccionar las características y el target\n",
    "features = ['review_date']\n",
    "target = 'business_rating'\n",
    "X = taco_bell_data[features]\n",
    "y = taco_bell_data[target]\n",
    "\n",
    "# Dividir los datos en conjunto de entrenamiento y conjunto de prueba\n",
    "X_train, X_test, y_train, y_test = train_test_split(X, y, test_size=0.2, random_state=42)\n",
    "\n",
    "# Crear el modelo de Random Forest Regressor\n",
    "model = RandomForestRegressor(random_state=42)\n",
    "\n",
    "# Entrenar el modelo\n",
    "model.fit(X_train, y_train)\n",
    "\n",
    "# Realizar predicciones en el conjunto de prueba\n",
    "y_pred = model.predict(X_test)\n",
    "\n",
    "# Calcular el error cuadrático medio\n",
    "mse = mean_squared_error(y_test, y_pred)\n",
    "print(\"Mean Squared Error:\", mse)"
   ]
  },
  {
   "cell_type": "code",
   "execution_count": 127,
   "metadata": {},
   "outputs": [
    {
     "name": "stdout",
     "output_type": "stream",
     "text": [
      "Predicted business_rating for Taco Bell in the future: [2.18958333 2.18958333 2.18958333]\n"
     ]
    }
   ],
   "source": [
    "# Ejemplo de uso: predecir el business_rating para Taco Bell en los próximos años\n",
    "new_data = pd.DataFrame({'review_date': [20220101, 20250102, 20250103]})\n",
    "new_predictions = model.predict(new_data)\n",
    "print(\"Predicted business_rating for Taco Bell in the future:\", new_predictions)"
   ]
  },
  {
   "cell_type": "markdown",
   "metadata": {},
   "source": [
    "## SENTIMENT ANALISIS + Modelo de clasificacion \n",
    "*El propósito del modelo es predecir el sentimiento (positivo, negativo o neutral) de una nueva reseña basada en su contenido textual mediante un modelo de clasificacion. Esto puede ayudar a un restaurante a monitorear y responder proactivamente a las opiniones de los clientes.*"
   ]
  },
  {
   "cell_type": "code",
   "execution_count": 6,
   "metadata": {},
   "outputs": [
    {
     "name": "stdout",
     "output_type": "stream",
     "text": [
      "              precision    recall  f1-score   support\n",
      "\n",
      "    negative       0.92      0.04      0.07      1599\n",
      "     neutral       0.70      0.01      0.01      1348\n",
      "    positive       0.77      1.00      0.87      9433\n",
      "\n",
      "    accuracy                           0.77     12380\n",
      "   macro avg       0.79      0.35      0.32     12380\n",
      "weighted avg       0.78      0.77      0.67     12380\n",
      "\n"
     ]
    }
   ],
   "source": [
    "import pandas as pd\n",
    "from sklearn.feature_extraction.text import TfidfVectorizer\n",
    "from sklearn.model_selection import train_test_split\n",
    "from sklearn.naive_bayes import MultinomialNB\n",
    "from sklearn.metrics import classification_report\n",
    "\n",
    "# Cargar los datos desde el archivo parquet\n",
    "data = pd.read_parquet('modelo_regresion.parquet')\n",
    "\n",
    "# Reemplazar los valores None o NaN con una cadena vacía\n",
    "data['review_text'] = data['review_text'].fillna('')\n",
    "\n",
    "# Convertir el texto a minúsculas\n",
    "data['review_text'] = data['review_text'].str.lower()\n",
    "\n",
    "# Realizar análisis de sentimiento utilizando TextBlob\n",
    "from textblob import TextBlob\n",
    "data['sentiment'] = data['review_text'].apply(lambda x: TextBlob(x).sentiment.polarity)\n",
    "\n",
    "# Asignar etiquetas de sentimiento\n",
    "data['sentiment'] = data['sentiment'].apply(lambda x: 'positive' if x > 0 else 'negative' if x < 0 else 'neutral')\n",
    "\n",
    "# Dividir los datos en conjuntos de entrenamiento y prueba\n",
    "X_train, X_test, y_train, y_test = train_test_split(data['review_text'], data['sentiment'], test_size=0.2, random_state=42)\n",
    "\n",
    "# Crear el vectorizador TF-IDF para convertir el texto en vectores numéricos para el modelo\n",
    "vectorizer = TfidfVectorizer()\n",
    "X_train_vectorized = vectorizer.fit_transform(X_train)\n",
    "X_test_vectorized = vectorizer.transform(X_test)\n",
    "\n",
    "# Crear el modelo de clasificación Naive Bayes Multinomial para análisis\n",
    "model = MultinomialNB()\n",
    "\n",
    "# Entrenar el modelo de clasificación\n",
    "model.fit(X_train_vectorized, y_train)\n",
    "\n",
    "# Realizar predicciones en el conjunto de prueba\n",
    "y_pred = model.predict(X_test_vectorized)\n",
    "\n",
    "# Generar el informe de clasificación\n",
    "classification_report = classification_report(y_test, y_pred)\n",
    "print(classification_report)"
   ]
  },
  {
   "cell_type": "code",
   "execution_count": 11,
   "metadata": {},
   "outputs": [
    {
     "name": "stdout",
     "output_type": "stream",
     "text": [
      "['positive' 'negative']\n"
     ]
    }
   ],
   "source": [
    "# Use the trained model to make predictions on new data\n",
    "new_data = pd.DataFrame({'review_text': ['This restaurant is amazing!','terrible' ]})\n",
    "\n",
    "# Preprocess the new data\n",
    "new_data['review_text'] = new_data['review_text'].fillna('')\n",
    "new_data['review_text'] = new_data['review_text'].str.lower()\n",
    "\n",
    "# Vectorize the new data\n",
    "new_data_vectorized = vectorizer.transform(new_data['review_text'])\n",
    "\n",
    "# Make predictions using the trained model\n",
    "new_predictions = model.predict(new_data_vectorized)\n",
    "\n",
    "# Print the predictions\n",
    "print(new_predictions)"
   ]
  },
  {
   "cell_type": "code",
   "execution_count": 194,
   "metadata": {},
   "outputs": [
    {
     "data": {
      "text/plain": [
       "6      the kids working here may still be \"in trainin...\n",
       "10     i always get disappointed when i go to chipotl...\n",
       "14     this was a terrible experience i had ordered 2...\n",
       "15     not great at all! cashier touched my food whil...\n",
       "17     this chipotle location is the worst!  it's the...\n",
       "77     for $8.30 (including $1 tip) i had two very ti...\n",
       "128    i hate to be outnumbered here  but this place ...\n",
       "146    in one sentence: a taco truck that's now in a ...\n",
       "173    i have been living close to this taco joint fo...\n",
       "183    the atmosphere here is neat, but i was put off...\n",
       "Name: review_text, dtype: object"
      ]
     },
     "execution_count": 194,
     "metadata": {},
     "output_type": "execute_result"
    }
   ],
   "source": [
    "#muestra 10 ejemplos de reviews con sentimiento negativo\n",
    "data[data['sentiment'] == 'negative']['review_text'].head(10)\n"
   ]
  },
  {
   "cell_type": "markdown",
   "metadata": {},
   "source": [
    "### RESULTADOS DE SENTIMENT ANALYSIS CON TEXTBLOB"
   ]
  },
  {
   "cell_type": "code",
   "execution_count": 191,
   "metadata": {},
   "outputs": [
    {
     "data": {
      "text/plain": [
       "sentiment\n",
       "positive    887\n",
       "neutral     854\n",
       "negative    793\n",
       "Name: count, dtype: int64"
      ]
     },
     "execution_count": 191,
     "metadata": {},
     "output_type": "execute_result"
    }
   ],
   "source": [
    "# para el business_name 'Taco Bell', contar cuántas reseñas tienen sentimiento positivo, negativo y neutral y calcualar el porcentaje de cada uno\n",
    "taco_bell_data = data[data['business_name'] == 'Taco Bell']\n",
    "sentiment_counts = taco_bell_data['sentiment'].value_counts()\n",
    "sentiment_counts"
   ]
  },
  {
   "cell_type": "code",
   "execution_count": 192,
   "metadata": {},
   "outputs": [
    {
     "name": "stdout",
     "output_type": "stream",
     "text": [
      "sentiment\n",
      "positive    35.003946\n",
      "neutral     33.701657\n",
      "negative    31.294396\n",
      "Name: count, dtype: float64\n"
     ]
    }
   ],
   "source": [
    "sentiment_percentages = sentiment_counts / sentiment_counts.sum() * 100\n",
    "print(sentiment_percentages)"
   ]
  },
  {
   "cell_type": "markdown",
   "metadata": {},
   "source": [
    "### Regresion Logistica (NO VA)\n",
    "*En base a reviews analizadas sobre restaurantes mexicanos en Florida, detecta cuales son las palabras clave que mas se relacionan con un buen business_rating (4-5). Elijo la puntuacion que quiero tener y veo atributos*. A medida que se va alimentando de mas informacion puede que otras palabras tomen mas relevancia a la hora de relacionarse con una buena puntuacion "
   ]
  },
  {
   "cell_type": "code",
   "execution_count": 183,
   "metadata": {},
   "outputs": [
    {
     "name": "stdout",
     "output_type": "stream",
     "text": [
      "Las 10principales palabras relacionadas con una buena puntuación son:\n",
      "amazing\n",
      "best\n",
      "incredible\n",
      "everything\n",
      "awesome\n",
      "delicious\n",
      "wow\n",
      "hands\n",
      "fantastic\n",
      "perfect\n"
     ]
    }
   ],
   "source": [
    "import pandas as pd\n",
    "from sklearn.feature_extraction.text import TfidfVectorizer\n",
    "from sklearn.linear_model import LogisticRegression\n",
    "from sklearn.model_selection import train_test_split\n",
    "\n",
    "# Cargar los datos desde el archivo parquet\n",
    "data = pd.read_parquet('modelo_regresion.parquet')\n",
    "\n",
    "# Reemplazar los valores None o NaN con una cadena vacía\n",
    "data['review_text'] = data['review_text'].fillna('')\n",
    "\n",
    "# Convertir el texto a minúsculas\n",
    "data['review_text'] = data['review_text'].str.lower()\n",
    "\n",
    "# Filtrar los datos para obtener solo las reseñas con rating_stars de 4 o 5 \n",
    "positive_reviews = data[data['review_stars'].isin([4, 5])]\n",
    "\n",
    "# Dividir los datos en conjuntos de entrenamiento y prueba (80% de entrenamiento, 20% de prueba)\n",
    "X_train, X_test, y_train, y_test = train_test_split(positive_reviews['review_text'], positive_reviews['review_stars'], test_size=0.2, random_state=42)\n",
    "\n",
    "# Crear el vectorizador TF-IDF y transformar los datos de entrenamiento y prueba\n",
    "vectorizer = TfidfVectorizer()\n",
    "X_train_vectorized = vectorizer.fit_transform(X_train)\n",
    "X_test_vectorized = vectorizer.transform(X_test)\n",
    "\n",
    "# Crear el modelo de Regresión Logística y entrenarlo con los datos de entrenamiento vectorizados \n",
    "model = LogisticRegression()\n",
    "\n",
    "# Entrenar el modelo de Regresión Logística con los datos de entrenamiento vectorizados\n",
    "model.fit(X_train_vectorized, y_train)\n",
    "\n",
    "# Obtener los coeficientes de las características y los nombres de las características \n",
    "feature_names = vectorizer.get_feature_names_out()\n",
    "coefficients = model.coef_[0]\n",
    "\n",
    "# Obtener las 10 principales palabras relacionadas con una buena puntuación \n",
    "top_words_indices = coefficients.argsort()[-10:][::-1]\n",
    "top_words = [feature_names[i] for i in top_words_indices]\n",
    "\n",
    "# Imprimir las 5 principales palabras relacionadas con una buena puntuación\n",
    "print(\"Las 10principales palabras relacionadas con una buena puntuación son:\")\n",
    "for word in top_words:\n",
    "    print(word)"
   ]
  },
  {
   "cell_type": "markdown",
   "metadata": {},
   "source": [
    "## Regresion lineal (Puede ir)\n",
    "*Predice el potencial puntaje podria tener un local tomando de referencia la ubicacion donde lo ponga*\n"
   ]
  },
  {
   "cell_type": "code",
   "execution_count": 136,
   "metadata": {},
   "outputs": [
    {
     "name": "stdout",
     "output_type": "stream",
     "text": [
      "Mean Squared Error: 0.391858624832528\n"
     ]
    }
   ],
   "source": [
    "import pandas as pd\n",
    "from sklearn.linear_model import LinearRegression\n",
    "from sklearn.model_selection import train_test_split\n",
    "from sklearn.metrics import mean_squared_error\n",
    "import pandas as pd\n",
    "\n",
    "# Cargar los datos desde el archivo parquet\n",
    "data = pd.read_parquet('modelo_regresion.parquet')\n",
    "\n",
    "# Convertir la columna review_date a formato numérico\n",
    "data['review_date'] = pd.to_datetime(data['review_date']).dt.strftime('%Y%m%d').astype(int)\n",
    "\n",
    "# Seleccionar las características y la variable objetivo\n",
    "features = ['latitude', 'longitude']\n",
    "target = 'business_rating'\n",
    "\n",
    "# Dividir los datos en conjuntos de entrenamiento y prueba\n",
    "X_train, X_test, y_train, y_test = train_test_split(data[features], data[target], test_size=0.2, random_state=42)\n",
    "\n",
    "# Crear el modelo de Regresión Lineal\n",
    "model = LinearRegression()\n",
    "\n",
    "# Entrenar el modelo\n",
    "model.fit(X_train, y_train)\n",
    "\n",
    "# Realizar predicciones en el conjunto de prueba\n",
    "y_pred = model.predict(X_test)\n",
    "\n",
    "# Calcular el error cuadrático medio\n",
    "mse = mean_squared_error(y_test, y_pred)\n",
    "print('Mean Squared Error:', mse)\n"
   ]
  },
  {
   "cell_type": "code",
   "execution_count": 138,
   "metadata": {},
   "outputs": [
    {
     "name": "stdout",
     "output_type": "stream",
     "text": [
      "Predicted business rating for New Taco Bell 1: 3.8922955193744437\n",
      "Predicted business rating for New Taco Bell 2: 3.8645013356635713\n",
      "Predicted business rating for New Taco Bell 3: 3.892213087404537\n",
      "Predicted business rating for New Taco Bell 4: 3.940060174300947\n",
      "Predicted business rating for New Taco Bell 5: 4.0290414895546105\n"
     ]
    }
   ],
   "source": [
    "# Assuming you have already trained the model and have the necessary data\n",
    "\n",
    "# Create a new dataframe with the features for prediction\n",
    "new_data = pd.DataFrame({'latitude': [27.961018, 27.979929, 27.938770, 28.646935, 26.470094],\n",
    "                         'longitude': [-82.463937, -82.826317, -82.482742, -81.270090, -81.792269]})\n",
    "\n",
    "# Make predictions on the new data\n",
    "predictions = model.predict(new_data)\n",
    "\n",
    "# Print the predicted business ratings\n",
    "for i, prediction in enumerate(predictions):\n",
    "    print(f\"Predicted business rating for New Taco Bell {i+1}: {prediction}\")"
   ]
  },
  {
   "cell_type": "code",
   "execution_count": null,
   "metadata": {},
   "outputs": [],
   "source": []
  }
 ],
 "metadata": {
  "kernelspec": {
   "display_name": "Python 3",
   "language": "python",
   "name": "python3"
  },
  "language_info": {
   "codemirror_mode": {
    "name": "ipython",
    "version": 3
   },
   "file_extension": ".py",
   "mimetype": "text/x-python",
   "name": "python",
   "nbconvert_exporter": "python",
   "pygments_lexer": "ipython3",
   "version": "3.12.2"
  }
 },
 "nbformat": 4,
 "nbformat_minor": 2
}
