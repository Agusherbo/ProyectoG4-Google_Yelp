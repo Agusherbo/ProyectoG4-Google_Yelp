{
 "cells": [
  {
   "cell_type": "markdown",
   "metadata": {},
   "source": [
    "# Ingenieria Machine Learning"
   ]
  },
  {
   "cell_type": "markdown",
   "metadata": {},
   "source": [
    "## Librerias"
   ]
  },
  {
   "cell_type": "code",
   "execution_count": 1,
   "metadata": {},
   "outputs": [],
   "source": [
    "import pandas as pd\n",
    "from pandas import json_normalize\n",
    "import nltk\n",
    "from nltk.corpus import stopwords\n",
    "from nltk.tokenize import word_tokenize\n",
    "from nltk.stem import WordNetLemmatizer\n",
    "from nltk.sentiment.vader import SentimentIntensityAnalyzer\n",
    "from gensim import corpora\n",
    "from gensim.models import LdaModel\n",
    "from gensim.models import CoherenceModel\n",
    "import gensim\n",
    "import re\n",
    "from sklearn.model_selection import train_test_split\n",
    "from sklearn.ensemble import RandomForestRegressor\n",
    "from sklearn.preprocessing import OneHotEncoder\n",
    "from sklearn.linear_model import LinearRegression\n",
    "from sklearn.metrics import mean_squared_error\n",
    "import matplotlib.pyplot as plt\n"
   ]
  },
  {
   "cell_type": "markdown",
   "metadata": {},
   "source": [
    "## Rutas y DataFrames"
   ]
  },
  {
   "cell_type": "code",
   "execution_count": 2,
   "metadata": {},
   "outputs": [],
   "source": [
    "#Sitios: Informacion sobre los restaurantes mexicanos en el estado de florida (Google)\n",
    "#Scraping_sitios_google: Informacion extraida mediante web scraping (Yelp)\n",
    "#user:  Cantidad de review por cada usuario y el promedio de estrellas (Yelp)\n",
    "#Reviews_florida: Diferentes reviews de usuarios sobre los restaurantes mexicanos de florida (Google)\n",
    "#reviews: Diferenetes tipos de reviews sobre restaurantes de florida (Yelp)\n",
    "#business: Caracteristicas de todos los restaurantes de comida mexicana de Florida (Yelp)"
   ]
  },
  {
   "cell_type": "code",
   "execution_count": 3,
   "metadata": {},
   "outputs": [],
   "source": [
    "ruta1= r\"C:\\Users\\juanc.DESKTOP-LGMDQP1\\OneDrive\\Documentos\\Proyecto Henry Final\\ProyectoG4-Google_Yelp\\Data\\Parquet\\Sitios.PARQUET\"\n",
    "ruta2=r\"C:\\Users\\juanc.DESKTOP-LGMDQP1\\OneDrive\\Documentos\\Proyecto Henry Final\\ProyectoG4-Google_Yelp\\Data\\Parquet\\Scraping_sitios_google.PARQUET\"\n",
    "ruta3=r\"C:\\Users\\juanc.DESKTOP-LGMDQP1\\OneDrive\\Documentos\\Proyecto Henry Final\\ProyectoG4-Google_Yelp\\Data\\Parquet\\user.PARQUET\"\n",
    "ruta4=r\"C:\\Users\\juanc.DESKTOP-LGMDQP1\\OneDrive\\Documentos\\Proyecto Henry Final\\ProyectoG4-Google_Yelp\\Data\\Parquet\\Reviews_florida.PARQUET\"\n",
    "ruta5=r\"C:\\Users\\juanc.DESKTOP-LGMDQP1\\OneDrive\\Documentos\\Proyecto Henry Final\\ProyectoG4-Google_Yelp\\Data\\Parquet\\review.PARQUET\"\n",
    "ruta6=r\"C:\\Users\\juanc.DESKTOP-LGMDQP1\\OneDrive\\Documentos\\Proyecto Henry Final\\ProyectoG4-Google_Yelp\\Data\\Parquet\\business.PARQUET\"\n"
   ]
  },
  {
   "cell_type": "code",
   "execution_count": 4,
   "metadata": {},
   "outputs": [],
   "source": [
    "dfSitios=pd.read_parquet(ruta1)\n",
    "dfScraping=pd.read_parquet(ruta2)\n",
    "dfuser=pd.read_parquet(ruta3)\n",
    "dfReviewsFL=pd.read_parquet(ruta4)\n",
    "dfreview=pd.read_parquet(ruta5)\n",
    "dfbusiness=pd.read_parquet(ruta6)\n"
   ]
  },
  {
   "cell_type": "markdown",
   "metadata": {},
   "source": [
    "## Se concatena los datos de Yelp y los de Google para dejar una sola estructura de datos"
   ]
  },
  {
   "cell_type": "code",
   "execution_count": 5,
   "metadata": {},
   "outputs": [],
   "source": [
    "modelo_yelpdf = pd.merge(dfbusiness[['business_id', 'name', 'city', 'latitude', 'longitude', 'stars business']],\n",
    "                               dfreview[['business_id', 'text', 'stars review', 'fecha review']],\n",
    "                               on='business_id')"
   ]
  },
  {
   "cell_type": "code",
   "execution_count": 6,
   "metadata": {},
   "outputs": [],
   "source": [
    "modelo_googledf = pd.merge(dfReviewsFL[['business_name', 'rating', 'city', 'gmap_id', 'date', 'text']],\n",
    "                                    dfSitios[['gmap_id','latitude', 'longitude', 'avg_rating']],\n",
    "                                    on='gmap_id')\n"
   ]
  },
  {
   "cell_type": "code",
   "execution_count": 7,
   "metadata": {},
   "outputs": [],
   "source": [
    "modelo_googledf = modelo_googledf.rename(columns={\n",
    "    'business_id': 'business_id',\n",
    "    'business_name': 'business_name',\n",
    "    'city': 'city',\n",
    "    'latitude': 'latitude',\n",
    "    'longitude': 'longitude',\n",
    "    'avg_rating': 'business_rating',\n",
    "    'text': 'review_text',\n",
    "    'rating': 'review_stars',\n",
    "    'date': 'review_date'\n",
    "})"
   ]
  },
  {
   "cell_type": "code",
   "execution_count": 8,
   "metadata": {},
   "outputs": [],
   "source": [
    "modelo_yelpdf.rename(columns={'business_id': 'business_id', 'name': 'business_name', 'city': 'city', 'latitude': 'latitude', 'longitude': 'longitude', 'stars business': 'business_rating', 'text': 'review_text', 'stars review': 'review_stars', 'fecha review': 'review_date'}, inplace=True)\n"
   ]
  },
  {
   "cell_type": "code",
   "execution_count": 9,
   "metadata": {},
   "outputs": [],
   "source": [
    "#hacer un append de las tablas modelo_regresion_yelpdf y modelo_regresion_googledf y guardar el resultado en un data frame de pandas llamado modelo_regresiondf y luego pasar a un archivo parquet llamado modelo_regresion.csv\n",
    "dfFinal = pd.concat([modelo_yelpdf, modelo_googledf])"
   ]
  },
  {
   "cell_type": "markdown",
   "metadata": {},
   "source": [
    "## Analisis de sentimientos"
   ]
  },
  {
   "cell_type": "code",
   "execution_count": 10,
   "metadata": {},
   "outputs": [],
   "source": [
    "# Inicializar el analizador de sentimientos de NLTK\n",
    "sid= SentimentIntensityAnalyzer()"
   ]
  },
  {
   "cell_type": "code",
   "execution_count": 11,
   "metadata": {},
   "outputs": [],
   "source": [
    "#Analisis de sentimiento para el archivo review\n",
    "\n",
    "# Retrona 0 si es una reseña negativa\n",
    "# Retrona 1 si es una reseña nula o neutra\n",
    "# Retrona 2 si es una reseña positiva\n",
    "\n",
    "def analyze_sentiment(text):\n",
    "    if text is None or pd.isna(text):\n",
    "        return 1 \n",
    "    else:\n",
    "        \n",
    "        sentiment_score = sid.polarity_scores(text)['compound']\n",
    "        if sentiment_score < -0.05:\n",
    "            return 0  \n",
    "        elif sentiment_score > 0.05:\n",
    "            return 2  \n",
    "        else:\n",
    "            return 1  \n",
    "\n",
    "dfFinal['sentiment_analysis'] = dfFinal['review_text'].apply(analyze_sentiment)"
   ]
  },
  {
   "cell_type": "code",
   "execution_count": 12,
   "metadata": {},
   "outputs": [
    {
     "data": {
      "text/html": [
       "<div>\n",
       "<style scoped>\n",
       "    .dataframe tbody tr th:only-of-type {\n",
       "        vertical-align: middle;\n",
       "    }\n",
       "\n",
       "    .dataframe tbody tr th {\n",
       "        vertical-align: top;\n",
       "    }\n",
       "\n",
       "    .dataframe thead th {\n",
       "        text-align: right;\n",
       "    }\n",
       "</style>\n",
       "<table border=\"1\" class=\"dataframe\">\n",
       "  <thead>\n",
       "    <tr style=\"text-align: right;\">\n",
       "      <th></th>\n",
       "      <th>business_id</th>\n",
       "      <th>business_name</th>\n",
       "      <th>city</th>\n",
       "      <th>latitude</th>\n",
       "      <th>longitude</th>\n",
       "      <th>business_rating</th>\n",
       "      <th>review_text</th>\n",
       "      <th>review_stars</th>\n",
       "      <th>review_date</th>\n",
       "      <th>gmap_id</th>\n",
       "      <th>sentiment_analysis</th>\n",
       "    </tr>\n",
       "  </thead>\n",
       "  <tbody>\n",
       "    <tr>\n",
       "      <th>0</th>\n",
       "      <td>aNtKyc2rr-uK5cqzY9TVQQ</td>\n",
       "      <td>Chipotle Mexican Grill</td>\n",
       "      <td>Largo</td>\n",
       "      <td>27.894167</td>\n",
       "      <td>-82.779866</td>\n",
       "      <td>3.0</td>\n",
       "      <td>The New Chipotle Mexican Grill conveniently lo...</td>\n",
       "      <td>4</td>\n",
       "      <td>2017-08-30</td>\n",
       "      <td>NaN</td>\n",
       "      <td>2</td>\n",
       "    </tr>\n",
       "    <tr>\n",
       "      <th>1</th>\n",
       "      <td>aNtKyc2rr-uK5cqzY9TVQQ</td>\n",
       "      <td>Chipotle Mexican Grill</td>\n",
       "      <td>Largo</td>\n",
       "      <td>27.894167</td>\n",
       "      <td>-82.779866</td>\n",
       "      <td>3.0</td>\n",
       "      <td>I am a chipotle enthusiast but from the first ...</td>\n",
       "      <td>5</td>\n",
       "      <td>2018-01-18</td>\n",
       "      <td>NaN</td>\n",
       "      <td>2</td>\n",
       "    </tr>\n",
       "    <tr>\n",
       "      <th>2</th>\n",
       "      <td>aNtKyc2rr-uK5cqzY9TVQQ</td>\n",
       "      <td>Chipotle Mexican Grill</td>\n",
       "      <td>Largo</td>\n",
       "      <td>27.894167</td>\n",
       "      <td>-82.779866</td>\n",
       "      <td>3.0</td>\n",
       "      <td>Went into this location about an hour before t...</td>\n",
       "      <td>5</td>\n",
       "      <td>2018-09-08</td>\n",
       "      <td>NaN</td>\n",
       "      <td>2</td>\n",
       "    </tr>\n",
       "    <tr>\n",
       "      <th>3</th>\n",
       "      <td>aNtKyc2rr-uK5cqzY9TVQQ</td>\n",
       "      <td>Chipotle Mexican Grill</td>\n",
       "      <td>Largo</td>\n",
       "      <td>27.894167</td>\n",
       "      <td>-82.779866</td>\n",
       "      <td>3.0</td>\n",
       "      <td>I come to this chipotle often and it's one of ...</td>\n",
       "      <td>5</td>\n",
       "      <td>2019-06-24</td>\n",
       "      <td>NaN</td>\n",
       "      <td>2</td>\n",
       "    </tr>\n",
       "    <tr>\n",
       "      <th>4</th>\n",
       "      <td>aNtKyc2rr-uK5cqzY9TVQQ</td>\n",
       "      <td>Chipotle Mexican Grill</td>\n",
       "      <td>Largo</td>\n",
       "      <td>27.894167</td>\n",
       "      <td>-82.779866</td>\n",
       "      <td>3.0</td>\n",
       "      <td>The food is good, as per usual at any Chipotle...</td>\n",
       "      <td>2</td>\n",
       "      <td>2018-06-20</td>\n",
       "      <td>NaN</td>\n",
       "      <td>2</td>\n",
       "    </tr>\n",
       "    <tr>\n",
       "      <th>...</th>\n",
       "      <td>...</td>\n",
       "      <td>...</td>\n",
       "      <td>...</td>\n",
       "      <td>...</td>\n",
       "      <td>...</td>\n",
       "      <td>...</td>\n",
       "      <td>...</td>\n",
       "      <td>...</td>\n",
       "      <td>...</td>\n",
       "      <td>...</td>\n",
       "      <td>...</td>\n",
       "    </tr>\n",
       "    <tr>\n",
       "      <th>15639</th>\n",
       "      <td>NaN</td>\n",
       "      <td>Taco Bus Miami</td>\n",
       "      <td>Miami</td>\n",
       "      <td>25.760594</td>\n",
       "      <td>-80.409314</td>\n",
       "      <td>4.1</td>\n",
       "      <td>None</td>\n",
       "      <td>1</td>\n",
       "      <td>2020-04-01</td>\n",
       "      <td>0x88d9bf290ee132e7:0x771f3f6950e264db</td>\n",
       "      <td>1</td>\n",
       "    </tr>\n",
       "    <tr>\n",
       "      <th>15640</th>\n",
       "      <td>NaN</td>\n",
       "      <td>Taco Bus Miami</td>\n",
       "      <td>Miami</td>\n",
       "      <td>25.760594</td>\n",
       "      <td>-80.409314</td>\n",
       "      <td>4.1</td>\n",
       "      <td>None</td>\n",
       "      <td>5</td>\n",
       "      <td>2021-03-31</td>\n",
       "      <td>0x88d9bf290ee132e7:0x771f3f6950e264db</td>\n",
       "      <td>1</td>\n",
       "    </tr>\n",
       "    <tr>\n",
       "      <th>15641</th>\n",
       "      <td>NaN</td>\n",
       "      <td>Taco Bus Miami</td>\n",
       "      <td>Miami</td>\n",
       "      <td>25.760594</td>\n",
       "      <td>-80.409314</td>\n",
       "      <td>4.1</td>\n",
       "      <td>None</td>\n",
       "      <td>5</td>\n",
       "      <td>2020-09-14</td>\n",
       "      <td>0x88d9bf290ee132e7:0x771f3f6950e264db</td>\n",
       "      <td>1</td>\n",
       "    </tr>\n",
       "    <tr>\n",
       "      <th>15642</th>\n",
       "      <td>NaN</td>\n",
       "      <td>Taco Bus Miami</td>\n",
       "      <td>Miami</td>\n",
       "      <td>25.760594</td>\n",
       "      <td>-80.409314</td>\n",
       "      <td>4.1</td>\n",
       "      <td>None</td>\n",
       "      <td>5</td>\n",
       "      <td>2020-09-28</td>\n",
       "      <td>0x88d9bf290ee132e7:0x771f3f6950e264db</td>\n",
       "      <td>1</td>\n",
       "    </tr>\n",
       "    <tr>\n",
       "      <th>15643</th>\n",
       "      <td>NaN</td>\n",
       "      <td>Taco Bus Miami</td>\n",
       "      <td>Miami</td>\n",
       "      <td>25.760594</td>\n",
       "      <td>-80.409314</td>\n",
       "      <td>4.1</td>\n",
       "      <td>None</td>\n",
       "      <td>4</td>\n",
       "      <td>2021-03-23</td>\n",
       "      <td>0x88d9bf290ee132e7:0x771f3f6950e264db</td>\n",
       "      <td>1</td>\n",
       "    </tr>\n",
       "  </tbody>\n",
       "</table>\n",
       "<p>61897 rows × 11 columns</p>\n",
       "</div>"
      ],
      "text/plain": [
       "                  business_id           business_name   city   latitude  \\\n",
       "0      aNtKyc2rr-uK5cqzY9TVQQ  Chipotle Mexican Grill  Largo  27.894167   \n",
       "1      aNtKyc2rr-uK5cqzY9TVQQ  Chipotle Mexican Grill  Largo  27.894167   \n",
       "2      aNtKyc2rr-uK5cqzY9TVQQ  Chipotle Mexican Grill  Largo  27.894167   \n",
       "3      aNtKyc2rr-uK5cqzY9TVQQ  Chipotle Mexican Grill  Largo  27.894167   \n",
       "4      aNtKyc2rr-uK5cqzY9TVQQ  Chipotle Mexican Grill  Largo  27.894167   \n",
       "...                       ...                     ...    ...        ...   \n",
       "15639                     NaN          Taco Bus Miami  Miami  25.760594   \n",
       "15640                     NaN          Taco Bus Miami  Miami  25.760594   \n",
       "15641                     NaN          Taco Bus Miami  Miami  25.760594   \n",
       "15642                     NaN          Taco Bus Miami  Miami  25.760594   \n",
       "15643                     NaN          Taco Bus Miami  Miami  25.760594   \n",
       "\n",
       "       longitude  business_rating  \\\n",
       "0     -82.779866              3.0   \n",
       "1     -82.779866              3.0   \n",
       "2     -82.779866              3.0   \n",
       "3     -82.779866              3.0   \n",
       "4     -82.779866              3.0   \n",
       "...          ...              ...   \n",
       "15639 -80.409314              4.1   \n",
       "15640 -80.409314              4.1   \n",
       "15641 -80.409314              4.1   \n",
       "15642 -80.409314              4.1   \n",
       "15643 -80.409314              4.1   \n",
       "\n",
       "                                             review_text  review_stars  \\\n",
       "0      The New Chipotle Mexican Grill conveniently lo...             4   \n",
       "1      I am a chipotle enthusiast but from the first ...             5   \n",
       "2      Went into this location about an hour before t...             5   \n",
       "3      I come to this chipotle often and it's one of ...             5   \n",
       "4      The food is good, as per usual at any Chipotle...             2   \n",
       "...                                                  ...           ...   \n",
       "15639                                               None             1   \n",
       "15640                                               None             5   \n",
       "15641                                               None             5   \n",
       "15642                                               None             5   \n",
       "15643                                               None             4   \n",
       "\n",
       "      review_date                                gmap_id  sentiment_analysis  \n",
       "0      2017-08-30                                    NaN                   2  \n",
       "1      2018-01-18                                    NaN                   2  \n",
       "2      2018-09-08                                    NaN                   2  \n",
       "3      2019-06-24                                    NaN                   2  \n",
       "4      2018-06-20                                    NaN                   2  \n",
       "...           ...                                    ...                 ...  \n",
       "15639  2020-04-01  0x88d9bf290ee132e7:0x771f3f6950e264db                   1  \n",
       "15640  2021-03-31  0x88d9bf290ee132e7:0x771f3f6950e264db                   1  \n",
       "15641  2020-09-14  0x88d9bf290ee132e7:0x771f3f6950e264db                   1  \n",
       "15642  2020-09-28  0x88d9bf290ee132e7:0x771f3f6950e264db                   1  \n",
       "15643  2021-03-23  0x88d9bf290ee132e7:0x771f3f6950e264db                   1  \n",
       "\n",
       "[61897 rows x 11 columns]"
      ]
     },
     "execution_count": 12,
     "metadata": {},
     "output_type": "execute_result"
    }
   ],
   "source": [
    "dfFinal"
   ]
  },
  {
   "cell_type": "markdown",
   "metadata": {},
   "source": [
    "## Se almacena en un dataframe solo los datos de la cadena Taco Bell"
   ]
  },
  {
   "cell_type": "code",
   "execution_count": 13,
   "metadata": {},
   "outputs": [],
   "source": [
    "filtro= dfFinal[\"business_name\"] == \"Taco Bell\"\n",
    "dfTacoBell=dfFinal[filtro]"
   ]
  },
  {
   "cell_type": "code",
   "execution_count": 14,
   "metadata": {},
   "outputs": [
    {
     "data": {
      "text/html": [
       "<div>\n",
       "<style scoped>\n",
       "    .dataframe tbody tr th:only-of-type {\n",
       "        vertical-align: middle;\n",
       "    }\n",
       "\n",
       "    .dataframe tbody tr th {\n",
       "        vertical-align: top;\n",
       "    }\n",
       "\n",
       "    .dataframe thead th {\n",
       "        text-align: right;\n",
       "    }\n",
       "</style>\n",
       "<table border=\"1\" class=\"dataframe\">\n",
       "  <thead>\n",
       "    <tr style=\"text-align: right;\">\n",
       "      <th></th>\n",
       "      <th>business_id</th>\n",
       "      <th>business_name</th>\n",
       "      <th>city</th>\n",
       "      <th>latitude</th>\n",
       "      <th>longitude</th>\n",
       "      <th>business_rating</th>\n",
       "      <th>review_text</th>\n",
       "      <th>review_stars</th>\n",
       "      <th>review_date</th>\n",
       "      <th>gmap_id</th>\n",
       "      <th>sentiment_analysis</th>\n",
       "    </tr>\n",
       "  </thead>\n",
       "  <tbody>\n",
       "    <tr>\n",
       "      <th>232</th>\n",
       "      <td>H2nFgEFitRk7ltE8IRH0xA</td>\n",
       "      <td>Taco Bell</td>\n",
       "      <td>Tampa</td>\n",
       "      <td>27.944918</td>\n",
       "      <td>-82.523213</td>\n",
       "      <td>2.5</td>\n",
       "      <td>This Taco Bell lives up to the standards that ...</td>\n",
       "      <td>5</td>\n",
       "      <td>2017-05-26</td>\n",
       "      <td>NaN</td>\n",
       "      <td>2</td>\n",
       "    </tr>\n",
       "    <tr>\n",
       "      <th>233</th>\n",
       "      <td>H2nFgEFitRk7ltE8IRH0xA</td>\n",
       "      <td>Taco Bell</td>\n",
       "      <td>Tampa</td>\n",
       "      <td>27.944918</td>\n",
       "      <td>-82.523213</td>\n",
       "      <td>2.5</td>\n",
       "      <td>It's Taco Bell. It's crap food, terrible servi...</td>\n",
       "      <td>1</td>\n",
       "      <td>2018-01-01</td>\n",
       "      <td>NaN</td>\n",
       "      <td>0</td>\n",
       "    </tr>\n",
       "    <tr>\n",
       "      <th>234</th>\n",
       "      <td>H2nFgEFitRk7ltE8IRH0xA</td>\n",
       "      <td>Taco Bell</td>\n",
       "      <td>Tampa</td>\n",
       "      <td>27.944918</td>\n",
       "      <td>-82.523213</td>\n",
       "      <td>2.5</td>\n",
       "      <td>Was staying at hotel across street, got in lat...</td>\n",
       "      <td>1</td>\n",
       "      <td>2018-05-13</td>\n",
       "      <td>NaN</td>\n",
       "      <td>0</td>\n",
       "    </tr>\n",
       "    <tr>\n",
       "      <th>235</th>\n",
       "      <td>H2nFgEFitRk7ltE8IRH0xA</td>\n",
       "      <td>Taco Bell</td>\n",
       "      <td>Tampa</td>\n",
       "      <td>27.944918</td>\n",
       "      <td>-82.523213</td>\n",
       "      <td>2.5</td>\n",
       "      <td>Now I see why this location has such terrible ...</td>\n",
       "      <td>1</td>\n",
       "      <td>2018-07-03</td>\n",
       "      <td>NaN</td>\n",
       "      <td>0</td>\n",
       "    </tr>\n",
       "    <tr>\n",
       "      <th>236</th>\n",
       "      <td>H2nFgEFitRk7ltE8IRH0xA</td>\n",
       "      <td>Taco Bell</td>\n",
       "      <td>Tampa</td>\n",
       "      <td>27.944918</td>\n",
       "      <td>-82.523213</td>\n",
       "      <td>2.5</td>\n",
       "      <td>Waited 45 minutes at the drive thru, surely em...</td>\n",
       "      <td>1</td>\n",
       "      <td>2017-12-27</td>\n",
       "      <td>NaN</td>\n",
       "      <td>0</td>\n",
       "    </tr>\n",
       "    <tr>\n",
       "      <th>...</th>\n",
       "      <td>...</td>\n",
       "      <td>...</td>\n",
       "      <td>...</td>\n",
       "      <td>...</td>\n",
       "      <td>...</td>\n",
       "      <td>...</td>\n",
       "      <td>...</td>\n",
       "      <td>...</td>\n",
       "      <td>...</td>\n",
       "      <td>...</td>\n",
       "      <td>...</td>\n",
       "    </tr>\n",
       "    <tr>\n",
       "      <th>14328</th>\n",
       "      <td>NaN</td>\n",
       "      <td>Taco Bell</td>\n",
       "      <td>Orange Park</td>\n",
       "      <td>30.185016</td>\n",
       "      <td>-81.735113</td>\n",
       "      <td>3.0</td>\n",
       "      <td>None</td>\n",
       "      <td>2</td>\n",
       "      <td>2021-05-19</td>\n",
       "      <td>0x88e5c67d65294965:0x86e12ae83b3ab99a</td>\n",
       "      <td>1</td>\n",
       "    </tr>\n",
       "    <tr>\n",
       "      <th>14329</th>\n",
       "      <td>NaN</td>\n",
       "      <td>Taco Bell</td>\n",
       "      <td>Orange Park</td>\n",
       "      <td>30.185016</td>\n",
       "      <td>-81.735113</td>\n",
       "      <td>3.0</td>\n",
       "      <td>None</td>\n",
       "      <td>3</td>\n",
       "      <td>2021-03-09</td>\n",
       "      <td>0x88e5c67d65294965:0x86e12ae83b3ab99a</td>\n",
       "      <td>1</td>\n",
       "    </tr>\n",
       "    <tr>\n",
       "      <th>14330</th>\n",
       "      <td>NaN</td>\n",
       "      <td>Taco Bell</td>\n",
       "      <td>Orange Park</td>\n",
       "      <td>30.185016</td>\n",
       "      <td>-81.735113</td>\n",
       "      <td>3.0</td>\n",
       "      <td>None</td>\n",
       "      <td>1</td>\n",
       "      <td>2021-04-09</td>\n",
       "      <td>0x88e5c67d65294965:0x86e12ae83b3ab99a</td>\n",
       "      <td>1</td>\n",
       "    </tr>\n",
       "    <tr>\n",
       "      <th>14331</th>\n",
       "      <td>NaN</td>\n",
       "      <td>Taco Bell</td>\n",
       "      <td>Orange Park</td>\n",
       "      <td>30.185016</td>\n",
       "      <td>-81.735113</td>\n",
       "      <td>3.0</td>\n",
       "      <td>None</td>\n",
       "      <td>5</td>\n",
       "      <td>2019-06-28</td>\n",
       "      <td>0x88e5c67d65294965:0x86e12ae83b3ab99a</td>\n",
       "      <td>1</td>\n",
       "    </tr>\n",
       "    <tr>\n",
       "      <th>14332</th>\n",
       "      <td>NaN</td>\n",
       "      <td>Taco Bell</td>\n",
       "      <td>Orange Park</td>\n",
       "      <td>30.185016</td>\n",
       "      <td>-81.735113</td>\n",
       "      <td>3.0</td>\n",
       "      <td>None</td>\n",
       "      <td>3</td>\n",
       "      <td>2019-07-20</td>\n",
       "      <td>0x88e5c67d65294965:0x86e12ae83b3ab99a</td>\n",
       "      <td>1</td>\n",
       "    </tr>\n",
       "  </tbody>\n",
       "</table>\n",
       "<p>2534 rows × 11 columns</p>\n",
       "</div>"
      ],
      "text/plain": [
       "                  business_id business_name         city   latitude  \\\n",
       "232    H2nFgEFitRk7ltE8IRH0xA     Taco Bell        Tampa  27.944918   \n",
       "233    H2nFgEFitRk7ltE8IRH0xA     Taco Bell        Tampa  27.944918   \n",
       "234    H2nFgEFitRk7ltE8IRH0xA     Taco Bell        Tampa  27.944918   \n",
       "235    H2nFgEFitRk7ltE8IRH0xA     Taco Bell        Tampa  27.944918   \n",
       "236    H2nFgEFitRk7ltE8IRH0xA     Taco Bell        Tampa  27.944918   \n",
       "...                       ...           ...          ...        ...   \n",
       "14328                     NaN     Taco Bell  Orange Park  30.185016   \n",
       "14329                     NaN     Taco Bell  Orange Park  30.185016   \n",
       "14330                     NaN     Taco Bell  Orange Park  30.185016   \n",
       "14331                     NaN     Taco Bell  Orange Park  30.185016   \n",
       "14332                     NaN     Taco Bell  Orange Park  30.185016   \n",
       "\n",
       "       longitude  business_rating  \\\n",
       "232   -82.523213              2.5   \n",
       "233   -82.523213              2.5   \n",
       "234   -82.523213              2.5   \n",
       "235   -82.523213              2.5   \n",
       "236   -82.523213              2.5   \n",
       "...          ...              ...   \n",
       "14328 -81.735113              3.0   \n",
       "14329 -81.735113              3.0   \n",
       "14330 -81.735113              3.0   \n",
       "14331 -81.735113              3.0   \n",
       "14332 -81.735113              3.0   \n",
       "\n",
       "                                             review_text  review_stars  \\\n",
       "232    This Taco Bell lives up to the standards that ...             5   \n",
       "233    It's Taco Bell. It's crap food, terrible servi...             1   \n",
       "234    Was staying at hotel across street, got in lat...             1   \n",
       "235    Now I see why this location has such terrible ...             1   \n",
       "236    Waited 45 minutes at the drive thru, surely em...             1   \n",
       "...                                                  ...           ...   \n",
       "14328                                               None             2   \n",
       "14329                                               None             3   \n",
       "14330                                               None             1   \n",
       "14331                                               None             5   \n",
       "14332                                               None             3   \n",
       "\n",
       "      review_date                                gmap_id  sentiment_analysis  \n",
       "232    2017-05-26                                    NaN                   2  \n",
       "233    2018-01-01                                    NaN                   0  \n",
       "234    2018-05-13                                    NaN                   0  \n",
       "235    2018-07-03                                    NaN                   0  \n",
       "236    2017-12-27                                    NaN                   0  \n",
       "...           ...                                    ...                 ...  \n",
       "14328  2021-05-19  0x88e5c67d65294965:0x86e12ae83b3ab99a                   1  \n",
       "14329  2021-03-09  0x88e5c67d65294965:0x86e12ae83b3ab99a                   1  \n",
       "14330  2021-04-09  0x88e5c67d65294965:0x86e12ae83b3ab99a                   1  \n",
       "14331  2019-06-28  0x88e5c67d65294965:0x86e12ae83b3ab99a                   1  \n",
       "14332  2019-07-20  0x88e5c67d65294965:0x86e12ae83b3ab99a                   1  \n",
       "\n",
       "[2534 rows x 11 columns]"
      ]
     },
     "execution_count": 14,
     "metadata": {},
     "output_type": "execute_result"
    }
   ],
   "source": [
    "dfTacoBell"
   ]
  },
  {
   "cell_type": "markdown",
   "metadata": {},
   "source": [
    "## Se extraen algunos datos relevantes de Taco Bell y de la competencia "
   ]
  },
  {
   "cell_type": "markdown",
   "metadata": {},
   "source": [
    "### Analisis de la competencia"
   ]
  },
  {
   "cell_type": "code",
   "execution_count": 15,
   "metadata": {},
   "outputs": [
    {
     "data": {
      "text/plain": [
       "sentiment_analysis\n",
       "2    75.87%\n",
       "0    12.34%\n",
       "1    11.78%\n",
       "Name: proportion, dtype: object"
      ]
     },
     "execution_count": 15,
     "metadata": {},
     "output_type": "execute_result"
    }
   ],
   "source": [
    "porcentajes = (dfFinal[\"sentiment_analysis\"].value_counts(normalize=True) * 100) \n",
    "porcentajes = porcentajes.round(2).astype(str) + '%'\n",
    "porcentajes"
   ]
  },
  {
   "cell_type": "markdown",
   "metadata": {},
   "source": [
    "### Analisis Taco Bell"
   ]
  },
  {
   "cell_type": "code",
   "execution_count": 16,
   "metadata": {},
   "outputs": [
    {
     "data": {
      "text/plain": [
       "sentiment_analysis\n",
       "1    36.62%\n",
       "2    32.28%\n",
       "0     31.1%\n",
       "Name: proportion, dtype: object"
      ]
     },
     "execution_count": 16,
     "metadata": {},
     "output_type": "execute_result"
    }
   ],
   "source": [
    "porcentajes2 = (dfTacoBell[\"sentiment_analysis\"].value_counts(normalize=True) * 100) \n",
    "porcentajes2 = porcentajes2.round(2).astype(str) + '%'\n",
    "porcentajes2"
   ]
  },
  {
   "cell_type": "markdown",
   "metadata": {},
   "source": [
    "## Se extraen los topicos de todos los restaurantes"
   ]
  },
  {
   "cell_type": "code",
   "execution_count": 17,
   "metadata": {},
   "outputs": [
    {
     "name": "stdout",
     "output_type": "stream",
     "text": [
      "Tópico 0: 0.029*\"food\" + 0.016*\"service\" + 0.014*\"order\" + 0.011*\"good\" + 0.010*\"fast\" + 0.009*\"got\" + 0.008*\"drive\" + 0.008*\"customer\" + 0.007*\"u\" + 0.006*\"back\"\n",
      "Tópico 1: 0.046*\"taco\" + 0.034*\"bell\" + 0.020*\"food\" + 0.013*\"order\" + 0.010*\"get\" + 0.009*\"one\" + 0.008*\"time\" + 0.007*\"like\" + 0.007*\"drive\" + 0.007*\"good\"\n",
      "Tópico 2: 0.017*\"drive\" + 0.015*\"order\" + 0.013*\"thru\" + 0.013*\"taco\" + 0.011*\"service\" + 0.011*\"bell\" + 0.010*\"food\" + 0.009*\"place\" + 0.009*\"time\" + 0.009*\"location\"\n",
      "Tópico 3: 0.024*\"order\" + 0.019*\"time\" + 0.014*\"taco\" + 0.013*\"go\" + 0.012*\"food\" + 0.011*\"get\" + 0.009*\"bell\" + 0.008*\"drive\" + 0.008*\"employee\" + 0.008*\"always\"\n",
      "Tópico 4: 0.022*\"taco\" + 0.017*\"order\" + 0.016*\"food\" + 0.013*\"time\" + 0.012*\"bell\" + 0.009*\"got\" + 0.008*\"one\" + 0.008*\"get\" + 0.008*\"service\" + 0.008*\"location\"\n",
      "\n",
      "Coherencia del modelo LDA: 0.44351581057761075\n"
     ]
    }
   ],
   "source": [
    "stop_words = set(stopwords.words('english'))  # Puedes ajustar el idioma según tus datos\n",
    "lemmatizer = WordNetLemmatizer()\n",
    "\n",
    "def preprocess_text(text):\n",
    "    if isinstance(text, str):  # Verificar si el texto es una cadena válida\n",
    "        text = re.sub(r'\\W', ' ', text)  # Eliminar caracteres no alfanuméricos\n",
    "        tokens = word_tokenize(text.lower())  # Tokenización y minúsculas\n",
    "        tokens = [lemmatizer.lemmatize(word) for word in tokens if word not in stop_words]  # Lematización y eliminación de stopwords\n",
    "        return tokens\n",
    "    else:\n",
    "        return []  # Devolver una lista vacía si no es una cadena válida\n",
    "\n",
    "processed_reviews = [preprocess_text(review) for review in dfTacoBell[\"review_text\"] if review is not None]\n",
    "\n",
    "# Creación del diccionario y el corpus\n",
    "dictionary = corpora.Dictionary(processed_reviews)\n",
    "corpus = [dictionary.doc2bow(text) for text in processed_reviews]\n",
    "\n",
    "# Modelado de tópicos usando LDA\n",
    "lda_model = LdaModel(corpus=corpus, id2word=dictionary, num_topics=5, random_state=42, passes=10)\n",
    "\n",
    "# Visualización de tópicos\n",
    "for idx, topic in lda_model.print_topics():\n",
    "    print(f'Tópico {idx}: {topic}')\n",
    "\n",
    "# Calcular la coherencia del modelo (opcional, para evaluar la calidad de los tópicos)\n",
    "coherence_model_lda = CoherenceModel(model=lda_model, texts=processed_reviews, dictionary=dictionary, coherence='c_v')\n",
    "coherence_lda = coherence_model_lda.get_coherence()\n",
    "print(f'\\nCoherencia del modelo LDA: {coherence_lda}')"
   ]
  },
  {
   "cell_type": "markdown",
   "metadata": {},
   "source": [
    "## Se realiza un modelo para predecir el promedio de estrellas de los restaurantes Taco Bell en los proximos años segun la ciudad"
   ]
  },
  {
   "cell_type": "code",
   "execution_count": 18,
   "metadata": {},
   "outputs": [
    {
     "name": "stderr",
     "output_type": "stream",
     "text": [
      "C:\\Users\\juanc.DESKTOP-LGMDQP1\\AppData\\Local\\Temp\\ipykernel_9780\\287103178.py:2: SettingWithCopyWarning: \n",
      "A value is trying to be set on a copy of a slice from a DataFrame.\n",
      "Try using .loc[row_indexer,col_indexer] = value instead\n",
      "\n",
      "See the caveats in the documentation: https://pandas.pydata.org/pandas-docs/stable/user_guide/indexing.html#returning-a-view-versus-a-copy\n",
      "  dfTacoBell['review_date'] = pd.to_datetime(dfTacoBell['review_date']).dt.strftime('%Y%m%d').astype(int)\n"
     ]
    },
    {
     "name": "stdout",
     "output_type": "stream",
     "text": [
      "Mean Squared Error: 0.18875514185720832\n"
     ]
    }
   ],
   "source": [
    "\n",
    "\n",
    "# Convertir la columna review_date a formato numérico\n",
    "dfTacoBell['review_date'] = pd.to_datetime(dfTacoBell['review_date']).dt.strftime('%Y%m%d').astype(int)\n",
    "\n",
    "# Filtrar los datos para los restaurantes Taco Bell\n",
    "taco_bell_data = dfTacoBell[dfTacoBell['business_name'].str.contains('Taco Bell', case=False)]\n",
    "\n",
    "# Seleccionar las características y la variable objetivo\n",
    "features = ['review_date', 'city']\n",
    "target = 'business_rating'\n",
    "\n",
    "# Codificar la columna 'city' utilizando one-hot encoding\n",
    "encoder = OneHotEncoder(handle_unknown='ignore')\n",
    "city_encoded = encoder.fit_transform(taco_bell_data[['city']])\n",
    "\n",
    "# Convertir el resultado de one-hot encoding a un DataFrame\n",
    "city_encoded_df = pd.DataFrame(city_encoded.toarray(), columns=encoder.get_feature_names_out(['city']))\n",
    "\n",
    "# Concatenar las características codificadas con las otras características\n",
    "taco_bell_data_encoded = pd.concat([taco_bell_data[['review_date']].reset_index(drop=True), city_encoded_df], axis=1)\n",
    "\n",
    "# Dividir los datos en conjunto de entrenamiento y conjunto de prueba\n",
    "X_train, X_test, y_train, y_test = train_test_split(taco_bell_data_encoded, taco_bell_data[target], test_size=0.2, random_state=42)\n",
    "\n",
    "# Crear el modelo de regresión de bosque aleatorio\n",
    "model = RandomForestRegressor(random_state=42)\n",
    "model.fit(X_train, y_train)\n",
    "\n",
    "# Realizar predicciones en el conjunto de prueba\n",
    "y_pred = model.predict(X_test)\n",
    "\n",
    "# Calcular el error cuadrático medio\n",
    "mse = mean_squared_error(y_test, y_pred)\n",
    "print(\"Mean Squared Error:\", mse)"
   ]
  },
  {
   "cell_type": "code",
   "execution_count": 19,
   "metadata": {},
   "outputs": [
    {
     "name": "stdout",
     "output_type": "stream",
     "text": [
      "Predicted business_rating for Taco Bell in the next years:\n",
      "Year 2023: 2.21\n",
      "Year 2024: 2.21\n",
      "Year 2025: 1.71\n"
     ]
    }
   ],
   "source": [
    "# Ejemplo de uso: predecir el business_rating para Taco Bell en los próximos años\n",
    "new_data = pd.DataFrame({'review_date': [20230101, 20240101, 20250101], 'city': ['Miami', 'Orlando', 'Tampa']})\n",
    "\n",
    "# Codificar la columna 'city' del nuevo conjunto de datos utilizando el mismo encoder\n",
    "new_city_encoded = encoder.transform(new_data[['city']])\n",
    "\n",
    "# Convertir el resultado de one-hot encoding a un DataFrame\n",
    "new_city_encoded_df = pd.DataFrame(new_city_encoded.toarray(), columns=encoder.get_feature_names_out(['city']))\n",
    "\n",
    "# Concatenar las características codificadas con la columna 'review_date'\n",
    "new_data_encoded = pd.concat([new_data[['review_date']], new_city_encoded_df], axis=1)\n",
    "\n",
    "# Asegurarse de que las columnas del nuevo conjunto de datos coincidan con las del conjunto de entrenamiento\n",
    "missing_cols = set(X_train.columns) - set(new_data_encoded.columns)\n",
    "for c in missing_cols:\n",
    "    new_data_encoded[c] = 0\n",
    "new_data_encoded = new_data_encoded[X_train.columns]\n",
    "\n",
    "# Realizar predicciones con el modelo\n",
    "new_predictions = model.predict(new_data_encoded)\n",
    "\n",
    "print(\"Predicted business_rating for Taco Bell in the next years:\")\n",
    "for year, prediction in zip([2023, 2024, 2025], new_predictions):\n",
    "    print(f\"Year {year}: {prediction}\")"
   ]
  },
  {
   "cell_type": "markdown",
   "metadata": {},
   "source": [
    "## Se divide en dos dataframes las reseñas positivas y negativas de todos los restaurantes mexicanos de Florida"
   ]
  },
  {
   "cell_type": "code",
   "execution_count": 20,
   "metadata": {},
   "outputs": [],
   "source": [
    "#Almacenamos en un df las reseñas positivas y en otro las negativas de todos los restaurantes mexicanos de Florida\n",
    "filx=dfFinal[\"sentiment_analysis\"] == 2\n",
    "dfRestapositiv= dfFinal[filx] \n",
    "\n",
    "filz=dfFinal[\"sentiment_analysis\"] == 0\n",
    "dfRestanegat= dfFinal[filz] "
   ]
  },
  {
   "cell_type": "markdown",
   "metadata": {},
   "source": [
    "## Se divide en dos dataframes las reseñas positivas y negativas de todos los restaurantes Taco Bell de Florida"
   ]
  },
  {
   "cell_type": "code",
   "execution_count": 21,
   "metadata": {},
   "outputs": [],
   "source": [
    "#Almacenamos en un df las reseñas positivas y en otro las negativas de todos los restaueantes de Taco Bell\n",
    "filt=dfTacoBell[\"sentiment_analysis\"] == 2\n",
    "dfPostivTacoB= dfTacoBell[filt] \n",
    "\n",
    "film=dfTacoBell[\"sentiment_analysis\"] == 0\n",
    "dfNegativTacoB= dfTacoBell[film] "
   ]
  },
  {
   "cell_type": "markdown",
   "metadata": {},
   "source": [
    "## Se hace una extraccion de las palabaras mas repetidas en las reseñas positivas de todos los restaurantes mexicanos de Florida"
   ]
  },
  {
   "cell_type": "code",
   "execution_count": 22,
   "metadata": {},
   "outputs": [
    {
     "name": "stdout",
     "output_type": "stream",
     "text": [
      "Tópico 0: 0.015*\"great\" + 0.013*\"delicious\" + 0.011*\"fish\" + 0.010*\"shrimp\" + 0.008*\"also\" + 0.008*\"beach\" + 0.008*\"taco\" + 0.008*\"place\" + 0.007*\"beer\" + 0.007*\"drink\"\n",
      "Tópico 1: 0.020*\"good\" + 0.017*\"chip\" + 0.015*\"salsa\" + 0.014*\"taco\" + 0.012*\"like\" + 0.012*\"chicken\" + 0.010*\"ordered\" + 0.009*\"burrito\" + 0.008*\"sauce\" + 0.007*\"rice\"\n",
      "Tópico 2: 0.017*\"food\" + 0.016*\"order\" + 0.015*\"time\" + 0.013*\"u\" + 0.010*\"table\" + 0.010*\"get\" + 0.008*\"one\" + 0.007*\"go\" + 0.007*\"back\" + 0.007*\"minute\"\n",
      "Tópico 3: 0.080*\"food\" + 0.059*\"great\" + 0.041*\"service\" + 0.039*\"good\" + 0.025*\"place\" + 0.018*\"friendly\" + 0.016*\"staff\" + 0.015*\"mexican\" + 0.013*\"always\" + 0.012*\"restaurant\"\n",
      "Tópico 4: 0.085*\"taco\" + 0.021*\"best\" + 0.021*\"place\" + 0.018*\"mexican\" + 0.014*\"food\" + 0.014*\"original\" + 0.013*\"good\" + 0.013*\"delicious\" + 0.013*\"google\" + 0.012*\"translated\"\n",
      "\n",
      "Coherencia del modelo LDA: 0.40007278297505044\n"
     ]
    }
   ],
   "source": [
    "#Hacemos una extraccion de las palabras mas relevantes en las reseñas positivas de los restaurantes mexicanos de florida\n",
    "\n",
    "stop_words = set(stopwords.words('english'))  # Puedes ajustar el idioma según tus datos\n",
    "lemmatizer = WordNetLemmatizer()\n",
    "\n",
    "def preprocess_text(text):\n",
    "    if isinstance(text, str):  # Verificar si el texto es una cadena válida\n",
    "        text = re.sub(r'\\W', ' ', text)  # Eliminar caracteres no alfanuméricos\n",
    "        tokens = word_tokenize(text.lower())  # Tokenización y minúsculas\n",
    "        tokens = [lemmatizer.lemmatize(word) for word in tokens if word not in stop_words]  # Lematización y eliminación de stopwords\n",
    "        return tokens\n",
    "    else:\n",
    "        return []  # Devolver una lista vacía si no es una cadena válida\n",
    "\n",
    "processed_reviews = [preprocess_text(review) for review in dfRestapositiv[\"review_text\"] if review is not None]\n",
    "\n",
    "# Creación del diccionario y el corpus\n",
    "dictionary = corpora.Dictionary(processed_reviews)\n",
    "corpus = [dictionary.doc2bow(text) for text in processed_reviews]\n",
    "\n",
    "# Modelado de tópicos usando LDA\n",
    "lda_model = LdaModel(corpus=corpus, id2word=dictionary, num_topics=5, random_state=42, passes=10)\n",
    "\n",
    "# Visualización de tópicos\n",
    "for idx, topic in lda_model.print_topics():\n",
    "    print(f'Tópico {idx}: {topic}')\n",
    "\n",
    "# Calcular la coherencia del modelo (opcional, para evaluar la calidad de los tópicos)\n",
    "coherence_model_lda = CoherenceModel(model=lda_model, texts=processed_reviews, dictionary=dictionary, coherence='c_v')\n",
    "coherence_lda = coherence_model_lda.get_coherence()\n",
    "print(f'\\nCoherencia del modelo LDA: {coherence_lda}')"
   ]
  },
  {
   "cell_type": "markdown",
   "metadata": {},
   "source": [
    "## Se hace una extraccion de las palabaras mas repetidas en las reseñas negativas de todos los restaurantes mexicanos de Florida"
   ]
  },
  {
   "cell_type": "code",
   "execution_count": 23,
   "metadata": {},
   "outputs": [
    {
     "name": "stdout",
     "output_type": "stream",
     "text": [
      "Tópico 0: 0.025*\"taco\" + 0.017*\"food\" + 0.014*\"ordered\" + 0.011*\"chicken\" + 0.010*\"chip\" + 0.010*\"like\" + 0.009*\"good\" + 0.009*\"burrito\" + 0.008*\"salsa\" + 0.008*\"place\"\n",
      "Tópico 1: 0.050*\"food\" + 0.029*\"place\" + 0.024*\"service\" + 0.015*\"good\" + 0.011*\"bad\" + 0.010*\"dirty\" + 0.009*\"go\" + 0.009*\"staff\" + 0.008*\"like\" + 0.008*\"mexican\"\n",
      "Tópico 2: 0.019*\"la\" + 0.016*\"de\" + 0.014*\"original\" + 0.014*\"google\" + 0.012*\"translated\" + 0.012*\"el\" + 0.009*\"que\" + 0.008*\"e\" + 0.008*\"comida\" + 0.007*\"muy\"\n",
      "Tópico 3: 0.031*\"order\" + 0.017*\"time\" + 0.013*\"food\" + 0.012*\"get\" + 0.011*\"taco\" + 0.010*\"location\" + 0.009*\"go\" + 0.008*\"customer\" + 0.008*\"one\" + 0.008*\"back\"\n",
      "Tópico 4: 0.019*\"u\" + 0.015*\"food\" + 0.013*\"table\" + 0.012*\"minute\" + 0.011*\"drink\" + 0.011*\"service\" + 0.010*\"server\" + 0.010*\"came\" + 0.010*\"order\" + 0.009*\"back\"\n",
      "\n",
      "Coherencia del modelo LDA: 0.5452395354372408\n"
     ]
    }
   ],
   "source": [
    "#Hacemos una extraccion de las palabras mas relevantes en las reseñas negativas de los restaurantes mexicanos de florida\n",
    "\n",
    "stop_words = set(stopwords.words('english'))  # Puedes ajustar el idioma según tus datos\n",
    "lemmatizer = WordNetLemmatizer()\n",
    "\n",
    "def preprocess_text(text):\n",
    "    if isinstance(text, str):  # Verificar si el texto es una cadena válida\n",
    "        text = re.sub(r'\\W', ' ', text)  # Eliminar caracteres no alfanuméricos\n",
    "        tokens = word_tokenize(text.lower())  # Tokenización y minúsculas\n",
    "        tokens = [lemmatizer.lemmatize(word) for word in tokens if word not in stop_words]  # Lematización y eliminación de stopwords\n",
    "        return tokens\n",
    "    else:\n",
    "        return []  # Devolver una lista vacía si no es una cadena válida\n",
    "\n",
    "processed_reviews = [preprocess_text(review) for review in dfRestanegat[\"review_text\"] if review is not None]\n",
    "\n",
    "# Creación del diccionario y el corpus\n",
    "dictionary = corpora.Dictionary(processed_reviews)\n",
    "corpus = [dictionary.doc2bow(text) for text in processed_reviews]\n",
    "\n",
    "# Modelado de tópicos usando LDA\n",
    "lda_model = LdaModel(corpus=corpus, id2word=dictionary, num_topics=5, random_state=42, passes=10)\n",
    "\n",
    "# Visualización de tópicos\n",
    "for idx, topic in lda_model.print_topics():\n",
    "    print(f'Tópico {idx}: {topic}')\n",
    "\n",
    "# Calcular la coherencia del modelo (opcional, para evaluar la calidad de los tópicos)\n",
    "coherence_model_lda = CoherenceModel(model=lda_model, texts=processed_reviews, dictionary=dictionary, coherence='c_v')\n",
    "coherence_lda = coherence_model_lda.get_coherence()\n",
    "print(f'\\nCoherencia del modelo LDA: {coherence_lda}')\n"
   ]
  },
  {
   "cell_type": "markdown",
   "metadata": {},
   "source": [
    "## Se hace una extraccion de las palabaras mas repetidas en las reseñas positivas de todos los restaurantes Taco Bell de Florida"
   ]
  },
  {
   "cell_type": "code",
   "execution_count": 24,
   "metadata": {},
   "outputs": [
    {
     "name": "stdout",
     "output_type": "stream",
     "text": [
      "Tópico 0: 0.019*\"taco\" + 0.016*\"food\" + 0.014*\"bell\" + 0.013*\"order\" + 0.011*\"drive\" + 0.009*\"time\" + 0.008*\"back\" + 0.008*\"one\" + 0.007*\"get\" + 0.006*\"like\"\n",
      "Tópico 1: 0.034*\"taco\" + 0.031*\"food\" + 0.023*\"bell\" + 0.020*\"order\" + 0.020*\"good\" + 0.015*\"service\" + 0.010*\"always\" + 0.009*\"like\" + 0.009*\"get\" + 0.009*\"fast\"\n",
      "Tópico 2: 0.029*\"taco\" + 0.021*\"bell\" + 0.017*\"food\" + 0.016*\"great\" + 0.014*\"order\" + 0.012*\"service\" + 0.010*\"staff\" + 0.009*\"time\" + 0.009*\"friendly\" + 0.009*\"always\"\n",
      "Tópico 3: 0.016*\"taco\" + 0.012*\"bell\" + 0.011*\"food\" + 0.011*\"order\" + 0.011*\"one\" + 0.009*\"drive\" + 0.008*\"friendly\" + 0.008*\"always\" + 0.007*\"time\" + 0.006*\"get\"\n",
      "Tópico 4: 0.028*\"taco\" + 0.018*\"bell\" + 0.014*\"food\" + 0.011*\"time\" + 0.009*\"order\" + 0.009*\"good\" + 0.009*\"one\" + 0.008*\"get\" + 0.008*\"chicken\" + 0.007*\"like\"\n",
      "\n",
      "Coherencia del modelo LDA: 0.3814056953052045\n"
     ]
    }
   ],
   "source": [
    "#Hacemos una extraccion de las palabras mas relevantes en las reseñas positivas de los restaurantes Taco Bell\n",
    "\n",
    "stop_words = set(stopwords.words('english'))  # Puedes ajustar el idioma según tus datos\n",
    "lemmatizer = WordNetLemmatizer()\n",
    "\n",
    "def preprocess_text(text):\n",
    "    if isinstance(text, str):  # Verificar si el texto es una cadena válida\n",
    "        text = re.sub(r'\\W', ' ', text)  # Eliminar caracteres no alfanuméricos\n",
    "        tokens = word_tokenize(text.lower())  # Tokenización y minúsculas\n",
    "        tokens = [lemmatizer.lemmatize(word) for word in tokens if word not in stop_words]  # Lematización y eliminación de stopwords\n",
    "        return tokens\n",
    "    else:\n",
    "        return []  # Devolver una lista vacía si no es una cadena válida\n",
    "\n",
    "processed_reviews = [preprocess_text(review) for review in dfPostivTacoB[\"review_text\"] if review is not None]\n",
    "\n",
    "# Creación del diccionario y el corpus\n",
    "dictionary = corpora.Dictionary(processed_reviews)\n",
    "corpus = [dictionary.doc2bow(text) for text in processed_reviews]\n",
    "\n",
    "# Modelado de tópicos usando LDA\n",
    "lda_model = LdaModel(corpus=corpus, id2word=dictionary, num_topics=5, random_state=42, passes=10)\n",
    "\n",
    "# Visualización de tópicos\n",
    "for idx, topic in lda_model.print_topics():\n",
    "    print(f'Tópico {idx}: {topic}')\n",
    "\n",
    "# Calcular la coherencia del modelo (opcional, para evaluar la calidad de los tópicos)\n",
    "coherence_model_lda = CoherenceModel(model=lda_model, texts=processed_reviews, dictionary=dictionary, coherence='c_v')\n",
    "coherence_lda = coherence_model_lda.get_coherence()\n",
    "print(f'\\nCoherencia del modelo LDA: {coherence_lda}')"
   ]
  },
  {
   "cell_type": "markdown",
   "metadata": {},
   "source": [
    "## Se hace una extraccion de las palabaras mas repetidas en las reseñas negativas de todos los restaurantes Taco Bell de Florida"
   ]
  },
  {
   "cell_type": "code",
   "execution_count": 25,
   "metadata": {},
   "outputs": [
    {
     "name": "stdout",
     "output_type": "stream",
     "text": [
      "Tópico 0: 0.016*\"time\" + 0.013*\"food\" + 0.012*\"taco\" + 0.011*\"order\" + 0.010*\"bell\" + 0.009*\"service\" + 0.008*\"said\" + 0.008*\"customer\" + 0.008*\"get\" + 0.007*\"manager\"\n",
      "Tópico 1: 0.023*\"taco\" + 0.017*\"order\" + 0.017*\"bell\" + 0.015*\"drive\" + 0.013*\"food\" + 0.010*\"thru\" + 0.009*\"minute\" + 0.008*\"get\" + 0.008*\"service\" + 0.008*\"time\"\n",
      "Tópico 2: 0.018*\"food\" + 0.011*\"order\" + 0.009*\"got\" + 0.009*\"meat\" + 0.008*\"service\" + 0.008*\"never\" + 0.007*\"asked\" + 0.007*\"even\" + 0.007*\"taco\" + 0.007*\"said\"\n",
      "Tópico 3: 0.025*\"taco\" + 0.022*\"bell\" + 0.020*\"food\" + 0.017*\"order\" + 0.015*\"get\" + 0.014*\"go\" + 0.014*\"time\" + 0.013*\"place\" + 0.010*\"never\" + 0.009*\"location\"\n",
      "Tópico 4: 0.025*\"taco\" + 0.020*\"order\" + 0.014*\"food\" + 0.013*\"bell\" + 0.011*\"time\" + 0.010*\"one\" + 0.010*\"back\" + 0.010*\"got\" + 0.009*\"get\" + 0.007*\"location\"\n",
      "\n",
      "Coherencia del modelo LDA: 0.3678846864288593\n"
     ]
    }
   ],
   "source": [
    "#Hacemos una extraccion de las palabras mas relevantes en las reseñas negativas de los restaurantes Taco Bell\n",
    "\n",
    "stop_words = set(stopwords.words('english'))  # Puedes ajustar el idioma según tus datos\n",
    "lemmatizer = WordNetLemmatizer()\n",
    "\n",
    "def preprocess_text(text):\n",
    "    if isinstance(text, str):  # Verificar si el texto es una cadena válida\n",
    "        text = re.sub(r'\\W', ' ', text)  # Eliminar caracteres no alfanuméricos\n",
    "        tokens = word_tokenize(text.lower())  # Tokenización y minúsculas\n",
    "        tokens = [lemmatizer.lemmatize(word) for word in tokens if word not in stop_words]  # Lematización y eliminación de stopwords\n",
    "        return tokens\n",
    "    else:\n",
    "        return []  # Devolver una lista vacía si no es una cadena válida\n",
    "\n",
    "processed_reviews = [preprocess_text(review) for review in dfNegativTacoB[\"review_text\"] if review is not None]\n",
    "\n",
    "# Creación del diccionario y el corpus\n",
    "dictionary = corpora.Dictionary(processed_reviews)\n",
    "corpus = [dictionary.doc2bow(text) for text in processed_reviews]\n",
    "\n",
    "# Modelado de tópicos usando LDA\n",
    "lda_model = LdaModel(corpus=corpus, id2word=dictionary, num_topics=5, random_state=42, passes=10)\n",
    "\n",
    "# Visualización de tópicos\n",
    "for idx, topic in lda_model.print_topics():\n",
    "    print(f'Tópico {idx}: {topic}')\n",
    "\n",
    "# Calcular la coherencia del modelo (opcional, para evaluar la calidad de los tópicos)\n",
    "coherence_model_lda = CoherenceModel(model=lda_model, texts=processed_reviews, dictionary=dictionary, coherence='c_v')\n",
    "coherence_lda = coherence_model_lda.get_coherence()\n",
    "print(f'\\nCoherencia del modelo LDA: {coherence_lda}')\n"
   ]
  },
  {
   "cell_type": "code",
   "execution_count": 1,
   "metadata": {},
   "outputs": [],
   "source": [
    "import streamlit as st"
   ]
  },
  {
   "cell_type": "code",
   "execution_count": 29,
   "metadata": {},
   "outputs": [
    {
     "name": "stderr",
     "output_type": "stream",
     "text": [
      "2024-07-02 12:09:33.953 \n",
      "  \u001b[33m\u001b[1mWarning:\u001b[0m to view this Streamlit app on a browser, run it with the following\n",
      "  command:\n",
      "\n",
      "    streamlit run C:\\Users\\juanc.DESKTOP-LGMDQP1\\AppData\\Local\\Packages\\PythonSoftwareFoundation.Python.3.11_qbz5n2kfra8p0\\LocalCache\\local-packages\\Python311\\site-packages\\ipykernel_launcher.py [ARGUMENTS]\n"
     ]
    }
   ],
   "source": [
    "st.write(\"Hello World\")"
   ]
  }
 ],
 "metadata": {
  "kernelspec": {
   "display_name": "Python 3",
   "language": "python",
   "name": "python3"
  },
  "language_info": {
   "codemirror_mode": {
    "name": "ipython",
    "version": 3
   },
   "file_extension": ".py",
   "mimetype": "text/x-python",
   "name": "python",
   "nbconvert_exporter": "python",
   "pygments_lexer": "ipython3",
   "version": "3.11.9"
  }
 },
 "nbformat": 4,
 "nbformat_minor": 2
}
