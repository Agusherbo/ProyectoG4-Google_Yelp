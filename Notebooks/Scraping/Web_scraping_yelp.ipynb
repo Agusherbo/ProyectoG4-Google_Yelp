{
 "cells": [
  {
   "cell_type": "code",
   "execution_count": 6,
   "metadata": {},
   "outputs": [],
   "source": [
    "import gspread\n",
    "import time \n",
    "from datetime import datetime\n",
    "import re\n",
    "from selenium import webdriver\n",
    "from selenium.webdriver.common.action_chains import ActionChains\n",
    "from selenium.webdriver.common.by import By\n",
    "import pandas as pd\n",
    "from selenium.webdriver.support.wait import WebDriverWait\n",
    "from selenium.webdriver.support import expected_conditions as EC"
   ]
  },
  {
   "cell_type": "code",
   "execution_count": 3,
   "metadata": {},
   "outputs": [],
   "source": [
    "ciudades = ['Boca Raton, FL, United States', 'Cayo Hueso, FL, United States', 'Cococa Beach, FL, United Estates', '']\n",
    "categoria = 'Mexican'"
   ]
  },
  {
   "cell_type": "code",
   "execution_count": 24,
   "metadata": {},
   "outputs": [],
   "source": [
    "driver = webdriver.Chrome()\n",
    "link = 'https://www.yelp.com/'\n",
    "driver.get(link)\n",
    "\n",
    "time.sleep(2)\n",
    "category = driver.find_element(By.XPATH, '//*[@id=\"search_description\"]')\n",
    "\n",
    "category.clear()\n",
    "category.click()\n",
    "category.send_keys('Mexican')\n",
    "time.sleep(1)\n",
    "\n",
    "ciudad = driver.find_element(By.XPATH, '//*[@id=\"search_location\"]')\n",
    "\n",
    "ciudad.clear()\n",
    "ciudad.click()\n",
    "ciudad.send_keys(ciudades[0])\n",
    "time.sleep(1)\n",
    "\n",
    "buscar = driver.find_element(By.XPATH, '//*[@id=\"header_find_form\"]/div[3]/button')\n",
    "\n",
    "buscar.click()"
   ]
  }
 ],
 "metadata": {
  "kernelspec": {
   "display_name": "Python 3",
   "language": "python",
   "name": "python3"
  },
  "language_info": {
   "codemirror_mode": {
    "name": "ipython",
    "version": 3
   },
   "file_extension": ".py",
   "mimetype": "text/x-python",
   "name": "python",
   "nbconvert_exporter": "python",
   "pygments_lexer": "ipython3",
   "version": "3.12.4"
  }
 },
 "nbformat": 4,
 "nbformat_minor": 2
}
