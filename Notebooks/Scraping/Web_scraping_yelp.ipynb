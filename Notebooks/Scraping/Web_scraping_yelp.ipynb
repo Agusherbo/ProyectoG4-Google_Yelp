{
 "cells": [
  {
   "cell_type": "code",
   "execution_count": 2,
   "metadata": {},
   "outputs": [],
   "source": [
    "import gspread\n",
    "import time \n",
    "from datetime import datetime\n",
    "import re\n",
    "from selenium import webdriver\n",
    "from selenium.webdriver.common.action_chains import ActionChains\n",
    "from selenium.webdriver.common.by import By\n",
    "import pandas as pd\n",
    "from selenium.webdriver.support.wait import WebDriverWait\n",
    "from selenium.webdriver.support import expected_conditions as EC"
   ]
  },
  {
   "cell_type": "code",
   "execution_count": 4,
   "metadata": {},
   "outputs": [],
   "source": [
    "ciudades = ['Boca Raton, FL, United States', 'Cayo Hueso, FL, United States', 'Cococa Beach, FL, United Estates', '']\n",
    "categoria = 'Mexican'"
   ]
  },
  {
   "cell_type": "code",
   "execution_count": 43,
   "metadata": {},
   "outputs": [],
   "source": [
    "driver = webdriver.Chrome()\n",
    "link = 'https://www.yelp.com/'\n",
    "driver.get(link)\n",
    "\n",
    "time.sleep(2)\n",
    "category = driver.find_element(By.XPATH, '//*[@id=\"search_description\"]')\n",
    "\n",
    "category.clear()\n",
    "category.click()\n",
    "category.send_keys('Mexican')\n",
    "time.sleep(1)\n",
    "\n",
    "ciudad = driver.find_element(By.XPATH, '//*[@id=\"search_location\"]')\n",
    "\n",
    "ciudad.clear()\n",
    "ciudad.click()\n",
    "ciudad.send_keys(ciudades[0])\n",
    "time.sleep(1)\n",
    "\n",
    "buscar = driver.find_element(By.XPATH, '//*[@id=\"header_find_form\"]/div[3]/button')\n",
    "\n",
    "buscar.click()\n",
    "\n",
    "restaurantes = driver.find_elements(By.CLASS_NAME, 'y-css-cxcdjj')\n",
    "restaurante = restaurantes[0]\n",
    "\n",
    "restaurante.click()\n",
    "time.sleep(5)\n",
    "\n",
    "driver.switch_to.window(driver.window_handles[1])\n",
    "\n",
    "\n",
<<<<<<< HEAD
    "# driver.close()"
=======
    "# driver.close() ."
>>>>>>> ML_enginer
   ]
  },
  {
   "cell_type": "code",
   "execution_count": 31,
   "metadata": {},
   "outputs": [
    {
     "data": {
      "text/plain": [
       "[<selenium.webdriver.remote.webelement.WebElement (session=\"15d37e32e4f2eaa0b3ad9aff47cdb438\", element=\"f.4DBAD7A9BF797EE6B078C4F99B7EE772.d.0675481759C1F004BA76E7859C4B22D8.e.148\")>,\n",
       " <selenium.webdriver.remote.webelement.WebElement (session=\"15d37e32e4f2eaa0b3ad9aff47cdb438\", element=\"f.4DBAD7A9BF797EE6B078C4F99B7EE772.d.0675481759C1F004BA76E7859C4B22D8.e.149\")>,\n",
       " <selenium.webdriver.remote.webelement.WebElement (session=\"15d37e32e4f2eaa0b3ad9aff47cdb438\", element=\"f.4DBAD7A9BF797EE6B078C4F99B7EE772.d.0675481759C1F004BA76E7859C4B22D8.e.150\")>,\n",
       " <selenium.webdriver.remote.webelement.WebElement (session=\"15d37e32e4f2eaa0b3ad9aff47cdb438\", element=\"f.4DBAD7A9BF797EE6B078C4F99B7EE772.d.0675481759C1F004BA76E7859C4B22D8.e.151\")>,\n",
       " <selenium.webdriver.remote.webelement.WebElement (session=\"15d37e32e4f2eaa0b3ad9aff47cdb438\", element=\"f.4DBAD7A9BF797EE6B078C4F99B7EE772.d.0675481759C1F004BA76E7859C4B22D8.e.152\")>,\n",
       " <selenium.webdriver.remote.webelement.WebElement (session=\"15d37e32e4f2eaa0b3ad9aff47cdb438\", element=\"f.4DBAD7A9BF797EE6B078C4F99B7EE772.d.0675481759C1F004BA76E7859C4B22D8.e.153\")>,\n",
       " <selenium.webdriver.remote.webelement.WebElement (session=\"15d37e32e4f2eaa0b3ad9aff47cdb438\", element=\"f.4DBAD7A9BF797EE6B078C4F99B7EE772.d.0675481759C1F004BA76E7859C4B22D8.e.154\")>,\n",
       " <selenium.webdriver.remote.webelement.WebElement (session=\"15d37e32e4f2eaa0b3ad9aff47cdb438\", element=\"f.4DBAD7A9BF797EE6B078C4F99B7EE772.d.0675481759C1F004BA76E7859C4B22D8.e.155\")>,\n",
       " <selenium.webdriver.remote.webelement.WebElement (session=\"15d37e32e4f2eaa0b3ad9aff47cdb438\", element=\"f.4DBAD7A9BF797EE6B078C4F99B7EE772.d.0675481759C1F004BA76E7859C4B22D8.e.156\")>,\n",
       " <selenium.webdriver.remote.webelement.WebElement (session=\"15d37e32e4f2eaa0b3ad9aff47cdb438\", element=\"f.4DBAD7A9BF797EE6B078C4F99B7EE772.d.0675481759C1F004BA76E7859C4B22D8.e.157\")>,\n",
       " <selenium.webdriver.remote.webelement.WebElement (session=\"15d37e32e4f2eaa0b3ad9aff47cdb438\", element=\"f.4DBAD7A9BF797EE6B078C4F99B7EE772.d.0675481759C1F004BA76E7859C4B22D8.e.158\")>,\n",
       " <selenium.webdriver.remote.webelement.WebElement (session=\"15d37e32e4f2eaa0b3ad9aff47cdb438\", element=\"f.4DBAD7A9BF797EE6B078C4F99B7EE772.d.0675481759C1F004BA76E7859C4B22D8.e.159\")>,\n",
       " <selenium.webdriver.remote.webelement.WebElement (session=\"15d37e32e4f2eaa0b3ad9aff47cdb438\", element=\"f.4DBAD7A9BF797EE6B078C4F99B7EE772.d.0675481759C1F004BA76E7859C4B22D8.e.160\")>,\n",
       " <selenium.webdriver.remote.webelement.WebElement (session=\"15d37e32e4f2eaa0b3ad9aff47cdb438\", element=\"f.4DBAD7A9BF797EE6B078C4F99B7EE772.d.0675481759C1F004BA76E7859C4B22D8.e.161\")>]"
      ]
     },
     "execution_count": 31,
     "metadata": {},
     "output_type": "execute_result"
    }
   ],
   "source": [
    "restaurantes"
   ]
  },
  {
   "cell_type": "code",
   "execution_count": 38,
   "metadata": {},
   "outputs": [],
   "source": [
    "restaurantes[3].click()"
   ]
  },
  {
   "cell_type": "code",
   "execution_count": 44,
   "metadata": {},
   "outputs": [
    {
     "data": {
      "text/plain": [
       "'U Pizza'"
      ]
     },
     "execution_count": 44,
     "metadata": {},
     "output_type": "execute_result"
    }
   ],
   "source": [
    "name = driver.find_element(By.XPATH, '/html/body/yelp-react-root/div[1]/div[4]/div[1]/div[1]/div/div/div[1]/h1').text\n",
    "\n",
    "name"
   ]
  }
 ],
 "metadata": {
  "kernelspec": {
   "display_name": "Python 3",
   "language": "python",
   "name": "python3"
  },
  "language_info": {
   "codemirror_mode": {
    "name": "ipython",
    "version": 3
   },
   "file_extension": ".py",
   "mimetype": "text/x-python",
   "name": "python",
   "nbconvert_exporter": "python",
   "pygments_lexer": "ipython3",
   "version": "3.12.4"
  }
 },
 "nbformat": 4,
 "nbformat_minor": 2
}
