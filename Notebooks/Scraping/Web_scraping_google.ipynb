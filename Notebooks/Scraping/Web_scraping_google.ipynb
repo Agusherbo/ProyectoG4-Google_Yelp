{
 "cells": [
  {
   "cell_type": "code",
   "execution_count": 2,
   "metadata": {},
   "outputs": [],
   "source": [
    "import gspread\n",
    "import time \n",
    "from datetime import datetime\n",
    "import re\n",
    "from selenium import webdriver\n",
    "from selenium.webdriver.common.action_chains import ActionChains\n",
    "from selenium.webdriver.common.by import By\n",
    "import pandas as pd\n"
   ]
  },
  {
   "cell_type": "code",
   "execution_count": 6,
   "metadata": {},
   "outputs": [],
   "source": [
    "class ScrapearGMaps:\n",
    "\n",
    "    data = {}\n",
    "    worksheet = {}\n",
    "\n",
    "\n",
    "    def __init__(self) -> None:\n",
    "        # Iniciamos el webdriver\n",
    "        self.driver = webdriver.Chrome()\n",
    "\n",
    "    # Funcion para scrollear\n",
    "    def scroll_page (self):\n",
    "        # Identificamos el objeto hacia el que queremos hacer el scroll\n",
    "        section_loading = self.driver.find_element(By.CLASS_NAME, 'TFQHme ')\n",
    "\n",
    "        # Hacer scroll en los resultados\n",
    "        for _ in range(30):  # Ajustar el rango según la cantidad de scrolls que necesites\n",
    "            scrollable_div = self.driver.find_element(By.XPATH, '//*[@id=\"QA0Szd\"]/div/div/div[1]/div[2]/div/div[1]/div/div/div[1]/div[1]')\n",
    "            self.driver.execute_script(\"arguments[0].scrollTop = arguments[0].scrollHeight\", scrollable_div)\n",
    "            time.sleep(3)  # Esperar un poco antes de hacer el siguiente scroll\n",
    "\n",
    "    # Funcion para obtener el nombre\n",
    "    def get_name (self):\n",
    "        try:\n",
    "            # Por medio del Xpath extraemos el texto del nombre\n",
    "            return self.driver.find_element(By.XPATH, '//*[@id=\"QA0Szd\"]/div/div/div[1]/div[3]/div/div[1]/div/div/div[2]/div[2]/div/div[1]/div[1]/h1').text\n",
    "        except:\n",
    "            return \"SD\"\n",
    "        \n",
    "    def get_coord (self,link):\n",
    "        coordenadas = re.search(r\"!3d-?\\d\\d?\\.\\d{4,8}!4d-?\\d\\d?\\.\\d{4,8}\", link).group()\n",
    "        coordenada = coordenadas.replace('!3d','')\n",
    "\n",
    "        return tuple(coordenada.split('!4d'))\n",
    "    \n",
    "    def get_gmapid(self,link):\n",
    "        patron = r'0x[0-9a-fA-F]+:0x[0-9a-fA-F]+'\n",
    "\n",
    "        try:\n",
    "            match = re.search(patron, link)\n",
    "\n",
    "            extracted_data = match.group()\n",
    "            return extracted_data\n",
    "\n",
    "        except:\n",
    "            return 'Extraccion fallida'\n",
    "        \n",
    "\n",
    "    def get_category (self):\n",
    "\n",
    "        categoria=self.driver.find_element(By.XPATH, '//*[@id=\"QA0Szd\"]/div/div/div[1]/div[3]/div/div[1]/div/div/div[2]/div[2]/div/div[1]/div[2]/div/div[2]/span[1]/span/button').text\n",
    "\n",
    "        return categoria\n",
    "    \n",
    "    def get_rating (self):\n",
    "        rating = self.driver.find_element(By.XPATH, '//*[@id=\"QA0Szd\"]/div/div/div[1]/div[3]/div/div[1]/div/div/div[2]/div[2]/div/div[1]/div[2]/div/div[1]/div[2]/span[1]/span[1]').text\n",
    "        rating = rating.replace(',','.')\n",
    "        \n",
    "        return float(rating)\n",
    "    \n",
    "    def get_reviews (self):\n",
    "\n",
    "        reviews = self.driver.find_element(By.XPATH, '//*[@id=\"QA0Szd\"]/div/div/div[1]/div[3]/div/div[1]/div/div/div[2]/div[2]/div/div[1]/div[2]/div/div[1]/div[2]/span[2]/span/span').text\n",
    "        reviews = reviews.replace('.','')\n",
    "        reviews = reviews.replace('(','')\n",
    "        reviews = reviews.replace(')','')\n",
    "        \n",
    "        return int(reviews)\n",
    "    \n",
    "    def get_direccion (self):\n",
    "            try:\n",
    "                direccion = self.driver.find_element(By.XPATH, '//*[@id=\"QA0Szd\"]/div/div/div[1]/div[3]/div/div[1]/div/div/div[2]/div[9]/div[3]/button/div/div[2]/div[1]').text\n",
    "\n",
    "                return direccion\n",
    "            except:\n",
    "                direccion = self.driver.find_element(By.XPATH, '//*[@id=\"QA0Szd\"]/div/div/div[1]/div[3]/div/div[1]/div/div/div[2]/div[11]/div[3]/button/div/div[2]/div[1]').text\n",
    "\n",
    "                return direccion\n",
    "\n",
    "    # Creamos una funcion para extraer la ciudad desde la direccion\n",
    "    def extraer_ciudad(self, direccion):\n",
    "\n",
    "        try:\n",
    "            # Dividir la dirección en partes usando la coma como separador\n",
    "            partes = direccion.split(\", \")\n",
    "\n",
    "            # Asegurarse de que haya al menos tres partes (ciudad, estado_código postal)\n",
    "            if len(partes) >= 3:\n",
    "                ciudad = partes[1]  # Extraer la 3ra parte como ciudad\n",
    "                return ciudad\n",
    "            else:\n",
    "                return None # Devolver None para ciudad y estado si tiene la configuración planteada\n",
    "        except IndexError:\n",
    "            return None  # Devolver None para ciudad y estado si la extracción falla\n",
    "    \n",
    "    def get_reviews_completas (self):\n",
    "\n",
    "        self.driver.find_element(By.XPATH, '//*[@id=\"QA0Szd\"]/div/div/div[1]/div[3]/div/div[1]/div/div/div[2]/div[3]/div/div/button[2]/div[2]/div[2]')\n",
    "\n",
    "\n",
    "    def scraping (self,link):\n",
    "\n",
    "        name = []\n",
    "        gmap_id = []\n",
    "        latitud = []\n",
    "        longitud = []\n",
    "        categoria = []\n",
    "        avg_rating = []\n",
    "        reviews = []\n",
    "        ciudad = []\n",
    "\n",
    "\n",
    "        self.driver.get(link)\n",
    "\n",
    "        time.sleep(5)\n",
    "\n",
    "        self.scroll_page()\n",
    "\n",
    "        lugares = self.driver.find_elements(By.CLASS_NAME, 'hfpxzc')\n",
    "        cantidad = len(lugares)\n",
    "\n",
    "        for i in range(0,cantidad):\n",
    "            \n",
    "            try:\n",
    "\n",
    "                lugar = lugares[i]\n",
    "\n",
    "                scrollable_div = self.driver.find_element(By.XPATH, '//*[@id=\"QA0Szd\"]/div/div/div[1]/div[2]/div/div[1]/div/div/div[1]/div[1]')\n",
    "                self.driver.execute_script(\"arguments[0].scrollIntoView();\", lugar)\n",
    "\n",
    "                time.sleep(2)\n",
    "                lugar.click()\n",
    "\n",
    "                time.sleep(4)\n",
    "\n",
    "                name_temp = self.get_name()\n",
    "                mapid_temp = self.get_gmapid(self.driver.current_url)\n",
    "                coordenadas = self.get_coord(self.driver.current_url)\n",
    "                categoria_temp = self.get_category()\n",
    "                rating_temp = self.get_rating()\n",
    "                reviews_temp = self.get_reviews()\n",
    "                direccion = self.get_direccion()\n",
    "                ciudad_temp = self.extraer_ciudad(direccion)\n",
    "\n",
    "\n",
    "                name.append(name_temp)\n",
    "                gmap_id.append(mapid_temp)\n",
    "                latitud.append(coordenadas[0])\n",
    "                longitud.append(coordenadas[1])\n",
    "                categoria.append(categoria_temp)\n",
    "                avg_rating.append(rating_temp)\n",
    "                reviews.append(reviews_temp)\n",
    "                ciudad.append(ciudad_temp)\n",
    "                time.sleep(2)\n",
    "            except:\n",
    "\n",
    "                name.append(None)\n",
    "                gmap_id.append(None)\n",
    "                latitud.append(None)\n",
    "                longitud.append(None)\n",
    "                categoria.append(None)\n",
    "                avg_rating.append(None)\n",
    "                reviews.append(None)\n",
    "                ciudad.append(None)\n",
    "                time.sleep(2)\n",
    "\n",
    "\n",
    "        df = pd.DataFrame({'name':name,\n",
    "                            'gmap_id':gmap_id,\n",
    "                            'latitude':latitud,\n",
    "                            'longitude':longitud,\n",
    "                            'category':categoria,\n",
    "                            'avg_rating':avg_rating,\n",
    "                            'num_of_reviws':reviews,\n",
    "                            'city':ciudad})\n",
    "            \n",
    "        return df"
   ]
  },
  {
   "cell_type": "code",
   "execution_count": 7,
   "metadata": {},
   "outputs": [],
   "source": [
    "link = 'https://www.google.com/maps/search/Restaurantes,+Florida,+EEUU/@28.4613115,-91.2139021,6z/data=!4m2!2m1!6e5?entry=ttu'\n",
    "\n",
    "gscraping = ScrapearGMaps()\n",
    "\n",
    "df = gscraping.scraping(link)"
   ]
  },
  {
   "cell_type": "code",
   "execution_count": 8,
   "metadata": {},
   "outputs": [
    {
     "data": {
      "text/html": [
       "<div>\n",
       "<style scoped>\n",
       "    .dataframe tbody tr th:only-of-type {\n",
       "        vertical-align: middle;\n",
       "    }\n",
       "\n",
       "    .dataframe tbody tr th {\n",
       "        vertical-align: top;\n",
       "    }\n",
       "\n",
       "    .dataframe thead th {\n",
       "        text-align: right;\n",
       "    }\n",
       "</style>\n",
       "<table border=\"1\" class=\"dataframe\">\n",
       "  <thead>\n",
       "    <tr style=\"text-align: right;\">\n",
       "      <th></th>\n",
       "      <th>name</th>\n",
       "      <th>gmap_id</th>\n",
       "      <th>latitude</th>\n",
       "      <th>longitude</th>\n",
       "      <th>category</th>\n",
       "      <th>avg_rating</th>\n",
       "      <th>num_of_reviws</th>\n",
       "      <th>city</th>\n",
       "    </tr>\n",
       "  </thead>\n",
       "  <tbody>\n",
       "    <tr>\n",
       "      <th>0</th>\n",
       "      <td>El Cilantrillo Restaurant</td>\n",
       "      <td>0x88e77dddfa7e805d:0xf115633fcf003d5</td>\n",
       "      <td>28.4501349</td>\n",
       "      <td>-81.3969286</td>\n",
       "      <td>Restaurante puertorriqueño</td>\n",
       "      <td>4.6</td>\n",
       "      <td>3725</td>\n",
       "      <td>Orlando</td>\n",
       "    </tr>\n",
       "    <tr>\n",
       "      <th>1</th>\n",
       "      <td>Rusty Pelican Miami</td>\n",
       "      <td>0x88d9b5ce30dc6373:0xb44eee30744447fe</td>\n",
       "      <td>25.7478726</td>\n",
       "      <td>-80.1756055</td>\n",
       "      <td>Marisquería</td>\n",
       "      <td>4.7</td>\n",
       "      <td>17313</td>\n",
       "      <td>Key Biscayne</td>\n",
       "    </tr>\n",
       "    <tr>\n",
       "      <th>2</th>\n",
       "      <td>CVI.CHE 105</td>\n",
       "      <td>0x88d9b69e13f63e97:0xf33305312982752d</td>\n",
       "      <td>25.7754765</td>\n",
       "      <td>-80.1884418</td>\n",
       "      <td>Restaurante peruano</td>\n",
       "      <td>4.8</td>\n",
       "      <td>20366</td>\n",
       "      <td>Miami</td>\n",
       "    </tr>\n",
       "    <tr>\n",
       "      <th>3</th>\n",
       "      <td>Bolivar Restaurant Bar</td>\n",
       "      <td>0x88d9b48d331b8829:0x5596e06af04e632f</td>\n",
       "      <td>25.779079</td>\n",
       "      <td>-80.1329652</td>\n",
       "      <td>Restaurante colombiano</td>\n",
       "      <td>4.5</td>\n",
       "      <td>2321</td>\n",
       "      <td>Miami Beach</td>\n",
       "    </tr>\n",
       "    <tr>\n",
       "      <th>4</th>\n",
       "      <td>Crazy About You</td>\n",
       "      <td>0x88d9b681bd4b567b:0x4eef938c35d01d59</td>\n",
       "      <td>25.7620008</td>\n",
       "      <td>-80.1889886</td>\n",
       "      <td>Restaurante americano</td>\n",
       "      <td>4.7</td>\n",
       "      <td>11348</td>\n",
       "      <td>Miami</td>\n",
       "    </tr>\n",
       "    <tr>\n",
       "      <th>...</th>\n",
       "      <td>...</td>\n",
       "      <td>...</td>\n",
       "      <td>...</td>\n",
       "      <td>...</td>\n",
       "      <td>...</td>\n",
       "      <td>...</td>\n",
       "      <td>...</td>\n",
       "      <td>...</td>\n",
       "    </tr>\n",
       "    <tr>\n",
       "      <th>115</th>\n",
       "      <td>Casita Tejas Mexican Restaurant</td>\n",
       "      <td>0x88d9e740086e63af:0x640fb304b68f804c</td>\n",
       "      <td>25.4704744</td>\n",
       "      <td>-80.4771906</td>\n",
       "      <td>Restaurante tex-mex</td>\n",
       "      <td>4.3</td>\n",
       "      <td>1606</td>\n",
       "      <td>Homestead</td>\n",
       "    </tr>\n",
       "    <tr>\n",
       "      <th>116</th>\n",
       "      <td>BACÁN</td>\n",
       "      <td>0x88dd89c0e8c9326b:0x64b95017c8e50fbc</td>\n",
       "      <td>28.3738554</td>\n",
       "      <td>-81.2815686</td>\n",
       "      <td>Restaurante latinoamericano</td>\n",
       "      <td>4.6</td>\n",
       "      <td>549</td>\n",
       "      <td>Orlando</td>\n",
       "    </tr>\n",
       "    <tr>\n",
       "      <th>117</th>\n",
       "      <td>Burger King</td>\n",
       "      <td>0x88de69862930a12d:0xb89855564d571f57</td>\n",
       "      <td>27.840249</td>\n",
       "      <td>-80.487037</td>\n",
       "      <td>Restaurante</td>\n",
       "      <td>3.1</td>\n",
       "      <td>372</td>\n",
       "      <td>Sebastian</td>\n",
       "    </tr>\n",
       "    <tr>\n",
       "      <th>118</th>\n",
       "      <td>Ponderosa Steakhouse</td>\n",
       "      <td>0x88dd7ebaf9deb90f:0x9ee7bac84e298a1c</td>\n",
       "      <td>28.3333706</td>\n",
       "      <td>-81.5899512</td>\n",
       "      <td>Restaurante especializado en filetes</td>\n",
       "      <td>3.7</td>\n",
       "      <td>4299</td>\n",
       "      <td>Kissimmee</td>\n",
       "    </tr>\n",
       "    <tr>\n",
       "      <th>119</th>\n",
       "      <td>TGI Fridays</td>\n",
       "      <td>0x88e77ec3b32fe637:0xb7b44841c17aa3a5</td>\n",
       "      <td>28.477045</td>\n",
       "      <td>-81.4576029</td>\n",
       "      <td>Restaurante</td>\n",
       "      <td>3.8</td>\n",
       "      <td>4729</td>\n",
       "      <td>Orlando</td>\n",
       "    </tr>\n",
       "  </tbody>\n",
       "</table>\n",
       "<p>120 rows × 8 columns</p>\n",
       "</div>"
      ],
      "text/plain": [
       "                                name                                gmap_id  \\\n",
       "0          El Cilantrillo Restaurant   0x88e77dddfa7e805d:0xf115633fcf003d5   \n",
       "1                Rusty Pelican Miami  0x88d9b5ce30dc6373:0xb44eee30744447fe   \n",
       "2                        CVI.CHE 105  0x88d9b69e13f63e97:0xf33305312982752d   \n",
       "3             Bolivar Restaurant Bar  0x88d9b48d331b8829:0x5596e06af04e632f   \n",
       "4                    Crazy About You  0x88d9b681bd4b567b:0x4eef938c35d01d59   \n",
       "..                               ...                                    ...   \n",
       "115  Casita Tejas Mexican Restaurant  0x88d9e740086e63af:0x640fb304b68f804c   \n",
       "116                            BACÁN  0x88dd89c0e8c9326b:0x64b95017c8e50fbc   \n",
       "117                      Burger King  0x88de69862930a12d:0xb89855564d571f57   \n",
       "118             Ponderosa Steakhouse  0x88dd7ebaf9deb90f:0x9ee7bac84e298a1c   \n",
       "119                      TGI Fridays  0x88e77ec3b32fe637:0xb7b44841c17aa3a5   \n",
       "\n",
       "       latitude    longitude                              category  \\\n",
       "0    28.4501349  -81.3969286            Restaurante puertorriqueño   \n",
       "1    25.7478726  -80.1756055                           Marisquería   \n",
       "2    25.7754765  -80.1884418                   Restaurante peruano   \n",
       "3     25.779079  -80.1329652                Restaurante colombiano   \n",
       "4    25.7620008  -80.1889886                 Restaurante americano   \n",
       "..          ...          ...                                   ...   \n",
       "115  25.4704744  -80.4771906                   Restaurante tex-mex   \n",
       "116  28.3738554  -81.2815686           Restaurante latinoamericano   \n",
       "117   27.840249   -80.487037                           Restaurante   \n",
       "118  28.3333706  -81.5899512  Restaurante especializado en filetes   \n",
       "119   28.477045  -81.4576029                           Restaurante   \n",
       "\n",
       "     avg_rating  num_of_reviws          city  \n",
       "0           4.6           3725       Orlando  \n",
       "1           4.7          17313  Key Biscayne  \n",
       "2           4.8          20366         Miami  \n",
       "3           4.5           2321   Miami Beach  \n",
       "4           4.7          11348         Miami  \n",
       "..          ...            ...           ...  \n",
       "115         4.3           1606     Homestead  \n",
       "116         4.6            549       Orlando  \n",
       "117         3.1            372     Sebastian  \n",
       "118         3.7           4299     Kissimmee  \n",
       "119         3.8           4729       Orlando  \n",
       "\n",
       "[120 rows x 8 columns]"
      ]
     },
     "execution_count": 8,
     "metadata": {},
     "output_type": "execute_result"
    }
   ],
   "source": [
    "df"
   ]
  },
  {
   "cell_type": "code",
   "execution_count": 31,
   "metadata": {},
   "outputs": [],
   "source": [
    "df.to_parquet('../../Data/Parquet/Scraping_sitios_google.parquet', index=False)"
   ]
  },
  {
   "cell_type": "code",
   "execution_count": 3,
   "metadata": {},
   "outputs": [
    {
     "ename": "InvalidSelectorException",
     "evalue": "Message: invalid selector\nfrom javascript error: {\"status\":32,\"value\":\"An invalid or illegal selector was specified\"}\n  (Session info: chrome=126.0.6478.115); For documentation on this error, please visit: https://www.selenium.dev/documentation/webdriver/troubleshooting/errors#invalid-selector-exception\nStacktrace:\n\tGetHandleVerifier [0x00007FF6731D3E32+31618]\n\t(No symbol) [0x00007FF67314B099]\n\t(No symbol) [0x00007FF67300888A]\n\t(No symbol) [0x00007FF67300E6BE]\n\t(No symbol) [0x00007FF673011011]\n\t(No symbol) [0x00007FF6730110B0]\n\t(No symbol) [0x00007FF67305805C]\n\t(No symbol) [0x00007FF67305862C]\n\t(No symbol) [0x00007FF67309F787]\n\t(No symbol) [0x00007FF67307D14F]\n\t(No symbol) [0x00007FF67309CA80]\n\t(No symbol) [0x00007FF67307CEB3]\n\t(No symbol) [0x00007FF67304A46B]\n\t(No symbol) [0x00007FF67304B001]\n\tGetHandleVerifier [0x00007FF6734D9FFD+3202381]\n\tGetHandleVerifier [0x00007FF673526A1D+3516269]\n\tGetHandleVerifier [0x00007FF67351C490+3473888]\n\tGetHandleVerifier [0x00007FF673285D36+760454]\n\t(No symbol) [0x00007FF673156B3F]\n\t(No symbol) [0x00007FF673151CD4]\n\t(No symbol) [0x00007FF673151E62]\n\t(No symbol) [0x00007FF67314120F]\n\tBaseThreadInitThunk [0x00007FFAD45E257D+29]\n\tRtlUserThreadStart [0x00007FFAD56EAF28+40]\n",
     "output_type": "error",
     "traceback": [
      "\u001b[1;31m---------------------------------------------------------------------------\u001b[0m",
      "\u001b[1;31mInvalidSelectorException\u001b[0m                  Traceback (most recent call last)",
      "Cell \u001b[1;32mIn[3], line 23\u001b[0m\n\u001b[0;32m     21\u001b[0m lugar\u001b[38;5;241m.\u001b[39mclick()\n\u001b[0;32m     22\u001b[0m time\u001b[38;5;241m.\u001b[39msleep (\u001b[38;5;241m2\u001b[39m)\n\u001b[1;32m---> 23\u001b[0m nombre\u001b[38;5;241m=\u001b[39m\u001b[43mdriver\u001b[49m\u001b[38;5;241;43m.\u001b[39;49m\u001b[43mfind_element\u001b[49m\u001b[43m(\u001b[49m\u001b[43mBy\u001b[49m\u001b[38;5;241;43m.\u001b[39;49m\u001b[43mCLASS_NAME\u001b[49m\u001b[43m,\u001b[49m\u001b[43m \u001b[49m\u001b[38;5;124;43m'\u001b[39;49m\u001b[38;5;124;43m//*[@id=\u001b[39;49m\u001b[38;5;124;43m\"\u001b[39;49m\u001b[38;5;124;43mQA0Szd\u001b[39;49m\u001b[38;5;124;43m\"\u001b[39;49m\u001b[38;5;124;43m]/div/div/div[1]/div[3]/div/div[1]/div/div/div[2]/div[2]/div/div[1]/div[1]/h1\u001b[39;49m\u001b[38;5;124;43m'\u001b[39;49m\u001b[43m)\u001b[49m\u001b[38;5;241m.\u001b[39mtext\n\u001b[0;32m     24\u001b[0m \u001b[38;5;28mprint\u001b[39m(nombre)\n\u001b[0;32m     26\u001b[0m url \u001b[38;5;241m=\u001b[39m driver\u001b[38;5;241m.\u001b[39mcurrent_url\n",
      "File \u001b[1;32m~\\AppData\\Local\\Packages\\PythonSoftwareFoundation.Python.3.12_qbz5n2kfra8p0\\LocalCache\\local-packages\\Python312\\site-packages\\selenium\\webdriver\\remote\\webdriver.py:748\u001b[0m, in \u001b[0;36mWebDriver.find_element\u001b[1;34m(self, by, value)\u001b[0m\n\u001b[0;32m    745\u001b[0m     by \u001b[38;5;241m=\u001b[39m By\u001b[38;5;241m.\u001b[39mCSS_SELECTOR\n\u001b[0;32m    746\u001b[0m     value \u001b[38;5;241m=\u001b[39m \u001b[38;5;124mf\u001b[39m\u001b[38;5;124m'\u001b[39m\u001b[38;5;124m[name=\u001b[39m\u001b[38;5;124m\"\u001b[39m\u001b[38;5;132;01m{\u001b[39;00mvalue\u001b[38;5;132;01m}\u001b[39;00m\u001b[38;5;124m\"\u001b[39m\u001b[38;5;124m]\u001b[39m\u001b[38;5;124m'\u001b[39m\n\u001b[1;32m--> 748\u001b[0m \u001b[38;5;28;01mreturn\u001b[39;00m \u001b[38;5;28;43mself\u001b[39;49m\u001b[38;5;241;43m.\u001b[39;49m\u001b[43mexecute\u001b[49m\u001b[43m(\u001b[49m\u001b[43mCommand\u001b[49m\u001b[38;5;241;43m.\u001b[39;49m\u001b[43mFIND_ELEMENT\u001b[49m\u001b[43m,\u001b[49m\u001b[43m \u001b[49m\u001b[43m{\u001b[49m\u001b[38;5;124;43m\"\u001b[39;49m\u001b[38;5;124;43musing\u001b[39;49m\u001b[38;5;124;43m\"\u001b[39;49m\u001b[43m:\u001b[49m\u001b[43m \u001b[49m\u001b[43mby\u001b[49m\u001b[43m,\u001b[49m\u001b[43m \u001b[49m\u001b[38;5;124;43m\"\u001b[39;49m\u001b[38;5;124;43mvalue\u001b[39;49m\u001b[38;5;124;43m\"\u001b[39;49m\u001b[43m:\u001b[49m\u001b[43m \u001b[49m\u001b[43mvalue\u001b[49m\u001b[43m}\u001b[49m\u001b[43m)\u001b[49m[\u001b[38;5;124m\"\u001b[39m\u001b[38;5;124mvalue\u001b[39m\u001b[38;5;124m\"\u001b[39m]\n",
      "File \u001b[1;32m~\\AppData\\Local\\Packages\\PythonSoftwareFoundation.Python.3.12_qbz5n2kfra8p0\\LocalCache\\local-packages\\Python312\\site-packages\\selenium\\webdriver\\remote\\webdriver.py:354\u001b[0m, in \u001b[0;36mWebDriver.execute\u001b[1;34m(self, driver_command, params)\u001b[0m\n\u001b[0;32m    352\u001b[0m response \u001b[38;5;241m=\u001b[39m \u001b[38;5;28mself\u001b[39m\u001b[38;5;241m.\u001b[39mcommand_executor\u001b[38;5;241m.\u001b[39mexecute(driver_command, params)\n\u001b[0;32m    353\u001b[0m \u001b[38;5;28;01mif\u001b[39;00m response:\n\u001b[1;32m--> 354\u001b[0m     \u001b[38;5;28;43mself\u001b[39;49m\u001b[38;5;241;43m.\u001b[39;49m\u001b[43merror_handler\u001b[49m\u001b[38;5;241;43m.\u001b[39;49m\u001b[43mcheck_response\u001b[49m\u001b[43m(\u001b[49m\u001b[43mresponse\u001b[49m\u001b[43m)\u001b[49m\n\u001b[0;32m    355\u001b[0m     response[\u001b[38;5;124m\"\u001b[39m\u001b[38;5;124mvalue\u001b[39m\u001b[38;5;124m\"\u001b[39m] \u001b[38;5;241m=\u001b[39m \u001b[38;5;28mself\u001b[39m\u001b[38;5;241m.\u001b[39m_unwrap_value(response\u001b[38;5;241m.\u001b[39mget(\u001b[38;5;124m\"\u001b[39m\u001b[38;5;124mvalue\u001b[39m\u001b[38;5;124m\"\u001b[39m, \u001b[38;5;28;01mNone\u001b[39;00m))\n\u001b[0;32m    356\u001b[0m     \u001b[38;5;28;01mreturn\u001b[39;00m response\n",
      "File \u001b[1;32m~\\AppData\\Local\\Packages\\PythonSoftwareFoundation.Python.3.12_qbz5n2kfra8p0\\LocalCache\\local-packages\\Python312\\site-packages\\selenium\\webdriver\\remote\\errorhandler.py:229\u001b[0m, in \u001b[0;36mErrorHandler.check_response\u001b[1;34m(self, response)\u001b[0m\n\u001b[0;32m    227\u001b[0m         alert_text \u001b[38;5;241m=\u001b[39m value[\u001b[38;5;124m\"\u001b[39m\u001b[38;5;124malert\u001b[39m\u001b[38;5;124m\"\u001b[39m]\u001b[38;5;241m.\u001b[39mget(\u001b[38;5;124m\"\u001b[39m\u001b[38;5;124mtext\u001b[39m\u001b[38;5;124m\"\u001b[39m)\n\u001b[0;32m    228\u001b[0m     \u001b[38;5;28;01mraise\u001b[39;00m exception_class(message, screen, stacktrace, alert_text)  \u001b[38;5;66;03m# type: ignore[call-arg]  # mypy is not smart enough here\u001b[39;00m\n\u001b[1;32m--> 229\u001b[0m \u001b[38;5;28;01mraise\u001b[39;00m exception_class(message, screen, stacktrace)\n",
      "\u001b[1;31mInvalidSelectorException\u001b[0m: Message: invalid selector\nfrom javascript error: {\"status\":32,\"value\":\"An invalid or illegal selector was specified\"}\n  (Session info: chrome=126.0.6478.115); For documentation on this error, please visit: https://www.selenium.dev/documentation/webdriver/troubleshooting/errors#invalid-selector-exception\nStacktrace:\n\tGetHandleVerifier [0x00007FF6731D3E32+31618]\n\t(No symbol) [0x00007FF67314B099]\n\t(No symbol) [0x00007FF67300888A]\n\t(No symbol) [0x00007FF67300E6BE]\n\t(No symbol) [0x00007FF673011011]\n\t(No symbol) [0x00007FF6730110B0]\n\t(No symbol) [0x00007FF67305805C]\n\t(No symbol) [0x00007FF67305862C]\n\t(No symbol) [0x00007FF67309F787]\n\t(No symbol) [0x00007FF67307D14F]\n\t(No symbol) [0x00007FF67309CA80]\n\t(No symbol) [0x00007FF67307CEB3]\n\t(No symbol) [0x00007FF67304A46B]\n\t(No symbol) [0x00007FF67304B001]\n\tGetHandleVerifier [0x00007FF6734D9FFD+3202381]\n\tGetHandleVerifier [0x00007FF673526A1D+3516269]\n\tGetHandleVerifier [0x00007FF67351C490+3473888]\n\tGetHandleVerifier [0x00007FF673285D36+760454]\n\t(No symbol) [0x00007FF673156B3F]\n\t(No symbol) [0x00007FF673151CD4]\n\t(No symbol) [0x00007FF673151E62]\n\t(No symbol) [0x00007FF67314120F]\n\tBaseThreadInitThunk [0x00007FFAD45E257D+29]\n\tRtlUserThreadStart [0x00007FFAD56EAF28+40]\n"
     ]
    }
   ],
   "source": [
    "import time\n",
    "from selenium import webdriver\n",
    "\n",
    "driver = webdriver.Chrome()\n",
    "driver.get('https://www.google.com/maps/search/Restaurantes,+Florida,+EEUU/@28.4613115,-91.2139021,6z/data=!4m2!2m1!6e5?entry=ttu')\n",
    "time.sleep(5)\n",
    "\n",
    "section_loading = driver.find_element(By.CLASS_NAME, 'TFQHme ')\n",
    "\n",
    "# Hacer scroll en los resultados\n",
    "for _ in range(30):  # Ajustar el rango según la cantidad de scrolls que necesites\n",
    "    scrollable_div = driver.find_element(By.XPATH, '//*[@id=\"QA0Szd\"]/div/div/div[1]/div[2]/div/div[1]/div/div/div[1]/div[1]')\n",
    "    driver.execute_script(\"arguments[0].scrollTop = arguments[0].scrollHeight\", scrollable_div)\n",
    "    time.sleep(2)  # Esperar un poco antes de hacer el siguiente scroll\n",
    "\n",
    "\n",
    "lugares = driver.find_elements(By.CLASS_NAME, 'hfpxzc')\n",
    "lugar = lugares[0]\n",
    "\n",
    "time.sleep(2)\n",
    "lugar.click()\n",
    "time.sleep (2)\n",
    "nombre=driver.find_element(By.CLASS_NAME, '//*[@id=\"QA0Szd\"]/div/div/div[1]/div[3]/div/div[1]/div/div/div[2]/div[2]/div/div[1]/div[1]/h1').text\n",
    "print(nombre)\n",
    "\n",
    "url = driver.current_url\n",
    "\n",
    "print(url)"
   ]
  },
  {
   "cell_type": "code",
   "execution_count": 4,
   "metadata": {},
   "outputs": [],
   "source": [
    "opiniones = driver.find_element(By.XPATH, '//*[@id=\"QA0Szd\"]/div/div/div[1]/div[3]/div/div[1]/div/div/div[2]/div[3]/div/div/button[2]/div[2]/div[2]')\n",
    "opiniones.click()\n",
    "scrollable_div = driver.find_element(By.XPATH, '//*[@id=\"QA0Szd\"]/div/div/div[1]/div[2]/div/div[1]/div/div/div[1]/div[1]')\n",
    "driver.execute_script(\"arguments[0].scrollIntoView();\", lugar)\n",
    "ordenar = driver.find_element(By.XPATH, '//*[@id=\"QA0Szd\"]/div/div/div[1]/div[3]/div/div[1]/div/div/div[3]/div[7]/div[2]/button/span/span')"
   ]
  },
  {
   "cell_type": "code",
   "execution_count": 59,
   "metadata": {},
   "outputs": [
    {
     "name": "stdout",
     "output_type": "stream",
     "text": [
      "El Cilantrillo Restaurant\n"
     ]
    }
   ],
   "source": [
    "nombre=driver.find_element(By.XPATH, '//*[@id=\"QA0Szd\"]/div/div/div[1]/div[3]/div/div[1]/div/div/div[2]/div[2]/div/div[1]/div[1]/h1').text\n",
    "\n",
    "print(nombre)"
   ]
  },
  {
   "cell_type": "code",
   "execution_count": 149,
   "metadata": {},
   "outputs": [
    {
     "data": {
      "text/plain": [
       "'Estefan Kitchen Orlando'"
      ]
     },
     "execution_count": 149,
     "metadata": {},
     "output_type": "execute_result"
    }
   ],
   "source": [
    "nombre"
   ]
  },
  {
   "cell_type": "code",
   "execution_count": 11,
   "metadata": {},
   "outputs": [],
   "source": [
    "url = driver.current_url"
   ]
  },
  {
   "cell_type": "code",
   "execution_count": 13,
   "metadata": {},
   "outputs": [
    {
     "name": "stdout",
     "output_type": "stream",
     "text": [
      "https://www.google.com/maps/place/El+Cilantrillo+Restaurant/@28.4613115,-91.2139021,6z/data=!4m11!1m3!2m2!1sRestaurantes,+Florida,+EEUU!6e5!3m6!1s0x88e77dddfa7e805d:0xf115633fcf003d5!8m2!3d28.4501349!4d-81.3969286!15sChtSZXN0YXVyYW50ZXMsIEZsb3JpZGEsIEVFVVVaGyIZcmVzdGF1cmFudGVzIGZsb3JpZGEgZWV1dZIBF3B1ZXJ0b19yaWNhbl9yZXN0YXVyYW50mgEkQ2hkRFNVaE5NRzluUzBWSlEwRm5TVVJoY0V0TWNHcFJSUkFC4AEA!16s%2Fg%2F11mvn2dhtn?entry=ttu\n"
     ]
    }
   ],
   "source": [
    "print(url)"
   ]
  },
  {
   "cell_type": "code",
   "execution_count": 151,
   "metadata": {},
   "outputs": [
    {
     "data": {
      "text/plain": [
       "('28.3455145', '-81.6086358')"
      ]
     },
     "execution_count": 151,
     "metadata": {},
     "output_type": "execute_result"
    }
   ],
   "source": [
    "coordenadas = re.search(r\"!3d-?\\d\\d?\\.\\d{4,8}!4d-?\\d\\d?\\.\\d{4,8}\", url).group()\n",
    "coordenada = coordenadas.replace('!3d','')\n",
    "\n",
    "final = tuple(coordenada.split('!4d'))\n",
    "\n",
    "final"
   ]
  },
  {
   "cell_type": "code",
   "execution_count": 152,
   "metadata": {},
   "outputs": [
    {
     "name": "stdout",
     "output_type": "stream",
     "text": [
      "Dato extraído: 0x88dd7dc69b3a06cb:0xfa20cb8563a46242\n"
     ]
    }
   ],
   "source": [
    "\n",
    "pattern = r'0x[0-9a-fA-F]+:0x[0-9a-fA-F]+'\n",
    "\n",
    "match = re.search(pattern, url)\n",
    "\n",
    "if match:\n",
    "    extracted_data = match.group()\n",
    "    print(\"Dato extraído:\", extracted_data)\n",
    "else:\n",
    "    print(\"No se encontró el patrón.\")\n",
    "# 0x88e77dddfa7e805d:0xf115633fcf003d5"
   ]
  },
  {
   "cell_type": "code",
   "execution_count": 153,
   "metadata": {},
   "outputs": [
    {
     "name": "stdout",
     "output_type": "stream",
     "text": [
      "Restaurante\n"
     ]
    }
   ],
   "source": [
    "\n",
    "categoria=driver.find_element(By.XPATH, '//*[@id=\"QA0Szd\"]/div/div/div[1]/div[3]/div/div[1]/div/div/div[2]/div[2]/div/div[1]/div[2]/div/div[2]/span[1]/span/button').text\n",
    "\n",
    "print(categoria)"
   ]
  },
  {
   "cell_type": "code",
   "execution_count": 154,
   "metadata": {},
   "outputs": [
    {
     "data": {
      "text/plain": [
       "4.1"
      ]
     },
     "execution_count": 154,
     "metadata": {},
     "output_type": "execute_result"
    }
   ],
   "source": [
    "rating = driver.find_element(By.XPATH, '//*[@id=\"QA0Szd\"]/div/div/div[1]/div[3]/div/div[1]/div/div/div[2]/div[2]/div/div[1]/div[2]/div/div[1]/div[2]/span[1]/span[1]').text\n",
    "rating = rating.replace(',','.')\n",
    "float(rating)"
   ]
  },
  {
   "cell_type": "code",
   "execution_count": 155,
   "metadata": {},
   "outputs": [
    {
     "data": {
      "text/plain": [
       "1385"
      ]
     },
     "execution_count": 155,
     "metadata": {},
     "output_type": "execute_result"
    }
   ],
   "source": [
    "reviews = driver.find_element(By.XPATH, '//*[@id=\"QA0Szd\"]/div/div/div[1]/div[3]/div/div[1]/div/div/div[2]/div[2]/div/div[1]/div[2]/div/div[1]/div[2]/span[2]/span/span').text\n",
    "reviews = reviews.replace('.','')\n",
    "reviews = reviews.replace('(','')\n",
    "reviews = reviews.replace(')','')\n",
    "int(reviews)"
   ]
  },
  {
   "cell_type": "code",
   "execution_count": 157,
   "metadata": {},
   "outputs": [
    {
     "ename": "NoSuchElementException",
     "evalue": "Message: no such element: Unable to locate element: {\"method\":\"xpath\",\"selector\":\"//*[@id=\"QA0Szd\"]/div/div/div[1]/div[3]/div/div[1]/div/div/div[2]/div[9]/div[3]/button/div/div[2]/div[1]\"}\n  (Session info: chrome=126.0.6478.63); For documentation on this error, please visit: https://www.selenium.dev/documentation/webdriver/troubleshooting/errors#no-such-element-exception\nStacktrace:\n\tGetHandleVerifier [0x00007FF633833E32+31618]\n\t(No symbol) [0x00007FF6337AB099]\n\t(No symbol) [0x00007FF63366888A]\n\t(No symbol) [0x00007FF6336B8524]\n\t(No symbol) [0x00007FF6336B862C]\n\t(No symbol) [0x00007FF6336FF787]\n\t(No symbol) [0x00007FF6336DD14F]\n\t(No symbol) [0x00007FF6336FCA80]\n\t(No symbol) [0x00007FF6336DCEB3]\n\t(No symbol) [0x00007FF6336AA46B]\n\t(No symbol) [0x00007FF6336AB001]\n\tGetHandleVerifier [0x00007FF633B39FFD+3202381]\n\tGetHandleVerifier [0x00007FF633B86A1D+3516269]\n\tGetHandleVerifier [0x00007FF633B7C490+3473888]\n\tGetHandleVerifier [0x00007FF6338E5D36+760454]\n\t(No symbol) [0x00007FF6337B6B3F]\n\t(No symbol) [0x00007FF6337B1CD4]\n\t(No symbol) [0x00007FF6337B1E62]\n\t(No symbol) [0x00007FF6337A120F]\n\tBaseThreadInitThunk [0x00007FF8A037257D+29]\n\tRtlUserThreadStart [0x00007FF8A1D6AF28+40]\n",
     "output_type": "error",
     "traceback": [
      "\u001b[1;31m---------------------------------------------------------------------------\u001b[0m",
      "\u001b[1;31mNoSuchElementException\u001b[0m                    Traceback (most recent call last)",
      "Cell \u001b[1;32mIn[157], line 1\u001b[0m\n\u001b[1;32m----> 1\u001b[0m direccion \u001b[38;5;241m=\u001b[39m \u001b[43mdriver\u001b[49m\u001b[38;5;241;43m.\u001b[39;49m\u001b[43mfind_element\u001b[49m\u001b[43m(\u001b[49m\u001b[43mBy\u001b[49m\u001b[38;5;241;43m.\u001b[39;49m\u001b[43mXPATH\u001b[49m\u001b[43m,\u001b[49m\u001b[43m \u001b[49m\u001b[38;5;124;43m'\u001b[39;49m\u001b[38;5;124;43m//*[@id=\u001b[39;49m\u001b[38;5;124;43m\"\u001b[39;49m\u001b[38;5;124;43mQA0Szd\u001b[39;49m\u001b[38;5;124;43m\"\u001b[39;49m\u001b[38;5;124;43m]/div/div/div[1]/div[3]/div/div[1]/div/div/div[2]/div[9]/div[3]/button/div/div[2]/div[1]\u001b[39;49m\u001b[38;5;124;43m'\u001b[39;49m\u001b[43m)\u001b[49m\u001b[38;5;241m.\u001b[39mtext\n\u001b[0;32m      2\u001b[0m \u001b[38;5;66;03m# //*[@id=\"QA0Szd\"]/div/div/div[1]/div[3]/div/div[1]/div/div/div[2]/div[9]/div[3]/button/div/div[2]/div[1]\u001b[39;00m\n\u001b[0;32m      3\u001b[0m \u001b[38;5;66;03m# //*[@id=\"QA0Szd\"]/div/div/div[1]/div[3]/div/div[1]/div/div/div[2]/div[11]/div[3]/button/div/div[2]/div[1]\u001b[39;00m\n\u001b[0;32m      4\u001b[0m direccion\n",
      "File \u001b[1;32m~\\AppData\\Local\\Packages\\PythonSoftwareFoundation.Python.3.12_qbz5n2kfra8p0\\LocalCache\\local-packages\\Python312\\site-packages\\selenium\\webdriver\\remote\\webdriver.py:748\u001b[0m, in \u001b[0;36mWebDriver.find_element\u001b[1;34m(self, by, value)\u001b[0m\n\u001b[0;32m    745\u001b[0m     by \u001b[38;5;241m=\u001b[39m By\u001b[38;5;241m.\u001b[39mCSS_SELECTOR\n\u001b[0;32m    746\u001b[0m     value \u001b[38;5;241m=\u001b[39m \u001b[38;5;124mf\u001b[39m\u001b[38;5;124m'\u001b[39m\u001b[38;5;124m[name=\u001b[39m\u001b[38;5;124m\"\u001b[39m\u001b[38;5;132;01m{\u001b[39;00mvalue\u001b[38;5;132;01m}\u001b[39;00m\u001b[38;5;124m\"\u001b[39m\u001b[38;5;124m]\u001b[39m\u001b[38;5;124m'\u001b[39m\n\u001b[1;32m--> 748\u001b[0m \u001b[38;5;28;01mreturn\u001b[39;00m \u001b[38;5;28;43mself\u001b[39;49m\u001b[38;5;241;43m.\u001b[39;49m\u001b[43mexecute\u001b[49m\u001b[43m(\u001b[49m\u001b[43mCommand\u001b[49m\u001b[38;5;241;43m.\u001b[39;49m\u001b[43mFIND_ELEMENT\u001b[49m\u001b[43m,\u001b[49m\u001b[43m \u001b[49m\u001b[43m{\u001b[49m\u001b[38;5;124;43m\"\u001b[39;49m\u001b[38;5;124;43musing\u001b[39;49m\u001b[38;5;124;43m\"\u001b[39;49m\u001b[43m:\u001b[49m\u001b[43m \u001b[49m\u001b[43mby\u001b[49m\u001b[43m,\u001b[49m\u001b[43m \u001b[49m\u001b[38;5;124;43m\"\u001b[39;49m\u001b[38;5;124;43mvalue\u001b[39;49m\u001b[38;5;124;43m\"\u001b[39;49m\u001b[43m:\u001b[49m\u001b[43m \u001b[49m\u001b[43mvalue\u001b[49m\u001b[43m}\u001b[49m\u001b[43m)\u001b[49m[\u001b[38;5;124m\"\u001b[39m\u001b[38;5;124mvalue\u001b[39m\u001b[38;5;124m\"\u001b[39m]\n",
      "File \u001b[1;32m~\\AppData\\Local\\Packages\\PythonSoftwareFoundation.Python.3.12_qbz5n2kfra8p0\\LocalCache\\local-packages\\Python312\\site-packages\\selenium\\webdriver\\remote\\webdriver.py:354\u001b[0m, in \u001b[0;36mWebDriver.execute\u001b[1;34m(self, driver_command, params)\u001b[0m\n\u001b[0;32m    352\u001b[0m response \u001b[38;5;241m=\u001b[39m \u001b[38;5;28mself\u001b[39m\u001b[38;5;241m.\u001b[39mcommand_executor\u001b[38;5;241m.\u001b[39mexecute(driver_command, params)\n\u001b[0;32m    353\u001b[0m \u001b[38;5;28;01mif\u001b[39;00m response:\n\u001b[1;32m--> 354\u001b[0m     \u001b[38;5;28;43mself\u001b[39;49m\u001b[38;5;241;43m.\u001b[39;49m\u001b[43merror_handler\u001b[49m\u001b[38;5;241;43m.\u001b[39;49m\u001b[43mcheck_response\u001b[49m\u001b[43m(\u001b[49m\u001b[43mresponse\u001b[49m\u001b[43m)\u001b[49m\n\u001b[0;32m    355\u001b[0m     response[\u001b[38;5;124m\"\u001b[39m\u001b[38;5;124mvalue\u001b[39m\u001b[38;5;124m\"\u001b[39m] \u001b[38;5;241m=\u001b[39m \u001b[38;5;28mself\u001b[39m\u001b[38;5;241m.\u001b[39m_unwrap_value(response\u001b[38;5;241m.\u001b[39mget(\u001b[38;5;124m\"\u001b[39m\u001b[38;5;124mvalue\u001b[39m\u001b[38;5;124m\"\u001b[39m, \u001b[38;5;28;01mNone\u001b[39;00m))\n\u001b[0;32m    356\u001b[0m     \u001b[38;5;28;01mreturn\u001b[39;00m response\n",
      "File \u001b[1;32m~\\AppData\\Local\\Packages\\PythonSoftwareFoundation.Python.3.12_qbz5n2kfra8p0\\LocalCache\\local-packages\\Python312\\site-packages\\selenium\\webdriver\\remote\\errorhandler.py:229\u001b[0m, in \u001b[0;36mErrorHandler.check_response\u001b[1;34m(self, response)\u001b[0m\n\u001b[0;32m    227\u001b[0m         alert_text \u001b[38;5;241m=\u001b[39m value[\u001b[38;5;124m\"\u001b[39m\u001b[38;5;124malert\u001b[39m\u001b[38;5;124m\"\u001b[39m]\u001b[38;5;241m.\u001b[39mget(\u001b[38;5;124m\"\u001b[39m\u001b[38;5;124mtext\u001b[39m\u001b[38;5;124m\"\u001b[39m)\n\u001b[0;32m    228\u001b[0m     \u001b[38;5;28;01mraise\u001b[39;00m exception_class(message, screen, stacktrace, alert_text)  \u001b[38;5;66;03m# type: ignore[call-arg]  # mypy is not smart enough here\u001b[39;00m\n\u001b[1;32m--> 229\u001b[0m \u001b[38;5;28;01mraise\u001b[39;00m exception_class(message, screen, stacktrace)\n",
      "\u001b[1;31mNoSuchElementException\u001b[0m: Message: no such element: Unable to locate element: {\"method\":\"xpath\",\"selector\":\"//*[@id=\"QA0Szd\"]/div/div/div[1]/div[3]/div/div[1]/div/div/div[2]/div[9]/div[3]/button/div/div[2]/div[1]\"}\n  (Session info: chrome=126.0.6478.63); For documentation on this error, please visit: https://www.selenium.dev/documentation/webdriver/troubleshooting/errors#no-such-element-exception\nStacktrace:\n\tGetHandleVerifier [0x00007FF633833E32+31618]\n\t(No symbol) [0x00007FF6337AB099]\n\t(No symbol) [0x00007FF63366888A]\n\t(No symbol) [0x00007FF6336B8524]\n\t(No symbol) [0x00007FF6336B862C]\n\t(No symbol) [0x00007FF6336FF787]\n\t(No symbol) [0x00007FF6336DD14F]\n\t(No symbol) [0x00007FF6336FCA80]\n\t(No symbol) [0x00007FF6336DCEB3]\n\t(No symbol) [0x00007FF6336AA46B]\n\t(No symbol) [0x00007FF6336AB001]\n\tGetHandleVerifier [0x00007FF633B39FFD+3202381]\n\tGetHandleVerifier [0x00007FF633B86A1D+3516269]\n\tGetHandleVerifier [0x00007FF633B7C490+3473888]\n\tGetHandleVerifier [0x00007FF6338E5D36+760454]\n\t(No symbol) [0x00007FF6337B6B3F]\n\t(No symbol) [0x00007FF6337B1CD4]\n\t(No symbol) [0x00007FF6337B1E62]\n\t(No symbol) [0x00007FF6337A120F]\n\tBaseThreadInitThunk [0x00007FF8A037257D+29]\n\tRtlUserThreadStart [0x00007FF8A1D6AF28+40]\n"
     ]
    }
   ],
   "source": [
    "direccion = driver.find_element(By.XPATH, '//*[@id=\"QA0Szd\"]/div/div/div[1]/div[3]/div/div[1]/div/div/div[2]/div[9]/div[3]/button/div/div[2]/div[1]').text\n",
    "# //*[@id=\"QA0Szd\"]/div/div/div[1]/div[3]/div/div[1]/div/div/div[2]/div[9]/div[3]/button/div/div[2]/div[1]\n",
    "# //*[@id=\"QA0Szd\"]/div/div/div[1]/div[3]/div/div[1]/div/div/div[2]/div[11]/div[3]/button/div/div[2]/div[1]\n",
    "direccion"
   ]
  },
  {
   "cell_type": "code",
   "execution_count": 99,
   "metadata": {},
   "outputs": [
    {
     "data": {
      "text/plain": [
       "3"
      ]
     },
     "execution_count": 99,
     "metadata": {},
     "output_type": "execute_result"
    }
   ],
   "source": [
    "lista = [1,2,3]\n",
    "lista2 = [4,5,6]\n",
    "len(lista)"
   ]
  },
  {
   "cell_type": "code",
   "execution_count": 103,
   "metadata": {},
   "outputs": [
    {
     "data": {
      "text/html": [
       "<div>\n",
       "<style scoped>\n",
       "    .dataframe tbody tr th:only-of-type {\n",
       "        vertical-align: middle;\n",
       "    }\n",
       "\n",
       "    .dataframe tbody tr th {\n",
       "        vertical-align: top;\n",
       "    }\n",
       "\n",
       "    .dataframe thead th {\n",
       "        text-align: right;\n",
       "    }\n",
       "</style>\n",
       "<table border=\"1\" class=\"dataframe\">\n",
       "  <thead>\n",
       "    <tr style=\"text-align: right;\">\n",
       "      <th></th>\n",
       "      <th>a</th>\n",
       "      <th>b</th>\n",
       "    </tr>\n",
       "  </thead>\n",
       "  <tbody>\n",
       "    <tr>\n",
       "      <th>0</th>\n",
       "      <td>1</td>\n",
       "      <td>4</td>\n",
       "    </tr>\n",
       "    <tr>\n",
       "      <th>1</th>\n",
       "      <td>2</td>\n",
       "      <td>5</td>\n",
       "    </tr>\n",
       "    <tr>\n",
       "      <th>2</th>\n",
       "      <td>3</td>\n",
       "      <td>6</td>\n",
       "    </tr>\n",
       "  </tbody>\n",
       "</table>\n",
       "</div>"
      ],
      "text/plain": [
       "   a  b\n",
       "0  1  4\n",
       "1  2  5\n",
       "2  3  6"
      ]
     },
     "execution_count": 103,
     "metadata": {},
     "output_type": "execute_result"
    }
   ],
   "source": [
    "import pandas as pd\n",
    "\n",
    "df = pd.DataFrame({'a':lista, 'b':lista2})\n",
    "\n",
    "df"
   ]
  },
  {
   "cell_type": "code",
   "execution_count": 66,
   "metadata": {},
   "outputs": [],
   "source": [
    "lugar = lugares[21]\n",
    "\n",
    "time.sleep(2)\n",
    "lugar.click()"
   ]
  },
  {
   "cell_type": "code",
   "execution_count": 65,
   "metadata": {},
   "outputs": [],
   "source": [
    "scrollable_div = driver.find_element(By.XPATH, '//*[@id=\"QA0Szd\"]/div/div/div[1]/div[2]/div/div[1]/div/div/div[1]/div[1]')\n",
    "driver.execute_script(\"arguments[0].scrollIntoView();\", lugar)"
   ]
  }
 ],
 "metadata": {
  "kernelspec": {
   "display_name": "Python 3",
   "language": "python",
   "name": "python3"
  },
  "language_info": {
   "codemirror_mode": {
    "name": "ipython",
    "version": 3
   },
   "file_extension": ".py",
   "mimetype": "text/x-python",
   "name": "python",
   "nbconvert_exporter": "python",
   "pygments_lexer": "ipython3",
   "version": "3.12.4"
  }
 },
 "nbformat": 4,
 "nbformat_minor": 2
}
