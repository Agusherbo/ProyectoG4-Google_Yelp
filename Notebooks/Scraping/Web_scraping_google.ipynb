{
 "cells": [
  {
   "cell_type": "code",
   "execution_count": 35,
   "metadata": {},
   "outputs": [],
   "source": [
    "import gspread\n",
    "import time \n",
    "from datetime import datetime\n",
    "import re\n",
    "from selenium import webdriver\n",
    "from selenium.webdriver.common.action_chains import ActionChains\n",
    "from selenium.webdriver.common.by import By\n",
    "from selenium.webdriver.chrome.options import Options\n",
    "import pandas as pd\n"
   ]
  },
  {
   "cell_type": "code",
   "execution_count": 125,
   "metadata": {},
   "outputs": [],
   "source": [
    "class ScrapearGMaps:\n",
    "\n",
    "\n",
    "    def __init__(self) -> None:\n",
    "        # Iniciamos el webdriver\n",
    "        self.driver = webdriver.Chrome()\n",
    "        \n",
    "\n",
    "    # Funcion para scrollear\n",
    "    def scroll_page (self):\n",
    "        # Identificamos el objeto hacia el que queremos hacer el scroll\n",
    "        section_loading = self.driver.find_element(By.CLASS_NAME, 'TFQHme ')\n",
    "\n",
    "        # Hacer scroll en los resultados\n",
    "        for _ in range(30):  # Ajustar el rango según la cantidad de scrolls que necesites\n",
    "            scrollable_div = self.driver.find_element(By.XPATH, '//*[@id=\"QA0Szd\"]/div/div/div[1]/div[2]/div/div[1]/div/div/div[1]/div[1]')\n",
    "            self.driver.execute_script(\"arguments[0].scrollTop = arguments[0].scrollHeight\", scrollable_div)\n",
    "            time.sleep(3)  # Esperar un poco antes de hacer el siguiente scroll\n",
    "\n",
    "    # Funcion para obtener el nombre\n",
    "    def get_name (self):\n",
    "        try:\n",
    "            # Por medio del Xpath extraemos el texto del nombre\n",
    "            return self.driver.find_element(By.XPATH, '//*[@id=\"QA0Szd\"]/div/div/div[1]/div[3]/div/div[1]/div/div/div[2]/div[2]/div/div[1]/div[1]/h1').text\n",
    "        except:\n",
    "            # Retornamos SD de sin datos en el caso de que la extraccion sea fallida\n",
    "            return \"SD\"\n",
    "        \n",
    "    # Funcion para extraer las coordenadas      \n",
    "    def get_coord (self,link):\n",
    "        # Usamos expresion regular para extraer las coordenadas desde el link \n",
    "        coordenadas = re.search(r\"!3d-?\\d\\d?\\.\\d{4,8}!4d-?\\d\\d?\\.\\d{4,8}\", link).group()\n",
    "        # Separamos para que queden unicamente los datos numericos y separados\n",
    "        coordenada = coordenadas.replace('!3d','')\n",
    "        # Retornamos una tupla con los dos datos\n",
    "        return tuple(coordenada.split('!4d'))\n",
    "    \n",
    "    # Funcion para obtener el Gmap_id\n",
    "    def get_gmapid(self,link):\n",
    "        # Guardamos como variable el patron encontrado para hallar el Gmap_id\n",
    "        patron = r'0x[0-9a-fA-F]+:0x[0-9a-fA-F]+'\n",
    "\n",
    "        try:\n",
    "            # Usando expresion regular extraemos el Gmap_id usando el patron encontrado\n",
    "            match = re.search(patron, link)\n",
    "            # Agrupamos los datos y los retornamos\n",
    "            extracted_data = match.group()\n",
    "            return extracted_data\n",
    "\n",
    "        except:\n",
    "            # En caso de no ser excitosa la extraccion retornara un mensaje de extraccion fallida\n",
    "            return 'Extraccion fallida'\n",
    "        \n",
    "    # Funcion para hallar la categoria del restaurante\n",
    "    def get_category (self):\n",
    "        # Por medio del Xpath se busca la parte que contenga texto y se guarda en una variable\n",
    "        categoria=self.driver.find_element(By.XPATH, '//*[@id=\"QA0Szd\"]/div/div/div[1]/div[3]/div/div[1]/div/div/div[2]/div[2]/div/div[1]/div[2]/div/div[2]/span[1]/span/button').text\n",
    "        # Se retorna la categoria extraida\n",
    "        return categoria\n",
    "    \n",
    "    # Funcion para obtener el Rating del lugar\n",
    "    def get_rating (self):\n",
    "        # Usamos el Xpath para hallar el texto dentro de la ubicacion\n",
    "        rating = self.driver.find_element(By.XPATH, '//*[@id=\"QA0Szd\"]/div/div/div[1]/div[3]/div/div[1]/div/div/div[2]/div[2]/div/div[1]/div[2]/div/div[1]/div[2]/span[1]/span[1]').text\n",
    "        # Reemplazamos las comas por puntos para poder transformalo en formato Float\n",
    "        rating = rating.replace(',','.')\n",
    "        # Retornamos el valor tipo float\n",
    "        return float(rating)\n",
    "    \n",
    "    # Funcion para hallar la cantidad de reviews por sitio\n",
    "    def get_reviews (self):\n",
    "        # Usando el Xpath extraemos la cantidad de reviews que tiene cada sitio\n",
    "        reviews = self.driver.find_element(By.XPATH, '//*[@id=\"QA0Szd\"]/div/div/div[1]/div[3]/div/div[1]/div/div/div[2]/div[2]/div/div[1]/div[2]/div/div[1]/div[2]/span[2]/span/span').text\n",
    "        # Usando Replace eliminamos algunos elementos para poder convertirlo en int\n",
    "        reviews = reviews.replace('.','')\n",
    "        reviews = reviews.replace('(','')\n",
    "        reviews = reviews.replace(')','')\n",
    "        # Retornamos el valor numerico\n",
    "        return int(reviews)\n",
    "    \n",
    "    # Funcion para hallar la direccion del lugar\n",
    "    def get_direccion (self):\n",
    "            try:\n",
    "                # Intenta extraer la direccion por medio de la ruta dada y retornarla en tipo texto\n",
    "                direccion = self.driver.find_element(By.XPATH, '//*[@id=\"QA0Szd\"]/div/div/div[1]/div[3]/div/div[1]/div/div/div[2]/div[9]/div[3]/button/div/div[2]/div[1]').text\n",
    "\n",
    "                return direccion\n",
    "            except:\n",
    "                # Genera una excepcion con la otra posible ruta de la direccion y la retorna en tipo texto\n",
    "                direccion = self.driver.find_element(By.XPATH, '//*[@id=\"QA0Szd\"]/div/div/div[1]/div[3]/div/div[1]/div/div/div[2]/div[11]/div[3]/button/div/div[2]/div[1]').text\n",
    "\n",
    "                return direccion\n",
    "\n",
    "    # Creamos una funcion para extraer la ciudad desde la direccion\n",
    "    def extraer_ciudad(self, direccion):\n",
    "\n",
    "        try:\n",
    "            # Dividir la dirección en partes usando la coma como separador\n",
    "            partes = direccion.split(\", \")\n",
    "\n",
    "            # Asegurarse de que haya al menos tres partes (ciudad, estado_código postal)\n",
    "            if len(partes) >= 3:\n",
    "                ciudad = partes[1]  # Extraer la 3ra parte como ciudad\n",
    "                return ciudad\n",
    "            else:\n",
    "                return None # Devolver None para ciudad y estado si tiene la configuración planteada\n",
    "        except IndexError:\n",
    "            return None  # Devolver None para ciudad y estado si la extracción falla\n",
    "        \n",
    "    # Funcion para extraer el Id de usuario\n",
    "    def extraer_id_usuario (self,link):\n",
    "\n",
    "        try:\n",
    "            # Usar una expresión regular para encontrar la parte numérica\n",
    "            match = re.search(r'/(\\d+)/reviews', link)\n",
    "\n",
    "            # Extraer y mostrar la parte numérica si se encuentra\n",
    "            numeric_part = match.group(1)\n",
    "            return int(numeric_part)\n",
    "        except:\n",
    "            return None              \n",
    "    \n",
    "    # Funcion que realiza el scraping\n",
    "    def scraping (self,link):\n",
    "\n",
    "        sitios = pd.read_parquet('../../Data/Parquet/Sitios_nuevo.parquet')\n",
    "        busquedas = ['Restaurantes mexicanos, Pinellas Park, EEUU']\n",
    "        \n",
    "        # Se crean las listas para almacenar los datos del dataframe sitios\n",
    "        name = []\n",
    "        gmap_id = []\n",
    "        latitud = []\n",
    "        longitud = []\n",
    "        categoria = []\n",
    "        avg_rating = []\n",
    "        reviews = []\n",
    "        ciudad = []\n",
    "\n",
    "        # Se crean las listas que  van a almacenar los datos del dataframe reviews\n",
    "        reviewid = []\n",
    "        userid = []\n",
    "        username = []\n",
    "        rating = []\n",
    "        text = []\n",
    "        gmap_idreseña = []\n",
    "        businessname = []\n",
    "        categoriareview = []\n",
    "        ciudadreview = []\n",
    "\n",
    "        # Usando el driver se accede al link\n",
    "        self.driver.get(link)\n",
    "        # Se da una espera de 5 segundos para que cargue la pagina\n",
    "        time.sleep(5)\n",
    "        buscador = self.driver.find_element(By.XPATH, '//*[@id=\"searchboxinput\"]')\n",
    "        for i in range (0,len(busquedas)):\n",
    "            buscador.clear()\n",
    "            buscador.click()\n",
    "            buscador.send_keys(busquedas[i])\n",
    "\n",
    "            buscar = self.driver.find_element(By.XPATH, '//*[@id=\"searchbox-searchbutton\"]')\n",
    "            buscar.click()\n",
    "            time.sleep(2)\n",
    "            # Se llama la funcion que hace scroll \n",
    "            self.scroll_page()\n",
    "            # Se guarda en una variable las rutas de todos los lugares encontrados\n",
    "            lugares = self.driver.find_elements(By.CLASS_NAME, 'hfpxzc')\n",
    "            cantidad = len(lugares)\n",
    "            # Por medio de un ciclo se itera la lista anteriormente creada permitiendo entrar sitio por sitio para extraer la informacion\n",
    "            for i in range(0,cantidad):\n",
    "                \n",
    "                try:\n",
    "                    # Se ubica en el lugar segun el ciclo\n",
    "                    lugar = lugares[i]\n",
    "                    # Se escrolea hasta el sitio\n",
    "                    scrollable_div = self.driver.find_element(By.XPATH, '//*[@id=\"QA0Szd\"]/div/div/div[1]/div[2]/div/div[1]/div/div/div[1]/div[1]')\n",
    "                    self.driver.execute_script(\"arguments[0].scrollIntoView();\", lugar)\n",
    "                    # Se esperan dos segundos y se da click para abrir la informacion del lugar\n",
    "                    time.sleep(2)\n",
    "                    lugar.click()\n",
    "                    # Se esperan 4 segundos para que la informacion cargue correctamente\n",
    "                    time.sleep(4)\n",
    "                    mapid_temp = self.get_gmapid(self.driver.current_url)\n",
    "                    if mapid_temp not in sitios['gmap_id'].values :\n",
    "                        # Se llaman todas las funciones que extraen la informacion necesaria y se guardan en variables temporales\n",
    "                        name_temp = self.get_name()\n",
    "                        \n",
    "                        coordenadas = self.get_coord(self.driver.current_url)\n",
    "                        categoria_temp = self.get_category()\n",
    "                        rating_temp = self.get_rating()\n",
    "                        reviews_temp = self.get_reviews()\n",
    "                        direccion = self.get_direccion()\n",
    "                        ciudad_temp = self.extraer_ciudad(direccion)\n",
    "                    \n",
    "\n",
    "                        name.append(name_temp)\n",
    "                        gmap_id.append(mapid_temp)\n",
    "                        latitud.append(coordenadas[0])\n",
    "                        longitud.append(coordenadas[1])\n",
    "                        categoria.append(categoria_temp)\n",
    "                        avg_rating.append(rating_temp)\n",
    "                        reviews.append(reviews_temp)\n",
    "                        ciudad.append(ciudad_temp)\n",
    "                        time.sleep(2)\n",
    "\n",
    "                        try:\n",
    "                            # Se busca el apartado de reseñas y se da click\n",
    "                            opiniones = self.driver.find_element(By.XPATH, '//*[@id=\"QA0Szd\"]/div/div/div[1]/div[3]/div/div[1]/div/div/div[2]/div[3]/div/div/button[2]/div[2]/div[2]')\n",
    "                            opiniones.click()\n",
    "                            # Se esperan 2 segundos y se busca el boton para ordenarlos por mas recientes\n",
    "                            time.sleep(4)\n",
    "                            ordenar = self.driver.find_element(By.XPATH, '//*[@id=\"QA0Szd\"]/div/div/div[1]/div[3]/div/div[1]/div/div/div[3]/div[7]/div[2]/button/span')\n",
    "                            ordenar.click()\n",
    "                            time.sleep(4)\n",
    "                            # Despues de esperar 2 segundos se busca el boton de ordenar por mas recientes y se le da click\n",
    "                            orden = self.driver.find_element(By.XPATH, '//*[@id=\"action-menu\"]/div[2]')\n",
    "                            orden.click()\n",
    "                            # Se esperan 2 segundos y se escrollea un poco para extraer las reviews mas recientes\n",
    "                            time.sleep(2)\n",
    "                            scrollable_div = self.driver.find_element(By.XPATH, '//*[@id=\"QA0Szd\"]/div/div/div[1]/div[3]/div/div[1]/div/div/div[3]')\n",
    "                            for i in range (0,2):\n",
    "                                self.driver.execute_script(\"arguments[0].scrollTop = arguments[0].scrollHeight\", scrollable_div)\n",
    "                                time.sleep(3)\n",
    "                            # Se guarda como variable las rutas de las reseñas encontradas\n",
    "                            reseñas = self.driver.find_elements(By.CLASS_NAME, 'jJc9Ad ')\n",
    "                            cantidad_reviews = len(reseñas)\n",
    "\n",
    "                            for i in range (0,cantidad_reviews):\n",
    "                                    \n",
    "                                buton = reseñas[i].find_element(By.CLASS_NAME, 'WEBjve')\n",
    "                                data_review_id = buton.get_attribute('data-review-id')\n",
    "\n",
    "                                try:\n",
    "                                    # Localizar el botón usando su clase (puedes usar cualquier otro selector adecuado)\n",
    "                                    element = reseñas[i].find_element(By.CLASS_NAME, 'al6Kxe')\n",
    "\n",
    "                                    # Obtener el valor del atributo data-href\n",
    "                                    data_href = element.get_attribute('data-href')\n",
    "\n",
    "                                    # Extraer la parte numérica del enlace usando una expresión regular\n",
    "                                    match = re.search(r'\\d+', data_href)\n",
    "                                    if match:\n",
    "                                        userid_temp = match.group(0)  \n",
    "                                    else:\n",
    "                                        userid_temp = None\n",
    "                                except:\n",
    "                                    userid_temp = None\n",
    "\n",
    "                                # Intentamos extraer el nombre del usuario\n",
    "                                try:\n",
    "                                    nombreuser_temp = reseñas[i].find_element(By.CLASS_NAME, 'd4r55 ').text\n",
    "                                except:\n",
    "                                    nombreuser_temp = None\n",
    "                                \n",
    "                                # intentamos extraer el rating dado en la reseña\n",
    "                                try:\n",
    "                                    # Localizar el elemento que contiene las estrellas\n",
    "                                    elemento=reseñas[i].find_element(By.CLASS_NAME, 'kvMYJc')\n",
    "                                    # Localiza el elemento por su clase\n",
    "\n",
    "                                    # Obtener el valor del atributo aria-label\n",
    "                                    aria_label = elemento.get_attribute('aria-label')\n",
    "\n",
    "                                    # Extraer el número de estrellas del aria-label\n",
    "                                    calificacion_temp = int(aria_label.split()[0])  # Asumiendo que el formato es siempre 'X estrellas'\n",
    "                                except:\n",
    "                                    calificacion_temp = None\n",
    "\n",
    "                                # Tratamos de extraer el texto del review\n",
    "                                botonmas = self.driver.find_element(By.CLASS_NAME, 'w8nwRe')\n",
    "                                botonmas.click()\n",
    "\n",
    "                                try:\n",
    "                                    texto_temp = reseñas[i].find_element(By.CLASS_NAME, 'wiI7pd').text\n",
    "                                except:\n",
    "                                    texto_temp = None\n",
    "                                \n",
    "                                reviewid.append(data_review_id)\n",
    "                                userid.append(userid_temp)\n",
    "                                username.append(nombreuser_temp)\n",
    "                                rating.append(calificacion_temp)\n",
    "                                text.append(texto_temp)\n",
    "                                gmap_idreseña.append(mapid_temp)\n",
    "                                businessname.append(name_temp)\n",
    "                                categoriareview.append(categoria_temp)\n",
    "                                ciudadreview.append(ciudad_temp)\n",
    "\n",
    "                        except:\n",
    "\n",
    "                            reviewid.append(None)\n",
    "                            userid.append(None)\n",
    "                            username.append(None)\n",
    "                            rating.append(None)\n",
    "                            text.append(None)\n",
    "                            gmap_idreseña.append(None)\n",
    "                            businessname.append(None)\n",
    "                            categoriareview.append(None)\n",
    "                            ciudadreview.append(None)\n",
    "                except:\n",
    "\n",
    "                    name.append(None)\n",
    "                    gmap_id.append(None)\n",
    "                    latitud.append(None)\n",
    "                    longitud.append(None)\n",
    "                    categoria.append(None)\n",
    "                    avg_rating.append(None)\n",
    "                    reviews.append(None)\n",
    "                    ciudad.append(None)\n",
    "                    time.sleep(2)\n",
    "                \n",
    "\n",
    "\n",
    "\n",
    "        sitios = pd.DataFrame({'name':name,\n",
    "                            'gmap_id':gmap_id,\n",
    "                            'latitude':latitud,\n",
    "                            'longitude':longitud,\n",
    "                            'category':categoria,\n",
    "                            'avg_rating':avg_rating,\n",
    "                            'num_of_reviews':reviews,\n",
    "                            'city':ciudad})\n",
    "        \n",
    "        reviews = pd.DataFrame({'review_id':reviewid,\n",
    "                            'user_id':userid,\n",
    "                            'user_name':username,\n",
    "                            'rating':rating,\n",
    "                            'text':text,\n",
    "                            'gmap_id':gmap_idreseña,\n",
    "                            'business_name':businessname,\n",
    "                            'category':categoriareview,\n",
    "                            'city':ciudadreview})\n",
    "            \n",
    "        return sitios, reviews"
   ]
  },
  {
   "cell_type": "code",
   "execution_count": 126,
   "metadata": {},
   "outputs": [],
   "source": [
    "link = 'https://www.google.com/maps/search/Restaurantes,+Florida,+EEUU/@28.4613115,-91.2139021,6z/data=!4m2!2m1!6e5?entry=ttu'\n",
    "\n",
    "gscraping = ScrapearGMaps()\n",
    "\n",
    "sitios, reviews = gscraping.scraping(link)\n",
    "\n",
    "gscraping.driver.quit()"
   ]
  },
  {
   "cell_type": "code",
   "execution_count": 134,
   "metadata": {},
   "outputs": [],
   "source": [
    "archivo_sitios = pd.read_parquet('../../Data/Parquet/Sitios_nuevo.parquet')"
   ]
  },
  {
   "cell_type": "code",
   "execution_count": 136,
   "metadata": {},
   "outputs": [
    {
     "name": "stdout",
     "output_type": "stream",
     "text": [
      "<class 'pandas.core.frame.DataFrame'>\n",
      "Index: 534 entries, 0 to 119\n",
      "Data columns (total 8 columns):\n",
      " #   Column          Non-Null Count  Dtype  \n",
      "---  ------          --------------  -----  \n",
      " 0   name            534 non-null    object \n",
      " 1   gmap_id         534 non-null    object \n",
      " 2   latitude        534 non-null    object \n",
      " 3   longitude       534 non-null    object \n",
      " 4   category        534 non-null    object \n",
      " 5   avg_rating      534 non-null    float64\n",
      " 6   num_of_reviews  534 non-null    float64\n",
      " 7   city            534 non-null    object \n",
      "dtypes: float64(2), object(6)\n",
      "memory usage: 37.5+ KB\n"
     ]
    }
   ],
   "source": [
    "archivo_sitios.dropna(inplace=True)\n",
    "archivo_sitios.info()"
   ]
  },
  {
   "cell_type": "code",
   "execution_count": 128,
   "metadata": {},
   "outputs": [],
   "source": [
    "sitios2 = sitios, archivo_sitios"
   ]
  },
  {
   "cell_type": "code",
   "execution_count": 129,
   "metadata": {},
   "outputs": [
    {
     "data": {
      "text/html": [
       "<div>\n",
       "<style scoped>\n",
       "    .dataframe tbody tr th:only-of-type {\n",
       "        vertical-align: middle;\n",
       "    }\n",
       "\n",
       "    .dataframe tbody tr th {\n",
       "        vertical-align: top;\n",
       "    }\n",
       "\n",
       "    .dataframe thead th {\n",
       "        text-align: right;\n",
       "    }\n",
       "</style>\n",
       "<table border=\"1\" class=\"dataframe\">\n",
       "  <thead>\n",
       "    <tr style=\"text-align: right;\">\n",
       "      <th></th>\n",
       "      <th>name</th>\n",
       "      <th>gmap_id</th>\n",
       "      <th>latitude</th>\n",
       "      <th>longitude</th>\n",
       "      <th>category</th>\n",
       "      <th>avg_rating</th>\n",
       "      <th>num_of_reviews</th>\n",
       "      <th>city</th>\n",
       "    </tr>\n",
       "  </thead>\n",
       "  <tbody>\n",
       "    <tr>\n",
       "      <th>0</th>\n",
       "      <td>Los Homies Taqueria</td>\n",
       "      <td>0x88c2e5b78c7489ef:0xfb1fa5ca906dc9cd</td>\n",
       "      <td>27.8413044</td>\n",
       "      <td>-82.6991762</td>\n",
       "      <td>Restaurante mexicano</td>\n",
       "      <td>4.5</td>\n",
       "      <td>306.0</td>\n",
       "      <td>Pinellas Park</td>\n",
       "    </tr>\n",
       "    <tr>\n",
       "      <th>1</th>\n",
       "      <td>Gloria's</td>\n",
       "      <td>0x88c2e4857ab9dbe5:0x8e6e72a5c03cff9d</td>\n",
       "      <td>27.8366869</td>\n",
       "      <td>-82.700276</td>\n",
       "      <td>Restaurante mexicano</td>\n",
       "      <td>4.4</td>\n",
       "      <td>9.0</td>\n",
       "      <td>FL 33781</td>\n",
       "    </tr>\n",
       "    <tr>\n",
       "      <th>2</th>\n",
       "      <td>None</td>\n",
       "      <td>None</td>\n",
       "      <td>None</td>\n",
       "      <td>None</td>\n",
       "      <td>None</td>\n",
       "      <td>NaN</td>\n",
       "      <td>NaN</td>\n",
       "      <td>None</td>\n",
       "    </tr>\n",
       "    <tr>\n",
       "      <th>3</th>\n",
       "      <td>Chinelos Taqueria</td>\n",
       "      <td>0x88c2e3069d888353:0xdba7cff8ef64b268</td>\n",
       "      <td>27.820642</td>\n",
       "      <td>-82.7208642</td>\n",
       "      <td>Restaurante mexicano</td>\n",
       "      <td>4.9</td>\n",
       "      <td>467.0</td>\n",
       "      <td>Kenneth City</td>\n",
       "    </tr>\n",
       "    <tr>\n",
       "      <th>4</th>\n",
       "      <td>Señor Taco Mexican Restaurant</td>\n",
       "      <td>0x88c2e4b011ad6205:0x3ab742c1342fbb34</td>\n",
       "      <td>27.8395858</td>\n",
       "      <td>-82.7246405</td>\n",
       "      <td>Restaurante</td>\n",
       "      <td>4.4</td>\n",
       "      <td>1141.0</td>\n",
       "      <td>Pinellas Park</td>\n",
       "    </tr>\n",
       "    <tr>\n",
       "      <th>...</th>\n",
       "      <td>...</td>\n",
       "      <td>...</td>\n",
       "      <td>...</td>\n",
       "      <td>...</td>\n",
       "      <td>...</td>\n",
       "      <td>...</td>\n",
       "      <td>...</td>\n",
       "      <td>...</td>\n",
       "    </tr>\n",
       "    <tr>\n",
       "      <th>115</th>\n",
       "      <td>Tijuana Flats</td>\n",
       "      <td>0x88e77a63807e9acb:0x1c17e8ce394ce0ba</td>\n",
       "      <td>28.5717984</td>\n",
       "      <td>-81.3892391</td>\n",
       "      <td>Taquería</td>\n",
       "      <td>4.3</td>\n",
       "      <td>993.0</td>\n",
       "      <td>Orlando</td>\n",
       "    </tr>\n",
       "    <tr>\n",
       "      <th>116</th>\n",
       "      <td>Tijuana Flats</td>\n",
       "      <td>0x88dd872d12905ef5:0xb4ee352468748dfe</td>\n",
       "      <td>28.36666</td>\n",
       "      <td>-81.426033</td>\n",
       "      <td>Taquería</td>\n",
       "      <td>4.5</td>\n",
       "      <td>1375.0</td>\n",
       "      <td>Orlando</td>\n",
       "    </tr>\n",
       "    <tr>\n",
       "      <th>117</th>\n",
       "      <td>Hunger Street Tacos</td>\n",
       "      <td>0x88e7707b9b2f8579:0x533ca4e1307ae855</td>\n",
       "      <td>28.5934219</td>\n",
       "      <td>-81.3777168</td>\n",
       "      <td>Restaurante mexicano</td>\n",
       "      <td>4.4</td>\n",
       "      <td>1907.0</td>\n",
       "      <td>Winter Park</td>\n",
       "    </tr>\n",
       "    <tr>\n",
       "      <th>118</th>\n",
       "      <td>Moe's Southwest Grill</td>\n",
       "      <td>0x88e77edfac4210c9:0x425b631cc97ecb38</td>\n",
       "      <td>28.4735501</td>\n",
       "      <td>-81.4652353</td>\n",
       "      <td>Restaurante mexicano</td>\n",
       "      <td>3.2</td>\n",
       "      <td>299.0</td>\n",
       "      <td>Orlando</td>\n",
       "    </tr>\n",
       "    <tr>\n",
       "      <th>119</th>\n",
       "      <td>Moe's Southwest Grill</td>\n",
       "      <td>0x88e77ea9a255bfdf:0xe0d9fde1fd07b4d1</td>\n",
       "      <td>28.4879448</td>\n",
       "      <td>-81.4297813</td>\n",
       "      <td>Restaurante mexicano</td>\n",
       "      <td>4.0</td>\n",
       "      <td>716.0</td>\n",
       "      <td>Orlando</td>\n",
       "    </tr>\n",
       "  </tbody>\n",
       "</table>\n",
       "<p>552 rows × 8 columns</p>\n",
       "</div>"
      ],
      "text/plain": [
       "                              name                                gmap_id  \\\n",
       "0              Los Homies Taqueria  0x88c2e5b78c7489ef:0xfb1fa5ca906dc9cd   \n",
       "1                         Gloria's  0x88c2e4857ab9dbe5:0x8e6e72a5c03cff9d   \n",
       "2                             None                                   None   \n",
       "3                Chinelos Taqueria  0x88c2e3069d888353:0xdba7cff8ef64b268   \n",
       "4    Señor Taco Mexican Restaurant  0x88c2e4b011ad6205:0x3ab742c1342fbb34   \n",
       "..                             ...                                    ...   \n",
       "115                  Tijuana Flats  0x88e77a63807e9acb:0x1c17e8ce394ce0ba   \n",
       "116                  Tijuana Flats  0x88dd872d12905ef5:0xb4ee352468748dfe   \n",
       "117            Hunger Street Tacos  0x88e7707b9b2f8579:0x533ca4e1307ae855   \n",
       "118          Moe's Southwest Grill  0x88e77edfac4210c9:0x425b631cc97ecb38   \n",
       "119          Moe's Southwest Grill  0x88e77ea9a255bfdf:0xe0d9fde1fd07b4d1   \n",
       "\n",
       "       latitude    longitude              category  avg_rating  \\\n",
       "0    27.8413044  -82.6991762  Restaurante mexicano         4.5   \n",
       "1    27.8366869   -82.700276  Restaurante mexicano         4.4   \n",
       "2          None         None                  None         NaN   \n",
       "3     27.820642  -82.7208642  Restaurante mexicano         4.9   \n",
       "4    27.8395858  -82.7246405           Restaurante         4.4   \n",
       "..          ...          ...                   ...         ...   \n",
       "115  28.5717984  -81.3892391              Taquería         4.3   \n",
       "116    28.36666   -81.426033              Taquería         4.5   \n",
       "117  28.5934219  -81.3777168  Restaurante mexicano         4.4   \n",
       "118  28.4735501  -81.4652353  Restaurante mexicano         3.2   \n",
       "119  28.4879448  -81.4297813  Restaurante mexicano         4.0   \n",
       "\n",
       "     num_of_reviews           city  \n",
       "0             306.0  Pinellas Park  \n",
       "1               9.0       FL 33781  \n",
       "2               NaN           None  \n",
       "3             467.0   Kenneth City  \n",
       "4            1141.0  Pinellas Park  \n",
       "..              ...            ...  \n",
       "115           993.0        Orlando  \n",
       "116          1375.0        Orlando  \n",
       "117          1907.0    Winter Park  \n",
       "118           299.0        Orlando  \n",
       "119           716.0        Orlando  \n",
       "\n",
       "[552 rows x 8 columns]"
      ]
     },
     "execution_count": 129,
     "metadata": {},
     "output_type": "execute_result"
    }
   ],
   "source": [
    "sitios_ultimo = pd.concat(sitios2)\n",
    "sitios_ultimo"
   ]
  },
  {
   "cell_type": "code",
   "execution_count": 137,
   "metadata": {},
   "outputs": [],
   "source": [
    "archivo_reviews = pd.read_parquet('../../Data/Parquet/reviews_nuevo.parquet')"
   ]
  },
  {
   "cell_type": "code",
   "execution_count": 138,
   "metadata": {},
   "outputs": [
    {
     "name": "stdout",
     "output_type": "stream",
     "text": [
      "<class 'pandas.core.frame.DataFrame'>\n",
      "Index: 9496 entries, 0 to 2612\n",
      "Data columns (total 9 columns):\n",
      " #   Column         Non-Null Count  Dtype  \n",
      "---  ------         --------------  -----  \n",
      " 0   review_id      9496 non-null   object \n",
      " 1   user_id        9496 non-null   object \n",
      " 2   user_name      9496 non-null   object \n",
      " 3   rating         9496 non-null   float64\n",
      " 4   text           7081 non-null   object \n",
      " 5   gmap_id        9496 non-null   object \n",
      " 6   business_name  9496 non-null   object \n",
      " 7   category       9496 non-null   object \n",
      " 8   city           9496 non-null   object \n",
      "dtypes: float64(1), object(8)\n",
      "memory usage: 741.9+ KB\n"
     ]
    }
   ],
   "source": [
    "archivo_reviews.dropna(subset='review_id', inplace=True)\n",
    "archivo_reviews.info()"
   ]
  },
  {
   "cell_type": "code",
   "execution_count": 131,
   "metadata": {},
   "outputs": [
    {
     "data": {
      "text/html": [
       "<div>\n",
       "<style scoped>\n",
       "    .dataframe tbody tr th:only-of-type {\n",
       "        vertical-align: middle;\n",
       "    }\n",
       "\n",
       "    .dataframe tbody tr th {\n",
       "        vertical-align: top;\n",
       "    }\n",
       "\n",
       "    .dataframe thead th {\n",
       "        text-align: right;\n",
       "    }\n",
       "</style>\n",
       "<table border=\"1\" class=\"dataframe\">\n",
       "  <thead>\n",
       "    <tr style=\"text-align: right;\">\n",
       "      <th></th>\n",
       "      <th>review_id</th>\n",
       "      <th>user_id</th>\n",
       "      <th>user_name</th>\n",
       "      <th>rating</th>\n",
       "      <th>text</th>\n",
       "      <th>gmap_id</th>\n",
       "      <th>business_name</th>\n",
       "      <th>category</th>\n",
       "      <th>city</th>\n",
       "    </tr>\n",
       "  </thead>\n",
       "  <tbody>\n",
       "    <tr>\n",
       "      <th>0</th>\n",
       "      <td>ChZDSUhNMG9nS0VJQ0FnSURMX3RMQUtBEAE</td>\n",
       "      <td>116093912001907653593</td>\n",
       "      <td>Manuel Fernando Pirazan Africano</td>\n",
       "      <td>5.0</td>\n",
       "      <td>None</td>\n",
       "      <td>0x88c2e5b78c7489ef:0xfb1fa5ca906dc9cd</td>\n",
       "      <td>Los Homies Taqueria</td>\n",
       "      <td>Restaurante mexicano</td>\n",
       "      <td>Pinellas Park</td>\n",
       "    </tr>\n",
       "    <tr>\n",
       "      <th>1</th>\n",
       "      <td>ChdDSUhNMG9nS0VJQ0FnSURMM3ItOXNnRRAB</td>\n",
       "      <td>102693378429711249224</td>\n",
       "      <td>Gabriela Padilla Lopez</td>\n",
       "      <td>5.0</td>\n",
       "      <td>None</td>\n",
       "      <td>0x88c2e5b78c7489ef:0xfb1fa5ca906dc9cd</td>\n",
       "      <td>Los Homies Taqueria</td>\n",
       "      <td>Restaurante mexicano</td>\n",
       "      <td>Pinellas Park</td>\n",
       "    </tr>\n",
       "    <tr>\n",
       "      <th>2</th>\n",
       "      <td>ChZDSUhNMG9nS0VJQ0FnSURMbnVYT2F3EAE</td>\n",
       "      <td>115292094493632469797</td>\n",
       "      <td>Caitlin Elizabeth</td>\n",
       "      <td>5.0</td>\n",
       "      <td>Tacos legítimos, el queso es realmente bueno y...</td>\n",
       "      <td>0x88c2e5b78c7489ef:0xfb1fa5ca906dc9cd</td>\n",
       "      <td>Los Homies Taqueria</td>\n",
       "      <td>Restaurante mexicano</td>\n",
       "      <td>Pinellas Park</td>\n",
       "    </tr>\n",
       "    <tr>\n",
       "      <th>3</th>\n",
       "      <td>ChZDSUhNMG9nS0VJQ0FnSUNMbFlXZ0R3EAE</td>\n",
       "      <td>101094124122700404279</td>\n",
       "      <td>joshua saunders</td>\n",
       "      <td>2.0</td>\n",
       "      <td>None</td>\n",
       "      <td>0x88c2e5b78c7489ef:0xfb1fa5ca906dc9cd</td>\n",
       "      <td>Los Homies Taqueria</td>\n",
       "      <td>Restaurante mexicano</td>\n",
       "      <td>Pinellas Park</td>\n",
       "    </tr>\n",
       "    <tr>\n",
       "      <th>4</th>\n",
       "      <td>ChZDSUhNMG9nS0VJQ0FnSUN4anRtMlBREAE</td>\n",
       "      <td>107777809100806802304</td>\n",
       "      <td>Jovan Milakovic</td>\n",
       "      <td>5.0</td>\n",
       "      <td>Un pequeño gran lugar auténtico, la comida es ...</td>\n",
       "      <td>0x88c2e5b78c7489ef:0xfb1fa5ca906dc9cd</td>\n",
       "      <td>Los Homies Taqueria</td>\n",
       "      <td>Restaurante mexicano</td>\n",
       "      <td>Pinellas Park</td>\n",
       "    </tr>\n",
       "    <tr>\n",
       "      <th>...</th>\n",
       "      <td>...</td>\n",
       "      <td>...</td>\n",
       "      <td>...</td>\n",
       "      <td>...</td>\n",
       "      <td>...</td>\n",
       "      <td>...</td>\n",
       "      <td>...</td>\n",
       "      <td>...</td>\n",
       "      <td>...</td>\n",
       "    </tr>\n",
       "    <tr>\n",
       "      <th>2609</th>\n",
       "      <td>ChdDSUhNMG9nS0VJQ0FnSUMxbzg2d3dRRRAB</td>\n",
       "      <td>108277700942414758865</td>\n",
       "      <td>Melissa Dinh</td>\n",
       "      <td>1.0</td>\n",
       "      <td>Absolutamente la peor experiencia que he tenid...</td>\n",
       "      <td>0x88e77ea9a255bfdf:0xe0d9fde1fd07b4d1</td>\n",
       "      <td>Moe's Southwest Grill</td>\n",
       "      <td>Restaurante mexicano</td>\n",
       "      <td>Orlando</td>\n",
       "    </tr>\n",
       "    <tr>\n",
       "      <th>2610</th>\n",
       "      <td>ChZDSUhNMG9nS0VJQ0FnSUMxeHQ2cU53EAE</td>\n",
       "      <td>105559442342327966865</td>\n",
       "      <td>Ethan coan</td>\n",
       "      <td>5.0</td>\n",
       "      <td>Ambiente muy amigable con comida deliciosa. El...</td>\n",
       "      <td>0x88e77ea9a255bfdf:0xe0d9fde1fd07b4d1</td>\n",
       "      <td>Moe's Southwest Grill</td>\n",
       "      <td>Restaurante mexicano</td>\n",
       "      <td>Orlando</td>\n",
       "    </tr>\n",
       "    <tr>\n",
       "      <th>2611</th>\n",
       "      <td>ChdDSUhNMG9nS0VJQ0FnSUMxeHQ3c25BRRAB</td>\n",
       "      <td>113357465804118875047</td>\n",
       "      <td>Luis Fernando Bueno Pena</td>\n",
       "      <td>5.0</td>\n",
       "      <td>¡Buena comida! El personal fue muy amable. Def...</td>\n",
       "      <td>0x88e77ea9a255bfdf:0xe0d9fde1fd07b4d1</td>\n",
       "      <td>Moe's Southwest Grill</td>\n",
       "      <td>Restaurante mexicano</td>\n",
       "      <td>Orlando</td>\n",
       "    </tr>\n",
       "    <tr>\n",
       "      <th>2612</th>\n",
       "      <td>ChdDSUhNMG9nS0VJQ0FnSUMxX09PLW1RRRAB</td>\n",
       "      <td>100988594044464700465</td>\n",
       "      <td>MrNigh†mare</td>\n",
       "      <td>5.0</td>\n",
       "      <td>None</td>\n",
       "      <td>0x88e77ea9a255bfdf:0xe0d9fde1fd07b4d1</td>\n",
       "      <td>Moe's Southwest Grill</td>\n",
       "      <td>Restaurante mexicano</td>\n",
       "      <td>Orlando</td>\n",
       "    </tr>\n",
       "    <tr>\n",
       "      <th>2613</th>\n",
       "      <td>None</td>\n",
       "      <td>None</td>\n",
       "      <td>None</td>\n",
       "      <td>NaN</td>\n",
       "      <td>None</td>\n",
       "      <td>None</td>\n",
       "      <td>None</td>\n",
       "      <td>None</td>\n",
       "      <td>None</td>\n",
       "    </tr>\n",
       "  </tbody>\n",
       "</table>\n",
       "<p>9938 rows × 9 columns</p>\n",
       "</div>"
      ],
      "text/plain": [
       "                                 review_id                user_id  \\\n",
       "0      ChZDSUhNMG9nS0VJQ0FnSURMX3RMQUtBEAE  116093912001907653593   \n",
       "1     ChdDSUhNMG9nS0VJQ0FnSURMM3ItOXNnRRAB  102693378429711249224   \n",
       "2      ChZDSUhNMG9nS0VJQ0FnSURMbnVYT2F3EAE  115292094493632469797   \n",
       "3      ChZDSUhNMG9nS0VJQ0FnSUNMbFlXZ0R3EAE  101094124122700404279   \n",
       "4      ChZDSUhNMG9nS0VJQ0FnSUN4anRtMlBREAE  107777809100806802304   \n",
       "...                                    ...                    ...   \n",
       "2609  ChdDSUhNMG9nS0VJQ0FnSUMxbzg2d3dRRRAB  108277700942414758865   \n",
       "2610   ChZDSUhNMG9nS0VJQ0FnSUMxeHQ2cU53EAE  105559442342327966865   \n",
       "2611  ChdDSUhNMG9nS0VJQ0FnSUMxeHQ3c25BRRAB  113357465804118875047   \n",
       "2612  ChdDSUhNMG9nS0VJQ0FnSUMxX09PLW1RRRAB  100988594044464700465   \n",
       "2613                                  None                   None   \n",
       "\n",
       "                             user_name  rating  \\\n",
       "0     Manuel Fernando Pirazan Africano     5.0   \n",
       "1               Gabriela Padilla Lopez     5.0   \n",
       "2                    Caitlin Elizabeth     5.0   \n",
       "3                      joshua saunders     2.0   \n",
       "4                      Jovan Milakovic     5.0   \n",
       "...                                ...     ...   \n",
       "2609                      Melissa Dinh     1.0   \n",
       "2610                        Ethan coan     5.0   \n",
       "2611          Luis Fernando Bueno Pena     5.0   \n",
       "2612                       MrNigh†mare     5.0   \n",
       "2613                              None     NaN   \n",
       "\n",
       "                                                   text  \\\n",
       "0                                                  None   \n",
       "1                                                  None   \n",
       "2     Tacos legítimos, el queso es realmente bueno y...   \n",
       "3                                                  None   \n",
       "4     Un pequeño gran lugar auténtico, la comida es ...   \n",
       "...                                                 ...   \n",
       "2609  Absolutamente la peor experiencia que he tenid...   \n",
       "2610  Ambiente muy amigable con comida deliciosa. El...   \n",
       "2611  ¡Buena comida! El personal fue muy amable. Def...   \n",
       "2612                                               None   \n",
       "2613                                               None   \n",
       "\n",
       "                                    gmap_id          business_name  \\\n",
       "0     0x88c2e5b78c7489ef:0xfb1fa5ca906dc9cd    Los Homies Taqueria   \n",
       "1     0x88c2e5b78c7489ef:0xfb1fa5ca906dc9cd    Los Homies Taqueria   \n",
       "2     0x88c2e5b78c7489ef:0xfb1fa5ca906dc9cd    Los Homies Taqueria   \n",
       "3     0x88c2e5b78c7489ef:0xfb1fa5ca906dc9cd    Los Homies Taqueria   \n",
       "4     0x88c2e5b78c7489ef:0xfb1fa5ca906dc9cd    Los Homies Taqueria   \n",
       "...                                     ...                    ...   \n",
       "2609  0x88e77ea9a255bfdf:0xe0d9fde1fd07b4d1  Moe's Southwest Grill   \n",
       "2610  0x88e77ea9a255bfdf:0xe0d9fde1fd07b4d1  Moe's Southwest Grill   \n",
       "2611  0x88e77ea9a255bfdf:0xe0d9fde1fd07b4d1  Moe's Southwest Grill   \n",
       "2612  0x88e77ea9a255bfdf:0xe0d9fde1fd07b4d1  Moe's Southwest Grill   \n",
       "2613                                   None                   None   \n",
       "\n",
       "                  category           city  \n",
       "0     Restaurante mexicano  Pinellas Park  \n",
       "1     Restaurante mexicano  Pinellas Park  \n",
       "2     Restaurante mexicano  Pinellas Park  \n",
       "3     Restaurante mexicano  Pinellas Park  \n",
       "4     Restaurante mexicano  Pinellas Park  \n",
       "...                    ...            ...  \n",
       "2609  Restaurante mexicano        Orlando  \n",
       "2610  Restaurante mexicano        Orlando  \n",
       "2611  Restaurante mexicano        Orlando  \n",
       "2612  Restaurante mexicano        Orlando  \n",
       "2613                  None           None  \n",
       "\n",
       "[9938 rows x 9 columns]"
      ]
     },
     "execution_count": 131,
     "metadata": {},
     "output_type": "execute_result"
    }
   ],
   "source": [
    "reviews2 = reviews, archivo_reviews\n",
    "\n",
    "reviews_ultimo = pd.concat(reviews2)\n",
    "reviews_ultimo"
   ]
  },
  {
   "cell_type": "code",
   "execution_count": 104,
   "metadata": {},
   "outputs": [
    {
     "name": "stdout",
     "output_type": "stream",
     "text": [
      "<class 'pandas.core.frame.DataFrame'>\n",
      "Index: 506 entries, 0 to 119\n",
      "Data columns (total 8 columns):\n",
      " #   Column          Non-Null Count  Dtype  \n",
      "---  ------          --------------  -----  \n",
      " 0   name            494 non-null    object \n",
      " 1   gmap_id         494 non-null    object \n",
      " 2   latitude        494 non-null    object \n",
      " 3   longitude       494 non-null    object \n",
      " 4   category        494 non-null    object \n",
      " 5   avg_rating      494 non-null    float64\n",
      " 6   num_of_reviews  494 non-null    float64\n",
      " 7   city            494 non-null    object \n",
      "dtypes: float64(2), object(6)\n",
      "memory usage: 35.6+ KB\n"
     ]
    }
   ],
   "source": [
    "sitios_ultimo.info()"
   ]
  },
  {
   "cell_type": "code",
   "execution_count": 139,
   "metadata": {},
   "outputs": [],
   "source": [
    "archivo_sitios.to_parquet('../../Data/Parquet/Sitios_nuevo.parquet')"
   ]
  },
  {
   "cell_type": "code",
   "execution_count": 140,
   "metadata": {},
   "outputs": [],
   "source": [
    "archivo_reviews.to_parquet('../../Data/Parquet/reviews_nuevo.parquet')"
   ]
  },
  {
   "cell_type": "code",
   "execution_count": 35,
   "metadata": {},
   "outputs": [],
   "source": [
    "sitios2 = sitios[sitios['category'].str.contains('Mex', case=False, na=False)]"
   ]
  },
  {
   "cell_type": "markdown",
   "metadata": {},
   "source": [
    "Recomiendo hacer el scraping busqueda por busqueda, ya que al tratarlas de hacer todas a la vez el buscador nos desconectara y se perdera toda la información"
   ]
  },
  {
   "cell_type": "code",
   "execution_count": null,
   "metadata": {},
   "outputs": [],
   "source": [
    "'Restaurantes mexicanos, Orlando, EEUU'\n",
    "'Restaurantes mexicanos, Miami, EEUU'\n",
    "'Restaurantes mexicanos, Tampa, EEUU'\n",
    "'Restaurantes mexicanos, Clearwater, EEUU'\n",
    "'Restaurantes mexicanos, Saint Petesburg, EEUU'\n",
    "'Restaurantes mexicanos, Brandon, EEUU'\n",
    "'Restaurantes mexicanos, Largo, EEUU'\n",
    "'Restaurantes mexicanos, Palm Harbor, EEUU'\n",
    "'Restaurantes mexicanos, Dunedin, EEUU'\n",
    "'Restaurantes mexicanos, Pinellas Park, EEUU'"
   ]
  },
  {
   "cell_type": "code",
   "execution_count": 45,
   "metadata": {},
   "outputs": [
    {
     "ename": "InvalidSelectorException",
     "evalue": "Message: invalid selector\nfrom javascript error: {\"status\":32,\"value\":\"An invalid or illegal selector was specified\"}\n  (Session info: chrome=126.0.6478.116); For documentation on this error, please visit: https://www.selenium.dev/documentation/webdriver/troubleshooting/errors#invalid-selector-exception\nStacktrace:\n\tGetHandleVerifier [0x00007FF70C1B3E32+31618]\n\t(No symbol) [0x00007FF70C12B099]\n\t(No symbol) [0x00007FF70BFE888A]\n\t(No symbol) [0x00007FF70BFEE6BE]\n\t(No symbol) [0x00007FF70BFF1011]\n\t(No symbol) [0x00007FF70BFF10B0]\n\t(No symbol) [0x00007FF70C03805C]\n\t(No symbol) [0x00007FF70C03862C]\n\t(No symbol) [0x00007FF70C07F787]\n\t(No symbol) [0x00007FF70C05D14F]\n\t(No symbol) [0x00007FF70C07CA80]\n\t(No symbol) [0x00007FF70C05CEB3]\n\t(No symbol) [0x00007FF70C02A46B]\n\t(No symbol) [0x00007FF70C02B001]\n\tGetHandleVerifier [0x00007FF70C4B9FFD+3202381]\n\tGetHandleVerifier [0x00007FF70C506A1D+3516269]\n\tGetHandleVerifier [0x00007FF70C4FC490+3473888]\n\tGetHandleVerifier [0x00007FF70C265D36+760454]\n\t(No symbol) [0x00007FF70C136B3F]\n\t(No symbol) [0x00007FF70C131CD4]\n\t(No symbol) [0x00007FF70C131E62]\n\t(No symbol) [0x00007FF70C12120F]\n\tBaseThreadInitThunk [0x00007FFAD45E257D+29]\n\tRtlUserThreadStart [0x00007FFAD56EAF28+40]\n",
     "output_type": "error",
     "traceback": [
      "\u001b[1;31m---------------------------------------------------------------------------\u001b[0m",
      "\u001b[1;31mInvalidSelectorException\u001b[0m                  Traceback (most recent call last)",
      "Cell \u001b[1;32mIn[45], line 23\u001b[0m\n\u001b[0;32m     21\u001b[0m lugar\u001b[38;5;241m.\u001b[39mclick()\n\u001b[0;32m     22\u001b[0m time\u001b[38;5;241m.\u001b[39msleep (\u001b[38;5;241m2\u001b[39m)\n\u001b[1;32m---> 23\u001b[0m nombre\u001b[38;5;241m=\u001b[39m\u001b[43mdriver\u001b[49m\u001b[38;5;241;43m.\u001b[39;49m\u001b[43mfind_element\u001b[49m\u001b[43m(\u001b[49m\u001b[43mBy\u001b[49m\u001b[38;5;241;43m.\u001b[39;49m\u001b[43mCLASS_NAME\u001b[49m\u001b[43m,\u001b[49m\u001b[43m \u001b[49m\u001b[38;5;124;43m'\u001b[39;49m\u001b[38;5;124;43m//*[@id=\u001b[39;49m\u001b[38;5;124;43m\"\u001b[39;49m\u001b[38;5;124;43mQA0Szd\u001b[39;49m\u001b[38;5;124;43m\"\u001b[39;49m\u001b[38;5;124;43m]/div/div/div[1]/div[3]/div/div[1]/div/div/div[2]/div[2]/div/div[1]/div[1]/h1\u001b[39;49m\u001b[38;5;124;43m'\u001b[39;49m\u001b[43m)\u001b[49m\u001b[38;5;241m.\u001b[39mtext\n\u001b[0;32m     24\u001b[0m \u001b[38;5;28mprint\u001b[39m(nombre)\n\u001b[0;32m     26\u001b[0m url \u001b[38;5;241m=\u001b[39m driver\u001b[38;5;241m.\u001b[39mcurrent_url\n",
      "File \u001b[1;32m~\\AppData\\Local\\Packages\\PythonSoftwareFoundation.Python.3.12_qbz5n2kfra8p0\\LocalCache\\local-packages\\Python312\\site-packages\\selenium\\webdriver\\remote\\webdriver.py:748\u001b[0m, in \u001b[0;36mWebDriver.find_element\u001b[1;34m(self, by, value)\u001b[0m\n\u001b[0;32m    745\u001b[0m     by \u001b[38;5;241m=\u001b[39m By\u001b[38;5;241m.\u001b[39mCSS_SELECTOR\n\u001b[0;32m    746\u001b[0m     value \u001b[38;5;241m=\u001b[39m \u001b[38;5;124mf\u001b[39m\u001b[38;5;124m'\u001b[39m\u001b[38;5;124m[name=\u001b[39m\u001b[38;5;124m\"\u001b[39m\u001b[38;5;132;01m{\u001b[39;00mvalue\u001b[38;5;132;01m}\u001b[39;00m\u001b[38;5;124m\"\u001b[39m\u001b[38;5;124m]\u001b[39m\u001b[38;5;124m'\u001b[39m\n\u001b[1;32m--> 748\u001b[0m \u001b[38;5;28;01mreturn\u001b[39;00m \u001b[38;5;28;43mself\u001b[39;49m\u001b[38;5;241;43m.\u001b[39;49m\u001b[43mexecute\u001b[49m\u001b[43m(\u001b[49m\u001b[43mCommand\u001b[49m\u001b[38;5;241;43m.\u001b[39;49m\u001b[43mFIND_ELEMENT\u001b[49m\u001b[43m,\u001b[49m\u001b[43m \u001b[49m\u001b[43m{\u001b[49m\u001b[38;5;124;43m\"\u001b[39;49m\u001b[38;5;124;43musing\u001b[39;49m\u001b[38;5;124;43m\"\u001b[39;49m\u001b[43m:\u001b[49m\u001b[43m \u001b[49m\u001b[43mby\u001b[49m\u001b[43m,\u001b[49m\u001b[43m \u001b[49m\u001b[38;5;124;43m\"\u001b[39;49m\u001b[38;5;124;43mvalue\u001b[39;49m\u001b[38;5;124;43m\"\u001b[39;49m\u001b[43m:\u001b[49m\u001b[43m \u001b[49m\u001b[43mvalue\u001b[49m\u001b[43m}\u001b[49m\u001b[43m)\u001b[49m[\u001b[38;5;124m\"\u001b[39m\u001b[38;5;124mvalue\u001b[39m\u001b[38;5;124m\"\u001b[39m]\n",
      "File \u001b[1;32m~\\AppData\\Local\\Packages\\PythonSoftwareFoundation.Python.3.12_qbz5n2kfra8p0\\LocalCache\\local-packages\\Python312\\site-packages\\selenium\\webdriver\\remote\\webdriver.py:354\u001b[0m, in \u001b[0;36mWebDriver.execute\u001b[1;34m(self, driver_command, params)\u001b[0m\n\u001b[0;32m    352\u001b[0m response \u001b[38;5;241m=\u001b[39m \u001b[38;5;28mself\u001b[39m\u001b[38;5;241m.\u001b[39mcommand_executor\u001b[38;5;241m.\u001b[39mexecute(driver_command, params)\n\u001b[0;32m    353\u001b[0m \u001b[38;5;28;01mif\u001b[39;00m response:\n\u001b[1;32m--> 354\u001b[0m     \u001b[38;5;28;43mself\u001b[39;49m\u001b[38;5;241;43m.\u001b[39;49m\u001b[43merror_handler\u001b[49m\u001b[38;5;241;43m.\u001b[39;49m\u001b[43mcheck_response\u001b[49m\u001b[43m(\u001b[49m\u001b[43mresponse\u001b[49m\u001b[43m)\u001b[49m\n\u001b[0;32m    355\u001b[0m     response[\u001b[38;5;124m\"\u001b[39m\u001b[38;5;124mvalue\u001b[39m\u001b[38;5;124m\"\u001b[39m] \u001b[38;5;241m=\u001b[39m \u001b[38;5;28mself\u001b[39m\u001b[38;5;241m.\u001b[39m_unwrap_value(response\u001b[38;5;241m.\u001b[39mget(\u001b[38;5;124m\"\u001b[39m\u001b[38;5;124mvalue\u001b[39m\u001b[38;5;124m\"\u001b[39m, \u001b[38;5;28;01mNone\u001b[39;00m))\n\u001b[0;32m    356\u001b[0m     \u001b[38;5;28;01mreturn\u001b[39;00m response\n",
      "File \u001b[1;32m~\\AppData\\Local\\Packages\\PythonSoftwareFoundation.Python.3.12_qbz5n2kfra8p0\\LocalCache\\local-packages\\Python312\\site-packages\\selenium\\webdriver\\remote\\errorhandler.py:229\u001b[0m, in \u001b[0;36mErrorHandler.check_response\u001b[1;34m(self, response)\u001b[0m\n\u001b[0;32m    227\u001b[0m         alert_text \u001b[38;5;241m=\u001b[39m value[\u001b[38;5;124m\"\u001b[39m\u001b[38;5;124malert\u001b[39m\u001b[38;5;124m\"\u001b[39m]\u001b[38;5;241m.\u001b[39mget(\u001b[38;5;124m\"\u001b[39m\u001b[38;5;124mtext\u001b[39m\u001b[38;5;124m\"\u001b[39m)\n\u001b[0;32m    228\u001b[0m     \u001b[38;5;28;01mraise\u001b[39;00m exception_class(message, screen, stacktrace, alert_text)  \u001b[38;5;66;03m# type: ignore[call-arg]  # mypy is not smart enough here\u001b[39;00m\n\u001b[1;32m--> 229\u001b[0m \u001b[38;5;28;01mraise\u001b[39;00m exception_class(message, screen, stacktrace)\n",
      "\u001b[1;31mInvalidSelectorException\u001b[0m: Message: invalid selector\nfrom javascript error: {\"status\":32,\"value\":\"An invalid or illegal selector was specified\"}\n  (Session info: chrome=126.0.6478.116); For documentation on this error, please visit: https://www.selenium.dev/documentation/webdriver/troubleshooting/errors#invalid-selector-exception\nStacktrace:\n\tGetHandleVerifier [0x00007FF70C1B3E32+31618]\n\t(No symbol) [0x00007FF70C12B099]\n\t(No symbol) [0x00007FF70BFE888A]\n\t(No symbol) [0x00007FF70BFEE6BE]\n\t(No symbol) [0x00007FF70BFF1011]\n\t(No symbol) [0x00007FF70BFF10B0]\n\t(No symbol) [0x00007FF70C03805C]\n\t(No symbol) [0x00007FF70C03862C]\n\t(No symbol) [0x00007FF70C07F787]\n\t(No symbol) [0x00007FF70C05D14F]\n\t(No symbol) [0x00007FF70C07CA80]\n\t(No symbol) [0x00007FF70C05CEB3]\n\t(No symbol) [0x00007FF70C02A46B]\n\t(No symbol) [0x00007FF70C02B001]\n\tGetHandleVerifier [0x00007FF70C4B9FFD+3202381]\n\tGetHandleVerifier [0x00007FF70C506A1D+3516269]\n\tGetHandleVerifier [0x00007FF70C4FC490+3473888]\n\tGetHandleVerifier [0x00007FF70C265D36+760454]\n\t(No symbol) [0x00007FF70C136B3F]\n\t(No symbol) [0x00007FF70C131CD4]\n\t(No symbol) [0x00007FF70C131E62]\n\t(No symbol) [0x00007FF70C12120F]\n\tBaseThreadInitThunk [0x00007FFAD45E257D+29]\n\tRtlUserThreadStart [0x00007FFAD56EAF28+40]\n"
     ]
    }
   ],
   "source": [
    "import time\n",
    "from selenium import webdriver\n",
    "\n",
    "driver = webdriver.Chrome()\n",
    "driver.get('https://www.google.com/maps/search/Restaurantes,+Florida,+EEUU/@28.4613115,-91.2139021,6z/data=!4m2!2m1!6e5?entry=ttu')\n",
    "time.sleep(5)\n",
    "\n",
    "section_loading = driver.find_element(By.CLASS_NAME, 'TFQHme ')\n",
    "\n",
    "# Hacer scroll en los resultados\n",
    "for _ in range(30):  # Ajustar el rango según la cantidad de scrolls que necesites\n",
    "    scrollable_div = driver.find_element(By.XPATH, '//*[@id=\"QA0Szd\"]/div/div/div[1]/div[2]/div/div[1]/div/div/div[1]/div[1]')\n",
    "    driver.execute_script(\"arguments[0].scrollTop = arguments[0].scrollHeight\", scrollable_div)\n",
    "    time.sleep(2)  # Esperar un poco antes de hacer el siguiente scroll\n",
    "\n",
    "\n",
    "lugares = driver.find_elements(By.CLASS_NAME, 'hfpxzc')\n",
    "lugar = lugares[0]\n",
    "\n",
    "time.sleep(2)\n",
    "lugar.click()\n",
    "time.sleep (2)\n",
    "nombre=driver.find_element(By.CLASS_NAME, '//*[@id=\"QA0Szd\"]/div/div/div[1]/div[3]/div/div[1]/div/div/div[2]/div[2]/div/div[1]/div[1]/h1').text\n",
    "print(nombre)\n",
    "\n",
    "url = driver.current_url\n",
    "\n",
    "print(url)"
   ]
  },
  {
   "cell_type": "code",
   "execution_count": 46,
   "metadata": {},
   "outputs": [],
   "source": [
    "opiniones = driver.find_element(By.XPATH, '//*[@id=\"QA0Szd\"]/div/div/div[1]/div[3]/div/div[1]/div/div/div[2]/div[3]/div/div/button[2]/div[2]/div[2]')\n",
    "opiniones.click()\n",
    "\n",
    "time.sleep(2)\n",
    "ordenar = driver.find_element(By.XPATH, '//*[@id=\"QA0Szd\"]/div/div/div[1]/div[3]/div/div[1]/div/div/div[3]/div[7]/div[2]/button/span')\n",
    "ordenar.click()\n",
    "time.sleep(2)\n",
    "orden = driver.find_element(By.XPATH, '//*[@id=\"action-menu\"]/div[2]')\n",
    "\n",
    "orden.click()\n",
    "\n",
    "scrollable_div = driver.find_element(By.XPATH, '//*[@id=\"QA0Szd\"]/div/div/div[1]/div[3]/div/div[1]/div/div/div[3]')\n",
    "for i in range (0,2):\n",
    "    driver.execute_script(\"arguments[0].scrollTop = arguments[0].scrollHeight\", scrollable_div)\n",
    "    time.sleep(3)\n",
    "\n",
    "Nombres = driver.find_elements(By.CLASS_NAME, 'd4r55 ')"
   ]
  },
  {
   "cell_type": "code",
   "execution_count": 47,
   "metadata": {},
   "outputs": [
    {
     "data": {
      "text/plain": [
       "[<selenium.webdriver.remote.webelement.WebElement (session=\"46261430fcd7d50367ed0a04d63d0ac2\", element=\"f.0F7C49085E0DF1A923335040CCB3FA40.d.254EADAE797820BC20D1CCDC36A87642.e.279\")>,\n",
       " <selenium.webdriver.remote.webelement.WebElement (session=\"46261430fcd7d50367ed0a04d63d0ac2\", element=\"f.0F7C49085E0DF1A923335040CCB3FA40.d.254EADAE797820BC20D1CCDC36A87642.e.280\")>,\n",
       " <selenium.webdriver.remote.webelement.WebElement (session=\"46261430fcd7d50367ed0a04d63d0ac2\", element=\"f.0F7C49085E0DF1A923335040CCB3FA40.d.254EADAE797820BC20D1CCDC36A87642.e.281\")>,\n",
       " <selenium.webdriver.remote.webelement.WebElement (session=\"46261430fcd7d50367ed0a04d63d0ac2\", element=\"f.0F7C49085E0DF1A923335040CCB3FA40.d.254EADAE797820BC20D1CCDC36A87642.e.282\")>,\n",
       " <selenium.webdriver.remote.webelement.WebElement (session=\"46261430fcd7d50367ed0a04d63d0ac2\", element=\"f.0F7C49085E0DF1A923335040CCB3FA40.d.254EADAE797820BC20D1CCDC36A87642.e.283\")>,\n",
       " <selenium.webdriver.remote.webelement.WebElement (session=\"46261430fcd7d50367ed0a04d63d0ac2\", element=\"f.0F7C49085E0DF1A923335040CCB3FA40.d.254EADAE797820BC20D1CCDC36A87642.e.284\")>,\n",
       " <selenium.webdriver.remote.webelement.WebElement (session=\"46261430fcd7d50367ed0a04d63d0ac2\", element=\"f.0F7C49085E0DF1A923335040CCB3FA40.d.254EADAE797820BC20D1CCDC36A87642.e.285\")>,\n",
       " <selenium.webdriver.remote.webelement.WebElement (session=\"46261430fcd7d50367ed0a04d63d0ac2\", element=\"f.0F7C49085E0DF1A923335040CCB3FA40.d.254EADAE797820BC20D1CCDC36A87642.e.286\")>,\n",
       " <selenium.webdriver.remote.webelement.WebElement (session=\"46261430fcd7d50367ed0a04d63d0ac2\", element=\"f.0F7C49085E0DF1A923335040CCB3FA40.d.254EADAE797820BC20D1CCDC36A87642.e.287\")>,\n",
       " <selenium.webdriver.remote.webelement.WebElement (session=\"46261430fcd7d50367ed0a04d63d0ac2\", element=\"f.0F7C49085E0DF1A923335040CCB3FA40.d.254EADAE797820BC20D1CCDC36A87642.e.288\")>,\n",
       " <selenium.webdriver.remote.webelement.WebElement (session=\"46261430fcd7d50367ed0a04d63d0ac2\", element=\"f.0F7C49085E0DF1A923335040CCB3FA40.d.254EADAE797820BC20D1CCDC36A87642.e.289\")>,\n",
       " <selenium.webdriver.remote.webelement.WebElement (session=\"46261430fcd7d50367ed0a04d63d0ac2\", element=\"f.0F7C49085E0DF1A923335040CCB3FA40.d.254EADAE797820BC20D1CCDC36A87642.e.290\")>,\n",
       " <selenium.webdriver.remote.webelement.WebElement (session=\"46261430fcd7d50367ed0a04d63d0ac2\", element=\"f.0F7C49085E0DF1A923335040CCB3FA40.d.254EADAE797820BC20D1CCDC36A87642.e.291\")>,\n",
       " <selenium.webdriver.remote.webelement.WebElement (session=\"46261430fcd7d50367ed0a04d63d0ac2\", element=\"f.0F7C49085E0DF1A923335040CCB3FA40.d.254EADAE797820BC20D1CCDC36A87642.e.292\")>,\n",
       " <selenium.webdriver.remote.webelement.WebElement (session=\"46261430fcd7d50367ed0a04d63d0ac2\", element=\"f.0F7C49085E0DF1A923335040CCB3FA40.d.254EADAE797820BC20D1CCDC36A87642.e.293\")>,\n",
       " <selenium.webdriver.remote.webelement.WebElement (session=\"46261430fcd7d50367ed0a04d63d0ac2\", element=\"f.0F7C49085E0DF1A923335040CCB3FA40.d.254EADAE797820BC20D1CCDC36A87642.e.294\")>,\n",
       " <selenium.webdriver.remote.webelement.WebElement (session=\"46261430fcd7d50367ed0a04d63d0ac2\", element=\"f.0F7C49085E0DF1A923335040CCB3FA40.d.254EADAE797820BC20D1CCDC36A87642.e.295\")>,\n",
       " <selenium.webdriver.remote.webelement.WebElement (session=\"46261430fcd7d50367ed0a04d63d0ac2\", element=\"f.0F7C49085E0DF1A923335040CCB3FA40.d.254EADAE797820BC20D1CCDC36A87642.e.296\")>,\n",
       " <selenium.webdriver.remote.webelement.WebElement (session=\"46261430fcd7d50367ed0a04d63d0ac2\", element=\"f.0F7C49085E0DF1A923335040CCB3FA40.d.254EADAE797820BC20D1CCDC36A87642.e.297\")>,\n",
       " <selenium.webdriver.remote.webelement.WebElement (session=\"46261430fcd7d50367ed0a04d63d0ac2\", element=\"f.0F7C49085E0DF1A923335040CCB3FA40.d.254EADAE797820BC20D1CCDC36A87642.e.298\")>]"
      ]
     },
     "execution_count": 47,
     "metadata": {},
     "output_type": "execute_result"
    }
   ],
   "source": [
    "reseñas = driver.find_elements(By.CLASS_NAME, 'jJc9Ad ')\n",
    "cantidad_reviews = len(reseñas)\n",
    "cantidad = len(Nombres)\n",
    "Nombres"
   ]
  },
  {
   "cell_type": "code",
   "execution_count": 50,
   "metadata": {},
   "outputs": [
    {
     "name": "stdout",
     "output_type": "stream",
     "text": [
      "ChdDSUhNMG9nS0VJQ0FnSURMbXFqU2tBRRAB\n"
     ]
    }
   ],
   "source": [
    "boton = reseñas[0].find_element(By.CLASS_NAME, 'WEBjve')\n",
    "data_review_id = boton.get_attribute('data-review-id')\n",
    "\n",
    "print(data_review_id)"
   ]
  },
  {
   "cell_type": "code",
   "execution_count": 88,
   "metadata": {},
   "outputs": [
    {
     "data": {
      "text/plain": [
       "'juan freitas'"
      ]
     },
     "execution_count": 88,
     "metadata": {},
     "output_type": "execute_result"
    }
   ],
   "source": [
    "reseñas[0].find_element(By.CLASS_NAME,'d4r55 ').text"
   ]
  },
  {
   "cell_type": "code",
   "execution_count": 91,
   "metadata": {},
   "outputs": [
    {
     "name": "stdout",
     "output_type": "stream",
     "text": [
      "114018159987733753653\n"
     ]
    }
   ],
   "source": [
    "# Localizar el botón usando su clase (puedes usar cualquier otro selector adecuado)\n",
    "id1 = reseñas[0].find_element(By.CLASS_NAME, 'al6Kxe')\n",
    "\n",
    "# Obtener el valor del atributo data-href\n",
    "data_href = id1.get_attribute('data-href')\n",
    "\n",
    "# Extraer la parte numérica del enlace usando una expresión regular\n",
    "match = re.search(r'\\d+', data_href)\n",
    "if match:\n",
    "    numero = match.group(0)\n",
    "    print(numero)  # Debería imprimir '111121299400135924938'\n"
   ]
  },
  {
   "cell_type": "code",
   "execution_count": 80,
   "metadata": {},
   "outputs": [
    {
     "name": "stdout",
     "output_type": "stream",
     "text": [
      "5\n"
     ]
    }
   ],
   "source": [
    "# Localizar el elemento que contiene las estrellas\n",
    "elemento=reseñas[0].find_element(By.CLASS_NAME, 'kvMYJc')\n",
    "  # Localiza el elemento por su clase\n",
    "\n",
    "# Obtener el valor del atributo aria-label\n",
    "aria_label = elemento.get_attribute('aria-label')\n",
    "\n",
    "# Extraer el número de estrellas del aria-label\n",
    "calificacion = int(aria_label.split()[0])  # Asumiendo que el formato es siempre 'X estrellas'\n",
    "\n",
    "print(calificacion)  # Debería imprimir 1 en este caso"
   ]
  },
  {
   "cell_type": "code",
   "execution_count": 81,
   "metadata": {},
   "outputs": [],
   "source": [
    "botonmas = driver.find_element(By.CLASS_NAME, 'w8nwRe')\n",
    "botonmas.click()"
   ]
  },
  {
   "cell_type": "code",
   "execution_count": 84,
   "metadata": {},
   "outputs": [
    {
     "ename": "NoSuchElementException",
     "evalue": "Message: no such element: Unable to locate element: {\"method\":\"css selector\",\"selector\":\".wiI7pd\"}\n  (Session info: chrome=126.0.6478.116); For documentation on this error, please visit: https://www.selenium.dev/documentation/webdriver/troubleshooting/errors#no-such-element-exception\nStacktrace:\n\tGetHandleVerifier [0x00007FF70C1B3E32+31618]\n\t(No symbol) [0x00007FF70C12B099]\n\t(No symbol) [0x00007FF70BFE888A]\n\t(No symbol) [0x00007FF70C038524]\n\t(No symbol) [0x00007FF70C03862C]\n\t(No symbol) [0x00007FF70C02BCDC]\n\t(No symbol) [0x00007FF70C05D14F]\n\t(No symbol) [0x00007FF70C02BBA6]\n\t(No symbol) [0x00007FF70C05D320]\n\t(No symbol) [0x00007FF70C07CA80]\n\t(No symbol) [0x00007FF70C05CEB3]\n\t(No symbol) [0x00007FF70C02A46B]\n\t(No symbol) [0x00007FF70C02B001]\n\tGetHandleVerifier [0x00007FF70C4B9FFD+3202381]\n\tGetHandleVerifier [0x00007FF70C506A1D+3516269]\n\tGetHandleVerifier [0x00007FF70C4FC490+3473888]\n\tGetHandleVerifier [0x00007FF70C265D36+760454]\n\t(No symbol) [0x00007FF70C136B3F]\n\t(No symbol) [0x00007FF70C131CD4]\n\t(No symbol) [0x00007FF70C131E62]\n\t(No symbol) [0x00007FF70C12120F]\n\tBaseThreadInitThunk [0x00007FFAD45E257D+29]\n\tRtlUserThreadStart [0x00007FFAD56EAF28+40]\n",
     "output_type": "error",
     "traceback": [
      "\u001b[1;31m---------------------------------------------------------------------------\u001b[0m",
      "\u001b[1;31mNoSuchElementException\u001b[0m                    Traceback (most recent call last)",
      "Cell \u001b[1;32mIn[84], line 1\u001b[0m\n\u001b[1;32m----> 1\u001b[0m texto \u001b[38;5;241m=\u001b[39m \u001b[43mreseñas\u001b[49m\u001b[43m[\u001b[49m\u001b[38;5;241;43m0\u001b[39;49m\u001b[43m]\u001b[49m\u001b[38;5;241;43m.\u001b[39;49m\u001b[43mfind_element\u001b[49m\u001b[43m(\u001b[49m\u001b[43mBy\u001b[49m\u001b[38;5;241;43m.\u001b[39;49m\u001b[43mCLASS_NAME\u001b[49m\u001b[43m,\u001b[49m\u001b[43m \u001b[49m\u001b[38;5;124;43m'\u001b[39;49m\u001b[38;5;124;43mwiI7pd\u001b[39;49m\u001b[38;5;124;43m'\u001b[39;49m\u001b[43m)\u001b[49m\u001b[38;5;241m.\u001b[39mtext\n\u001b[0;32m      2\u001b[0m texto\n",
      "File \u001b[1;32m~\\AppData\\Local\\Packages\\PythonSoftwareFoundation.Python.3.12_qbz5n2kfra8p0\\LocalCache\\local-packages\\Python312\\site-packages\\selenium\\webdriver\\remote\\webelement.py:417\u001b[0m, in \u001b[0;36mWebElement.find_element\u001b[1;34m(self, by, value)\u001b[0m\n\u001b[0;32m    414\u001b[0m     by \u001b[38;5;241m=\u001b[39m By\u001b[38;5;241m.\u001b[39mCSS_SELECTOR\n\u001b[0;32m    415\u001b[0m     value \u001b[38;5;241m=\u001b[39m \u001b[38;5;124mf\u001b[39m\u001b[38;5;124m'\u001b[39m\u001b[38;5;124m[name=\u001b[39m\u001b[38;5;124m\"\u001b[39m\u001b[38;5;132;01m{\u001b[39;00mvalue\u001b[38;5;132;01m}\u001b[39;00m\u001b[38;5;124m\"\u001b[39m\u001b[38;5;124m]\u001b[39m\u001b[38;5;124m'\u001b[39m\n\u001b[1;32m--> 417\u001b[0m \u001b[38;5;28;01mreturn\u001b[39;00m \u001b[38;5;28;43mself\u001b[39;49m\u001b[38;5;241;43m.\u001b[39;49m\u001b[43m_execute\u001b[49m\u001b[43m(\u001b[49m\u001b[43mCommand\u001b[49m\u001b[38;5;241;43m.\u001b[39;49m\u001b[43mFIND_CHILD_ELEMENT\u001b[49m\u001b[43m,\u001b[49m\u001b[43m \u001b[49m\u001b[43m{\u001b[49m\u001b[38;5;124;43m\"\u001b[39;49m\u001b[38;5;124;43musing\u001b[39;49m\u001b[38;5;124;43m\"\u001b[39;49m\u001b[43m:\u001b[49m\u001b[43m \u001b[49m\u001b[43mby\u001b[49m\u001b[43m,\u001b[49m\u001b[43m \u001b[49m\u001b[38;5;124;43m\"\u001b[39;49m\u001b[38;5;124;43mvalue\u001b[39;49m\u001b[38;5;124;43m\"\u001b[39;49m\u001b[43m:\u001b[49m\u001b[43m \u001b[49m\u001b[43mvalue\u001b[49m\u001b[43m}\u001b[49m\u001b[43m)\u001b[49m[\u001b[38;5;124m\"\u001b[39m\u001b[38;5;124mvalue\u001b[39m\u001b[38;5;124m\"\u001b[39m]\n",
      "File \u001b[1;32m~\\AppData\\Local\\Packages\\PythonSoftwareFoundation.Python.3.12_qbz5n2kfra8p0\\LocalCache\\local-packages\\Python312\\site-packages\\selenium\\webdriver\\remote\\webelement.py:395\u001b[0m, in \u001b[0;36mWebElement._execute\u001b[1;34m(self, command, params)\u001b[0m\n\u001b[0;32m    393\u001b[0m     params \u001b[38;5;241m=\u001b[39m {}\n\u001b[0;32m    394\u001b[0m params[\u001b[38;5;124m\"\u001b[39m\u001b[38;5;124mid\u001b[39m\u001b[38;5;124m\"\u001b[39m] \u001b[38;5;241m=\u001b[39m \u001b[38;5;28mself\u001b[39m\u001b[38;5;241m.\u001b[39m_id\n\u001b[1;32m--> 395\u001b[0m \u001b[38;5;28;01mreturn\u001b[39;00m \u001b[38;5;28;43mself\u001b[39;49m\u001b[38;5;241;43m.\u001b[39;49m\u001b[43m_parent\u001b[49m\u001b[38;5;241;43m.\u001b[39;49m\u001b[43mexecute\u001b[49m\u001b[43m(\u001b[49m\u001b[43mcommand\u001b[49m\u001b[43m,\u001b[49m\u001b[43m \u001b[49m\u001b[43mparams\u001b[49m\u001b[43m)\u001b[49m\n",
      "File \u001b[1;32m~\\AppData\\Local\\Packages\\PythonSoftwareFoundation.Python.3.12_qbz5n2kfra8p0\\LocalCache\\local-packages\\Python312\\site-packages\\selenium\\webdriver\\remote\\webdriver.py:354\u001b[0m, in \u001b[0;36mWebDriver.execute\u001b[1;34m(self, driver_command, params)\u001b[0m\n\u001b[0;32m    352\u001b[0m response \u001b[38;5;241m=\u001b[39m \u001b[38;5;28mself\u001b[39m\u001b[38;5;241m.\u001b[39mcommand_executor\u001b[38;5;241m.\u001b[39mexecute(driver_command, params)\n\u001b[0;32m    353\u001b[0m \u001b[38;5;28;01mif\u001b[39;00m response:\n\u001b[1;32m--> 354\u001b[0m     \u001b[38;5;28;43mself\u001b[39;49m\u001b[38;5;241;43m.\u001b[39;49m\u001b[43merror_handler\u001b[49m\u001b[38;5;241;43m.\u001b[39;49m\u001b[43mcheck_response\u001b[49m\u001b[43m(\u001b[49m\u001b[43mresponse\u001b[49m\u001b[43m)\u001b[49m\n\u001b[0;32m    355\u001b[0m     response[\u001b[38;5;124m\"\u001b[39m\u001b[38;5;124mvalue\u001b[39m\u001b[38;5;124m\"\u001b[39m] \u001b[38;5;241m=\u001b[39m \u001b[38;5;28mself\u001b[39m\u001b[38;5;241m.\u001b[39m_unwrap_value(response\u001b[38;5;241m.\u001b[39mget(\u001b[38;5;124m\"\u001b[39m\u001b[38;5;124mvalue\u001b[39m\u001b[38;5;124m\"\u001b[39m, \u001b[38;5;28;01mNone\u001b[39;00m))\n\u001b[0;32m    356\u001b[0m     \u001b[38;5;28;01mreturn\u001b[39;00m response\n",
      "File \u001b[1;32m~\\AppData\\Local\\Packages\\PythonSoftwareFoundation.Python.3.12_qbz5n2kfra8p0\\LocalCache\\local-packages\\Python312\\site-packages\\selenium\\webdriver\\remote\\errorhandler.py:229\u001b[0m, in \u001b[0;36mErrorHandler.check_response\u001b[1;34m(self, response)\u001b[0m\n\u001b[0;32m    227\u001b[0m         alert_text \u001b[38;5;241m=\u001b[39m value[\u001b[38;5;124m\"\u001b[39m\u001b[38;5;124malert\u001b[39m\u001b[38;5;124m\"\u001b[39m]\u001b[38;5;241m.\u001b[39mget(\u001b[38;5;124m\"\u001b[39m\u001b[38;5;124mtext\u001b[39m\u001b[38;5;124m\"\u001b[39m)\n\u001b[0;32m    228\u001b[0m     \u001b[38;5;28;01mraise\u001b[39;00m exception_class(message, screen, stacktrace, alert_text)  \u001b[38;5;66;03m# type: ignore[call-arg]  # mypy is not smart enough here\u001b[39;00m\n\u001b[1;32m--> 229\u001b[0m \u001b[38;5;28;01mraise\u001b[39;00m exception_class(message, screen, stacktrace)\n",
      "\u001b[1;31mNoSuchElementException\u001b[0m: Message: no such element: Unable to locate element: {\"method\":\"css selector\",\"selector\":\".wiI7pd\"}\n  (Session info: chrome=126.0.6478.116); For documentation on this error, please visit: https://www.selenium.dev/documentation/webdriver/troubleshooting/errors#no-such-element-exception\nStacktrace:\n\tGetHandleVerifier [0x00007FF70C1B3E32+31618]\n\t(No symbol) [0x00007FF70C12B099]\n\t(No symbol) [0x00007FF70BFE888A]\n\t(No symbol) [0x00007FF70C038524]\n\t(No symbol) [0x00007FF70C03862C]\n\t(No symbol) [0x00007FF70C02BCDC]\n\t(No symbol) [0x00007FF70C05D14F]\n\t(No symbol) [0x00007FF70C02BBA6]\n\t(No symbol) [0x00007FF70C05D320]\n\t(No symbol) [0x00007FF70C07CA80]\n\t(No symbol) [0x00007FF70C05CEB3]\n\t(No symbol) [0x00007FF70C02A46B]\n\t(No symbol) [0x00007FF70C02B001]\n\tGetHandleVerifier [0x00007FF70C4B9FFD+3202381]\n\tGetHandleVerifier [0x00007FF70C506A1D+3516269]\n\tGetHandleVerifier [0x00007FF70C4FC490+3473888]\n\tGetHandleVerifier [0x00007FF70C265D36+760454]\n\t(No symbol) [0x00007FF70C136B3F]\n\t(No symbol) [0x00007FF70C131CD4]\n\t(No symbol) [0x00007FF70C131E62]\n\t(No symbol) [0x00007FF70C12120F]\n\tBaseThreadInitThunk [0x00007FFAD45E257D+29]\n\tRtlUserThreadStart [0x00007FFAD56EAF28+40]\n"
     ]
    }
   ],
   "source": [
    "texto = reseñas[0].find_element(By.CLASS_NAME, 'wiI7pd').text\n",
    "texto"
   ]
  },
  {
   "cell_type": "code",
   "execution_count": 20,
   "metadata": {},
   "outputs": [],
   "source": [
    "buttons = driver.find_elements(By.CLASS_NAME, 'al6Kxe')\n",
    "\n",
    "# Extrae y almacena los enlaces\n",
    "links = [button.get_attribute('data-href') for button in buttons]"
   ]
  },
  {
   "cell_type": "code",
   "execution_count": 22,
   "metadata": {},
   "outputs": [
    {
     "name": "stdout",
     "output_type": "stream",
     "text": [
      "108247853503606105731\n"
     ]
    }
   ],
   "source": [
    "link = links[0]\n",
    "\n",
    "# Usar una expresión regular para encontrar la parte numérica\n",
    "match = re.search(r'/(\\d+)/reviews', link)\n",
    "\n",
    "# Extraer y mostrar la parte numérica si se encuentra\n",
    "if match:\n",
    "    numeric_part = match.group(1)\n",
    "    print(numeric_part)\n",
    "else:\n",
    "    print(\"No se encontró una parte numérica en el enlace.\")"
   ]
  },
  {
   "cell_type": "code",
   "execution_count": 59,
   "metadata": {},
   "outputs": [
    {
     "name": "stdout",
     "output_type": "stream",
     "text": [
      "El Cilantrillo Restaurant\n"
     ]
    }
   ],
   "source": [
    "nombre=driver.find_element(By.XPATH, '//*[@id=\"QA0Szd\"]/div/div/div[1]/div[3]/div/div[1]/div/div/div[2]/div[2]/div/div[1]/div[1]/h1').text\n",
    "\n",
    "print(nombre)"
   ]
  },
  {
   "cell_type": "code",
   "execution_count": 149,
   "metadata": {},
   "outputs": [
    {
     "data": {
      "text/plain": [
       "'Estefan Kitchen Orlando'"
      ]
     },
     "execution_count": 149,
     "metadata": {},
     "output_type": "execute_result"
    }
   ],
   "source": [
    "nombre"
   ]
  },
  {
   "cell_type": "code",
   "execution_count": 11,
   "metadata": {},
   "outputs": [],
   "source": [
    "url = driver.current_url"
   ]
  },
  {
   "cell_type": "code",
   "execution_count": 13,
   "metadata": {},
   "outputs": [
    {
     "name": "stdout",
     "output_type": "stream",
     "text": [
      "https://www.google.com/maps/place/El+Cilantrillo+Restaurant/@28.4613115,-91.2139021,6z/data=!4m11!1m3!2m2!1sRestaurantes,+Florida,+EEUU!6e5!3m6!1s0x88e77dddfa7e805d:0xf115633fcf003d5!8m2!3d28.4501349!4d-81.3969286!15sChtSZXN0YXVyYW50ZXMsIEZsb3JpZGEsIEVFVVVaGyIZcmVzdGF1cmFudGVzIGZsb3JpZGEgZWV1dZIBF3B1ZXJ0b19yaWNhbl9yZXN0YXVyYW50mgEkQ2hkRFNVaE5NRzluUzBWSlEwRm5TVVJoY0V0TWNHcFJSUkFC4AEA!16s%2Fg%2F11mvn2dhtn?entry=ttu\n"
     ]
    }
   ],
   "source": [
    "print(url)"
   ]
  },
  {
   "cell_type": "code",
   "execution_count": 151,
   "metadata": {},
   "outputs": [
    {
     "data": {
      "text/plain": [
       "('28.3455145', '-81.6086358')"
      ]
     },
     "execution_count": 151,
     "metadata": {},
     "output_type": "execute_result"
    }
   ],
   "source": [
    "coordenadas = re.search(r\"!3d-?\\d\\d?\\.\\d{4,8}!4d-?\\d\\d?\\.\\d{4,8}\", url).group()\n",
    "coordenada = coordenadas.replace('!3d','')\n",
    "\n",
    "final = tuple(coordenada.split('!4d'))\n",
    "\n",
    "final"
   ]
  },
  {
   "cell_type": "code",
   "execution_count": 152,
   "metadata": {},
   "outputs": [
    {
     "name": "stdout",
     "output_type": "stream",
     "text": [
      "Dato extraído: 0x88dd7dc69b3a06cb:0xfa20cb8563a46242\n"
     ]
    }
   ],
   "source": [
    "\n",
    "pattern = r'0x[0-9a-fA-F]+:0x[0-9a-fA-F]+'\n",
    "\n",
    "match = re.search(pattern, url)\n",
    "\n",
    "if match:\n",
    "    extracted_data = match.group()\n",
    "    print(\"Dato extraído:\", extracted_data)\n",
    "else:\n",
    "    print(\"No se encontró el patrón.\")\n",
    "# 0x88e77dddfa7e805d:0xf115633fcf003d5"
   ]
  },
  {
   "cell_type": "code",
   "execution_count": 153,
   "metadata": {},
   "outputs": [
    {
     "name": "stdout",
     "output_type": "stream",
     "text": [
      "Restaurante\n"
     ]
    }
   ],
   "source": [
    "\n",
    "categoria=driver.find_element(By.XPATH, '//*[@id=\"QA0Szd\"]/div/div/div[1]/div[3]/div/div[1]/div/div/div[2]/div[2]/div/div[1]/div[2]/div/div[2]/span[1]/span/button').text\n",
    "\n",
    "print(categoria)"
   ]
  },
  {
   "cell_type": "code",
   "execution_count": 154,
   "metadata": {},
   "outputs": [
    {
     "data": {
      "text/plain": [
       "4.1"
      ]
     },
     "execution_count": 154,
     "metadata": {},
     "output_type": "execute_result"
    }
   ],
   "source": [
    "rating = driver.find_element(By.XPATH, '//*[@id=\"QA0Szd\"]/div/div/div[1]/div[3]/div/div[1]/div/div/div[2]/div[2]/div/div[1]/div[2]/div/div[1]/div[2]/span[1]/span[1]').text\n",
    "rating = rating.replace(',','.')\n",
    "float(rating)"
   ]
  },
  {
   "cell_type": "code",
   "execution_count": 155,
   "metadata": {},
   "outputs": [
    {
     "data": {
      "text/plain": [
       "1385"
      ]
     },
     "execution_count": 155,
     "metadata": {},
     "output_type": "execute_result"
    }
   ],
   "source": [
    "reviews = driver.find_element(By.XPATH, '//*[@id=\"QA0Szd\"]/div/div/div[1]/div[3]/div/div[1]/div/div/div[2]/div[2]/div/div[1]/div[2]/div/div[1]/div[2]/span[2]/span/span').text\n",
    "reviews = reviews.replace('.','')\n",
    "reviews = reviews.replace('(','')\n",
    "reviews = reviews.replace(')','')\n",
    "int(reviews)"
   ]
  },
  {
   "cell_type": "code",
   "execution_count": 157,
   "metadata": {},
   "outputs": [
    {
     "ename": "NoSuchElementException",
     "evalue": "Message: no such element: Unable to locate element: {\"method\":\"xpath\",\"selector\":\"//*[@id=\"QA0Szd\"]/div/div/div[1]/div[3]/div/div[1]/div/div/div[2]/div[9]/div[3]/button/div/div[2]/div[1]\"}\n  (Session info: chrome=126.0.6478.63); For documentation on this error, please visit: https://www.selenium.dev/documentation/webdriver/troubleshooting/errors#no-such-element-exception\nStacktrace:\n\tGetHandleVerifier [0x00007FF633833E32+31618]\n\t(No symbol) [0x00007FF6337AB099]\n\t(No symbol) [0x00007FF63366888A]\n\t(No symbol) [0x00007FF6336B8524]\n\t(No symbol) [0x00007FF6336B862C]\n\t(No symbol) [0x00007FF6336FF787]\n\t(No symbol) [0x00007FF6336DD14F]\n\t(No symbol) [0x00007FF6336FCA80]\n\t(No symbol) [0x00007FF6336DCEB3]\n\t(No symbol) [0x00007FF6336AA46B]\n\t(No symbol) [0x00007FF6336AB001]\n\tGetHandleVerifier [0x00007FF633B39FFD+3202381]\n\tGetHandleVerifier [0x00007FF633B86A1D+3516269]\n\tGetHandleVerifier [0x00007FF633B7C490+3473888]\n\tGetHandleVerifier [0x00007FF6338E5D36+760454]\n\t(No symbol) [0x00007FF6337B6B3F]\n\t(No symbol) [0x00007FF6337B1CD4]\n\t(No symbol) [0x00007FF6337B1E62]\n\t(No symbol) [0x00007FF6337A120F]\n\tBaseThreadInitThunk [0x00007FF8A037257D+29]\n\tRtlUserThreadStart [0x00007FF8A1D6AF28+40]\n",
     "output_type": "error",
     "traceback": [
      "\u001b[1;31m---------------------------------------------------------------------------\u001b[0m",
      "\u001b[1;31mNoSuchElementException\u001b[0m                    Traceback (most recent call last)",
      "Cell \u001b[1;32mIn[157], line 1\u001b[0m\n\u001b[1;32m----> 1\u001b[0m direccion \u001b[38;5;241m=\u001b[39m \u001b[43mdriver\u001b[49m\u001b[38;5;241;43m.\u001b[39;49m\u001b[43mfind_element\u001b[49m\u001b[43m(\u001b[49m\u001b[43mBy\u001b[49m\u001b[38;5;241;43m.\u001b[39;49m\u001b[43mXPATH\u001b[49m\u001b[43m,\u001b[49m\u001b[43m \u001b[49m\u001b[38;5;124;43m'\u001b[39;49m\u001b[38;5;124;43m//*[@id=\u001b[39;49m\u001b[38;5;124;43m\"\u001b[39;49m\u001b[38;5;124;43mQA0Szd\u001b[39;49m\u001b[38;5;124;43m\"\u001b[39;49m\u001b[38;5;124;43m]/div/div/div[1]/div[3]/div/div[1]/div/div/div[2]/div[9]/div[3]/button/div/div[2]/div[1]\u001b[39;49m\u001b[38;5;124;43m'\u001b[39;49m\u001b[43m)\u001b[49m\u001b[38;5;241m.\u001b[39mtext\n\u001b[0;32m      2\u001b[0m \u001b[38;5;66;03m# //*[@id=\"QA0Szd\"]/div/div/div[1]/div[3]/div/div[1]/div/div/div[2]/div[9]/div[3]/button/div/div[2]/div[1]\u001b[39;00m\n\u001b[0;32m      3\u001b[0m \u001b[38;5;66;03m# //*[@id=\"QA0Szd\"]/div/div/div[1]/div[3]/div/div[1]/div/div/div[2]/div[11]/div[3]/button/div/div[2]/div[1]\u001b[39;00m\n\u001b[0;32m      4\u001b[0m direccion\n",
      "File \u001b[1;32m~\\AppData\\Local\\Packages\\PythonSoftwareFoundation.Python.3.12_qbz5n2kfra8p0\\LocalCache\\local-packages\\Python312\\site-packages\\selenium\\webdriver\\remote\\webdriver.py:748\u001b[0m, in \u001b[0;36mWebDriver.find_element\u001b[1;34m(self, by, value)\u001b[0m\n\u001b[0;32m    745\u001b[0m     by \u001b[38;5;241m=\u001b[39m By\u001b[38;5;241m.\u001b[39mCSS_SELECTOR\n\u001b[0;32m    746\u001b[0m     value \u001b[38;5;241m=\u001b[39m \u001b[38;5;124mf\u001b[39m\u001b[38;5;124m'\u001b[39m\u001b[38;5;124m[name=\u001b[39m\u001b[38;5;124m\"\u001b[39m\u001b[38;5;132;01m{\u001b[39;00mvalue\u001b[38;5;132;01m}\u001b[39;00m\u001b[38;5;124m\"\u001b[39m\u001b[38;5;124m]\u001b[39m\u001b[38;5;124m'\u001b[39m\n\u001b[1;32m--> 748\u001b[0m \u001b[38;5;28;01mreturn\u001b[39;00m \u001b[38;5;28;43mself\u001b[39;49m\u001b[38;5;241;43m.\u001b[39;49m\u001b[43mexecute\u001b[49m\u001b[43m(\u001b[49m\u001b[43mCommand\u001b[49m\u001b[38;5;241;43m.\u001b[39;49m\u001b[43mFIND_ELEMENT\u001b[49m\u001b[43m,\u001b[49m\u001b[43m \u001b[49m\u001b[43m{\u001b[49m\u001b[38;5;124;43m\"\u001b[39;49m\u001b[38;5;124;43musing\u001b[39;49m\u001b[38;5;124;43m\"\u001b[39;49m\u001b[43m:\u001b[49m\u001b[43m \u001b[49m\u001b[43mby\u001b[49m\u001b[43m,\u001b[49m\u001b[43m \u001b[49m\u001b[38;5;124;43m\"\u001b[39;49m\u001b[38;5;124;43mvalue\u001b[39;49m\u001b[38;5;124;43m\"\u001b[39;49m\u001b[43m:\u001b[49m\u001b[43m \u001b[49m\u001b[43mvalue\u001b[49m\u001b[43m}\u001b[49m\u001b[43m)\u001b[49m[\u001b[38;5;124m\"\u001b[39m\u001b[38;5;124mvalue\u001b[39m\u001b[38;5;124m\"\u001b[39m]\n",
      "File \u001b[1;32m~\\AppData\\Local\\Packages\\PythonSoftwareFoundation.Python.3.12_qbz5n2kfra8p0\\LocalCache\\local-packages\\Python312\\site-packages\\selenium\\webdriver\\remote\\webdriver.py:354\u001b[0m, in \u001b[0;36mWebDriver.execute\u001b[1;34m(self, driver_command, params)\u001b[0m\n\u001b[0;32m    352\u001b[0m response \u001b[38;5;241m=\u001b[39m \u001b[38;5;28mself\u001b[39m\u001b[38;5;241m.\u001b[39mcommand_executor\u001b[38;5;241m.\u001b[39mexecute(driver_command, params)\n\u001b[0;32m    353\u001b[0m \u001b[38;5;28;01mif\u001b[39;00m response:\n\u001b[1;32m--> 354\u001b[0m     \u001b[38;5;28;43mself\u001b[39;49m\u001b[38;5;241;43m.\u001b[39;49m\u001b[43merror_handler\u001b[49m\u001b[38;5;241;43m.\u001b[39;49m\u001b[43mcheck_response\u001b[49m\u001b[43m(\u001b[49m\u001b[43mresponse\u001b[49m\u001b[43m)\u001b[49m\n\u001b[0;32m    355\u001b[0m     response[\u001b[38;5;124m\"\u001b[39m\u001b[38;5;124mvalue\u001b[39m\u001b[38;5;124m\"\u001b[39m] \u001b[38;5;241m=\u001b[39m \u001b[38;5;28mself\u001b[39m\u001b[38;5;241m.\u001b[39m_unwrap_value(response\u001b[38;5;241m.\u001b[39mget(\u001b[38;5;124m\"\u001b[39m\u001b[38;5;124mvalue\u001b[39m\u001b[38;5;124m\"\u001b[39m, \u001b[38;5;28;01mNone\u001b[39;00m))\n\u001b[0;32m    356\u001b[0m     \u001b[38;5;28;01mreturn\u001b[39;00m response\n",
      "File \u001b[1;32m~\\AppData\\Local\\Packages\\PythonSoftwareFoundation.Python.3.12_qbz5n2kfra8p0\\LocalCache\\local-packages\\Python312\\site-packages\\selenium\\webdriver\\remote\\errorhandler.py:229\u001b[0m, in \u001b[0;36mErrorHandler.check_response\u001b[1;34m(self, response)\u001b[0m\n\u001b[0;32m    227\u001b[0m         alert_text \u001b[38;5;241m=\u001b[39m value[\u001b[38;5;124m\"\u001b[39m\u001b[38;5;124malert\u001b[39m\u001b[38;5;124m\"\u001b[39m]\u001b[38;5;241m.\u001b[39mget(\u001b[38;5;124m\"\u001b[39m\u001b[38;5;124mtext\u001b[39m\u001b[38;5;124m\"\u001b[39m)\n\u001b[0;32m    228\u001b[0m     \u001b[38;5;28;01mraise\u001b[39;00m exception_class(message, screen, stacktrace, alert_text)  \u001b[38;5;66;03m# type: ignore[call-arg]  # mypy is not smart enough here\u001b[39;00m\n\u001b[1;32m--> 229\u001b[0m \u001b[38;5;28;01mraise\u001b[39;00m exception_class(message, screen, stacktrace)\n",
      "\u001b[1;31mNoSuchElementException\u001b[0m: Message: no such element: Unable to locate element: {\"method\":\"xpath\",\"selector\":\"//*[@id=\"QA0Szd\"]/div/div/div[1]/div[3]/div/div[1]/div/div/div[2]/div[9]/div[3]/button/div/div[2]/div[1]\"}\n  (Session info: chrome=126.0.6478.63); For documentation on this error, please visit: https://www.selenium.dev/documentation/webdriver/troubleshooting/errors#no-such-element-exception\nStacktrace:\n\tGetHandleVerifier [0x00007FF633833E32+31618]\n\t(No symbol) [0x00007FF6337AB099]\n\t(No symbol) [0x00007FF63366888A]\n\t(No symbol) [0x00007FF6336B8524]\n\t(No symbol) [0x00007FF6336B862C]\n\t(No symbol) [0x00007FF6336FF787]\n\t(No symbol) [0x00007FF6336DD14F]\n\t(No symbol) [0x00007FF6336FCA80]\n\t(No symbol) [0x00007FF6336DCEB3]\n\t(No symbol) [0x00007FF6336AA46B]\n\t(No symbol) [0x00007FF6336AB001]\n\tGetHandleVerifier [0x00007FF633B39FFD+3202381]\n\tGetHandleVerifier [0x00007FF633B86A1D+3516269]\n\tGetHandleVerifier [0x00007FF633B7C490+3473888]\n\tGetHandleVerifier [0x00007FF6338E5D36+760454]\n\t(No symbol) [0x00007FF6337B6B3F]\n\t(No symbol) [0x00007FF6337B1CD4]\n\t(No symbol) [0x00007FF6337B1E62]\n\t(No symbol) [0x00007FF6337A120F]\n\tBaseThreadInitThunk [0x00007FF8A037257D+29]\n\tRtlUserThreadStart [0x00007FF8A1D6AF28+40]\n"
     ]
    }
   ],
   "source": [
    "direccion = driver.find_element(By.XPATH, '//*[@id=\"QA0Szd\"]/div/div/div[1]/div[3]/div/div[1]/div/div/div[2]/div[9]/div[3]/button/div/div[2]/div[1]').text\n",
    "# //*[@id=\"QA0Szd\"]/div/div/div[1]/div[3]/div/div[1]/div/div/div[2]/div[9]/div[3]/button/div/div[2]/div[1]\n",
    "# //*[@id=\"QA0Szd\"]/div/div/div[1]/div[3]/div/div[1]/div/div/div[2]/div[11]/div[3]/button/div/div[2]/div[1]\n",
    "direccion"
   ]
  },
  {
   "cell_type": "code",
   "execution_count": 99,
   "metadata": {},
   "outputs": [
    {
     "data": {
      "text/plain": [
       "3"
      ]
     },
     "execution_count": 99,
     "metadata": {},
     "output_type": "execute_result"
    }
   ],
   "source": [
    "lista = [1,2,3]\n",
    "lista2 = [4,5,6]\n",
    "len(lista)"
   ]
  },
  {
   "cell_type": "code",
   "execution_count": 103,
   "metadata": {},
   "outputs": [
    {
     "data": {
      "text/html": [
       "<div>\n",
       "<style scoped>\n",
       "    .dataframe tbody tr th:only-of-type {\n",
       "        vertical-align: middle;\n",
       "    }\n",
       "\n",
       "    .dataframe tbody tr th {\n",
       "        vertical-align: top;\n",
       "    }\n",
       "\n",
       "    .dataframe thead th {\n",
       "        text-align: right;\n",
       "    }\n",
       "</style>\n",
       "<table border=\"1\" class=\"dataframe\">\n",
       "  <thead>\n",
       "    <tr style=\"text-align: right;\">\n",
       "      <th></th>\n",
       "      <th>a</th>\n",
       "      <th>b</th>\n",
       "    </tr>\n",
       "  </thead>\n",
       "  <tbody>\n",
       "    <tr>\n",
       "      <th>0</th>\n",
       "      <td>1</td>\n",
       "      <td>4</td>\n",
       "    </tr>\n",
       "    <tr>\n",
       "      <th>1</th>\n",
       "      <td>2</td>\n",
       "      <td>5</td>\n",
       "    </tr>\n",
       "    <tr>\n",
       "      <th>2</th>\n",
       "      <td>3</td>\n",
       "      <td>6</td>\n",
       "    </tr>\n",
       "  </tbody>\n",
       "</table>\n",
       "</div>"
      ],
      "text/plain": [
       "   a  b\n",
       "0  1  4\n",
       "1  2  5\n",
       "2  3  6"
      ]
     },
     "execution_count": 103,
     "metadata": {},
     "output_type": "execute_result"
    }
   ],
   "source": [
    "import pandas as pd\n",
    "\n",
    "df = pd.DataFrame({'a':lista, 'b':lista2})\n",
    "\n",
    "df"
   ]
  },
  {
   "cell_type": "code",
   "execution_count": 66,
   "metadata": {},
   "outputs": [],
   "source": [
    "lugar = lugares[21]\n",
    "\n",
    "time.sleep(2)\n",
    "lugar.click()"
   ]
  },
  {
   "cell_type": "code",
   "execution_count": 65,
   "metadata": {},
   "outputs": [],
   "source": [
    "scrollable_div = driver.find_element(By.XPATH, '//*[@id=\"QA0Szd\"]/div/div/div[1]/div[2]/div/div[1]/div/div/div[1]/div[1]')\n",
    "driver.execute_script(\"arguments[0].scrollIntoView();\", lugar)"
   ]
  }
 ],
 "metadata": {
  "kernelspec": {
   "display_name": "Python 3",
   "language": "python",
   "name": "python3"
  },
  "language_info": {
   "codemirror_mode": {
    "name": "ipython",
    "version": 3
   },
   "file_extension": ".py",
   "mimetype": "text/x-python",
   "name": "python",
   "nbconvert_exporter": "python",
   "pygments_lexer": "ipython3",
   "version": "3.12.4"
  }
 },
 "nbformat": 4,
 "nbformat_minor": 2
}
