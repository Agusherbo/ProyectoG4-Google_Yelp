{
 "cells": [
  {
   "cell_type": "markdown",
   "metadata": {},
   "source": [
    "# ETL-Yelp!"
   ]
  },
  {
   "cell_type": "markdown",
   "metadata": {},
   "source": [
    "### Librerías"
   ]
  },
  {
   "cell_type": "code",
   "execution_count": 1,
   "metadata": {},
   "outputs": [],
   "source": [
    "import pandas as pd\n",
    "# Se configura pandas para que se muestre la totalidad de las columnas del dataframe.\n",
    "pd.options.display.max_columns = None\n",
    "# Se configura pandas para que muestre los valores float en formato de dos decimales.\n",
    "#pd.options.display.float_format = '{:0.2f}'.format\n",
    "import os\n",
    "import ast\n",
    "import json\n",
    "import pyarrow as pa\n",
    "import pyarrow.parquet as pq\n",
    "# Se importa la función \"Nominatim\" de la librería \"geopy\" para utilizarse en la corrección de los datos geográficos.\n",
    "from geopy.geocoders import Nominatim\n",
    "from geopy.exc import GeocoderTimedOut, GeocoderServiceError\n",
    "import time\n",
    "import warnings\n",
    "warnings.filterwarnings(\"ignore\")\n"
   ]
  },
  {
   "cell_type": "markdown",
   "metadata": {},
   "source": [
    "### Rutas a los archivos."
   ]
  },
  {
   "cell_type": "code",
   "execution_count": 2,
   "metadata": {},
   "outputs": [],
   "source": [
    "path_buisness = 'C:\\\\Users\\\\fedez\\\\OneDrive\\\\Escritorio\\\\ProyectoG4-Google_Yelp\\\\Data\\\\Raw\\\\business.pkl'\n",
    "path_checkin = 'C:\\\\Users\\\\fedez\\\\OneDrive\\\\Escritorio\\\\ProyectoG4-Google_Yelp\\\\Data\\\\Raw\\\\checkin.json'\n",
    "path_review = 'C:\\\\Users\\\\fedez\\\\OneDrive\\\\Escritorio\\\\ProyectoG4-Google_Yelp\\\\Data\\\\Raw\\\\review.json'\n",
    "path_tip = 'C:\\\\Users\\\\fedez\\\\OneDrive\\\\Escritorio\\\\ProyectoG4-Google_Yelp\\\\Data\\\\Raw\\\\tip.json'\n",
    "path_user = 'C:\\\\Users\\\\fedez\\\\OneDrive\\\\Escritorio\\\\ProyectoG4-Google_Yelp\\\\Data\\\\Raw\\\\user.parquet'"
   ]
  },
  {
   "cell_type": "markdown",
   "metadata": {},
   "source": [
    "## Archivo \"business.pkl\""
   ]
  },
  {
   "cell_type": "markdown",
   "metadata": {},
   "source": [
    "### Extracción"
   ]
  },
  {
   "cell_type": "code",
   "execution_count": 3,
   "metadata": {},
   "outputs": [],
   "source": [
    "df_business = pd.read_pickle(path_buisness)"
   ]
  },
  {
   "cell_type": "code",
   "execution_count": 5,
   "metadata": {},
   "outputs": [
    {
     "data": {
      "text/html": [
       "<div>\n",
       "<style scoped>\n",
       "    .dataframe tbody tr th:only-of-type {\n",
       "        vertical-align: middle;\n",
       "    }\n",
       "\n",
       "    .dataframe tbody tr th {\n",
       "        vertical-align: top;\n",
       "    }\n",
       "\n",
       "    .dataframe thead th {\n",
       "        text-align: right;\n",
       "    }\n",
       "</style>\n",
       "<table border=\"1\" class=\"dataframe\">\n",
       "  <thead>\n",
       "    <tr style=\"text-align: right;\">\n",
       "      <th></th>\n",
       "      <th>business_id</th>\n",
       "      <th>name</th>\n",
       "      <th>address</th>\n",
       "      <th>city</th>\n",
       "      <th>state</th>\n",
       "      <th>postal_code</th>\n",
       "      <th>latitude</th>\n",
       "      <th>longitude</th>\n",
       "      <th>stars</th>\n",
       "      <th>review_count</th>\n",
       "      <th>is_open</th>\n",
       "      <th>attributes</th>\n",
       "      <th>categories</th>\n",
       "      <th>hours</th>\n",
       "      <th>business_id</th>\n",
       "      <th>name</th>\n",
       "      <th>address</th>\n",
       "      <th>city</th>\n",
       "      <th>state</th>\n",
       "      <th>postal_code</th>\n",
       "      <th>latitude</th>\n",
       "      <th>longitude</th>\n",
       "      <th>stars</th>\n",
       "      <th>review_count</th>\n",
       "      <th>is_open</th>\n",
       "      <th>attributes</th>\n",
       "      <th>categories</th>\n",
       "      <th>hours</th>\n",
       "    </tr>\n",
       "  </thead>\n",
       "  <tbody>\n",
       "    <tr>\n",
       "      <th>0</th>\n",
       "      <td>Pns2l4eNsfO8kk83dixA6A</td>\n",
       "      <td>Abby Rappoport, LAC, CMQ</td>\n",
       "      <td>1616 Chapala St, Ste 2</td>\n",
       "      <td>Santa Barbara</td>\n",
       "      <td>NaN</td>\n",
       "      <td>93101</td>\n",
       "      <td>34.426679</td>\n",
       "      <td>-119.711197</td>\n",
       "      <td>5.0</td>\n",
       "      <td>7</td>\n",
       "      <td>0</td>\n",
       "      <td>{'ByAppointmentOnly': 'True'}</td>\n",
       "      <td>Doctors, Traditional Chinese Medicine, Naturop...</td>\n",
       "      <td>None</td>\n",
       "      <td>NaN</td>\n",
       "      <td>NaN</td>\n",
       "      <td>NaN</td>\n",
       "      <td>NaN</td>\n",
       "      <td>NaN</td>\n",
       "      <td>NaN</td>\n",
       "      <td>NaN</td>\n",
       "      <td>NaN</td>\n",
       "      <td>NaN</td>\n",
       "      <td>NaN</td>\n",
       "      <td>NaN</td>\n",
       "      <td>NaN</td>\n",
       "      <td>NaN</td>\n",
       "      <td>NaN</td>\n",
       "    </tr>\n",
       "    <tr>\n",
       "      <th>1</th>\n",
       "      <td>mpf3x-BjTdTEA3yCZrAYPw</td>\n",
       "      <td>The UPS Store</td>\n",
       "      <td>87 Grasso Plaza Shopping Center</td>\n",
       "      <td>Affton</td>\n",
       "      <td>NaN</td>\n",
       "      <td>63123</td>\n",
       "      <td>38.551126</td>\n",
       "      <td>-90.335695</td>\n",
       "      <td>3.0</td>\n",
       "      <td>15</td>\n",
       "      <td>1</td>\n",
       "      <td>{'BusinessAcceptsCreditCards': 'True'}</td>\n",
       "      <td>Shipping Centers, Local Services, Notaries, Ma...</td>\n",
       "      <td>{'Monday': '0:0-0:0', 'Tuesday': '8:0-18:30', ...</td>\n",
       "      <td>NaN</td>\n",
       "      <td>NaN</td>\n",
       "      <td>NaN</td>\n",
       "      <td>NaN</td>\n",
       "      <td>NaN</td>\n",
       "      <td>NaN</td>\n",
       "      <td>NaN</td>\n",
       "      <td>NaN</td>\n",
       "      <td>NaN</td>\n",
       "      <td>NaN</td>\n",
       "      <td>NaN</td>\n",
       "      <td>NaN</td>\n",
       "      <td>NaN</td>\n",
       "      <td>NaN</td>\n",
       "    </tr>\n",
       "    <tr>\n",
       "      <th>2</th>\n",
       "      <td>tUFrWirKiKi_TAnsVWINQQ</td>\n",
       "      <td>Target</td>\n",
       "      <td>5255 E Broadway Blvd</td>\n",
       "      <td>Tucson</td>\n",
       "      <td>NaN</td>\n",
       "      <td>85711</td>\n",
       "      <td>32.223236</td>\n",
       "      <td>-110.880452</td>\n",
       "      <td>3.5</td>\n",
       "      <td>22</td>\n",
       "      <td>0</td>\n",
       "      <td>{'BikeParking': 'True', 'BusinessAcceptsCredit...</td>\n",
       "      <td>Department Stores, Shopping, Fashion, Home &amp; G...</td>\n",
       "      <td>{'Monday': '8:0-22:0', 'Tuesday': '8:0-22:0', ...</td>\n",
       "      <td>NaN</td>\n",
       "      <td>NaN</td>\n",
       "      <td>NaN</td>\n",
       "      <td>NaN</td>\n",
       "      <td>NaN</td>\n",
       "      <td>NaN</td>\n",
       "      <td>NaN</td>\n",
       "      <td>NaN</td>\n",
       "      <td>NaN</td>\n",
       "      <td>NaN</td>\n",
       "      <td>NaN</td>\n",
       "      <td>NaN</td>\n",
       "      <td>NaN</td>\n",
       "      <td>NaN</td>\n",
       "    </tr>\n",
       "    <tr>\n",
       "      <th>3</th>\n",
       "      <td>MTSW4McQd7CbVtyjqoe9mw</td>\n",
       "      <td>St Honore Pastries</td>\n",
       "      <td>935 Race St</td>\n",
       "      <td>Philadelphia</td>\n",
       "      <td>CA</td>\n",
       "      <td>19107</td>\n",
       "      <td>39.955505</td>\n",
       "      <td>-75.155564</td>\n",
       "      <td>4.0</td>\n",
       "      <td>80</td>\n",
       "      <td>1</td>\n",
       "      <td>{'RestaurantsDelivery': 'False', 'OutdoorSeati...</td>\n",
       "      <td>Restaurants, Food, Bubble Tea, Coffee &amp; Tea, B...</td>\n",
       "      <td>{'Monday': '7:0-20:0', 'Tuesday': '7:0-20:0', ...</td>\n",
       "      <td>NaN</td>\n",
       "      <td>NaN</td>\n",
       "      <td>NaN</td>\n",
       "      <td>NaN</td>\n",
       "      <td>NaN</td>\n",
       "      <td>NaN</td>\n",
       "      <td>NaN</td>\n",
       "      <td>NaN</td>\n",
       "      <td>NaN</td>\n",
       "      <td>NaN</td>\n",
       "      <td>NaN</td>\n",
       "      <td>NaN</td>\n",
       "      <td>NaN</td>\n",
       "      <td>NaN</td>\n",
       "    </tr>\n",
       "    <tr>\n",
       "      <th>4</th>\n",
       "      <td>mWMc6_wTdE0EUBKIGXDVfA</td>\n",
       "      <td>Perkiomen Valley Brewery</td>\n",
       "      <td>101 Walnut St</td>\n",
       "      <td>Green Lane</td>\n",
       "      <td>MO</td>\n",
       "      <td>18054</td>\n",
       "      <td>40.338183</td>\n",
       "      <td>-75.471659</td>\n",
       "      <td>4.5</td>\n",
       "      <td>13</td>\n",
       "      <td>1</td>\n",
       "      <td>{'BusinessAcceptsCreditCards': 'True', 'Wheelc...</td>\n",
       "      <td>Brewpubs, Breweries, Food</td>\n",
       "      <td>{'Wednesday': '14:0-22:0', 'Thursday': '16:0-2...</td>\n",
       "      <td>NaN</td>\n",
       "      <td>NaN</td>\n",
       "      <td>NaN</td>\n",
       "      <td>NaN</td>\n",
       "      <td>NaN</td>\n",
       "      <td>NaN</td>\n",
       "      <td>NaN</td>\n",
       "      <td>NaN</td>\n",
       "      <td>NaN</td>\n",
       "      <td>NaN</td>\n",
       "      <td>NaN</td>\n",
       "      <td>NaN</td>\n",
       "      <td>NaN</td>\n",
       "      <td>NaN</td>\n",
       "    </tr>\n",
       "  </tbody>\n",
       "</table>\n",
       "</div>"
      ],
      "text/plain": [
       "              business_id                      name  \\\n",
       "0  Pns2l4eNsfO8kk83dixA6A  Abby Rappoport, LAC, CMQ   \n",
       "1  mpf3x-BjTdTEA3yCZrAYPw             The UPS Store   \n",
       "2  tUFrWirKiKi_TAnsVWINQQ                    Target   \n",
       "3  MTSW4McQd7CbVtyjqoe9mw        St Honore Pastries   \n",
       "4  mWMc6_wTdE0EUBKIGXDVfA  Perkiomen Valley Brewery   \n",
       "\n",
       "                           address           city state postal_code  \\\n",
       "0           1616 Chapala St, Ste 2  Santa Barbara   NaN       93101   \n",
       "1  87 Grasso Plaza Shopping Center         Affton   NaN       63123   \n",
       "2             5255 E Broadway Blvd         Tucson   NaN       85711   \n",
       "3                      935 Race St   Philadelphia    CA       19107   \n",
       "4                    101 Walnut St     Green Lane    MO       18054   \n",
       "\n",
       "    latitude   longitude stars review_count is_open  \\\n",
       "0  34.426679 -119.711197   5.0            7       0   \n",
       "1  38.551126  -90.335695   3.0           15       1   \n",
       "2  32.223236 -110.880452   3.5           22       0   \n",
       "3  39.955505  -75.155564   4.0           80       1   \n",
       "4  40.338183  -75.471659   4.5           13       1   \n",
       "\n",
       "                                          attributes  \\\n",
       "0                      {'ByAppointmentOnly': 'True'}   \n",
       "1             {'BusinessAcceptsCreditCards': 'True'}   \n",
       "2  {'BikeParking': 'True', 'BusinessAcceptsCredit...   \n",
       "3  {'RestaurantsDelivery': 'False', 'OutdoorSeati...   \n",
       "4  {'BusinessAcceptsCreditCards': 'True', 'Wheelc...   \n",
       "\n",
       "                                          categories  \\\n",
       "0  Doctors, Traditional Chinese Medicine, Naturop...   \n",
       "1  Shipping Centers, Local Services, Notaries, Ma...   \n",
       "2  Department Stores, Shopping, Fashion, Home & G...   \n",
       "3  Restaurants, Food, Bubble Tea, Coffee & Tea, B...   \n",
       "4                          Brewpubs, Breweries, Food   \n",
       "\n",
       "                                               hours business_id name address  \\\n",
       "0                                               None         NaN  NaN     NaN   \n",
       "1  {'Monday': '0:0-0:0', 'Tuesday': '8:0-18:30', ...         NaN  NaN     NaN   \n",
       "2  {'Monday': '8:0-22:0', 'Tuesday': '8:0-22:0', ...         NaN  NaN     NaN   \n",
       "3  {'Monday': '7:0-20:0', 'Tuesday': '7:0-20:0', ...         NaN  NaN     NaN   \n",
       "4  {'Wednesday': '14:0-22:0', 'Thursday': '16:0-2...         NaN  NaN     NaN   \n",
       "\n",
       "  city state postal_code latitude longitude stars review_count is_open  \\\n",
       "0  NaN   NaN         NaN      NaN       NaN   NaN          NaN     NaN   \n",
       "1  NaN   NaN         NaN      NaN       NaN   NaN          NaN     NaN   \n",
       "2  NaN   NaN         NaN      NaN       NaN   NaN          NaN     NaN   \n",
       "3  NaN   NaN         NaN      NaN       NaN   NaN          NaN     NaN   \n",
       "4  NaN   NaN         NaN      NaN       NaN   NaN          NaN     NaN   \n",
       "\n",
       "  attributes categories hours  \n",
       "0        NaN        NaN   NaN  \n",
       "1        NaN        NaN   NaN  \n",
       "2        NaN        NaN   NaN  \n",
       "3        NaN        NaN   NaN  \n",
       "4        NaN        NaN   NaN  "
      ]
     },
     "execution_count": 5,
     "metadata": {},
     "output_type": "execute_result"
    }
   ],
   "source": [
    "df_business.head(5)"
   ]
  },
  {
   "cell_type": "code",
   "execution_count": 6,
   "metadata": {},
   "outputs": [
    {
     "name": "stdout",
     "output_type": "stream",
     "text": [
      "<class 'pandas.core.frame.DataFrame'>\n",
      "Index: 150346 entries, 0 to 150345\n",
      "Data columns (total 28 columns):\n",
      " #   Column        Non-Null Count   Dtype \n",
      "---  ------        --------------   ----- \n",
      " 0   business_id   150346 non-null  object\n",
      " 1   name          150346 non-null  object\n",
      " 2   address       150346 non-null  object\n",
      " 3   city          150346 non-null  object\n",
      " 4   state         150343 non-null  object\n",
      " 5   postal_code   150346 non-null  object\n",
      " 6   latitude      150346 non-null  object\n",
      " 7   longitude     150346 non-null  object\n",
      " 8   stars         150346 non-null  object\n",
      " 9   review_count  150346 non-null  object\n",
      " 10  is_open       150346 non-null  object\n",
      " 11  attributes    136602 non-null  object\n",
      " 12  categories    150243 non-null  object\n",
      " 13  hours         127123 non-null  object\n",
      " 14  business_id   5 non-null       object\n",
      " 15  name          5 non-null       object\n",
      " 16  address       5 non-null       object\n",
      " 17  city          5 non-null       object\n",
      " 18  state         5 non-null       object\n",
      " 19  postal_code   5 non-null       object\n",
      " 20  latitude      5 non-null       object\n",
      " 21  longitude     5 non-null       object\n",
      " 22  stars         5 non-null       object\n",
      " 23  review_count  5 non-null       object\n",
      " 24  is_open       5 non-null       object\n",
      " 25  attributes    5 non-null       object\n",
      " 26  categories    5 non-null       object\n",
      " 27  hours         5 non-null       object\n",
      "dtypes: object(28)\n",
      "memory usage: 33.3+ MB\n"
     ]
    }
   ],
   "source": [
    "df_business.info()"
   ]
  },
  {
   "cell_type": "markdown",
   "metadata": {},
   "source": [
    "### Valores nulos."
   ]
  },
  {
   "cell_type": "code",
   "execution_count": 6,
   "metadata": {},
   "outputs": [
    {
     "data": {
      "text/plain": [
       "business_id          0\n",
       "name                 0\n",
       "address              0\n",
       "city                 0\n",
       "state                3\n",
       "postal_code          0\n",
       "latitude             0\n",
       "longitude            0\n",
       "stars                0\n",
       "review_count         0\n",
       "is_open              0\n",
       "attributes       13744\n",
       "categories         103\n",
       "hours            23223\n",
       "business_id     150341\n",
       "name            150341\n",
       "address         150341\n",
       "city            150341\n",
       "state           150341\n",
       "postal_code     150341\n",
       "latitude        150341\n",
       "longitude       150341\n",
       "stars           150341\n",
       "review_count    150341\n",
       "is_open         150341\n",
       "attributes      150341\n",
       "categories      150341\n",
       "hours           150341\n",
       "dtype: int64"
      ]
     },
     "execution_count": 6,
     "metadata": {},
     "output_type": "execute_result"
    }
   ],
   "source": [
    "df_business.isna().sum()"
   ]
  },
  {
   "cell_type": "markdown",
   "metadata": {},
   "source": [
    "Al observar la existencia de columnas duplicadas cuyo contenido está compuesto en su mayor parte de valores nulos se procede a eliminarlas."
   ]
  },
  {
   "cell_type": "code",
   "execution_count": 7,
   "metadata": {},
   "outputs": [],
   "source": [
    "df_business = df_business.loc[:, ~df_business.columns.duplicated()]"
   ]
  },
  {
   "cell_type": "markdown",
   "metadata": {},
   "source": [
    "Se corrobora que se hayan efectuado los cambios."
   ]
  },
  {
   "cell_type": "code",
   "execution_count": 8,
   "metadata": {},
   "outputs": [
    {
     "data": {
      "text/plain": [
       "business_id         0\n",
       "name                0\n",
       "address             0\n",
       "city                0\n",
       "state               3\n",
       "postal_code         0\n",
       "latitude            0\n",
       "longitude           0\n",
       "stars               0\n",
       "review_count        0\n",
       "is_open             0\n",
       "attributes      13744\n",
       "categories        103\n",
       "hours           23223\n",
       "dtype: int64"
      ]
     },
     "execution_count": 8,
     "metadata": {},
     "output_type": "execute_result"
    }
   ],
   "source": [
    "df_business.isnull().sum()"
   ]
  },
  {
   "cell_type": "markdown",
   "metadata": {},
   "source": [
    "Se puede distinguir que las columnas \"attributes\", \"categories\" y \" hours\" son las únicas que poseen valores nulos."
   ]
  },
  {
   "cell_type": "markdown",
   "metadata": {},
   "source": [
    "### Manejo de columnas."
   ]
  },
  {
   "cell_type": "markdown",
   "metadata": {},
   "source": [
    "### Columna \"business_id\"."
   ]
  },
  {
   "cell_type": "code",
   "execution_count": 9,
   "metadata": {},
   "outputs": [
    {
     "data": {
      "text/plain": [
       "(0, 14)"
      ]
     },
     "execution_count": 9,
     "metadata": {},
     "output_type": "execute_result"
    }
   ],
   "source": [
    "duplicados_business = df_business['business_id'].duplicated()\n",
    "df_duplicados_business = df_business[duplicados_business]\n",
    "df_duplicados_business.shape"
   ]
  },
  {
   "cell_type": "markdown",
   "metadata": {},
   "source": [
    "La columna \"business_id\" no presenta valores duplicados."
   ]
  },
  {
   "cell_type": "markdown",
   "metadata": {},
   "source": [
    "### Columnas \"categories\""
   ]
  },
  {
   "cell_type": "code",
   "execution_count": 10,
   "metadata": {},
   "outputs": [
    {
     "name": "stdout",
     "output_type": "stream",
     "text": [
      "La cantidad de categorías únicas es 1311\n"
     ]
    }
   ],
   "source": [
    "categories_lists = df_business['categories'].str.split(', ')\n",
    "\n",
    "# Apilar todas las listas resultantes en una sola lista\n",
    "all_categories = [category for sublist in categories_lists if sublist is not None for category in sublist]\n",
    "\n",
    "# Obtener los valores únicos de la lista\n",
    "unique_categories = set(all_categories)\n",
    "print(f'La cantidad de categorías únicas es {len(unique_categories)}')"
   ]
  },
  {
   "cell_type": "markdown",
   "metadata": {},
   "source": [
    "Se crea el dataframe \"df_restaurants\" en base a las filas que contienen el valor \"restaurant\" y \"mex\" dentro de ellas con el objetivo de reducir la cantidad de filas a solo las que serán utilizadas."
   ]
  },
  {
   "cell_type": "code",
   "execution_count": 11,
   "metadata": {},
   "outputs": [],
   "source": [
    "filtro_mex_restaurant = df_business['categories'].str.contains('(?=.*mex)(?=.*restaurant)', case=False, na=False)\n",
    "df_restaurants = df_business[filtro_mex_restaurant]\n",
    "df_restaurants = df_restaurants.reset_index(drop=True)"
   ]
  },
  {
   "cell_type": "code",
   "execution_count": 12,
   "metadata": {},
   "outputs": [
    {
     "name": "stdout",
     "output_type": "stream",
     "text": [
      "<class 'pandas.core.frame.DataFrame'>\n",
      "RangeIndex: 4768 entries, 0 to 4767\n",
      "Data columns (total 14 columns):\n",
      " #   Column        Non-Null Count  Dtype \n",
      "---  ------        --------------  ----- \n",
      " 0   business_id   4768 non-null   object\n",
      " 1   name          4768 non-null   object\n",
      " 2   address       4768 non-null   object\n",
      " 3   city          4768 non-null   object\n",
      " 4   state         4768 non-null   object\n",
      " 5   postal_code   4768 non-null   object\n",
      " 6   latitude      4768 non-null   object\n",
      " 7   longitude     4768 non-null   object\n",
      " 8   stars         4768 non-null   object\n",
      " 9   review_count  4768 non-null   object\n",
      " 10  is_open       4768 non-null   object\n",
      " 11  attributes    4689 non-null   object\n",
      " 12  categories    4768 non-null   object\n",
      " 13  hours         4073 non-null   object\n",
      "dtypes: object(14)\n",
      "memory usage: 521.6+ KB\n"
     ]
    }
   ],
   "source": [
    "df_restaurants.info()"
   ]
  },
  {
   "cell_type": "code",
   "execution_count": 13,
   "metadata": {},
   "outputs": [
    {
     "name": "stdout",
     "output_type": "stream",
     "text": [
      "name\n",
      "Taco Bell                        363\n",
      "Chipotle Mexican Grill           156\n",
      "Jack in the Box                   96\n",
      "QDOBA Mexican Eats                81\n",
      "Chili's                           80\n",
      "Moe's Southwest Grill             50\n",
      "Tijuana Flats                     25\n",
      "Taco Bus                          14\n",
      "Del Taco                          14\n",
      "Los Betos                         13\n",
      "Las Palmas Mexican Restaurant     12\n",
      "California Tortilla               10\n",
      "Baja Fresh                        10\n",
      "Mucho Burrito                      9\n",
      "Blue Coast Burrito                 9\n",
      "La Hacienda                        9\n",
      "Pancheros Mexican Grill            9\n",
      "El Pollo Loco                      9\n",
      "Taco Del Mar                       9\n",
      "El Rodeo                           8\n",
      "Name: count, dtype: int64\n"
     ]
    }
   ],
   "source": [
    "top_rest = df_restaurants['name'].value_counts().head(20)\n",
    "print(top_rest)"
   ]
  },
  {
   "cell_type": "markdown",
   "metadata": {},
   "source": [
    "### Columna \"review_count\".  \n",
    "Verificación de outliers."
   ]
  },
  {
   "cell_type": "markdown",
   "metadata": {},
   "source": [
    "Se convierten los valores de la columna a numeros enteros."
   ]
  },
  {
   "cell_type": "code",
   "execution_count": 14,
   "metadata": {},
   "outputs": [],
   "source": [
    "df_restaurants['review_count'] = df_restaurants['review_count'].astype(int)"
   ]
  },
  {
   "cell_type": "code",
   "execution_count": 15,
   "metadata": {},
   "outputs": [
    {
     "data": {
      "text/plain": [
       "count    4768.000000\n",
       "mean       90.294463\n",
       "std       167.613747\n",
       "min         5.000000\n",
       "25%        16.000000\n",
       "50%        39.000000\n",
       "75%        93.250000\n",
       "max      3834.000000\n",
       "Name: review_count, dtype: float64"
      ]
     },
     "execution_count": 15,
     "metadata": {},
     "output_type": "execute_result"
    }
   ],
   "source": [
    "df_restaurants['review_count'].describe()\n"
   ]
  },
  {
   "cell_type": "markdown",
   "metadata": {},
   "source": [
    "Se observa que la cantidad mínima de reseñas para un negocio son 5 y la máxima 3834, manteniendo un promedio de casi 90 reseñas por negocio."
   ]
  },
  {
   "cell_type": "code",
   "execution_count": 16,
   "metadata": {},
   "outputs": [],
   "source": [
    "# Se renombra la columna a \"restaurant review count\".\n",
    "df_restaurants.rename(columns={'review_count': 'restaurant review count'}, inplace=True)"
   ]
  },
  {
   "cell_type": "markdown",
   "metadata": {},
   "source": [
    "### Columna \"stars\"."
   ]
  },
  {
   "cell_type": "markdown",
   "metadata": {},
   "source": [
    "Verificación de outliers."
   ]
  },
  {
   "cell_type": "markdown",
   "metadata": {},
   "source": [
    "Se convierten los valores de la columna \"stars\" al tipo float."
   ]
  },
  {
   "cell_type": "code",
   "execution_count": 17,
   "metadata": {},
   "outputs": [],
   "source": [
    "df_restaurants['stars'] = df_restaurants['stars'].astype(float)"
   ]
  },
  {
   "cell_type": "code",
   "execution_count": 18,
   "metadata": {},
   "outputs": [
    {
     "name": "stdout",
     "output_type": "stream",
     "text": [
      "count    4768.000000\n",
      "mean        3.500734\n",
      "std         0.865904\n",
      "min         1.000000\n",
      "25%         3.000000\n",
      "50%         3.500000\n",
      "75%         4.000000\n",
      "max         5.000000\n",
      "Name: stars, dtype: float64\n"
     ]
    }
   ],
   "source": [
    "description = df_restaurants['stars'].describe()\n",
    "print(description)"
   ]
  },
  {
   "cell_type": "markdown",
   "metadata": {},
   "source": [
    "Se aprecia que la columna no presenta valores atípicos."
   ]
  },
  {
   "cell_type": "code",
   "execution_count": 19,
   "metadata": {},
   "outputs": [],
   "source": [
    "# Se renombra la columna a \"stars business\".\n",
    "df_business.rename(columns={'stars': 'stars business'}, inplace=True)"
   ]
  },
  {
   "cell_type": "markdown",
   "metadata": {},
   "source": [
    "### Columna \"city\"."
   ]
  },
  {
   "cell_type": "code",
   "execution_count": 22,
   "metadata": {},
   "outputs": [
    {
     "data": {
      "text/plain": [
       "array(['New Orleans', 'Hermitage', 'Odessa', 'Horsham', 'Sparks', 'Media',\n",
       "       'Tucson', 'Pinellas Park', 'Indianapolis', 'Nashville',\n",
       "       'Collinsville', 'Gilbertsville', 'Wimauma', 'Goleta',\n",
       "       'Philadelphia', 'Springfield', 'Smyrna', 'Norristown',\n",
       "       'Warminster', 'Woodbury', 'Reno', 'Ardmore', 'Edmonton', 'Boise',\n",
       "       'Gretna', 'Tampa', 'Marlton', 'Kenner', 'Largo', 'Doylestown',\n",
       "       'Feasterville-Trevose', 'Oldsmar', 'Wilmington', 'New Hope',\n",
       "       'Clearwater', 'Ruskin', 'Mount Holly', 'Saint Petersburg',\n",
       "       'Oro Valley', 'Palm Harbor', 'Dover', 'Saint Louis', 'Brandon',\n",
       "       'Lutz', \"Land O' Lakes\", 'Carmel', 'Marana', 'North Wales',\n",
       "       'New Castle', 'Bala Cynwyd', 'Belleville', 'Pinecrest West Park',\n",
       "       'St. Louis', 'Florissant', 'Belle Chasse', 'New Port Richey',\n",
       "       'Zionsville', 'St. Petersburg', 'Bridgeton', 'Exton', 'Plainfield',\n",
       "       'Hendersonville', 'Marlborough', 'Fishers', 'Willow Grove',\n",
       "       'Fenton', 'Harahan', 'Eagleville', 'Havertown', 'Seffner',\n",
       "       'Lindenwold', 'Santa Barbara', 'Riverview', 'Trenton', 'Ferguson',\n",
       "       'Lambertville', 'Franklin', 'Caseyville', 'Des Peres', 'Langhorne',\n",
       "       'St. Pete Beach', 'Downingtown', 'Cherry Hill', 'Gallatin',\n",
       "       'Fairless Hills', 'Carpinteria', 'Wesley Chapel', 'Kennett Square',\n",
       "       'Mount Laurel', 'Holmes', 'Magnolia', 'Greenwood', 'Maryville',\n",
       "       'Eagle', 'Saint Pete Beach', 'Kirkwood', 'Earth City', 'Claymont',\n",
       "       'Tarpon Springs', 'Metairie', 'Granite City', 'St Louis',\n",
       "       'Brentwood', 'Flourtown', 'Indian Rocks Beach', 'King Of Prussia',\n",
       "       'Glassboro', 'Manchester', 'Yardley', 'Nolensville', 'Dunedin',\n",
       "       'Isla Vista', 'Malvern', 'Hatfield', 'Bryn Mawr', 'Maplewood',\n",
       "       'Westwego', 'Upper Darby', 'Olivette', 'Meridian', 'Folsom',\n",
       "       'Edwardsville', 'Hazelwood', 'East Alton', 'Bensalem', 'Harvey',\n",
       "       'Whitestown', 'Joelton', 'Saint Charles', 'La Vergne',\n",
       "       'Ashland City', 'Swansea', 'Meraux', 'Ambler', 'Chalmette',\n",
       "       'Deptford', 'Alton', 'West Chester', 'Waterloo', 'Spanish Springs',\n",
       "       'Berwyn', 'Clayton', 'Glen Mills', 'Wayne', 'Seminole',\n",
       "       'Brownsburg', 'Arnold', 'Gloucester City', 'Blackwood',\n",
       "       'Goodlettsville', 'Valrico', 'Safety Harbor', 'Marrero',\n",
       "       'Schwenksville', 'Mccordsville', 'Boise City', 'Berkeley',\n",
       "       'White House', 'Warrington', 'Bellmawr', 'Pennsauken',\n",
       "       'McCordsville', 'Lebanon', 'Creve Coeur', 'Paoli', 'Madeira Beach',\n",
       "       'Madison', 'Moorestown', 'Maryland Heights', 'Corona de Tucson',\n",
       "       'Camby', 'Newtown Square', 'Mantua', 'University City', 'Antioch',\n",
       "       'Jenkintown', 'Levittown', 'Mount Juliet', 'Pennsauken Township',\n",
       "       'Burlington', 'Montecito', 'Skippack Village', 'Phoenixville',\n",
       "       'Old Hickory', 'Port Richey', 'Treasure Island', 'Drexel Hill',\n",
       "       'Avon', 'East Saint Louis', 'Lawrence', \"O'Fallon\", 'Pottstown',\n",
       "       'Valley Park', 'Richmond Heights', 'Medford', 'Spring Hill',\n",
       "       'Fairview Heights', 'Woodstown', 'Quakertown', 'Collegeville',\n",
       "       'Stowe'], dtype=object)"
      ]
     },
     "execution_count": 22,
     "metadata": {},
     "output_type": "execute_result"
    }
   ],
   "source": [
    "df_filtro = df_restaurants[df_restaurants['state'] == \"FL\"]\n",
    "ciudades_unicas_FL = df_filtro['city'].unique()\n",
    "ciudades_unicas_FL"
   ]
  },
  {
   "cell_type": "markdown",
   "metadata": {},
   "source": [
    "Se identificó que varias de las ciudades que figuran en el dataset no coinciden con las coordenadas correspondientes por fila, por lo que se procede a cambiar el nombre de la ciudad por el que realmente corresponde por geolocación."
   ]
  },
  {
   "cell_type": "code",
   "execution_count": 23,
   "metadata": {},
   "outputs": [],
   "source": [
    "# Se inicializa el geolocalizador.\n",
    "geolocator = Nominatim(user_agent=\"myGeocoder\")\n",
    "\n",
    "# Se crea la función para rastrear la ciudad correspondiente a las coorenadas.\n",
    "def get_city(lat, lon, retries=3):\n",
    "\n",
    "    for attempt in range(retries):\n",
    "        try:\n",
    "            location = geolocator.reverse((lat, lon), language='en')\n",
    "            address = location.raw.get('address', {})\n",
    "            city = address.get('city') or address.get('town') or address.get('village') or address.get('hamlet')\n",
    "            return city if city else 'SD'\n",
    "        \n",
    "        except (GeocoderTimedOut, GeocoderServiceError):\n",
    "            if attempt < retries - 1:\n",
    "                # Se espera un segundo antes de reintentar.\n",
    "                time.sleep(1)  \n",
    "                continue\n",
    "            # En caso de no lograr obtener el nombre de la ciudad se retorna la sigla \"SD\"(Sin Datos)\n",
    "            return 'SD'\n",
    "\n",
    "# Se aplica la función para modificar los nombres de la columna.\n",
    "df_restaurants['city'] = df_restaurants.apply(lambda row: get_city(row['latitude'], row['longitude']), axis=1)"
   ]
  },
  {
   "cell_type": "code",
   "execution_count": 24,
   "metadata": {},
   "outputs": [
    {
     "name": "stdout",
     "output_type": "stream",
     "text": [
      "city\n",
      "Tucson                430\n",
      "Indianapolis          382\n",
      "Nashville-Davidson    346\n",
      "Philadelphia          325\n",
      "Reno                  195\n",
      "Tampa                 186\n",
      "SD                    167\n",
      "St. Louis             133\n",
      "New Orleans           125\n",
      "Santa Barbara         117\n",
      "Name: count, dtype: int64\n"
     ]
    }
   ],
   "source": [
    "top_city = df_restaurants['city'].value_counts().head(10)\n",
    "\n",
    "print(top_city)"
   ]
  },
  {
   "cell_type": "markdown",
   "metadata": {},
   "source": [
    "De las ciudades que fueron revisadas por la ubicación geográfica hubo 167 que no pudieron ser rastreadas por lo que se procedió a imputar los valores faltantes por la sigla \"SD\"(Sin Datos)."
   ]
  },
  {
   "cell_type": "markdown",
   "metadata": {},
   "source": [
    "### Columna \"state\"."
   ]
  },
  {
   "cell_type": "markdown",
   "metadata": {},
   "source": [
    "Así como se sucedió anteriormente con la columna \"city\", los elementos de la columna \"state\" también se vieron afectados por la inconsistencia entre el nombre y las coordenadas, por lo que se preocede a cambiar el nombre del estado por el que corresponde por la geolocación."
   ]
  },
  {
   "cell_type": "code",
   "execution_count": 26,
   "metadata": {},
   "outputs": [],
   "source": [
    "geolocator = Nominatim(user_agent=\"myGeocoder\")\n",
    "\n",
    "# Se crea la función para rastrear el estado correspondiente a las coorenadas.\n",
    "def get_state(lat, lon):\n",
    "    try:\n",
    "        location = geolocator.reverse((lat, lon), language='en')\n",
    "        address = location.raw['address']\n",
    "        return address.get('state', '')\n",
    "    except (GeocoderTimedOut, GeocoderServiceError):\n",
    "        return None\n",
    "    \n",
    "# Se aplica la función para modificar los nombres de la columna.\n",
    "df_restaurants['state'] = df_restaurants.apply(lambda row: get_state(row['latitude'], row['longitude']), axis=1)"
   ]
  },
  {
   "cell_type": "code",
   "execution_count": 28,
   "metadata": {},
   "outputs": [
    {
     "name": "stdout",
     "output_type": "stream",
     "text": [
      "state\n",
      "Pennsylvania    732\n",
      "Florida         709\n",
      "Arizona         550\n",
      "Tennessee       523\n",
      "Indiana         511\n",
      "Missouri        364\n",
      "Nevada          277\n",
      "Louisiana       237\n",
      "California      192\n",
      "New Jersey      189\n",
      "Idaho           155\n",
      "Illinois        108\n",
      "Delaware         89\n",
      "Alberta          62\n",
      "Name: count, dtype: int64\n"
     ]
    }
   ],
   "source": [
    "top = df_restaurants['state'].value_counts().head(14)\n",
    "\n",
    "print(top)"
   ]
  },
  {
   "cell_type": "markdown",
   "metadata": {},
   "source": [
    "Siendo Florida el estado objetivo del proyecto por su gran poblacion de origen latino y concentración de restaurantes mexicanos se opta por filtrar las filas que correspondan a ese estado."
   ]
  },
  {
   "cell_type": "code",
   "execution_count": 34,
   "metadata": {},
   "outputs": [],
   "source": [
    "filtro_florida = df_restaurants['state'].str.contains('Florida', case=False, na=False)\n",
    "df_florida = df_restaurants[filtro_florida]\n",
    "df_business = df_florida.reset_index(drop=True)"
   ]
  },
  {
   "cell_type": "code",
   "execution_count": 35,
   "metadata": {},
   "outputs": [
    {
     "name": "stdout",
     "output_type": "stream",
     "text": [
      "<class 'pandas.core.frame.DataFrame'>\n",
      "RangeIndex: 709 entries, 0 to 708\n",
      "Data columns (total 14 columns):\n",
      " #   Column                   Non-Null Count  Dtype  \n",
      "---  ------                   --------------  -----  \n",
      " 0   business_id              709 non-null    object \n",
      " 1   name                     709 non-null    object \n",
      " 2   address                  709 non-null    object \n",
      " 3   city                     709 non-null    object \n",
      " 4   state                    709 non-null    object \n",
      " 5   postal_code              709 non-null    object \n",
      " 6   latitude                 709 non-null    object \n",
      " 7   longitude                709 non-null    object \n",
      " 8   stars                    709 non-null    float64\n",
      " 9   restaurant review count  709 non-null    int32  \n",
      " 10  is_open                  709 non-null    object \n",
      " 11  attributes               698 non-null    object \n",
      " 12  categories               709 non-null    object \n",
      " 13  hours                    638 non-null    object \n",
      "dtypes: float64(1), int32(1), object(12)\n",
      "memory usage: 74.9+ KB\n"
     ]
    }
   ],
   "source": [
    "df_business.info()"
   ]
  },
  {
   "cell_type": "markdown",
   "metadata": {},
   "source": [
    "### Columna \"hours\"."
   ]
  },
  {
   "cell_type": "markdown",
   "metadata": {},
   "source": [
    "Se desanidan los valores de la columna \"hours\" y se crea una columna específica para cada día de la semana."
   ]
  },
  {
   "cell_type": "code",
   "execution_count": 36,
   "metadata": {},
   "outputs": [],
   "source": [
    "df_hours = pd.json_normalize(df_business['hours'])\n",
    "\n",
    "# Se concatenan los datos desanidados al dataFrame original y se elimina la columna \"hours\".\n",
    "df_horarios = pd.concat([df_business.drop(columns=['hours']), df_hours], axis=1)\n"
   ]
  },
  {
   "cell_type": "markdown",
   "metadata": {},
   "source": [
    "Se renombran los nombres de las columnas para tener una idea más acertada del contenido de las columnas."
   ]
  },
  {
   "cell_type": "code",
   "execution_count": null,
   "metadata": {},
   "outputs": [],
   "source": [
    "nuevo_nombre = {\n",
    "    'Monday': 'Lunes horarios',\n",
    "    'Tuesday': 'Martes horarios',\n",
    "    'Wednesday': 'Miércoles horarios',\n",
    "    'Thursday': 'Jueves horarios',\n",
    "    'Friday': 'Viernes horarios',\n",
    "    'Saturday': 'Sábado horarios',\n",
    "    'Sunday': 'Domingo horarios'\n",
    "}\n",
    "\n",
    "# Renombrar las columnas\n",
    "df_business = df_horarios.rename(columns=nuevo_nombre, inplace=True)\n",
    "\n",
    "# Se reordenan las columnas según el día de la semana.\n",
    "columnas_orden = ['Lunes horarios', 'Martes horarios', 'Miércoles horarios', 'Jueves horarios', 'Viernes horarios', 'Sábado horarios', 'Domingo horarios']\n",
    "df_business = df_business[columnas_orden]"
   ]
  },
  {
   "cell_type": "code",
   "execution_count": 43,
   "metadata": {},
   "outputs": [],
   "source": [
    "df_business = df_horarios"
   ]
  },
  {
   "cell_type": "markdown",
   "metadata": {},
   "source": [
    "### Eliminación de columnas."
   ]
  },
  {
   "cell_type": "markdown",
   "metadata": {},
   "source": [
    "Se opta por eliminar las columnas \"address\", \"postal_code\", \"is_open\" y \"attributes\" debido a que no aporta datos relevantes."
   ]
  },
  {
   "cell_type": "code",
   "execution_count": 44,
   "metadata": {},
   "outputs": [],
   "source": [
    "df_business_final = df_business.drop(['address','postal_code', 'is_open', 'attributes'], axis=1)"
   ]
  },
  {
   "cell_type": "code",
   "execution_count": 50,
   "metadata": {},
   "outputs": [
    {
     "data": {
      "text/html": [
       "<div>\n",
       "<style scoped>\n",
       "    .dataframe tbody tr th:only-of-type {\n",
       "        vertical-align: middle;\n",
       "    }\n",
       "\n",
       "    .dataframe tbody tr th {\n",
       "        vertical-align: top;\n",
       "    }\n",
       "\n",
       "    .dataframe thead th {\n",
       "        text-align: right;\n",
       "    }\n",
       "</style>\n",
       "<table border=\"1\" class=\"dataframe\">\n",
       "  <thead>\n",
       "    <tr style=\"text-align: right;\">\n",
       "      <th></th>\n",
       "      <th>business_id</th>\n",
       "      <th>name</th>\n",
       "      <th>city</th>\n",
       "      <th>state</th>\n",
       "      <th>latitude</th>\n",
       "      <th>longitude</th>\n",
       "      <th>stars business</th>\n",
       "      <th>restaurant review count</th>\n",
       "      <th>categories</th>\n",
       "      <th>Lunes horarios</th>\n",
       "      <th>Martes horarios</th>\n",
       "      <th>Miércoles horarios</th>\n",
       "      <th>Jueves horarios</th>\n",
       "      <th>Viernes horarios</th>\n",
       "      <th>Sábado horarios</th>\n",
       "      <th>Domingo horarios</th>\n",
       "    </tr>\n",
       "  </thead>\n",
       "  <tbody>\n",
       "    <tr>\n",
       "      <th>0</th>\n",
       "      <td>aNtKyc2rr-uK5cqzY9TVQQ</td>\n",
       "      <td>Chipotle Mexican Grill</td>\n",
       "      <td>Largo</td>\n",
       "      <td>Florida</td>\n",
       "      <td>27.894167</td>\n",
       "      <td>-82.779866</td>\n",
       "      <td>3.0</td>\n",
       "      <td>19</td>\n",
       "      <td>Mexican, Fast Food, Restaurants</td>\n",
       "      <td>0:0-0:0</td>\n",
       "      <td>10:45-22:0</td>\n",
       "      <td>10:45-22:0</td>\n",
       "      <td>10:45-22:0</td>\n",
       "      <td>10:45-22:0</td>\n",
       "      <td>10:45-22:0</td>\n",
       "      <td>10:45-22:0</td>\n",
       "    </tr>\n",
       "    <tr>\n",
       "      <th>1</th>\n",
       "      <td>XwoXi0M66RU6Gouq-DSDHw</td>\n",
       "      <td>G Peppers Grill &amp; Tavern</td>\n",
       "      <td>Citrus Park</td>\n",
       "      <td>Florida</td>\n",
       "      <td>28.092136</td>\n",
       "      <td>-82.578574</td>\n",
       "      <td>4.0</td>\n",
       "      <td>82</td>\n",
       "      <td>Restaurants, Mexican, American (Traditional)</td>\n",
       "      <td>11:0-22:0</td>\n",
       "      <td>11:0-22:0</td>\n",
       "      <td>11:0-22:0</td>\n",
       "      <td>11:0-22:0</td>\n",
       "      <td>11:0-23:0</td>\n",
       "      <td>11:0-23:0</td>\n",
       "      <td>10:30-21:0</td>\n",
       "    </tr>\n",
       "    <tr>\n",
       "      <th>2</th>\n",
       "      <td>uKEabBQrn0gLzvTppOrKIA</td>\n",
       "      <td>Casita Taqueria</td>\n",
       "      <td>Saint Petersburg</td>\n",
       "      <td>Florida</td>\n",
       "      <td>27.796976</td>\n",
       "      <td>-82.638168</td>\n",
       "      <td>4.5</td>\n",
       "      <td>207</td>\n",
       "      <td>Mexican, Restaurants</td>\n",
       "      <td>11:0-21:0</td>\n",
       "      <td>11:0-21:0</td>\n",
       "      <td>11:0-21:0</td>\n",
       "      <td>11:0-21:0</td>\n",
       "      <td>11:0-22:0</td>\n",
       "      <td>11:0-22:0</td>\n",
       "      <td>NaN</td>\n",
       "    </tr>\n",
       "  </tbody>\n",
       "</table>\n",
       "</div>"
      ],
      "text/plain": [
       "              business_id                      name              city  \\\n",
       "0  aNtKyc2rr-uK5cqzY9TVQQ    Chipotle Mexican Grill             Largo   \n",
       "1  XwoXi0M66RU6Gouq-DSDHw  G Peppers Grill & Tavern       Citrus Park   \n",
       "2  uKEabBQrn0gLzvTppOrKIA           Casita Taqueria  Saint Petersburg   \n",
       "\n",
       "     state   latitude  longitude  stars business  restaurant review count  \\\n",
       "0  Florida  27.894167 -82.779866             3.0                       19   \n",
       "1  Florida  28.092136 -82.578574             4.0                       82   \n",
       "2  Florida  27.796976 -82.638168             4.5                      207   \n",
       "\n",
       "                                     categories Lunes horarios  \\\n",
       "0               Mexican, Fast Food, Restaurants        0:0-0:0   \n",
       "1  Restaurants, Mexican, American (Traditional)      11:0-22:0   \n",
       "2                          Mexican, Restaurants      11:0-21:0   \n",
       "\n",
       "  Martes horarios Miércoles horarios Jueves horarios Viernes horarios  \\\n",
       "0      10:45-22:0         10:45-22:0      10:45-22:0       10:45-22:0   \n",
       "1       11:0-22:0          11:0-22:0       11:0-22:0        11:0-23:0   \n",
       "2       11:0-21:0          11:0-21:0       11:0-21:0        11:0-22:0   \n",
       "\n",
       "  Sábado horarios Domingo horarios  \n",
       "0      10:45-22:0       10:45-22:0  \n",
       "1       11:0-23:0       10:30-21:0  \n",
       "2       11:0-22:0              NaN  "
      ]
     },
     "execution_count": 50,
     "metadata": {},
     "output_type": "execute_result"
    }
   ],
   "source": [
    "df_business_final.head(3)"
   ]
  },
  {
   "cell_type": "code",
   "execution_count": 51,
   "metadata": {},
   "outputs": [
    {
     "name": "stdout",
     "output_type": "stream",
     "text": [
      "<class 'pandas.core.frame.DataFrame'>\n",
      "RangeIndex: 709 entries, 0 to 708\n",
      "Data columns (total 16 columns):\n",
      " #   Column                   Non-Null Count  Dtype  \n",
      "---  ------                   --------------  -----  \n",
      " 0   business_id              709 non-null    object \n",
      " 1   name                     709 non-null    object \n",
      " 2   city                     709 non-null    object \n",
      " 3   state                    709 non-null    object \n",
      " 4   latitude                 709 non-null    object \n",
      " 5   longitude                709 non-null    object \n",
      " 6   stars business           709 non-null    float64\n",
      " 7   restaurant review count  709 non-null    int32  \n",
      " 8   categories               709 non-null    object \n",
      " 9   Lunes horarios           585 non-null    object \n",
      " 10  Martes horarios          619 non-null    object \n",
      " 11  Miércoles horarios       620 non-null    object \n",
      " 12  Jueves horarios          630 non-null    object \n",
      " 13  Viernes horarios         631 non-null    object \n",
      " 14  Sábado horarios          624 non-null    object \n",
      " 15  Domingo horarios         536 non-null    object \n",
      "dtypes: float64(1), int32(1), object(14)\n",
      "memory usage: 86.0+ KB\n"
     ]
    }
   ],
   "source": [
    "df_business_final.info()"
   ]
  },
  {
   "cell_type": "markdown",
   "metadata": {},
   "source": [
    "### Al haberse realizado una reducción de los datos a través del dataframe \"df_florida\" se usará los datos de la columna \"business_id\" para descartar las filas de los demás datasets que no coincidan con dicho ID."
   ]
  },
  {
   "cell_type": "code",
   "execution_count": 3,
   "metadata": {},
   "outputs": [
    {
     "name": "stdout",
     "output_type": "stream",
     "text": [
      "El filtro consta de 709 ID's únicos\n"
     ]
    }
   ],
   "source": [
    "business_ids = df_business_final['business_id'].unique()\n",
    "print(f\"El filtro consta de {len(business_ids)} ID's únicos\")"
   ]
  },
  {
   "cell_type": "markdown",
   "metadata": {},
   "source": [
    "## Archivo \"review.json\""
   ]
  },
  {
   "cell_type": "markdown",
   "metadata": {},
   "source": [
    "### Extracción"
   ]
  },
  {
   "cell_type": "markdown",
   "metadata": {},
   "source": [
    "Se extraen los datos del archivo \"review.json\" para pasarlo a formato parquet."
   ]
  },
  {
   "cell_type": "code",
   "execution_count": null,
   "metadata": {},
   "outputs": [],
   "source": [
    "path_json = \"C:\\\\Users\\\\fedez\\\\OneDrive\\\\Escritorio\\\\ProyectoG4-Google_Yelp\\\\Data\\\\Raw\\\\review.json\"\n",
    "path_review_parquet = \"C:\\\\Users\\\\fedez\\\\OneDrive\\\\Escritorio\\\\ProyectoG4-Google_Yelp\\\\Data\\\\Raw\\\\review.parquet\"\n",
    "\n",
    "# Se lee el archivo json en fragmentos para manejar archivos grandes\n",
    "chunksize = 100000  # Número de líneas por fragmento\n",
    "chunks = pd.read_json(path_review, lines=True, chunksize=chunksize)\n",
    "\n",
    "# Se crea una lista para almacenar las tablas PyArrow\n",
    "tables = []\n",
    "\n",
    "# Se procesa y convierte cada fragmento en una tabla PyArrow\n",
    "for chunk in chunks:\n",
    "    table = pa.Table.from_pandas(chunk)\n",
    "    tables.append(table)\n",
    "\n",
    "# Se concatenan todas las tablas en una sola única tabla.\n",
    "final_table = pa.concat_tables(tables)\n",
    "\n",
    "# Guardar la tabla final en un archivo Parquet\n",
    "pq.write_table(final_table, path_review_parquet)"
   ]
  },
  {
   "cell_type": "code",
   "execution_count": null,
   "metadata": {},
   "outputs": [],
   "source": [
    "# Se abre el archivo\n",
    "parquet_file = pq.ParquetFile(path_review_parquet)\n",
    "\n",
    "# Se obtiene el número total de grupos de filas.\n",
    "total_row_groups = parquet_file.num_row_groups\n",
    "\n",
    "# Se genera un bucle para leer los fragmentos del archivo.\n",
    "for i in range(0, total_row_groups):\n",
    "    # Se lee el fragmento del archivo.\n",
    "    lote = parquet_file.read_row_group(i, use_pandas_metadata=True).to_pandas()\n",
    "\n",
    "    # Se guarda el fragmento del archivo en un archivo parquet.\n",
    "    lote.to_parquet(f\"review_{i}.parquet\", index=False)"
   ]
  },
  {
   "cell_type": "markdown",
   "metadata": {},
   "source": [
    "### Rutas a los archivos seccionados."
   ]
  },
  {
   "cell_type": "code",
   "execution_count": 5,
   "metadata": {},
   "outputs": [],
   "source": [
    "path_0 ='C:\\\\Users\\\\fedez\\\\OneDrive\\\\Escritorio\\\\ProyectoG4-Google_Yelp\\\\Data\\\\Raw\\\\review_0.parquet'\n",
    "path_1 ='C:\\\\Users\\\\fedez\\\\OneDrive\\\\Escritorio\\\\ProyectoG4-Google_Yelp\\\\Data\\\\Raw\\\\review_1.parquet'\n",
    "path_2 ='C:\\\\Users\\\\fedez\\\\OneDrive\\\\Escritorio\\\\ProyectoG4-Google_Yelp\\\\Data\\\\Raw\\\\review_2.parquet'\n",
    "path_3 ='C:\\\\Users\\\\fedez\\\\OneDrive\\\\Escritorio\\\\ProyectoG4-Google_Yelp\\\\Data\\\\Raw\\\\review_3.parquet'\n",
    "path_4 ='C:\\\\Users\\\\fedez\\\\OneDrive\\\\Escritorio\\\\ProyectoG4-Google_Yelp\\\\Data\\\\Raw\\\\review_4.parquet'\n",
    "path_5 ='C:\\\\Users\\\\fedez\\\\OneDrive\\\\Escritorio\\\\ProyectoG4-Google_Yelp\\\\Data\\\\Raw\\\\review_5.parquet'\n",
    "path_6 ='C:\\\\Users\\\\fedez\\\\OneDrive\\\\Escritorio\\\\ProyectoG4-Google_Yelp\\\\Data\\\\Raw\\\\review_6.parquet'"
   ]
  },
  {
   "cell_type": "markdown",
   "metadata": {},
   "source": [
    "### Valores nulos."
   ]
  },
  {
   "cell_type": "code",
   "execution_count": null,
   "metadata": {},
   "outputs": [],
   "source": [
    "def chequeo_de_nulos_parquet(file_path):\n",
    "    try:\n",
    "        # Leer el archivo Parquet en un DataFrame\n",
    "        df = pd.read_parquet(file_path)\n",
    "        \n",
    "        # Verificar valores nulos\n",
    "        null_counts = df.isnull().sum()\n",
    "        total_nulls = null_counts.sum()\n",
    "        \n",
    "        # Imprimir resultados\n",
    "        print(f'Archivo: {os.path.basename(file_path)}')\n",
    "        print(f'Total de valores nulos: {total_nulls}')\n",
    "        print('Valores nulos por columna:')\n",
    "        print(null_counts)\n",
    "        print('-' * 40)\n",
    "    except Exception as e:\n",
    "        print(f'Error al procesar el archivo {file_path}: {e}')"
   ]
  },
  {
   "cell_type": "code",
   "execution_count": null,
   "metadata": {},
   "outputs": [
    {
     "name": "stdout",
     "output_type": "stream",
     "text": [
      "Archivo: review_0.parquet\n",
      "Total de valores nulos: 0\n",
      "Valores nulos por columna:\n",
      "review_id      0\n",
      "user_id        0\n",
      "business_id    0\n",
      "stars          0\n",
      "useful         0\n",
      "funny          0\n",
      "cool           0\n",
      "text           0\n",
      "date           0\n",
      "dtype: int64\n",
      "----------------------------------------\n"
     ]
    }
   ],
   "source": [
    "chequeo_de_nulos_parquet(path_0)"
   ]
  },
  {
   "cell_type": "code",
   "execution_count": null,
   "metadata": {},
   "outputs": [
    {
     "name": "stdout",
     "output_type": "stream",
     "text": [
      "Archivo: review_1.parquet\n",
      "Total de valores nulos: 0\n",
      "Valores nulos por columna:\n",
      "review_id      0\n",
      "user_id        0\n",
      "business_id    0\n",
      "stars          0\n",
      "useful         0\n",
      "funny          0\n",
      "cool           0\n",
      "text           0\n",
      "date           0\n",
      "dtype: int64\n",
      "----------------------------------------\n"
     ]
    }
   ],
   "source": [
    "chequeo_de_nulos_parquet(path_1)"
   ]
  },
  {
   "cell_type": "code",
   "execution_count": null,
   "metadata": {},
   "outputs": [
    {
     "name": "stdout",
     "output_type": "stream",
     "text": [
      "Archivo: review_2.parquet\n",
      "Total de valores nulos: 0\n",
      "Valores nulos por columna:\n",
      "review_id      0\n",
      "user_id        0\n",
      "business_id    0\n",
      "stars          0\n",
      "useful         0\n",
      "funny          0\n",
      "cool           0\n",
      "text           0\n",
      "date           0\n",
      "dtype: int64\n",
      "----------------------------------------\n"
     ]
    }
   ],
   "source": [
    "chequeo_de_nulos_parquet(path_2)"
   ]
  },
  {
   "cell_type": "code",
   "execution_count": null,
   "metadata": {},
   "outputs": [
    {
     "name": "stdout",
     "output_type": "stream",
     "text": [
      "Archivo: review_3.parquet\n",
      "Total de valores nulos: 0\n",
      "Valores nulos por columna:\n",
      "review_id      0\n",
      "user_id        0\n",
      "business_id    0\n",
      "stars          0\n",
      "useful         0\n",
      "funny          0\n",
      "cool           0\n",
      "text           0\n",
      "date           0\n",
      "dtype: int64\n",
      "----------------------------------------\n"
     ]
    }
   ],
   "source": [
    "chequeo_de_nulos_parquet(path_3)"
   ]
  },
  {
   "cell_type": "code",
   "execution_count": null,
   "metadata": {},
   "outputs": [
    {
     "name": "stdout",
     "output_type": "stream",
     "text": [
      "Archivo: review_4.parquet\n",
      "Total de valores nulos: 0\n",
      "Valores nulos por columna:\n",
      "review_id      0\n",
      "user_id        0\n",
      "business_id    0\n",
      "stars          0\n",
      "useful         0\n",
      "funny          0\n",
      "cool           0\n",
      "text           0\n",
      "date           0\n",
      "dtype: int64\n",
      "----------------------------------------\n"
     ]
    }
   ],
   "source": [
    "chequeo_de_nulos_parquet(path_4)"
   ]
  },
  {
   "cell_type": "code",
   "execution_count": null,
   "metadata": {},
   "outputs": [
    {
     "name": "stdout",
     "output_type": "stream",
     "text": [
      "Archivo: review_5.parquet\n",
      "Total de valores nulos: 0\n",
      "Valores nulos por columna:\n",
      "review_id      0\n",
      "user_id        0\n",
      "business_id    0\n",
      "stars          0\n",
      "useful         0\n",
      "funny          0\n",
      "cool           0\n",
      "text           0\n",
      "date           0\n",
      "dtype: int64\n",
      "----------------------------------------\n"
     ]
    }
   ],
   "source": [
    "chequeo_de_nulos_parquet(path_5)"
   ]
  },
  {
   "cell_type": "code",
   "execution_count": null,
   "metadata": {},
   "outputs": [
    {
     "name": "stdout",
     "output_type": "stream",
     "text": [
      "Archivo: review_6.parquet\n",
      "Total de valores nulos: 0\n",
      "Valores nulos por columna:\n",
      "review_id      0\n",
      "user_id        0\n",
      "business_id    0\n",
      "stars          0\n",
      "useful         0\n",
      "funny          0\n",
      "cool           0\n",
      "text           0\n",
      "date           0\n",
      "dtype: int64\n",
      "----------------------------------------\n"
     ]
    }
   ],
   "source": [
    "chequeo_de_nulos_parquet(path_6)"
   ]
  },
  {
   "cell_type": "markdown",
   "metadata": {},
   "source": [
    "Se concluye que no hay presencia de datos nulos en ninguno de los archivos fraccionados."
   ]
  },
  {
   "cell_type": "markdown",
   "metadata": {},
   "source": [
    "### Valores duplicados"
   ]
  },
  {
   "cell_type": "code",
   "execution_count": null,
   "metadata": {},
   "outputs": [],
   "source": [
    "def chequeo_eliminación_duplicados(ruta):\n",
    "    try:\n",
    "        # Se lee el archivo Parquet en un DataFrame.\n",
    "        df = pd.read_parquet(ruta)\n",
    "        \n",
    "        # Se verifica duplicados.\n",
    "        duplicates = df.duplicated().sum()\n",
    "        \n",
    "        if duplicates > 0:\n",
    "            print(f'Archivo: {os.path.basename(ruta)}')\n",
    "            print(f'Total de filas duplicadas encontradas: {duplicates}')\n",
    "            \n",
    "            # Se eliminan duplicados.\n",
    "            df = df.drop_duplicates()\n",
    "            print(f'Filas duplicadas eliminadas. Total de filas restantes: {len(df)}')\n",
    "            \n",
    "            # Se guarda el DataFrame sin duplicados archivo parquet\n",
    "            df.to_parquet(ruta, index=False)\n",
    "            print(f'Archivo actualizado sin duplicados: {ruta}')\n",
    "        else:\n",
    "            print(f'Archivo: {os.path.basename(ruta)}')\n",
    "            print('No se encontraron filas duplicadas.')\n",
    "        \n",
    "        print('-' * 40)\n",
    "    except Exception as e:\n",
    "        print(f'Error al procesar el archivo {ruta}: {e}')"
   ]
  },
  {
   "cell_type": "code",
   "execution_count": null,
   "metadata": {},
   "outputs": [
    {
     "name": "stdout",
     "output_type": "stream",
     "text": [
      "Archivo: review_0.parquet\n",
      "No se encontraron filas duplicadas.\n",
      "----------------------------------------\n"
     ]
    }
   ],
   "source": [
    "chequeo_eliminación_duplicados(path_0)"
   ]
  },
  {
   "cell_type": "code",
   "execution_count": null,
   "metadata": {},
   "outputs": [
    {
     "name": "stdout",
     "output_type": "stream",
     "text": [
      "Archivo: review_1.parquet\n",
      "No se encontraron filas duplicadas.\n",
      "----------------------------------------\n"
     ]
    }
   ],
   "source": [
    "chequeo_eliminación_duplicados(path_1)"
   ]
  },
  {
   "cell_type": "code",
   "execution_count": null,
   "metadata": {},
   "outputs": [
    {
     "name": "stdout",
     "output_type": "stream",
     "text": [
      "Archivo: review_2.parquet\n",
      "No se encontraron filas duplicadas.\n",
      "----------------------------------------\n"
     ]
    }
   ],
   "source": [
    "chequeo_eliminación_duplicados(path_2)"
   ]
  },
  {
   "cell_type": "code",
   "execution_count": null,
   "metadata": {},
   "outputs": [
    {
     "name": "stdout",
     "output_type": "stream",
     "text": [
      "Archivo: review_3.parquet\n",
      "No se encontraron filas duplicadas.\n",
      "----------------------------------------\n"
     ]
    }
   ],
   "source": [
    "chequeo_eliminación_duplicados(path_3)"
   ]
  },
  {
   "cell_type": "code",
   "execution_count": null,
   "metadata": {},
   "outputs": [
    {
     "name": "stdout",
     "output_type": "stream",
     "text": [
      "Archivo: review_4.parquet\n",
      "No se encontraron filas duplicadas.\n",
      "----------------------------------------\n"
     ]
    }
   ],
   "source": [
    "chequeo_eliminación_duplicados(path_4)"
   ]
  },
  {
   "cell_type": "code",
   "execution_count": null,
   "metadata": {},
   "outputs": [
    {
     "name": "stdout",
     "output_type": "stream",
     "text": [
      "Archivo: review_5.parquet\n",
      "No se encontraron filas duplicadas.\n",
      "----------------------------------------\n"
     ]
    }
   ],
   "source": [
    "chequeo_eliminación_duplicados(path_5)"
   ]
  },
  {
   "cell_type": "code",
   "execution_count": null,
   "metadata": {},
   "outputs": [
    {
     "name": "stdout",
     "output_type": "stream",
     "text": [
      "Archivo: review_6.parquet\n",
      "No se encontraron filas duplicadas.\n",
      "----------------------------------------\n"
     ]
    }
   ],
   "source": [
    "chequeo_eliminación_duplicados(path_6)"
   ]
  },
  {
   "cell_type": "markdown",
   "metadata": {},
   "source": [
    "No se observan filas duplicadas en ninguno de los archivos fraccionados."
   ]
  },
  {
   "cell_type": "markdown",
   "metadata": {},
   "source": [
    "### Filtro de datos."
   ]
  },
  {
   "cell_type": "markdown",
   "metadata": {},
   "source": [
    "Se aplicará un filtro a cada fragmento para que se reduzca el número de filas a las necesarias."
   ]
  },
  {
   "cell_type": "code",
   "execution_count": 6,
   "metadata": {},
   "outputs": [],
   "source": [
    "df_0 = pd.read_parquet(path_0, engine='fastparquet')"
   ]
  },
  {
   "cell_type": "code",
   "execution_count": 58,
   "metadata": {},
   "outputs": [
    {
     "data": {
      "text/plain": [
       "'El dataframe presenta 1048576 filas'"
      ]
     },
     "execution_count": 58,
     "metadata": {},
     "output_type": "execute_result"
    }
   ],
   "source": [
    "(f'El dataframe presenta {len(df_0)} filas')"
   ]
  },
  {
   "cell_type": "code",
   "execution_count": 7,
   "metadata": {},
   "outputs": [],
   "source": [
    "# Se filtran las filas que no contengan los \"business_ids\" correspondientes.\n",
    "df_0_final = df_0[df_0['business_id'].isin(business_ids)]\n",
    "# Se realiza el reset del índice.\n",
    "df_0_final = df_0_final.reset_index(drop=True, inplace=False)"
   ]
  },
  {
   "cell_type": "code",
   "execution_count": 8,
   "metadata": {},
   "outputs": [],
   "source": [
    "df_1 = pd.read_parquet(path_1, engine='fastparquet')"
   ]
  },
  {
   "cell_type": "code",
   "execution_count": 61,
   "metadata": {},
   "outputs": [
    {
     "data": {
      "text/plain": [
       "'El dataframe presenta 1048576 filas'"
      ]
     },
     "execution_count": 61,
     "metadata": {},
     "output_type": "execute_result"
    }
   ],
   "source": [
    "(f'El dataframe presenta {len(df_1)} filas')"
   ]
  },
  {
   "cell_type": "code",
   "execution_count": 9,
   "metadata": {},
   "outputs": [],
   "source": [
    "# Se filtran las filas que no contengan los \"business_ids\" correspondientes.\n",
    "df_1_final = df_1[df_1['business_id'].isin(business_ids)]\n",
    "# Se realiza el reset del índice.\n",
    "df_1_final = df_1_final.reset_index(drop=True, inplace=False)"
   ]
  },
  {
   "cell_type": "code",
   "execution_count": 10,
   "metadata": {},
   "outputs": [],
   "source": [
    "df_2 = pd.read_parquet(path_2, engine='fastparquet')"
   ]
  },
  {
   "cell_type": "code",
   "execution_count": 64,
   "metadata": {},
   "outputs": [
    {
     "data": {
      "text/plain": [
       "'El dataframe presenta 1048576 filas'"
      ]
     },
     "execution_count": 64,
     "metadata": {},
     "output_type": "execute_result"
    }
   ],
   "source": [
    "(f'El dataframe presenta {len(df_2)} filas')"
   ]
  },
  {
   "cell_type": "code",
   "execution_count": 11,
   "metadata": {},
   "outputs": [],
   "source": [
    "# Se filtran las filas que no contengan los \"business_ids\" correspondientes.\n",
    "df_2_final = df_2[df_2['business_id'].isin(business_ids)]\n",
    "# Se realiza el reset del índice.\n",
    "df_2_final = df_2_final.reset_index(drop=True, inplace=False)"
   ]
  },
  {
   "cell_type": "code",
   "execution_count": 12,
   "metadata": {},
   "outputs": [],
   "source": [
    "df_3 = pd.read_parquet(path_3, engine='fastparquet')"
   ]
  },
  {
   "cell_type": "code",
   "execution_count": 67,
   "metadata": {},
   "outputs": [
    {
     "data": {
      "text/plain": [
       "'El dataframe presenta 1048576 filas'"
      ]
     },
     "execution_count": 67,
     "metadata": {},
     "output_type": "execute_result"
    }
   ],
   "source": [
    "(f'El dataframe presenta {len(df_3)} filas')"
   ]
  },
  {
   "cell_type": "code",
   "execution_count": 13,
   "metadata": {},
   "outputs": [],
   "source": [
    "# Se filtran las filas que no contengan los \"business_ids\" correspondientes.\n",
    "df_3_final = df_3[df_3['business_id'].isin(business_ids)]\n",
    "# Se realiza el reset del índice.\n",
    "df_3_final = df_3_final.reset_index(drop=True, inplace=False)"
   ]
  },
  {
   "cell_type": "code",
   "execution_count": 14,
   "metadata": {},
   "outputs": [],
   "source": [
    "df_4 = pd.read_parquet(path_4, engine='fastparquet')"
   ]
  },
  {
   "cell_type": "code",
   "execution_count": 70,
   "metadata": {},
   "outputs": [
    {
     "data": {
      "text/plain": [
       "'El dataframe presenta 1048576 filas'"
      ]
     },
     "execution_count": 70,
     "metadata": {},
     "output_type": "execute_result"
    }
   ],
   "source": [
    "(f'El dataframe presenta {len(df_4)} filas')"
   ]
  },
  {
   "cell_type": "code",
   "execution_count": 15,
   "metadata": {},
   "outputs": [],
   "source": [
    "# Se filtran las filas que no contengan los \"business_ids\" correspondientes.\n",
    "df_4_final = df_4[df_4['business_id'].isin(business_ids)]\n",
    "# Se realiza el reset del índice.\n",
    "df_4_final = df_4_final.reset_index(drop=True, inplace=False)"
   ]
  },
  {
   "cell_type": "code",
   "execution_count": 16,
   "metadata": {},
   "outputs": [],
   "source": [
    "df_5 = pd.read_parquet(path_5, engine='fastparquet')"
   ]
  },
  {
   "cell_type": "code",
   "execution_count": 73,
   "metadata": {},
   "outputs": [
    {
     "data": {
      "text/plain": [
       "'El dataframe presenta 1048576 filas'"
      ]
     },
     "execution_count": 73,
     "metadata": {},
     "output_type": "execute_result"
    }
   ],
   "source": [
    "(f'El dataframe presenta {len(df_5)} filas')"
   ]
  },
  {
   "cell_type": "code",
   "execution_count": 17,
   "metadata": {},
   "outputs": [],
   "source": [
    "# Se filtran las filas que no contengan los \"business_ids\" correspondientes.\n",
    "df_5_final = df_5[df_5['business_id'].isin(business_ids)]\n",
    "# Se realiza el reset del índice.\n",
    "df_5_final = df_5_final.reset_index(drop=True, inplace=False)"
   ]
  },
  {
   "cell_type": "code",
   "execution_count": 18,
   "metadata": {},
   "outputs": [],
   "source": [
    "df_6 = pd.read_parquet(path_6, engine='fastparquet')"
   ]
  },
  {
   "cell_type": "code",
   "execution_count": 76,
   "metadata": {},
   "outputs": [
    {
     "data": {
      "text/plain": [
       "'El dataframe presenta 698824 filas'"
      ]
     },
     "execution_count": 76,
     "metadata": {},
     "output_type": "execute_result"
    }
   ],
   "source": [
    "(f'El dataframe presenta {len(df_6)} filas')"
   ]
  },
  {
   "cell_type": "code",
   "execution_count": 19,
   "metadata": {},
   "outputs": [],
   "source": [
    "# Se filtran las filas que no contengan los \"business_ids\" correspondientes.\n",
    "df_6_final = df_6[df_6['business_id'].isin(business_ids)]\n",
    "# Se realiza el reset del índice.\n",
    "df_6_final = df_6_final.reset_index(drop=True, inplace=False)"
   ]
  },
  {
   "cell_type": "markdown",
   "metadata": {},
   "source": [
    "Filas totales."
   ]
  },
  {
   "cell_type": "code",
   "execution_count": 78,
   "metadata": {},
   "outputs": [
    {
     "name": "stdout",
     "output_type": "stream",
     "text": [
      "El número de filas original es 6990280\n"
     ]
    }
   ],
   "source": [
    "total_filas_raw = len(df_0) + len(df_1) + len(df_2) + len(df_3) + len(df_4) + len(df_5) + len(df_6)\n",
    "print(f\"El número de filas original es {total_filas_raw}\")"
   ]
  },
  {
   "cell_type": "markdown",
   "metadata": {},
   "source": [
    "### Concatenación de dataframes."
   ]
  },
  {
   "cell_type": "code",
   "execution_count": 53,
   "metadata": {},
   "outputs": [],
   "source": [
    "df_review = pd.concat([df_0_final, df_1_final, df_2_final, df_3_final, df_4_final, df_5_final, df_6_final], ignore_index=False)"
   ]
  },
  {
   "cell_type": "code",
   "execution_count": 80,
   "metadata": {},
   "outputs": [
    {
     "data": {
      "text/html": [
       "<div>\n",
       "<style scoped>\n",
       "    .dataframe tbody tr th:only-of-type {\n",
       "        vertical-align: middle;\n",
       "    }\n",
       "\n",
       "    .dataframe tbody tr th {\n",
       "        vertical-align: top;\n",
       "    }\n",
       "\n",
       "    .dataframe thead th {\n",
       "        text-align: right;\n",
       "    }\n",
       "</style>\n",
       "<table border=\"1\" class=\"dataframe\">\n",
       "  <thead>\n",
       "    <tr style=\"text-align: right;\">\n",
       "      <th></th>\n",
       "      <th>review_id</th>\n",
       "      <th>user_id</th>\n",
       "      <th>business_id</th>\n",
       "      <th>stars</th>\n",
       "      <th>useful</th>\n",
       "      <th>funny</th>\n",
       "      <th>cool</th>\n",
       "      <th>text</th>\n",
       "      <th>date</th>\n",
       "    </tr>\n",
       "  </thead>\n",
       "  <tbody>\n",
       "    <tr>\n",
       "      <th>0</th>\n",
       "      <td>TcCcHzc3L6Aboq3DteEfZA</td>\n",
       "      <td>OuatwND396ZQxm2zK8WlUQ</td>\n",
       "      <td>jNL5KUPz2-tHUJM__ysSaw</td>\n",
       "      <td>1</td>\n",
       "      <td>1</td>\n",
       "      <td>0</td>\n",
       "      <td>0</td>\n",
       "      <td>If you want to pay for everything a la carte t...</td>\n",
       "      <td>2014-08-24 20:14:12</td>\n",
       "    </tr>\n",
       "    <tr>\n",
       "      <th>1</th>\n",
       "      <td>cCs7yPSyk8NdA-Ufoz_7hw</td>\n",
       "      <td>FodM8aoGMQO2zsQCQxBTYQ</td>\n",
       "      <td>v5ktgWMAARaczTMh2rAJKg</td>\n",
       "      <td>2</td>\n",
       "      <td>0</td>\n",
       "      <td>0</td>\n",
       "      <td>0</td>\n",
       "      <td>The service here has gone down. We used to go ...</td>\n",
       "      <td>2017-12-27 02:57:57</td>\n",
       "    </tr>\n",
       "    <tr>\n",
       "      <th>2</th>\n",
       "      <td>eP-S5CuNNVdGsfmVc5BXpg</td>\n",
       "      <td>jDLeW4d-8WqMkikCTHFJ5g</td>\n",
       "      <td>kJpoduG3wdA35WzOF_T1Aw</td>\n",
       "      <td>5</td>\n",
       "      <td>0</td>\n",
       "      <td>0</td>\n",
       "      <td>0</td>\n",
       "      <td>Only the best Mexican food in Florida!!!!  Sin...</td>\n",
       "      <td>2016-04-23 18:01:24</td>\n",
       "    </tr>\n",
       "  </tbody>\n",
       "</table>\n",
       "</div>"
      ],
      "text/plain": [
       "                review_id                 user_id             business_id  \\\n",
       "0  TcCcHzc3L6Aboq3DteEfZA  OuatwND396ZQxm2zK8WlUQ  jNL5KUPz2-tHUJM__ysSaw   \n",
       "1  cCs7yPSyk8NdA-Ufoz_7hw  FodM8aoGMQO2zsQCQxBTYQ  v5ktgWMAARaczTMh2rAJKg   \n",
       "2  eP-S5CuNNVdGsfmVc5BXpg  jDLeW4d-8WqMkikCTHFJ5g  kJpoduG3wdA35WzOF_T1Aw   \n",
       "\n",
       "   stars  useful  funny  cool  \\\n",
       "0      1       1      0     0   \n",
       "1      2       0      0     0   \n",
       "2      5       0      0     0   \n",
       "\n",
       "                                                text                date  \n",
       "0  If you want to pay for everything a la carte t... 2014-08-24 20:14:12  \n",
       "1  The service here has gone down. We used to go ... 2017-12-27 02:57:57  \n",
       "2  Only the best Mexican food in Florida!!!!  Sin... 2016-04-23 18:01:24  "
      ]
     },
     "execution_count": 80,
     "metadata": {},
     "output_type": "execute_result"
    }
   ],
   "source": [
    "df_review.head(3)"
   ]
  },
  {
   "cell_type": "markdown",
   "metadata": {},
   "source": [
    "### Columna \"stars\".  \n",
    "Verificación de outliers."
   ]
  },
  {
   "cell_type": "code",
   "execution_count": 45,
   "metadata": {},
   "outputs": [
    {
     "name": "stdout",
     "output_type": "stream",
     "text": [
      "count    72145.000000\n",
      "mean         3.751584\n",
      "std          1.454863\n",
      "min          1.000000\n",
      "25%          3.000000\n",
      "50%          4.000000\n",
      "75%          5.000000\n",
      "max          5.000000\n",
      "Name: stars, dtype: float64\n"
     ]
    }
   ],
   "source": [
    "description = df_review['stars'].describe()\n",
    "print(description)"
   ]
  },
  {
   "cell_type": "code",
   "execution_count": 54,
   "metadata": {},
   "outputs": [
    {
     "data": {
      "text/html": [
       "<div>\n",
       "<style scoped>\n",
       "    .dataframe tbody tr th:only-of-type {\n",
       "        vertical-align: middle;\n",
       "    }\n",
       "\n",
       "    .dataframe tbody tr th {\n",
       "        vertical-align: top;\n",
       "    }\n",
       "\n",
       "    .dataframe thead th {\n",
       "        text-align: right;\n",
       "    }\n",
       "</style>\n",
       "<table border=\"1\" class=\"dataframe\">\n",
       "  <thead>\n",
       "    <tr style=\"text-align: right;\">\n",
       "      <th></th>\n",
       "      <th>review_id</th>\n",
       "      <th>user_id</th>\n",
       "      <th>business_id</th>\n",
       "      <th>stars review</th>\n",
       "      <th>useful</th>\n",
       "      <th>funny</th>\n",
       "      <th>cool</th>\n",
       "      <th>text</th>\n",
       "      <th>date</th>\n",
       "    </tr>\n",
       "  </thead>\n",
       "  <tbody>\n",
       "    <tr>\n",
       "      <th>0</th>\n",
       "      <td>TcCcHzc3L6Aboq3DteEfZA</td>\n",
       "      <td>OuatwND396ZQxm2zK8WlUQ</td>\n",
       "      <td>jNL5KUPz2-tHUJM__ysSaw</td>\n",
       "      <td>1</td>\n",
       "      <td>1</td>\n",
       "      <td>0</td>\n",
       "      <td>0</td>\n",
       "      <td>If you want to pay for everything a la carte t...</td>\n",
       "      <td>2014-08-24 20:14:12</td>\n",
       "    </tr>\n",
       "  </tbody>\n",
       "</table>\n",
       "</div>"
      ],
      "text/plain": [
       "                review_id                 user_id             business_id  \\\n",
       "0  TcCcHzc3L6Aboq3DteEfZA  OuatwND396ZQxm2zK8WlUQ  jNL5KUPz2-tHUJM__ysSaw   \n",
       "\n",
       "   stars review  useful  funny  cool  \\\n",
       "0             1       1      0     0   \n",
       "\n",
       "                                                text                date  \n",
       "0  If you want to pay for everything a la carte t... 2014-08-24 20:14:12  "
      ]
     },
     "execution_count": 54,
     "metadata": {},
     "output_type": "execute_result"
    }
   ],
   "source": [
    "df_review.rename(columns={'stars': 'stars review'}, inplace=True)\n",
    "df_review.head(1)"
   ]
  },
  {
   "cell_type": "markdown",
   "metadata": {},
   "source": [
    "Se puede apreciar que la columna \"stars\" no presenta outliers."
   ]
  },
  {
   "cell_type": "markdown",
   "metadata": {},
   "source": [
    "### Columna \"date\"."
   ]
  },
  {
   "cell_type": "code",
   "execution_count": 22,
   "metadata": {},
   "outputs": [
    {
     "name": "stdout",
     "output_type": "stream",
     "text": [
      "La fecha mínima es 2006-02-02 19:09:03 y la fecha máxima es 2022-01-19 19:21:56\n"
     ]
    }
   ],
   "source": [
    "fecha_maxima = df_review['date'].max()\n",
    "fecha_minima = df_review['date'].min()\n",
    "\n",
    "print(f'La fecha mínima es {fecha_minima} y la fecha máxima es {fecha_maxima}')"
   ]
  },
  {
   "cell_type": "markdown",
   "metadata": {},
   "source": [
    "Para obtener un contexto en el marco más actualizado se procede a utilizar los datos que se encuentran dentro de un rango temporal entre 2017 y 2021. Por lo tanto, se procede a limitar las filas usadas a las que se encuentren en dicho rango temporal."
   ]
  },
  {
   "cell_type": "code",
   "execution_count": 55,
   "metadata": {},
   "outputs": [],
   "source": [
    "df_review = df_review[df_review['date'].between('2017-01-01', '2021-12-31', inclusive='both')]"
   ]
  },
  {
   "cell_type": "markdown",
   "metadata": {},
   "source": [
    "Se corrobora que se hayan realizado los cambios correctamente."
   ]
  },
  {
   "cell_type": "code",
   "execution_count": 56,
   "metadata": {},
   "outputs": [
    {
     "name": "stdout",
     "output_type": "stream",
     "text": [
      "La fecha mínima es 2017-01-01 01:30:23 y la fecha máxima es 2021-12-30 23:36:35\n"
     ]
    }
   ],
   "source": [
    "fecha_maxima = df_review['date'].max()\n",
    "fecha_minima = df_review['date'].min()\n",
    "\n",
    "print(f'La fecha mínima es {fecha_minima} y la fecha máxima es {fecha_maxima}')"
   ]
  },
  {
   "cell_type": "markdown",
   "metadata": {},
   "source": [
    "Se crean columnas específicas para cada formato temporal."
   ]
  },
  {
   "cell_type": "code",
   "execution_count": 57,
   "metadata": {},
   "outputs": [],
   "source": [
    "df_review['date'] = pd.to_datetime(df_review['date'])\n",
    "\n",
    "# Se crea una nueva columna con la fecha en formato 'YYYY-MM-DD'.\n",
    "df_review['fecha review'] = df_review['date'].dt.date\n",
    "\n",
    "# Se crea una nueva columna con la hora en formato de 24 horas enteras.\n",
    "df_review['hora entera review'] = df_review['date'].dt.hour\n",
    "\n",
    "df_review['dia review'] = df_review['date'].dt.strftime('%A')\n",
    "\n",
    "# Se crea un diccionario para mapear los dias de la semana en español.\n",
    "dias_semana_es = {\n",
    "    'Monday': 'Lunes',\n",
    "    'Tuesday': 'Martes',\n",
    "    'Wednesday': 'Miércoles',\n",
    "    'Thursday': 'Jueves',\n",
    "    'Friday': 'Viernes',\n",
    "    'Saturday': 'Sábado',\n",
    "    'Sunday': 'Domingo'\n",
    "}\n",
    "df_review['dia review'] = df_review['dia review'].map(dias_semana_es)\n",
    "\n",
    "# A extraerse los datos necesarios se elimina la columna \"date\".\n",
    "df_review.drop(columns=['date'], inplace=True)"
   ]
  },
  {
   "cell_type": "code",
   "execution_count": 59,
   "metadata": {},
   "outputs": [
    {
     "data": {
      "text/html": [
       "<div>\n",
       "<style scoped>\n",
       "    .dataframe tbody tr th:only-of-type {\n",
       "        vertical-align: middle;\n",
       "    }\n",
       "\n",
       "    .dataframe tbody tr th {\n",
       "        vertical-align: top;\n",
       "    }\n",
       "\n",
       "    .dataframe thead th {\n",
       "        text-align: right;\n",
       "    }\n",
       "</style>\n",
       "<table border=\"1\" class=\"dataframe\">\n",
       "  <thead>\n",
       "    <tr style=\"text-align: right;\">\n",
       "      <th></th>\n",
       "      <th>review_id</th>\n",
       "      <th>user_id</th>\n",
       "      <th>business_id</th>\n",
       "      <th>stars review</th>\n",
       "      <th>useful</th>\n",
       "      <th>funny</th>\n",
       "      <th>cool</th>\n",
       "      <th>text</th>\n",
       "      <th>fecha review</th>\n",
       "      <th>hora entera review</th>\n",
       "      <th>dia review</th>\n",
       "    </tr>\n",
       "  </thead>\n",
       "  <tbody>\n",
       "    <tr>\n",
       "      <th>1</th>\n",
       "      <td>cCs7yPSyk8NdA-Ufoz_7hw</td>\n",
       "      <td>FodM8aoGMQO2zsQCQxBTYQ</td>\n",
       "      <td>v5ktgWMAARaczTMh2rAJKg</td>\n",
       "      <td>2</td>\n",
       "      <td>0</td>\n",
       "      <td>0</td>\n",
       "      <td>0</td>\n",
       "      <td>The service here has gone down. We used to go ...</td>\n",
       "      <td>2017-12-27</td>\n",
       "      <td>2</td>\n",
       "      <td>Miércoles</td>\n",
       "    </tr>\n",
       "    <tr>\n",
       "      <th>9</th>\n",
       "      <td>8ZDUB-Y6JFxex541jHprGg</td>\n",
       "      <td>bIXslp2Sojhp9OcA-PNTvw</td>\n",
       "      <td>-zsvmEbkd-K9K2DAAKqiEQ</td>\n",
       "      <td>5</td>\n",
       "      <td>0</td>\n",
       "      <td>0</td>\n",
       "      <td>0</td>\n",
       "      <td>Thoroughly enjoyed our visit to Salty's this e...</td>\n",
       "      <td>2018-07-17</td>\n",
       "      <td>2</td>\n",
       "      <td>Martes</td>\n",
       "    </tr>\n",
       "    <tr>\n",
       "      <th>11</th>\n",
       "      <td>Naht5FrBGZDFGjwCQ-DyMw</td>\n",
       "      <td>QKoP7XabOXXWIkTwvYyCiA</td>\n",
       "      <td>xGUAa3xa8KsmbolC3XboQg</td>\n",
       "      <td>5</td>\n",
       "      <td>0</td>\n",
       "      <td>0</td>\n",
       "      <td>0</td>\n",
       "      <td>Xtreme Tacos has become one of my favorite pla...</td>\n",
       "      <td>2017-10-02</td>\n",
       "      <td>16</td>\n",
       "      <td>Lunes</td>\n",
       "    </tr>\n",
       "  </tbody>\n",
       "</table>\n",
       "</div>"
      ],
      "text/plain": [
       "                 review_id                 user_id             business_id  \\\n",
       "1   cCs7yPSyk8NdA-Ufoz_7hw  FodM8aoGMQO2zsQCQxBTYQ  v5ktgWMAARaczTMh2rAJKg   \n",
       "9   8ZDUB-Y6JFxex541jHprGg  bIXslp2Sojhp9OcA-PNTvw  -zsvmEbkd-K9K2DAAKqiEQ   \n",
       "11  Naht5FrBGZDFGjwCQ-DyMw  QKoP7XabOXXWIkTwvYyCiA  xGUAa3xa8KsmbolC3XboQg   \n",
       "\n",
       "    stars review  useful  funny  cool  \\\n",
       "1              2       0      0     0   \n",
       "9              5       0      0     0   \n",
       "11             5       0      0     0   \n",
       "\n",
       "                                                 text fecha review  \\\n",
       "1   The service here has gone down. We used to go ...   2017-12-27   \n",
       "9   Thoroughly enjoyed our visit to Salty's this e...   2018-07-17   \n",
       "11  Xtreme Tacos has become one of my favorite pla...   2017-10-02   \n",
       "\n",
       "    hora entera review dia review  \n",
       "1                    2  Miércoles  \n",
       "9                    2     Martes  \n",
       "11                  16      Lunes  "
      ]
     },
     "execution_count": 59,
     "metadata": {},
     "output_type": "execute_result"
    }
   ],
   "source": [
    "df_review.head(3)"
   ]
  },
  {
   "cell_type": "markdown",
   "metadata": {},
   "source": [
    "### Eliminación de columnas.  \n",
    "Se opta por eliminar las columnas \"useful\", \"funny\" y \"cool\" ya que no aportan datos de valor para el análisis."
   ]
  },
  {
   "cell_type": "code",
   "execution_count": 60,
   "metadata": {},
   "outputs": [],
   "source": [
    "df_review = df_review.drop(columns=['useful', 'funny', 'cool'])"
   ]
  },
  {
   "cell_type": "code",
   "execution_count": 61,
   "metadata": {},
   "outputs": [
    {
     "name": "stdout",
     "output_type": "stream",
     "text": [
      "<class 'pandas.core.frame.DataFrame'>\n",
      "RangeIndex: 45615 entries, 0 to 45614\n",
      "Data columns (total 8 columns):\n",
      " #   Column              Non-Null Count  Dtype \n",
      "---  ------              --------------  ----- \n",
      " 0   review_id           45615 non-null  object\n",
      " 1   user_id             45615 non-null  object\n",
      " 2   business_id         45615 non-null  object\n",
      " 3   stars review        45615 non-null  int64 \n",
      " 4   text                45615 non-null  object\n",
      " 5   fecha review        45615 non-null  object\n",
      " 6   hora entera review  45615 non-null  int32 \n",
      " 7   dia review          45615 non-null  object\n",
      "dtypes: int32(1), int64(1), object(6)\n",
      "memory usage: 2.6+ MB\n"
     ]
    }
   ],
   "source": [
    "df_review_final = df_review.reset_index(drop=True, inplace=False)\n",
    "df_review_final.info()"
   ]
  },
  {
   "cell_type": "markdown",
   "metadata": {},
   "source": [
    "### Como se ha realizado una reducción de los datos a nivel temporal a través del dataframe \"df_reviews\" se usará los datos de la columna \"business_id\" para descartar las filas de los demás datasets que no coincidan con dicho ID."
   ]
  },
  {
   "cell_type": "code",
   "execution_count": 90,
   "metadata": {},
   "outputs": [
    {
     "name": "stdout",
     "output_type": "stream",
     "text": [
      "El filtro consta de 628 ID's únicos\n"
     ]
    }
   ],
   "source": [
    "# Se genera el filtro buisness_ids para continuar con la reducción de los dataframes.\n",
    "business_ids = df_review_final['business_id'].unique()\n",
    "print(f\"El filtro consta de {len(business_ids)} ID's únicos\")"
   ]
  },
  {
   "cell_type": "markdown",
   "metadata": {},
   "source": [
    "### También se genera un segundo filtro para los dataset que solo presentan una columna de \"user_id\" y se reduzcan al número de usuarios que hicieron reseñas dentro del marco del estado de Florida, en restaurantes mexicanos y durante el período entre 2017 y 2021."
   ]
  },
  {
   "cell_type": "code",
   "execution_count": 12,
   "metadata": {},
   "outputs": [
    {
     "name": "stdout",
     "output_type": "stream",
     "text": [
      "El filtro consta de 31536 ID's únicos\n"
     ]
    }
   ],
   "source": [
    "# Se genera el filtro buisness_ids para continuar con la reducción de los dataframes.\n",
    "user_ids = df_review_final['user_id'].unique()\n",
    "print(f\"El filtro consta de {len(user_ids)} ID's únicos\")"
   ]
  },
  {
   "cell_type": "markdown",
   "metadata": {},
   "source": [
    "## Archivo \"checkin.json\""
   ]
  },
  {
   "cell_type": "markdown",
   "metadata": {},
   "source": [
    "### Extracción."
   ]
  },
  {
   "cell_type": "code",
   "execution_count": null,
   "metadata": {},
   "outputs": [],
   "source": [
    "checkin = []\n",
    "\n",
    "with open(path_checkin, 'r') as archivo:\n",
    "    #Se crea un loop para ir incorporando los elementos a la lista.\n",
    "    for linea in archivo:\n",
    "        data= json.loads(linea)\n",
    "        checkin.append(data)"
   ]
  },
  {
   "cell_type": "code",
   "execution_count": null,
   "metadata": {},
   "outputs": [
    {
     "data": {
      "text/html": [
       "<div>\n",
       "<style scoped>\n",
       "    .dataframe tbody tr th:only-of-type {\n",
       "        vertical-align: middle;\n",
       "    }\n",
       "\n",
       "    .dataframe tbody tr th {\n",
       "        vertical-align: top;\n",
       "    }\n",
       "\n",
       "    .dataframe thead th {\n",
       "        text-align: right;\n",
       "    }\n",
       "</style>\n",
       "<table border=\"1\" class=\"dataframe\">\n",
       "  <thead>\n",
       "    <tr style=\"text-align: right;\">\n",
       "      <th></th>\n",
       "      <th>business_id</th>\n",
       "      <th>date</th>\n",
       "    </tr>\n",
       "  </thead>\n",
       "  <tbody>\n",
       "    <tr>\n",
       "      <th>0</th>\n",
       "      <td>---kPU91CF4Lq2-WlRu9Lw</td>\n",
       "      <td>2020-03-13 21:10:56, 2020-06-02 22:18:06, 2020...</td>\n",
       "    </tr>\n",
       "    <tr>\n",
       "      <th>1</th>\n",
       "      <td>--0iUa4sNDFiZFrAdIWhZQ</td>\n",
       "      <td>2010-09-13 21:43:09, 2011-05-04 23:08:15, 2011...</td>\n",
       "    </tr>\n",
       "    <tr>\n",
       "      <th>2</th>\n",
       "      <td>--30_8IhuyMHbSOcNWd6DQ</td>\n",
       "      <td>2013-06-14 23:29:17, 2014-08-13 23:20:22</td>\n",
       "    </tr>\n",
       "    <tr>\n",
       "      <th>3</th>\n",
       "      <td>--7PUidqRWpRSpXebiyxTg</td>\n",
       "      <td>2011-02-15 17:12:00, 2011-07-28 02:46:10, 2012...</td>\n",
       "    </tr>\n",
       "    <tr>\n",
       "      <th>4</th>\n",
       "      <td>--7jw19RH9JKXgFohspgQw</td>\n",
       "      <td>2014-04-21 20:42:11, 2014-04-28 21:04:46, 2014...</td>\n",
       "    </tr>\n",
       "  </tbody>\n",
       "</table>\n",
       "</div>"
      ],
      "text/plain": [
       "              business_id                                               date\n",
       "0  ---kPU91CF4Lq2-WlRu9Lw  2020-03-13 21:10:56, 2020-06-02 22:18:06, 2020...\n",
       "1  --0iUa4sNDFiZFrAdIWhZQ  2010-09-13 21:43:09, 2011-05-04 23:08:15, 2011...\n",
       "2  --30_8IhuyMHbSOcNWd6DQ           2013-06-14 23:29:17, 2014-08-13 23:20:22\n",
       "3  --7PUidqRWpRSpXebiyxTg  2011-02-15 17:12:00, 2011-07-28 02:46:10, 2012...\n",
       "4  --7jw19RH9JKXgFohspgQw  2014-04-21 20:42:11, 2014-04-28 21:04:46, 2014..."
      ]
     },
     "execution_count": 67,
     "metadata": {},
     "output_type": "execute_result"
    }
   ],
   "source": [
    "df_checkin = pd.DataFrame(checkin)\n",
    "df_checkin.head()"
   ]
  },
  {
   "cell_type": "code",
   "execution_count": null,
   "metadata": {},
   "outputs": [
    {
     "name": "stdout",
     "output_type": "stream",
     "text": [
      "<class 'pandas.core.frame.DataFrame'>\n",
      "RangeIndex: 131930 entries, 0 to 131929\n",
      "Data columns (total 2 columns):\n",
      " #   Column       Non-Null Count   Dtype \n",
      "---  ------       --------------   ----- \n",
      " 0   business_id  131930 non-null  object\n",
      " 1   date         131930 non-null  object\n",
      "dtypes: object(2)\n",
      "memory usage: 2.0+ MB\n"
     ]
    }
   ],
   "source": [
    "df_checkin.info()"
   ]
  },
  {
   "cell_type": "markdown",
   "metadata": {},
   "source": [
    "### Valores nulos."
   ]
  },
  {
   "cell_type": "code",
   "execution_count": null,
   "metadata": {},
   "outputs": [
    {
     "data": {
      "text/plain": [
       "business_id    0\n",
       "date           0\n",
       "dtype: int64"
      ]
     },
     "execution_count": 69,
     "metadata": {},
     "output_type": "execute_result"
    }
   ],
   "source": [
    "df_checkin.isna().sum()"
   ]
  },
  {
   "cell_type": "markdown",
   "metadata": {},
   "source": [
    "Se observa que el archivo no presenta valores nulos en ninguna de sus columnas."
   ]
  },
  {
   "cell_type": "markdown",
   "metadata": {},
   "source": [
    "### Datos duplicados."
   ]
  },
  {
   "cell_type": "code",
   "execution_count": null,
   "metadata": {},
   "outputs": [
    {
     "data": {
      "text/plain": [
       "(0, 2)"
      ]
     },
     "execution_count": 70,
     "metadata": {},
     "output_type": "execute_result"
    }
   ],
   "source": [
    "# Se corrobora que no haya filas duplicadas en la columna \"business_id\".\n",
    "duplicados = df_checkin['business_id'].duplicated()\n",
    "duplicados_df = df_checkin[duplicados]\n",
    "duplicados_df.shape"
   ]
  },
  {
   "cell_type": "markdown",
   "metadata": {},
   "source": [
    "No se observan datos duplicados en el dataset."
   ]
  },
  {
   "cell_type": "markdown",
   "metadata": {},
   "source": [
    "### Filtro de datos."
   ]
  },
  {
   "cell_type": "code",
   "execution_count": null,
   "metadata": {},
   "outputs": [
    {
     "name": "stdout",
     "output_type": "stream",
     "text": [
      "<class 'pandas.core.frame.DataFrame'>\n",
      "RangeIndex: 616 entries, 0 to 615\n",
      "Data columns (total 2 columns):\n",
      " #   Column       Non-Null Count  Dtype \n",
      "---  ------       --------------  ----- \n",
      " 0   business_id  616 non-null    object\n",
      " 1   date         616 non-null    object\n",
      "dtypes: object(2)\n",
      "memory usage: 9.8+ KB\n"
     ]
    }
   ],
   "source": [
    "# Se filtran las filas que no contengan los \"business_ids\" correspondientes.\n",
    "df_checkin_final = df_checkin[df_checkin['business_id'].isin(business_ids)]\n",
    "# Se realiza el reset del índice.\n",
    "df_checkin_final = df_checkin_final.reset_index(drop=True, inplace=False)\n",
    "df_checkin_final.info()"
   ]
  },
  {
   "cell_type": "markdown",
   "metadata": {},
   "source": [
    "## Archivo \"tip.json\""
   ]
  },
  {
   "cell_type": "markdown",
   "metadata": {},
   "source": [
    "### Extracción."
   ]
  },
  {
   "cell_type": "code",
   "execution_count": null,
   "metadata": {},
   "outputs": [],
   "source": [
    "tip = [] \n",
    "#Se abre el archivo \"tip.json\".\n",
    "with open(path_tip, encoding=\"utf-8\") as archivo:\n",
    "    # EL bucle irá incorporando los datos a la lista.\n",
    "    for linea in archivo.readlines():\n",
    "        tip.append(ast.literal_eval(linea))\n",
    "\n",
    "#Se crea el dataframe \"df_tip\"\n",
    "df_tip = pd.DataFrame(tip)"
   ]
  },
  {
   "cell_type": "code",
   "execution_count": null,
   "metadata": {},
   "outputs": [
    {
     "data": {
      "text/html": [
       "<div>\n",
       "<style scoped>\n",
       "    .dataframe tbody tr th:only-of-type {\n",
       "        vertical-align: middle;\n",
       "    }\n",
       "\n",
       "    .dataframe tbody tr th {\n",
       "        vertical-align: top;\n",
       "    }\n",
       "\n",
       "    .dataframe thead th {\n",
       "        text-align: right;\n",
       "    }\n",
       "</style>\n",
       "<table border=\"1\" class=\"dataframe\">\n",
       "  <thead>\n",
       "    <tr style=\"text-align: right;\">\n",
       "      <th></th>\n",
       "      <th>user_id</th>\n",
       "      <th>business_id</th>\n",
       "      <th>text</th>\n",
       "      <th>date</th>\n",
       "      <th>compliment_count</th>\n",
       "    </tr>\n",
       "  </thead>\n",
       "  <tbody>\n",
       "    <tr>\n",
       "      <th>0</th>\n",
       "      <td>AGNUgVwnZUey3gcPCJ76iw</td>\n",
       "      <td>3uLgwr0qeCNMjKenHJwPGQ</td>\n",
       "      <td>Avengers time with the ladies.</td>\n",
       "      <td>2012-05-18 02:17:21</td>\n",
       "      <td>0</td>\n",
       "    </tr>\n",
       "    <tr>\n",
       "      <th>1</th>\n",
       "      <td>NBN4MgHP9D3cw--SnauTkA</td>\n",
       "      <td>QoezRbYQncpRqyrLH6Iqjg</td>\n",
       "      <td>They have lots of good deserts and tasty cuban...</td>\n",
       "      <td>2013-02-05 18:35:10</td>\n",
       "      <td>0</td>\n",
       "    </tr>\n",
       "    <tr>\n",
       "      <th>2</th>\n",
       "      <td>-copOvldyKh1qr-vzkDEvw</td>\n",
       "      <td>MYoRNLb5chwjQe3c_k37Gg</td>\n",
       "      <td>It's open even when you think it isn't</td>\n",
       "      <td>2013-08-18 00:56:08</td>\n",
       "      <td>0</td>\n",
       "    </tr>\n",
       "    <tr>\n",
       "      <th>3</th>\n",
       "      <td>FjMQVZjSqY8syIO-53KFKw</td>\n",
       "      <td>hV-bABTK-glh5wj31ps_Jw</td>\n",
       "      <td>Very decent fried chicken</td>\n",
       "      <td>2017-06-27 23:05:38</td>\n",
       "      <td>0</td>\n",
       "    </tr>\n",
       "    <tr>\n",
       "      <th>4</th>\n",
       "      <td>ld0AperBXk1h6UbqmM80zw</td>\n",
       "      <td>_uN0OudeJ3Zl_tf6nxg5ww</td>\n",
       "      <td>Appetizers.. platter special for lunch</td>\n",
       "      <td>2012-10-06 19:43:09</td>\n",
       "      <td>0</td>\n",
       "    </tr>\n",
       "  </tbody>\n",
       "</table>\n",
       "</div>"
      ],
      "text/plain": [
       "                  user_id             business_id  \\\n",
       "0  AGNUgVwnZUey3gcPCJ76iw  3uLgwr0qeCNMjKenHJwPGQ   \n",
       "1  NBN4MgHP9D3cw--SnauTkA  QoezRbYQncpRqyrLH6Iqjg   \n",
       "2  -copOvldyKh1qr-vzkDEvw  MYoRNLb5chwjQe3c_k37Gg   \n",
       "3  FjMQVZjSqY8syIO-53KFKw  hV-bABTK-glh5wj31ps_Jw   \n",
       "4  ld0AperBXk1h6UbqmM80zw  _uN0OudeJ3Zl_tf6nxg5ww   \n",
       "\n",
       "                                                text                 date  \\\n",
       "0                     Avengers time with the ladies.  2012-05-18 02:17:21   \n",
       "1  They have lots of good deserts and tasty cuban...  2013-02-05 18:35:10   \n",
       "2             It's open even when you think it isn't  2013-08-18 00:56:08   \n",
       "3                          Very decent fried chicken  2017-06-27 23:05:38   \n",
       "4             Appetizers.. platter special for lunch  2012-10-06 19:43:09   \n",
       "\n",
       "   compliment_count  \n",
       "0                 0  \n",
       "1                 0  \n",
       "2                 0  \n",
       "3                 0  \n",
       "4                 0  "
      ]
     },
     "execution_count": 73,
     "metadata": {},
     "output_type": "execute_result"
    }
   ],
   "source": [
    "df_tip.head()"
   ]
  },
  {
   "cell_type": "code",
   "execution_count": null,
   "metadata": {},
   "outputs": [
    {
     "name": "stdout",
     "output_type": "stream",
     "text": [
      "<class 'pandas.core.frame.DataFrame'>\n",
      "RangeIndex: 908915 entries, 0 to 908914\n",
      "Data columns (total 5 columns):\n",
      " #   Column            Non-Null Count   Dtype \n",
      "---  ------            --------------   ----- \n",
      " 0   user_id           908915 non-null  object\n",
      " 1   business_id       908915 non-null  object\n",
      " 2   text              908915 non-null  object\n",
      " 3   date              908915 non-null  object\n",
      " 4   compliment_count  908915 non-null  int64 \n",
      "dtypes: int64(1), object(4)\n",
      "memory usage: 34.7+ MB\n"
     ]
    }
   ],
   "source": [
    "df_tip.info()"
   ]
  },
  {
   "cell_type": "markdown",
   "metadata": {},
   "source": [
    "### Valores nulos."
   ]
  },
  {
   "cell_type": "code",
   "execution_count": null,
   "metadata": {},
   "outputs": [
    {
     "data": {
      "text/plain": [
       "user_id             0\n",
       "business_id         0\n",
       "text                0\n",
       "date                0\n",
       "compliment_count    0\n",
       "dtype: int64"
      ]
     },
     "execution_count": 75,
     "metadata": {},
     "output_type": "execute_result"
    }
   ],
   "source": [
    "df_tip.isna().sum()"
   ]
  },
  {
   "cell_type": "markdown",
   "metadata": {},
   "source": [
    "Se observa que el archivo no presenta valores nulos."
   ]
  },
  {
   "cell_type": "markdown",
   "metadata": {},
   "source": [
    "### Valores duplicados."
   ]
  },
  {
   "cell_type": "markdown",
   "metadata": {},
   "source": [
    "Se corrobora que si hay filas duplicadas en base al contenido de las columnas \"user_id\", \"text\" y \"date\""
   ]
  },
  {
   "cell_type": "code",
   "execution_count": null,
   "metadata": {},
   "outputs": [
    {
     "data": {
      "text/plain": [
       "(126, 5)"
      ]
     },
     "execution_count": 76,
     "metadata": {},
     "output_type": "execute_result"
    }
   ],
   "source": [
    "valores_duplicados = df_tip.duplicated(subset=['user_id', 'text', 'date'], keep=False)\n",
    "filas_valores_duplicados = df_tip[valores_duplicados]\n",
    "filas_valores_duplicados.shape"
   ]
  },
  {
   "cell_type": "markdown",
   "metadata": {},
   "source": [
    "Se eliminan las filas que poseen valores duplicados en las columnas \"user_id\", \"text\" y \"date\"."
   ]
  },
  {
   "cell_type": "code",
   "execution_count": null,
   "metadata": {},
   "outputs": [],
   "source": [
    "df_tip = df_tip.drop_duplicates(subset=['user_id', 'text', 'date'], keep='first')"
   ]
  },
  {
   "cell_type": "code",
   "execution_count": null,
   "metadata": {},
   "outputs": [
    {
     "data": {
      "text/plain": [
       "(0, 5)"
      ]
     },
     "execution_count": 78,
     "metadata": {},
     "output_type": "execute_result"
    }
   ],
   "source": [
    "# Se verifica que se hayan realizado los cambios.\n",
    "valores_duplicados = df_tip.duplicated(subset=['user_id', 'text', 'date'], keep=False)\n",
    "filas_valores_duplicados = df_tip[valores_duplicados]\n",
    "filas_valores_duplicados.shape"
   ]
  },
  {
   "cell_type": "markdown",
   "metadata": {},
   "source": [
    "### Manejo de columnas."
   ]
  },
  {
   "cell_type": "markdown",
   "metadata": {},
   "source": [
    "### Columna \"date\"."
   ]
  },
  {
   "cell_type": "code",
   "execution_count": null,
   "metadata": {},
   "outputs": [
    {
     "name": "stdout",
     "output_type": "stream",
     "text": [
      "La fecha mínima es 2009-04-16 13:11:49 y la fecha máxima es 2022-01-19 20:38:55\n"
     ]
    }
   ],
   "source": [
    "fecha_maxima = df_tip['date'].max()\n",
    "fecha_minima = df_tip['date'].min()\n",
    "\n",
    "print(f'La fecha mínima es {fecha_minima} y la fecha máxima es {fecha_maxima}')\n"
   ]
  },
  {
   "cell_type": "markdown",
   "metadata": {},
   "source": [
    "Se crean columnas específicas para cada formato temporal."
   ]
  },
  {
   "cell_type": "code",
   "execution_count": null,
   "metadata": {},
   "outputs": [],
   "source": [
    "df_tip['date'] = pd.to_datetime(df_tip['date'])\n",
    "\n",
    "# Se crea una nueva columna con la fecha en formato 'YYYY-MM-DD'.\n",
    "df_tip['fecha'] = df_tip['date'].dt.date\n",
    "\n",
    "# Se crea una nueva columna con la hora en formato de 24 horas enteras.\n",
    "df_tip['hora'] = df_tip['date'].dt.hour\n",
    "\n",
    "df_tip['dia_semana'] = df_tip['date'].dt.strftime('%A')\n",
    "\n",
    "# Se crea un diccionario para mapear los dias de la semana y traducirlos al español.\n",
    "dias_semana_es = {\n",
    "    'Monday': 'Lunes',\n",
    "    'Tuesday': 'Martes',\n",
    "    'Wednesday': 'Miércoles',\n",
    "    'Thursday': 'Jueves',\n",
    "    'Friday': 'Viernes',\n",
    "    'Saturday': 'Sábado',\n",
    "    'Sunday': 'Domingo'\n",
    "}\n",
    "df_tip['dia_semana'] = df_tip['dia_semana'].map(dias_semana_es)"
   ]
  },
  {
   "cell_type": "code",
   "execution_count": null,
   "metadata": {},
   "outputs": [
    {
     "data": {
      "text/html": [
       "<div>\n",
       "<style scoped>\n",
       "    .dataframe tbody tr th:only-of-type {\n",
       "        vertical-align: middle;\n",
       "    }\n",
       "\n",
       "    .dataframe tbody tr th {\n",
       "        vertical-align: top;\n",
       "    }\n",
       "\n",
       "    .dataframe thead th {\n",
       "        text-align: right;\n",
       "    }\n",
       "</style>\n",
       "<table border=\"1\" class=\"dataframe\">\n",
       "  <thead>\n",
       "    <tr style=\"text-align: right;\">\n",
       "      <th></th>\n",
       "      <th>user_id</th>\n",
       "      <th>business_id</th>\n",
       "      <th>text</th>\n",
       "      <th>date</th>\n",
       "      <th>compliment_count</th>\n",
       "      <th>fecha</th>\n",
       "      <th>hora</th>\n",
       "      <th>dia_semana</th>\n",
       "    </tr>\n",
       "  </thead>\n",
       "  <tbody>\n",
       "    <tr>\n",
       "      <th>0</th>\n",
       "      <td>AGNUgVwnZUey3gcPCJ76iw</td>\n",
       "      <td>3uLgwr0qeCNMjKenHJwPGQ</td>\n",
       "      <td>Avengers time with the ladies.</td>\n",
       "      <td>2012-05-18 02:17:21</td>\n",
       "      <td>0</td>\n",
       "      <td>2012-05-18</td>\n",
       "      <td>2</td>\n",
       "      <td>Viernes</td>\n",
       "    </tr>\n",
       "  </tbody>\n",
       "</table>\n",
       "</div>"
      ],
      "text/plain": [
       "                  user_id             business_id  \\\n",
       "0  AGNUgVwnZUey3gcPCJ76iw  3uLgwr0qeCNMjKenHJwPGQ   \n",
       "\n",
       "                             text                date  compliment_count  \\\n",
       "0  Avengers time with the ladies. 2012-05-18 02:17:21                 0   \n",
       "\n",
       "        fecha  hora dia_semana  \n",
       "0  2012-05-18     2    Viernes  "
      ]
     },
     "execution_count": 81,
     "metadata": {},
     "output_type": "execute_result"
    }
   ],
   "source": [
    "df_tip.head(1)"
   ]
  },
  {
   "cell_type": "markdown",
   "metadata": {},
   "source": [
    "### Columna \"compliment_count\"."
   ]
  },
  {
   "cell_type": "markdown",
   "metadata": {},
   "source": [
    "Se oopta por eliminar la columna ya que no aporta datos relevantes."
   ]
  },
  {
   "cell_type": "code",
   "execution_count": null,
   "metadata": {},
   "outputs": [],
   "source": [
    "df_tip = df_tip.drop(['compliment_count'], axis=1)"
   ]
  },
  {
   "cell_type": "code",
   "execution_count": null,
   "metadata": {},
   "outputs": [
    {
     "data": {
      "text/html": [
       "<div>\n",
       "<style scoped>\n",
       "    .dataframe tbody tr th:only-of-type {\n",
       "        vertical-align: middle;\n",
       "    }\n",
       "\n",
       "    .dataframe tbody tr th {\n",
       "        vertical-align: top;\n",
       "    }\n",
       "\n",
       "    .dataframe thead th {\n",
       "        text-align: right;\n",
       "    }\n",
       "</style>\n",
       "<table border=\"1\" class=\"dataframe\">\n",
       "  <thead>\n",
       "    <tr style=\"text-align: right;\">\n",
       "      <th></th>\n",
       "      <th>user_id</th>\n",
       "      <th>business_id</th>\n",
       "      <th>text</th>\n",
       "      <th>date</th>\n",
       "      <th>fecha</th>\n",
       "      <th>hora</th>\n",
       "      <th>dia_semana</th>\n",
       "    </tr>\n",
       "  </thead>\n",
       "  <tbody>\n",
       "    <tr>\n",
       "      <th>0</th>\n",
       "      <td>AGNUgVwnZUey3gcPCJ76iw</td>\n",
       "      <td>3uLgwr0qeCNMjKenHJwPGQ</td>\n",
       "      <td>Avengers time with the ladies.</td>\n",
       "      <td>2012-05-18 02:17:21</td>\n",
       "      <td>2012-05-18</td>\n",
       "      <td>2</td>\n",
       "      <td>Viernes</td>\n",
       "    </tr>\n",
       "  </tbody>\n",
       "</table>\n",
       "</div>"
      ],
      "text/plain": [
       "                  user_id             business_id  \\\n",
       "0  AGNUgVwnZUey3gcPCJ76iw  3uLgwr0qeCNMjKenHJwPGQ   \n",
       "\n",
       "                             text                date       fecha  hora  \\\n",
       "0  Avengers time with the ladies. 2012-05-18 02:17:21  2012-05-18     2   \n",
       "\n",
       "  dia_semana  \n",
       "0    Viernes  "
      ]
     },
     "execution_count": 83,
     "metadata": {},
     "output_type": "execute_result"
    }
   ],
   "source": [
    "df_tip.head(1)"
   ]
  },
  {
   "cell_type": "markdown",
   "metadata": {},
   "source": [
    "### Filtro de datos."
   ]
  },
  {
   "cell_type": "code",
   "execution_count": null,
   "metadata": {},
   "outputs": [
    {
     "name": "stdout",
     "output_type": "stream",
     "text": [
      "<class 'pandas.core.frame.DataFrame'>\n",
      "RangeIndex: 24009 entries, 0 to 24008\n",
      "Data columns (total 7 columns):\n",
      " #   Column       Non-Null Count  Dtype         \n",
      "---  ------       --------------  -----         \n",
      " 0   user_id      24009 non-null  object        \n",
      " 1   business_id  24009 non-null  object        \n",
      " 2   text         24009 non-null  object        \n",
      " 3   date         24009 non-null  datetime64[ns]\n",
      " 4   fecha        24009 non-null  object        \n",
      " 5   hora         24009 non-null  int32         \n",
      " 6   dia_semana   24009 non-null  object        \n",
      "dtypes: datetime64[ns](1), int32(1), object(5)\n",
      "memory usage: 1.2+ MB\n"
     ]
    }
   ],
   "source": [
    "# Se seleccionan los registros correspondientes al rango temporal entre 2017 y 2021.\n",
    "df_tip_1 = df_tip[df_tip['date'].between('2017-01-01', '2021-12-31', inclusive='both')]\n",
    "# Se filtran los registros que corresponden al \"user_id\" a utilizar.\n",
    "df_tip_final = df_tip_1[df_tip_1['user_id'].isin(user_ids)]\n",
    "# Se realiza el reset del índice.\n",
    "df_tidf_tip_final =df_tip_final.reset_index(drop=True, inplace=False)\n",
    "df_tidf_tip_final.info()"
   ]
  },
  {
   "cell_type": "markdown",
   "metadata": {},
   "source": [
    "## Archivo \"user.parquet\""
   ]
  },
  {
   "cell_type": "markdown",
   "metadata": {},
   "source": [
    "### Extracción."
   ]
  },
  {
   "cell_type": "code",
   "execution_count": 4,
   "metadata": {},
   "outputs": [],
   "source": [
    "df_user = pd.read_parquet(path_user, engine='fastparquet')"
   ]
  },
  {
   "cell_type": "code",
   "execution_count": 5,
   "metadata": {},
   "outputs": [
    {
     "data": {
      "text/html": [
       "<div>\n",
       "<style scoped>\n",
       "    .dataframe tbody tr th:only-of-type {\n",
       "        vertical-align: middle;\n",
       "    }\n",
       "\n",
       "    .dataframe tbody tr th {\n",
       "        vertical-align: top;\n",
       "    }\n",
       "\n",
       "    .dataframe thead th {\n",
       "        text-align: right;\n",
       "    }\n",
       "</style>\n",
       "<table border=\"1\" class=\"dataframe\">\n",
       "  <thead>\n",
       "    <tr style=\"text-align: right;\">\n",
       "      <th></th>\n",
       "      <th>user_id</th>\n",
       "      <th>name</th>\n",
       "      <th>review_count</th>\n",
       "      <th>yelping_since</th>\n",
       "      <th>useful</th>\n",
       "      <th>funny</th>\n",
       "      <th>cool</th>\n",
       "      <th>elite</th>\n",
       "      <th>friends</th>\n",
       "      <th>fans</th>\n",
       "      <th>average_stars</th>\n",
       "      <th>compliment_hot</th>\n",
       "      <th>compliment_more</th>\n",
       "      <th>compliment_profile</th>\n",
       "      <th>compliment_cute</th>\n",
       "      <th>compliment_list</th>\n",
       "      <th>compliment_note</th>\n",
       "      <th>compliment_plain</th>\n",
       "      <th>compliment_cool</th>\n",
       "      <th>compliment_funny</th>\n",
       "      <th>compliment_writer</th>\n",
       "      <th>compliment_photos</th>\n",
       "    </tr>\n",
       "  </thead>\n",
       "  <tbody>\n",
       "    <tr>\n",
       "      <th>0</th>\n",
       "      <td>qVc8ODYU5SZjKXVBgXdI7w</td>\n",
       "      <td>Walker</td>\n",
       "      <td>585</td>\n",
       "      <td>2007-01-25 16:47:26</td>\n",
       "      <td>7217</td>\n",
       "      <td>1259</td>\n",
       "      <td>5994</td>\n",
       "      <td>2007</td>\n",
       "      <td>NSCy54eWehBJyZdG2iE84w, pe42u7DcCH2QmI81NX-8qA...</td>\n",
       "      <td>267</td>\n",
       "      <td>3.91</td>\n",
       "      <td>250</td>\n",
       "      <td>65</td>\n",
       "      <td>55</td>\n",
       "      <td>56</td>\n",
       "      <td>18</td>\n",
       "      <td>232</td>\n",
       "      <td>844</td>\n",
       "      <td>467</td>\n",
       "      <td>467</td>\n",
       "      <td>239</td>\n",
       "      <td>180</td>\n",
       "    </tr>\n",
       "    <tr>\n",
       "      <th>1</th>\n",
       "      <td>j14WgRoU_-2ZE1aw1dXrJg</td>\n",
       "      <td>Daniel</td>\n",
       "      <td>4333</td>\n",
       "      <td>2009-01-25 04:35:42</td>\n",
       "      <td>43091</td>\n",
       "      <td>13066</td>\n",
       "      <td>27281</td>\n",
       "      <td>2009,2010,2011,2012,2013,2014,2015,2016,2017,2...</td>\n",
       "      <td>ueRPE0CX75ePGMqOFVj6IQ, 52oH4DrRvzzl8wh5UXyU0A...</td>\n",
       "      <td>3138</td>\n",
       "      <td>3.74</td>\n",
       "      <td>1145</td>\n",
       "      <td>264</td>\n",
       "      <td>184</td>\n",
       "      <td>157</td>\n",
       "      <td>251</td>\n",
       "      <td>1847</td>\n",
       "      <td>7054</td>\n",
       "      <td>3131</td>\n",
       "      <td>3131</td>\n",
       "      <td>1521</td>\n",
       "      <td>1946</td>\n",
       "    </tr>\n",
       "    <tr>\n",
       "      <th>2</th>\n",
       "      <td>2WnXYQFK0hXEoTxPtV2zvg</td>\n",
       "      <td>Steph</td>\n",
       "      <td>665</td>\n",
       "      <td>2008-07-25 10:41:00</td>\n",
       "      <td>2086</td>\n",
       "      <td>1010</td>\n",
       "      <td>1003</td>\n",
       "      <td>2009,2010,2011,2012,2013</td>\n",
       "      <td>LuO3Bn4f3rlhyHIaNfTlnA, j9B4XdHUhDfTKVecyWQgyA...</td>\n",
       "      <td>52</td>\n",
       "      <td>3.32</td>\n",
       "      <td>89</td>\n",
       "      <td>13</td>\n",
       "      <td>10</td>\n",
       "      <td>17</td>\n",
       "      <td>3</td>\n",
       "      <td>66</td>\n",
       "      <td>96</td>\n",
       "      <td>119</td>\n",
       "      <td>119</td>\n",
       "      <td>35</td>\n",
       "      <td>18</td>\n",
       "    </tr>\n",
       "  </tbody>\n",
       "</table>\n",
       "</div>"
      ],
      "text/plain": [
       "                  user_id    name  review_count        yelping_since  useful  \\\n",
       "0  qVc8ODYU5SZjKXVBgXdI7w  Walker           585  2007-01-25 16:47:26    7217   \n",
       "1  j14WgRoU_-2ZE1aw1dXrJg  Daniel          4333  2009-01-25 04:35:42   43091   \n",
       "2  2WnXYQFK0hXEoTxPtV2zvg   Steph           665  2008-07-25 10:41:00    2086   \n",
       "\n",
       "   funny   cool                                              elite  \\\n",
       "0   1259   5994                                               2007   \n",
       "1  13066  27281  2009,2010,2011,2012,2013,2014,2015,2016,2017,2...   \n",
       "2   1010   1003                           2009,2010,2011,2012,2013   \n",
       "\n",
       "                                             friends  fans  average_stars  \\\n",
       "0  NSCy54eWehBJyZdG2iE84w, pe42u7DcCH2QmI81NX-8qA...   267           3.91   \n",
       "1  ueRPE0CX75ePGMqOFVj6IQ, 52oH4DrRvzzl8wh5UXyU0A...  3138           3.74   \n",
       "2  LuO3Bn4f3rlhyHIaNfTlnA, j9B4XdHUhDfTKVecyWQgyA...    52           3.32   \n",
       "\n",
       "   compliment_hot  compliment_more  compliment_profile  compliment_cute  \\\n",
       "0             250               65                  55               56   \n",
       "1            1145              264                 184              157   \n",
       "2              89               13                  10               17   \n",
       "\n",
       "   compliment_list  compliment_note  compliment_plain  compliment_cool  \\\n",
       "0               18              232               844              467   \n",
       "1              251             1847              7054             3131   \n",
       "2                3               66                96              119   \n",
       "\n",
       "   compliment_funny  compliment_writer  compliment_photos  \n",
       "0               467                239                180  \n",
       "1              3131               1521               1946  \n",
       "2               119                 35                 18  "
      ]
     },
     "execution_count": 5,
     "metadata": {},
     "output_type": "execute_result"
    }
   ],
   "source": [
    "df_user.head(3)"
   ]
  },
  {
   "cell_type": "code",
   "execution_count": 6,
   "metadata": {},
   "outputs": [
    {
     "name": "stdout",
     "output_type": "stream",
     "text": [
      "<class 'pandas.core.frame.DataFrame'>\n",
      "RangeIndex: 2105597 entries, 0 to 2105596\n",
      "Data columns (total 22 columns):\n",
      " #   Column              Dtype  \n",
      "---  ------              -----  \n",
      " 0   user_id             object \n",
      " 1   name                object \n",
      " 2   review_count        int64  \n",
      " 3   yelping_since       object \n",
      " 4   useful              int64  \n",
      " 5   funny               int64  \n",
      " 6   cool                int64  \n",
      " 7   elite               object \n",
      " 8   friends             object \n",
      " 9   fans                int64  \n",
      " 10  average_stars       float64\n",
      " 11  compliment_hot      int64  \n",
      " 12  compliment_more     int64  \n",
      " 13  compliment_profile  int64  \n",
      " 14  compliment_cute     int64  \n",
      " 15  compliment_list     int64  \n",
      " 16  compliment_note     int64  \n",
      " 17  compliment_plain    int64  \n",
      " 18  compliment_cool     int64  \n",
      " 19  compliment_funny    int64  \n",
      " 20  compliment_writer   int64  \n",
      " 21  compliment_photos   int64  \n",
      "dtypes: float64(1), int64(16), object(5)\n",
      "memory usage: 353.4+ MB\n"
     ]
    }
   ],
   "source": [
    "df_user.info()"
   ]
  },
  {
   "cell_type": "markdown",
   "metadata": {},
   "source": [
    "### Valores nulos."
   ]
  },
  {
   "cell_type": "code",
   "execution_count": 7,
   "metadata": {},
   "outputs": [
    {
     "data": {
      "text/plain": [
       "user_id               0\n",
       "name                  0\n",
       "review_count          0\n",
       "yelping_since         0\n",
       "useful                0\n",
       "funny                 0\n",
       "cool                  0\n",
       "elite                 0\n",
       "friends               0\n",
       "fans                  0\n",
       "average_stars         0\n",
       "compliment_hot        0\n",
       "compliment_more       0\n",
       "compliment_profile    0\n",
       "compliment_cute       0\n",
       "compliment_list       0\n",
       "compliment_note       0\n",
       "compliment_plain      0\n",
       "compliment_cool       0\n",
       "compliment_funny      0\n",
       "compliment_writer     0\n",
       "compliment_photos     0\n",
       "dtype: int64"
      ]
     },
     "execution_count": 7,
     "metadata": {},
     "output_type": "execute_result"
    }
   ],
   "source": [
    "df_user.isna().sum()"
   ]
  },
  {
   "cell_type": "markdown",
   "metadata": {},
   "source": [
    "### Valores duplicados."
   ]
  },
  {
   "cell_type": "code",
   "execution_count": 8,
   "metadata": {},
   "outputs": [
    {
     "data": {
      "text/plain": [
       "(117700, 22)"
      ]
     },
     "execution_count": 8,
     "metadata": {},
     "output_type": "execute_result"
    }
   ],
   "source": [
    "duplicados = df_user['user_id'].duplicated()\n",
    "duplicados_user = df_user[duplicados]\n",
    "duplicados_user.shape"
   ]
  },
  {
   "cell_type": "markdown",
   "metadata": {},
   "source": [
    "Se observa que en el dataset hay 117700 filas duplicadas las cuales serán eliminadas."
   ]
  },
  {
   "cell_type": "code",
   "execution_count": 9,
   "metadata": {},
   "outputs": [],
   "source": [
    "df_user = df_user.drop_duplicates(keep='first', inplace=False)"
   ]
  },
  {
   "cell_type": "code",
   "execution_count": 10,
   "metadata": {},
   "outputs": [
    {
     "data": {
      "text/plain": [
       "(0, 22)"
      ]
     },
     "execution_count": 10,
     "metadata": {},
     "output_type": "execute_result"
    }
   ],
   "source": [
    "duplicados = df_user['user_id'].duplicated()\n",
    "duplicados_user = df_user[duplicados]\n",
    "duplicados_user.shape"
   ]
  },
  {
   "cell_type": "markdown",
   "metadata": {},
   "source": [
    "### Manejo de columnas."
   ]
  },
  {
   "cell_type": "markdown",
   "metadata": {},
   "source": [
    "### Columnas \"review_count\" y \"useful\".  \n",
    "Verificación de outliers."
   ]
  },
  {
   "cell_type": "code",
   "execution_count": null,
   "metadata": {},
   "outputs": [
    {
     "name": "stdout",
     "output_type": "stream",
     "text": [
      "       review_count     useful\n",
      "count    1987897.00 1987897.00\n",
      "mean          23.39      42.30\n",
      "std           82.57     641.48\n",
      "min            0.00       0.00\n",
      "25%            2.00       0.00\n",
      "50%            5.00       3.00\n",
      "75%           17.00      13.00\n",
      "max        17473.00  206296.00\n"
     ]
    }
   ],
   "source": [
    "columnas = ['review_count', 'useful']\n",
    "descripcion = df_user[columnas].describe()\n",
    "print(descripcion)"
   ]
  },
  {
   "cell_type": "markdown",
   "metadata": {},
   "source": [
    "Se distingue que el dataset no presenta valores negativos en ninguna de las columnas, pero sí se muestran conteos de 17473 para \"review_count\" y 206296 para \"useful\""
   ]
  },
  {
   "cell_type": "code",
   "execution_count": 13,
   "metadata": {},
   "outputs": [
    {
     "data": {
      "text/html": [
       "<div>\n",
       "<style scoped>\n",
       "    .dataframe tbody tr th:only-of-type {\n",
       "        vertical-align: middle;\n",
       "    }\n",
       "\n",
       "    .dataframe tbody tr th {\n",
       "        vertical-align: top;\n",
       "    }\n",
       "\n",
       "    .dataframe thead th {\n",
       "        text-align: right;\n",
       "    }\n",
       "</style>\n",
       "<table border=\"1\" class=\"dataframe\">\n",
       "  <thead>\n",
       "    <tr style=\"text-align: right;\">\n",
       "      <th></th>\n",
       "      <th>user_id</th>\n",
       "      <th>name</th>\n",
       "      <th>user review count</th>\n",
       "      <th>yelping_since</th>\n",
       "      <th>useful</th>\n",
       "      <th>funny</th>\n",
       "      <th>cool</th>\n",
       "      <th>elite</th>\n",
       "      <th>friends</th>\n",
       "      <th>fans</th>\n",
       "      <th>average_stars</th>\n",
       "      <th>compliment_hot</th>\n",
       "      <th>compliment_more</th>\n",
       "      <th>compliment_profile</th>\n",
       "      <th>compliment_cute</th>\n",
       "      <th>compliment_list</th>\n",
       "      <th>compliment_note</th>\n",
       "      <th>compliment_plain</th>\n",
       "      <th>compliment_cool</th>\n",
       "      <th>compliment_funny</th>\n",
       "      <th>compliment_writer</th>\n",
       "      <th>compliment_photos</th>\n",
       "    </tr>\n",
       "  </thead>\n",
       "  <tbody>\n",
       "    <tr>\n",
       "      <th>0</th>\n",
       "      <td>qVc8ODYU5SZjKXVBgXdI7w</td>\n",
       "      <td>Walker</td>\n",
       "      <td>585</td>\n",
       "      <td>2007-01-25 16:47:26</td>\n",
       "      <td>7217</td>\n",
       "      <td>1259</td>\n",
       "      <td>5994</td>\n",
       "      <td>2007</td>\n",
       "      <td>NSCy54eWehBJyZdG2iE84w, pe42u7DcCH2QmI81NX-8qA...</td>\n",
       "      <td>267</td>\n",
       "      <td>3.91</td>\n",
       "      <td>250</td>\n",
       "      <td>65</td>\n",
       "      <td>55</td>\n",
       "      <td>56</td>\n",
       "      <td>18</td>\n",
       "      <td>232</td>\n",
       "      <td>844</td>\n",
       "      <td>467</td>\n",
       "      <td>467</td>\n",
       "      <td>239</td>\n",
       "      <td>180</td>\n",
       "    </tr>\n",
       "  </tbody>\n",
       "</table>\n",
       "</div>"
      ],
      "text/plain": [
       "                  user_id    name  user review count        yelping_since  \\\n",
       "0  qVc8ODYU5SZjKXVBgXdI7w  Walker                585  2007-01-25 16:47:26   \n",
       "\n",
       "   useful  funny  cool elite  \\\n",
       "0    7217   1259  5994  2007   \n",
       "\n",
       "                                             friends  fans  average_stars  \\\n",
       "0  NSCy54eWehBJyZdG2iE84w, pe42u7DcCH2QmI81NX-8qA...   267           3.91   \n",
       "\n",
       "   compliment_hot  compliment_more  compliment_profile  compliment_cute  \\\n",
       "0             250               65                  55               56   \n",
       "\n",
       "   compliment_list  compliment_note  compliment_plain  compliment_cool  \\\n",
       "0               18              232               844              467   \n",
       "\n",
       "   compliment_funny  compliment_writer  compliment_photos  \n",
       "0               467                239                180  "
      ]
     },
     "execution_count": 13,
     "metadata": {},
     "output_type": "execute_result"
    }
   ],
   "source": [
    "# Se renombra la columna \"review_count\".\n",
    "df_user.rename(columns={'review_count': 'user review count'}, inplace=True)\n",
    "df_user.head(1)"
   ]
  },
  {
   "cell_type": "markdown",
   "metadata": {},
   "source": [
    "### Columnas \"average_stars\".\n",
    "Verificación de outliers."
   ]
  },
  {
   "cell_type": "code",
   "execution_count": null,
   "metadata": {},
   "outputs": [
    {
     "name": "stdout",
     "output_type": "stream",
     "text": [
      "count   1987897.00\n",
      "mean          3.63\n",
      "std           1.18\n",
      "min           1.00\n",
      "25%           3.00\n",
      "50%           3.88\n",
      "75%           4.56\n",
      "max           5.00\n",
      "Name: average_stars, dtype: float64\n"
     ]
    }
   ],
   "source": [
    "description = df_user['average_stars'].describe()\n",
    "print(description)"
   ]
  },
  {
   "cell_type": "markdown",
   "metadata": {},
   "source": [
    "Se observa que la columna \"average_stars\" no presenta valores atípicos."
   ]
  },
  {
   "cell_type": "code",
   "execution_count": 14,
   "metadata": {},
   "outputs": [
    {
     "data": {
      "text/html": [
       "<div>\n",
       "<style scoped>\n",
       "    .dataframe tbody tr th:only-of-type {\n",
       "        vertical-align: middle;\n",
       "    }\n",
       "\n",
       "    .dataframe tbody tr th {\n",
       "        vertical-align: top;\n",
       "    }\n",
       "\n",
       "    .dataframe thead th {\n",
       "        text-align: right;\n",
       "    }\n",
       "</style>\n",
       "<table border=\"1\" class=\"dataframe\">\n",
       "  <thead>\n",
       "    <tr style=\"text-align: right;\">\n",
       "      <th></th>\n",
       "      <th>user_id</th>\n",
       "      <th>name</th>\n",
       "      <th>user review count</th>\n",
       "      <th>yelping_since</th>\n",
       "      <th>useful</th>\n",
       "      <th>funny</th>\n",
       "      <th>cool</th>\n",
       "      <th>elite</th>\n",
       "      <th>friends</th>\n",
       "      <th>fans</th>\n",
       "      <th>avg user stars</th>\n",
       "      <th>compliment_hot</th>\n",
       "      <th>compliment_more</th>\n",
       "      <th>compliment_profile</th>\n",
       "      <th>compliment_cute</th>\n",
       "      <th>compliment_list</th>\n",
       "      <th>compliment_note</th>\n",
       "      <th>compliment_plain</th>\n",
       "      <th>compliment_cool</th>\n",
       "      <th>compliment_funny</th>\n",
       "      <th>compliment_writer</th>\n",
       "      <th>compliment_photos</th>\n",
       "    </tr>\n",
       "  </thead>\n",
       "  <tbody>\n",
       "    <tr>\n",
       "      <th>0</th>\n",
       "      <td>qVc8ODYU5SZjKXVBgXdI7w</td>\n",
       "      <td>Walker</td>\n",
       "      <td>585</td>\n",
       "      <td>2007-01-25 16:47:26</td>\n",
       "      <td>7217</td>\n",
       "      <td>1259</td>\n",
       "      <td>5994</td>\n",
       "      <td>2007</td>\n",
       "      <td>NSCy54eWehBJyZdG2iE84w, pe42u7DcCH2QmI81NX-8qA...</td>\n",
       "      <td>267</td>\n",
       "      <td>3.91</td>\n",
       "      <td>250</td>\n",
       "      <td>65</td>\n",
       "      <td>55</td>\n",
       "      <td>56</td>\n",
       "      <td>18</td>\n",
       "      <td>232</td>\n",
       "      <td>844</td>\n",
       "      <td>467</td>\n",
       "      <td>467</td>\n",
       "      <td>239</td>\n",
       "      <td>180</td>\n",
       "    </tr>\n",
       "  </tbody>\n",
       "</table>\n",
       "</div>"
      ],
      "text/plain": [
       "                  user_id    name  user review count        yelping_since  \\\n",
       "0  qVc8ODYU5SZjKXVBgXdI7w  Walker                585  2007-01-25 16:47:26   \n",
       "\n",
       "   useful  funny  cool elite  \\\n",
       "0    7217   1259  5994  2007   \n",
       "\n",
       "                                             friends  fans  avg user stars  \\\n",
       "0  NSCy54eWehBJyZdG2iE84w, pe42u7DcCH2QmI81NX-8qA...   267            3.91   \n",
       "\n",
       "   compliment_hot  compliment_more  compliment_profile  compliment_cute  \\\n",
       "0             250               65                  55               56   \n",
       "\n",
       "   compliment_list  compliment_note  compliment_plain  compliment_cool  \\\n",
       "0               18              232               844              467   \n",
       "\n",
       "   compliment_funny  compliment_writer  compliment_photos  \n",
       "0               467                239                180  "
      ]
     },
     "execution_count": 14,
     "metadata": {},
     "output_type": "execute_result"
    }
   ],
   "source": [
    "# Se renombra la columna.\n",
    "df_user.rename(columns={'average_stars': 'avg user stars'}, inplace=True)\n",
    "df_user.head(1)"
   ]
  },
  {
   "cell_type": "markdown",
   "metadata": {},
   "source": [
    "Se decide eliminar las siguientes columnas ya que no aportan datos relevantes para el análisis."
   ]
  },
  {
   "cell_type": "code",
   "execution_count": 15,
   "metadata": {},
   "outputs": [],
   "source": [
    "df_user = df_user.drop(columns=['name','yelping_since','funny','cool','elite','friends','fans', 'compliment_hot', 'compliment_more','compliment_profile','compliment_cute','compliment_list','compliment_note',\n",
    "                                'compliment_plain','compliment_cool','compliment_funny','compliment_writer','compliment_photos'])"
   ]
  },
  {
   "cell_type": "code",
   "execution_count": 16,
   "metadata": {},
   "outputs": [
    {
     "data": {
      "text/html": [
       "<div>\n",
       "<style scoped>\n",
       "    .dataframe tbody tr th:only-of-type {\n",
       "        vertical-align: middle;\n",
       "    }\n",
       "\n",
       "    .dataframe tbody tr th {\n",
       "        vertical-align: top;\n",
       "    }\n",
       "\n",
       "    .dataframe thead th {\n",
       "        text-align: right;\n",
       "    }\n",
       "</style>\n",
       "<table border=\"1\" class=\"dataframe\">\n",
       "  <thead>\n",
       "    <tr style=\"text-align: right;\">\n",
       "      <th></th>\n",
       "      <th>user_id</th>\n",
       "      <th>user review count</th>\n",
       "      <th>useful</th>\n",
       "      <th>avg user stars</th>\n",
       "    </tr>\n",
       "  </thead>\n",
       "  <tbody>\n",
       "    <tr>\n",
       "      <th>0</th>\n",
       "      <td>qVc8ODYU5SZjKXVBgXdI7w</td>\n",
       "      <td>585</td>\n",
       "      <td>7217</td>\n",
       "      <td>3.91</td>\n",
       "    </tr>\n",
       "    <tr>\n",
       "      <th>1</th>\n",
       "      <td>j14WgRoU_-2ZE1aw1dXrJg</td>\n",
       "      <td>4333</td>\n",
       "      <td>43091</td>\n",
       "      <td>3.74</td>\n",
       "    </tr>\n",
       "    <tr>\n",
       "      <th>2</th>\n",
       "      <td>2WnXYQFK0hXEoTxPtV2zvg</td>\n",
       "      <td>665</td>\n",
       "      <td>2086</td>\n",
       "      <td>3.32</td>\n",
       "    </tr>\n",
       "  </tbody>\n",
       "</table>\n",
       "</div>"
      ],
      "text/plain": [
       "                  user_id  user review count  useful  avg user stars\n",
       "0  qVc8ODYU5SZjKXVBgXdI7w                585    7217            3.91\n",
       "1  j14WgRoU_-2ZE1aw1dXrJg               4333   43091            3.74\n",
       "2  2WnXYQFK0hXEoTxPtV2zvg                665    2086            3.32"
      ]
     },
     "execution_count": 16,
     "metadata": {},
     "output_type": "execute_result"
    }
   ],
   "source": [
    "df_user.head(3)"
   ]
  },
  {
   "cell_type": "markdown",
   "metadata": {},
   "source": [
    "### Filtro de datos."
   ]
  },
  {
   "cell_type": "code",
   "execution_count": 17,
   "metadata": {},
   "outputs": [
    {
     "name": "stdout",
     "output_type": "stream",
     "text": [
      "<class 'pandas.core.frame.DataFrame'>\n",
      "RangeIndex: 31536 entries, 0 to 31535\n",
      "Data columns (total 4 columns):\n",
      " #   Column             Non-Null Count  Dtype  \n",
      "---  ------             --------------  -----  \n",
      " 0   user_id            31536 non-null  object \n",
      " 1   user review count  31536 non-null  int64  \n",
      " 2   useful             31536 non-null  int64  \n",
      " 3   avg user stars     31536 non-null  float64\n",
      "dtypes: float64(1), int64(2), object(1)\n",
      "memory usage: 985.6+ KB\n"
     ]
    }
   ],
   "source": [
    "# Se filtran las filas que no contengan los \"business_ids\" correspondientes.\n",
    "df_user_final = df_user[df_user['user_id'].isin(user_ids)]\n",
    "# Se realiza el reset del índice.\n",
    "df_user_final = df_user_final.reset_index(drop=True, inplace=False)\n",
    "df_user_final.info()"
   ]
  },
  {
   "cell_type": "markdown",
   "metadata": {},
   "source": [
    "## Carga de datos."
   ]
  },
  {
   "cell_type": "markdown",
   "metadata": {},
   "source": [
    "Se crean archivos en formato parquet en base a los datasets que se fueron trabajando."
   ]
  },
  {
   "cell_type": "markdown",
   "metadata": {},
   "source": [
    "Archivo \"business.parquet\"."
   ]
  },
  {
   "cell_type": "code",
   "execution_count": 55,
   "metadata": {},
   "outputs": [],
   "source": [
    "table = pa.Table.from_pandas(df_business_final)\n",
    "pq.write_table(table, 'business.parquet')"
   ]
  },
  {
   "cell_type": "markdown",
   "metadata": {},
   "source": [
    "Archivo \"review.parquet\"."
   ]
  },
  {
   "cell_type": "code",
   "execution_count": 62,
   "metadata": {},
   "outputs": [],
   "source": [
    "table = pa.Table.from_pandas(df_review_final)\n",
    "pq.write_table(table, 'review.parquet')"
   ]
  },
  {
   "cell_type": "markdown",
   "metadata": {},
   "source": [
    "Archivo \"checkin.parquet\"."
   ]
  },
  {
   "cell_type": "code",
   "execution_count": null,
   "metadata": {},
   "outputs": [],
   "source": [
    "table = pa.Table.from_pandas(df_checkin_final)\n",
    "pq.write_table(table, 'checkin.parquet')"
   ]
  },
  {
   "cell_type": "markdown",
   "metadata": {},
   "source": [
    "Archivo \"tip.parquet\"."
   ]
  },
  {
   "cell_type": "code",
   "execution_count": null,
   "metadata": {},
   "outputs": [],
   "source": [
    "table = pa.Table.from_pandas(df_tip_final)\n",
    "pq.write_table(table, 'tip.parquet')"
   ]
  },
  {
   "cell_type": "markdown",
   "metadata": {},
   "source": [
    "Archivo \"user.parquet\""
   ]
  },
  {
   "cell_type": "code",
   "execution_count": 18,
   "metadata": {},
   "outputs": [],
   "source": [
    "table = pa.Table.from_pandas(df_user_final)\n",
    "pq.write_table(table, 'user.parquet')"
   ]
  },
  {
   "cell_type": "markdown",
   "metadata": {},
   "source": [
    "### Merge de dataframes."
   ]
  },
  {
   "cell_type": "markdown",
   "metadata": {},
   "source": [
    "Se crea una dataframe que combina \"user\", \"business\" y \"review\"."
   ]
  },
  {
   "cell_type": "code",
   "execution_count": 41,
   "metadata": {},
   "outputs": [],
   "source": [
    "df_review_final = pd.read_parquet('C:\\\\Users\\\\fedez\\\\OneDrive\\\\Escritorio\\\\ProyectoG4-Google_Yelp\\\\Data\\\\Parquet\\\\review.parquet')\n",
    "df_business_final = pd.read_parquet('C:\\\\Users\\\\fedez\\\\OneDrive\\\\Escritorio\\\\ProyectoG4-Google_Yelp\\\\Data\\\\Parquet\\\\business.parquet')\n",
    "df_user_final = pd.read_parquet('C:\\\\Users\\\\fedez\\\\OneDrive\\\\Escritorio\\\\ProyectoG4-Google_Yelp\\\\Data\\\\Parquet\\\\user.parquet')"
   ]
  },
  {
   "cell_type": "code",
   "execution_count": 20,
   "metadata": {},
   "outputs": [
    {
     "data": {
      "text/html": [
       "<div>\n",
       "<style scoped>\n",
       "    .dataframe tbody tr th:only-of-type {\n",
       "        vertical-align: middle;\n",
       "    }\n",
       "\n",
       "    .dataframe tbody tr th {\n",
       "        vertical-align: top;\n",
       "    }\n",
       "\n",
       "    .dataframe thead th {\n",
       "        text-align: right;\n",
       "    }\n",
       "</style>\n",
       "<table border=\"1\" class=\"dataframe\">\n",
       "  <thead>\n",
       "    <tr style=\"text-align: right;\">\n",
       "      <th></th>\n",
       "      <th>business_id</th>\n",
       "      <th>name</th>\n",
       "      <th>city</th>\n",
       "      <th>state</th>\n",
       "      <th>latitude</th>\n",
       "      <th>longitude</th>\n",
       "      <th>stars business</th>\n",
       "      <th>restaurant review count</th>\n",
       "      <th>categories</th>\n",
       "      <th>Lunes horarios</th>\n",
       "      <th>Martes horarios</th>\n",
       "      <th>Miércoles horarios</th>\n",
       "      <th>Jueves horarios</th>\n",
       "      <th>Viernes horarios</th>\n",
       "      <th>Sábado horarios</th>\n",
       "      <th>Domingo horarios</th>\n",
       "    </tr>\n",
       "  </thead>\n",
       "  <tbody>\n",
       "    <tr>\n",
       "      <th>0</th>\n",
       "      <td>aNtKyc2rr-uK5cqzY9TVQQ</td>\n",
       "      <td>Chipotle Mexican Grill</td>\n",
       "      <td>Largo</td>\n",
       "      <td>Florida</td>\n",
       "      <td>27.894167</td>\n",
       "      <td>-82.779866</td>\n",
       "      <td>3.0</td>\n",
       "      <td>19</td>\n",
       "      <td>Mexican, Fast Food, Restaurants</td>\n",
       "      <td>0:0-0:0</td>\n",
       "      <td>10:45-22:0</td>\n",
       "      <td>10:45-22:0</td>\n",
       "      <td>10:45-22:0</td>\n",
       "      <td>10:45-22:0</td>\n",
       "      <td>10:45-22:0</td>\n",
       "      <td>10:45-22:0</td>\n",
       "    </tr>\n",
       "  </tbody>\n",
       "</table>\n",
       "</div>"
      ],
      "text/plain": [
       "              business_id                    name   city    state   latitude  \\\n",
       "0  aNtKyc2rr-uK5cqzY9TVQQ  Chipotle Mexican Grill  Largo  Florida  27.894167   \n",
       "\n",
       "   longitude  stars business  restaurant review count  \\\n",
       "0 -82.779866             3.0                       19   \n",
       "\n",
       "                        categories Lunes horarios Martes horarios  \\\n",
       "0  Mexican, Fast Food, Restaurants        0:0-0:0      10:45-22:0   \n",
       "\n",
       "  Miércoles horarios Jueves horarios Viernes horarios Sábado horarios  \\\n",
       "0         10:45-22:0      10:45-22:0       10:45-22:0      10:45-22:0   \n",
       "\n",
       "  Domingo horarios  \n",
       "0       10:45-22:0  "
      ]
     },
     "execution_count": 20,
     "metadata": {},
     "output_type": "execute_result"
    }
   ],
   "source": [
    "df_business_final.head(1)"
   ]
  },
  {
   "cell_type": "code",
   "execution_count": 21,
   "metadata": {},
   "outputs": [
    {
     "data": {
      "text/html": [
       "<div>\n",
       "<style scoped>\n",
       "    .dataframe tbody tr th:only-of-type {\n",
       "        vertical-align: middle;\n",
       "    }\n",
       "\n",
       "    .dataframe tbody tr th {\n",
       "        vertical-align: top;\n",
       "    }\n",
       "\n",
       "    .dataframe thead th {\n",
       "        text-align: right;\n",
       "    }\n",
       "</style>\n",
       "<table border=\"1\" class=\"dataframe\">\n",
       "  <thead>\n",
       "    <tr style=\"text-align: right;\">\n",
       "      <th></th>\n",
       "      <th>user_id</th>\n",
       "      <th>user review count</th>\n",
       "      <th>useful</th>\n",
       "      <th>avg user stars</th>\n",
       "    </tr>\n",
       "  </thead>\n",
       "  <tbody>\n",
       "    <tr>\n",
       "      <th>0</th>\n",
       "      <td>rppTTi-kfF8-qyiArNemag</td>\n",
       "      <td>460</td>\n",
       "      <td>700</td>\n",
       "      <td>3.33</td>\n",
       "    </tr>\n",
       "  </tbody>\n",
       "</table>\n",
       "</div>"
      ],
      "text/plain": [
       "                  user_id  user review count  useful  avg user stars\n",
       "0  rppTTi-kfF8-qyiArNemag                460     700            3.33"
      ]
     },
     "execution_count": 21,
     "metadata": {},
     "output_type": "execute_result"
    }
   ],
   "source": [
    "df_user_final.head(1)"
   ]
  },
  {
   "cell_type": "code",
   "execution_count": 51,
   "metadata": {},
   "outputs": [
    {
     "name": "stdout",
     "output_type": "stream",
     "text": [
      "<class 'pandas.core.frame.DataFrame'>\n",
      "RangeIndex: 72145 entries, 0 to 72144\n",
      "Data columns (total 27 columns):\n",
      " #   Column                   Non-Null Count  Dtype         \n",
      "---  ------                   --------------  -----         \n",
      " 0   business_id              72145 non-null  object        \n",
      " 1   name                     72145 non-null  object        \n",
      " 2   city                     72145 non-null  object        \n",
      " 3   state                    72145 non-null  object        \n",
      " 4   latitude                 72145 non-null  float64       \n",
      " 5   longitude                72145 non-null  float64       \n",
      " 6   stars business           72145 non-null  float64       \n",
      " 7   restaurant review count  72145 non-null  int32         \n",
      " 8   categories               72145 non-null  object        \n",
      " 9   Lunes horarios           65280 non-null  object        \n",
      " 10  Martes horarios          69194 non-null  object        \n",
      " 11  Miércoles horarios       69318 non-null  object        \n",
      " 12  Jueves horarios          69850 non-null  object        \n",
      " 13  Viernes horarios         69525 non-null  object        \n",
      " 14  Sábado horarios          69516 non-null  object        \n",
      " 15  Domingo horarios         62452 non-null  object        \n",
      " 16  review_id                72145 non-null  object        \n",
      " 17  user_id                  72145 non-null  object        \n",
      " 18  stars review             72145 non-null  int64         \n",
      " 19  text                     72145 non-null  object        \n",
      " 20  date                     72145 non-null  datetime64[ns]\n",
      " 21  fecha review             72145 non-null  object        \n",
      " 22  hora entera review       72145 non-null  int32         \n",
      " 23  dia review               72145 non-null  object        \n",
      " 24  user review count        52731 non-null  float64       \n",
      " 25  useful                   52731 non-null  float64       \n",
      " 26  avg user stars           52731 non-null  float64       \n",
      "dtypes: datetime64[ns](1), float64(6), int32(2), int64(1), object(17)\n",
      "memory usage: 14.3+ MB\n"
     ]
    }
   ],
   "source": [
    "df_merge_1 =  pd.merge(df_review_final, df_user_final, on='user_id', how='left')\n",
    "df_merge_final = pd.merge(df_business_final, df_merge_1, on='business_id', how='left')\n",
    "df_merge_final.info()"
   ]
  },
  {
   "cell_type": "code",
   "execution_count": 52,
   "metadata": {},
   "outputs": [],
   "source": [
    "table = pa.Table.from_pandas(df_merge_final)\n",
    "pq.write_table(table, 'Yelp!_final.parquet')"
   ]
  }
 ],
 "metadata": {
  "kernelspec": {
   "display_name": "Python 3",
   "language": "python",
   "name": "python3"
  },
  "language_info": {
   "codemirror_mode": {
    "name": "ipython",
    "version": 3
   },
   "file_extension": ".py",
   "mimetype": "text/x-python",
   "name": "python",
   "nbconvert_exporter": "python",
   "pygments_lexer": "ipython3",
   "version": "3.11.9"
  }
 },
 "nbformat": 4,
 "nbformat_minor": 2
}
